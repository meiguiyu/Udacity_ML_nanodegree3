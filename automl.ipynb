{
  "cells": [
    {
      "cell_type": "markdown",
      "source": [
        "## Automated ML\n",
        "\n",
        "Importing all needed dependencies to complete the project."
      ],
      "metadata": {}
    },
    {
      "cell_type": "code",
      "source": [
        "import requests\n",
        "import json\n",
        "import logging\n",
        "import joblib\n",
        "from pprint import pprint\n",
        "import pandas as pd\n",
        "from sklearn.model_selection import train_test_split\n",
        "\n",
        "import azureml.core\n",
        "from azureml.core.workspace import Workspace\n",
        "from azureml.core.experiment import Experiment\n",
        "from azureml.core.compute import ComputeTarget, AmlCompute\n",
        "from azureml.train.automl import AutoMLConfig\n",
        "from azureml.core.compute_target import ComputeTargetException\n",
        "from azureml.core.dataset import Dataset\n",
        "from azureml.data.dataset_factory import TabularDatasetFactory\n",
        "from azureml.widgets import RunDetails\n",
        "from azureml.core.model import Model, InferenceConfig\n",
        "from azureml.core.webservice import AciWebservice\n",
        "from azureml.automl.core.shared import constants\n",
        "from azureml.core.environment import Environment"
      ],
      "outputs": [],
      "execution_count": 5,
      "metadata": {
        "gather": {
          "logged": 1674769869969
        },
        "jupyter": {
          "outputs_hidden": false,
          "source_hidden": false
        },
        "nteract": {
          "transient": {
            "deleting": false
          }
        }
      }
    },
    {
      "cell_type": "markdown",
      "source": [
        "## Workspace and Experiment"
      ],
      "metadata": {}
    },
    {
      "cell_type": "code",
      "source": [
        "ws = Workspace.from_config()\n",
        "# choose a name for experiment\n",
        "experiment_name = \"automl_maternal_health_experiment\"\n",
        "experiment = Experiment(ws,experiment_name)"
      ],
      "outputs": [],
      "execution_count": 6,
      "metadata": {
        "gather": {
          "logged": 1674769876171
        }
      }
    },
    {
      "cell_type": "markdown",
      "source": [
        "## AmlCompute cluster"
      ],
      "metadata": {}
    },
    {
      "cell_type": "code",
      "source": [
        "# Choose a name for the cluster\n",
        "cpu_cluster_name = 'cluster-yum'\n",
        "\n",
        "try:\n",
        "    compute_target = ComputeTarget(workspace=ws, name=cpu_cluster_name)\n",
        "    print('Found existing cluster, use it.')\n",
        "except ComputeTargetException:\n",
        "    print('Creating a new compute cluster...')\n",
        "    compute_config = AmlCompute.provisioning_configuration(vm_size='Standard_D2_V2', min_nodes=1, max_nodes=4)\n",
        "    compute_target = ComputeTarget.create(ws, cpu_cluster_name, compute_config)\n",
        "\n",
        "compute_target.wait_for_completion(show_output=True)"
      ],
      "outputs": [
        {
          "output_type": "stream",
          "name": "stdout",
          "text": "Found existing cluster, use it.\nSucceeded\nAmlCompute wait for completion finished\n\nMinimum number of nodes requested have been provisioned\n"
        }
      ],
      "execution_count": 7,
      "metadata": {
        "gather": {
          "logged": 1674769878837
        }
      }
    },
    {
      "cell_type": "markdown",
      "source": [
        "## Dataset\n",
        "\n",
        "### Overview\n",
        "TODO: In this markdown cell, give an overview of the dataset you are using. Also mention the task you will be performing.\n",
        "\n",
        "TODO: Get data. In the cell below, write code to access the data you will be using in this project. Remember that the dataset needs to be external."
      ],
      "metadata": {}
    },
    {
      "cell_type": "code",
      "source": [
        "ws.datasets.keys()"
      ],
      "outputs": [
        {
          "output_type": "execute_result",
          "execution_count": 8,
          "data": {
            "text/plain": "KeysView({})"
          },
          "metadata": {}
        }
      ],
      "execution_count": 8,
      "metadata": {
        "gather": {
          "logged": 1674769883381
        },
        "jupyter": {
          "outputs_hidden": false,
          "source_hidden": false
        },
        "nteract": {
          "transient": {
            "deleting": false
          }
        }
      }
    },
    {
      "cell_type": "code",
      "source": [
        "# validate dataset is in store\n",
        "key = \"Churn\"\n",
        "description_text = \"Churn\"\n",
        "\n",
        "\n",
        "if key in ws.datasets.keys():\n",
        "    dataset = ws.datasets[key]\n",
        "    print('The Dataset was found')\n",
        "# else:\n",
        "#     # Create AML Dataset and register it into Workspace\n",
        "#     data_url = \"https://archive.ics.uci.edu/ml/machine-learning-databases/00592/Churn_Dateset.csv\"\n",
        "#     dataset = Dataset.Tabular.from_delimited_files(data_url)\n",
        "#     #Register Dataset in Workspace\n",
        "#     dataset = dataset.register(workspace = ws,name = key,description = description_text)\n",
        "\n",
        "df = dataset.to_pandas_dataframe()\n",
        "print(df.head())"
      ],
      "outputs": [
        {
          "output_type": "stream",
          "name": "stdout",
          "text": "   Anonymous Customer ID  Call  Failure  Complains  Subscription  Length  \\\n0                   1.00           8.00       0.00                 38.00   \n1                   2.00           0.00       0.00                 39.00   \n2                   3.00          10.00       0.00                 37.00   \n3                   4.00          10.00       0.00                 38.00   \n4                   5.00           3.00       0.00                 38.00   \n\n   Charge  Amount  Seconds of Use  Frequency of use  Frequency of SMS  \\\n0            0.00         4370.00             71.00              5.00   \n1            0.00          318.00              5.00              7.00   \n2            0.00         2453.00             60.00            359.00   \n3            0.00         4198.00             66.00              1.00   \n4            0.00         2393.00             58.00              2.00   \n\n   Distinct Called Numbers  Age Group  Tariff Plan  Status  Churn  \\\n0                    17.00       3.00         1.00    1.00   0.00   \n1                     4.00       2.00         1.00    2.00   0.00   \n2                    24.00       3.00         1.00    1.00   0.00   \n3                    35.00       1.00         1.00    1.00   0.00   \n4                    33.00       1.00         1.00    1.00   0.00   \n\n   Customer Value  \n0          132.60  \n1           17.46  \n2          181.29  \n3          252.48  \n4          144.78  \n"
        }
      ],
      "execution_count": 25,
      "metadata": {
        "gather": {
          "logged": 1674772093342
        },
        "jupyter": {
          "outputs_hidden": false,
          "source_hidden": false
        },
        "nteract": {
          "transient": {
            "deleting": false
          }
        }
      }
    },
    {
      "cell_type": "markdown",
      "source": [
        "## AutoML Configuration"
      ],
      "metadata": {}
    },
    {
      "cell_type": "code",
      "source": [
        "# TODO: Put your automl settings here\n",
        "automl_settings = {\n",
        "    \"experiment_timeout_minutes\" : 30,\n",
        "    \"enable_early_stopping\" : True,\n",
        "    \"primary_metric\":'accuracy',\n",
        "    \"max_concurrent_iterations\":4,\n",
        "    \"verbosity\": logging.INFO\n",
        "}\n",
        "# TODO: Put your automl config here\n",
        "automl_config = AutoMLConfig(compute_target = compute_target,\n",
        "                            task = 'classification',\n",
        "                            training_data=dataset,                         \n",
        "                            label_column_name=\"Churn\",\n",
        "                            **automl_settings\n",
        "                            )"
      ],
      "outputs": [],
      "execution_count": 11,
      "metadata": {
        "gather": {
          "logged": 1674769928509
        },
        "jupyter": {
          "outputs_hidden": false,
          "source_hidden": false
        },
        "nteract": {
          "transient": {
            "deleting": false
          }
        }
      }
    },
    {
      "cell_type": "code",
      "source": [
        "# Submit your experiment\n",
        "run = experiment.submit(automl_config, show_output=True)\n",
        "#run.wait_for_completion()"
      ],
      "outputs": [
        {
          "output_type": "stream",
          "name": "stdout",
          "text": "Submitting remote run.\nNo run_configuration provided, running on cluster-yum with default configuration\nRunning on remote compute: cluster-yum\n"
        },
        {
          "output_type": "display_data",
          "data": {
            "text/plain": "<IPython.core.display.HTML object>",
            "text/html": "<table style=\"width:100%\"><tr><th>Experiment</th><th>Id</th><th>Type</th><th>Status</th><th>Details Page</th><th>Docs Page</th></tr><tr><td>automl_maternal_health_experiment</td><td>AutoML_a772be5d-e991-4976-b0af-c6a054c14d46</td><td>automl</td><td>NotStarted</td><td><a href=\"https://ml.azure.com/runs/AutoML_a772be5d-e991-4976-b0af-c6a054c14d46?wsid=/subscriptions/d4ad7261-832d-46b2-b093-22156001df5b/resourcegroups/aml-quickstarts-223596/workspaces/quick-starts-ws-223596&amp;tid=660b3398-b80e-49d2-bc5b-ac1dc93b5254\" target=\"_blank\" rel=\"noopener\">Link to Azure Machine Learning studio</a></td><td><a href=\"https://docs.microsoft.com/en-us/python/api/overview/azure/ml/intro?view=azure-ml-py\" target=\"_blank\" rel=\"noopener\">Link to Documentation</a></td></tr></table>"
          },
          "metadata": {}
        },
        {
          "output_type": "stream",
          "name": "stdout",
          "text": "\nCurrent status: FeaturesGeneration. Generating features for the dataset.\nCurrent status: DatasetBalancing. Performing class balancing sweeping\nCurrent status: DatasetCrossValidationSplit. Generating individually featurized CV splits.\nCurrent status: ModelSelection. Beginning model selection.\n\n********************************************************************************************\nDATA GUARDRAILS: \n\nTYPE:         Cross validation\nSTATUS:       DONE\nDESCRIPTION:  In order to accurately evaluate the model(s) trained by AutoML, we leverage a dataset that the model is not trained on. Hence, if the user doesn't provide an explicit validation dataset, a part of the training dataset is used to achieve this. For smaller datasets (fewer than 20,000 samples), cross-validation is leveraged, else a single hold-out set is split from the training data to serve as the validation dataset. Hence, for your input data we leverage cross-validation with 10 folds, if the number of training samples are fewer than 1000, and 3 folds in all other cases.\n              Learn more about cross validation: https://aka.ms/AutomatedMLCrossValidation\nDETAILS:      \n+------------------------------+\n|Number of folds               |\n+==============================+\n|3                             |\n+------------------------------+\n\n********************************************************************************************\n\nTYPE:         Class balancing detection\nSTATUS:       ALERTED\nDESCRIPTION:  To decrease model bias, please cancel the current run and fix balancing problem.\n              Learn more about imbalanced data: https://aka.ms/AutomatedMLImbalancedData\nDETAILS:      Imbalanced data can lead to a falsely perceived positive effect of a model's accuracy because the input data has bias towards one class.\n+------------------------------+--------------------------------+--------------------------------------+\n|Size of the smallest class    |Name/Label of the smallest class|Number of samples in the training data|\n+==============================+================================+======================================+\n|495                           |1.0                             |3150                                  |\n+------------------------------+--------------------------------+--------------------------------------+\n\n********************************************************************************************\n\nTYPE:         Missing feature values imputation\nSTATUS:       PASSED\nDESCRIPTION:  No feature missing values were detected in the training data.\n              Learn more about missing value imputation: https://aka.ms/AutomatedMLFeaturization\n\n********************************************************************************************\n\nTYPE:         High cardinality feature detection\nSTATUS:       PASSED\nDESCRIPTION:  Your inputs were analyzed, and no high cardinality features were detected.\n              Learn more about high cardinality feature handling: https://aka.ms/AutomatedMLFeaturization\n\n********************************************************************************************\n\n********************************************************************************************\nITER: The iteration being evaluated.\nPIPELINE: A summary description of the pipeline being evaluated.\nDURATION: Time taken for the current iteration.\nMETRIC: The result of computing score on the fitted pipeline.\nBEST: The best observed score thus far.\n********************************************************************************************\n\n ITER   PIPELINE                                       DURATION            METRIC      BEST\n    0   MaxAbsScaler LightGBM                          0:00:10             0.9581    0.9581\n    1   MaxAbsScaler XGBoostClassifier                 0:00:12             0.9565    0.9581\n    2   MaxAbsScaler ExtremeRandomTrees                0:00:10             0.8486    0.9581\n    3   SparseNormalizer XGBoostClassifier             0:00:09             0.9010    0.9581\n    5   MaxAbsScaler LightGBM                          0:00:09             0.9321    0.9581\n    4   StandardScalerWrapper KNN                      0:00:09             0.8238    0.9581\n    6   RobustScaler LogisticRegression                0:00:08             0.8467    0.9581\n    7   MaxAbsScaler LightGBM                          0:00:09             0.8778    0.9581\n    8   StandardScalerWrapper KNN                      0:00:10             0.8314    0.9581\n   10   StandardScalerWrapper XGBoostClassifier        0:00:10             0.9486    0.9581\n   11   MinMaxScaler RandomForest                      0:00:16             0.7975    0.9581\n   12   StandardScalerWrapper LogisticRegression       0:00:10             0.7146    0.9581\n    9   StandardScalerWrapper SVM                      0:00:18             0.9508    0.9581\n   13   StandardScalerWrapper KNN                      0:00:09             0.9260    0.9581\n   14   RobustScaler KNN                               0:00:10             0.9476    0.9581\n   15   MinMaxScaler KNN                               0:00:14             0.9416    0.9581\n   16   SparseNormalizer KNN                           0:00:13             0.8530    0.9581\n   17   MaxAbsScaler LogisticRegression                0:00:15             0.8933    0.9581\n   18   StandardScalerWrapper XGBoostClassifier        0:00:09             0.9422    0.9581\n   19   StandardScalerWrapper XGBoostClassifier        0:00:08             0.9400    0.9581\n   20   MaxAbsScaler LogisticRegression                0:00:30             0.8940    0.9581\n   21   StandardScalerWrapper XGBoostClassifier        0:00:25             0.9432    0.9581\n   22   SparseNormalizer RandomForest                  0:00:32             0.8686    0.9581\n   23   StandardScalerWrapper RandomForest             0:00:27             0.9076    0.9581\n   24   StandardScalerWrapper XGBoostClassifier        0:00:26             0.9460    0.9581\n   25   MinMaxScaler LightGBM                          0:00:26             0.8952    0.9581\n   26   RobustScaler LightGBM                          0:00:26             0.9413    0.9581\n   27   MaxAbsScaler LightGBM                          0:00:24             0.9219    0.9581\n   28   StandardScalerWrapper LightGBM                 0:00:26             0.8537    0.9581\n   29   MinMaxScaler LightGBM                          0:00:27             0.9108    0.9581\n   30   TruncatedSVDWrapper LightGBM                   0:00:28             0.8378    0.9581\n   31   RobustScaler LightGBM                          0:00:30             0.8851    0.9581\n   32   SparseNormalizer XGBoostClassifier             0:00:26             0.9333    0.9581\n   33   SparseNormalizer XGBoostClassifier             0:00:29             0.9317    0.9581\n   34                                                  0:00:00                nan    0.9581\n   35                                                  0:00:00                nan    0.9581\n   36    VotingEnsemble                                0:01:49             0.9629    0.9629\n   37    StackEnsemble                                 0:01:53             0.9616    0.9629\n"
        }
      ],
      "execution_count": 12,
      "metadata": {
        "gather": {
          "logged": 1674770601259
        },
        "jupyter": {
          "outputs_hidden": false,
          "source_hidden": false
        },
        "nteract": {
          "transient": {
            "deleting": false
          }
        }
      }
    },
    {
      "cell_type": "code",
      "source": [
        "print(\"Run Status: \",run.get_status())"
      ],
      "outputs": [
        {
          "output_type": "stream",
          "name": "stdout",
          "text": "Run Status:  Completed\n"
        }
      ],
      "execution_count": 13,
      "metadata": {
        "gather": {
          "logged": 1674770638411
        }
      }
    },
    {
      "cell_type": "markdown",
      "source": [
        "## Run Details\n",
        "\n",
        "In the cell below, use the `RunDetails` widget to show the different experiments."
      ],
      "metadata": {}
    },
    {
      "cell_type": "code",
      "source": [
        "RunDetails(run).show()\n",
        "run.wait_for_completion (show_output = True)"
      ],
      "outputs": [
        {
          "output_type": "display_data",
          "data": {
            "text/plain": "_AutoMLWidget(widget_settings={'childWidgetDisplay': 'popup', 'send_telemetry': False, 'log_level': 'INFO', 's…",
            "application/vnd.jupyter.widget-view+json": {
              "version_major": 2,
              "version_minor": 0,
              "model_id": "fce6d5bc890e4a18a41b90ddde25f722"
            }
          },
          "metadata": {}
        },
        {
          "output_type": "display_data",
          "data": {
            "application/aml.mini.widget.v1": "{\"status\": \"Completed\", \"workbench_run_details_uri\": \"https://ml.azure.com/runs/AutoML_a772be5d-e991-4976-b0af-c6a054c14d46?wsid=/subscriptions/d4ad7261-832d-46b2-b093-22156001df5b/resourcegroups/aml-quickstarts-223596/workspaces/quick-starts-ws-223596&tid=660b3398-b80e-49d2-bc5b-ac1dc93b5254\", \"run_id\": \"AutoML_a772be5d-e991-4976-b0af-c6a054c14d46\", \"run_properties\": {\"run_id\": \"AutoML_a772be5d-e991-4976-b0af-c6a054c14d46\", \"created_utc\": \"2023-01-26T21:52:16.505364Z\", \"properties\": {\"num_iterations\": \"1000\", \"training_type\": \"TrainFull\", \"acquisition_function\": \"EI\", \"primary_metric\": \"accuracy\", \"train_split\": \"0\", \"acquisition_parameter\": \"0\", \"num_cross_validation\": null, \"target\": \"cluster-yum\", \"AMLSettingsJsonString\": \"{\\\"path\\\":null,\\\"name\\\":\\\"automl_maternal_health_experiment\\\",\\\"subscription_id\\\":\\\"d4ad7261-832d-46b2-b093-22156001df5b\\\",\\\"resource_group\\\":\\\"aml-quickstarts-223596\\\",\\\"workspace_name\\\":\\\"quick-starts-ws-223596\\\",\\\"region\\\":\\\"southcentralus\\\",\\\"compute_target\\\":\\\"cluster-yum\\\",\\\"spark_service\\\":null,\\\"azure_service\\\":\\\"remote\\\",\\\"many_models\\\":false,\\\"pipeline_fetch_max_batch_size\\\":1,\\\"enable_batch_run\\\":true,\\\"enable_parallel_run\\\":false,\\\"num_procs\\\":null,\\\"enable_run_restructure\\\":false,\\\"start_auxiliary_runs_before_parent_complete\\\":false,\\\"enable_code_generation\\\":true,\\\"iterations\\\":1000,\\\"primary_metric\\\":\\\"accuracy\\\",\\\"task_type\\\":\\\"classification\\\",\\\"positive_label\\\":null,\\\"data_script\\\":null,\\\"test_size\\\":0.0,\\\"test_include_predictions_only\\\":false,\\\"validation_size\\\":0.0,\\\"n_cross_validations\\\":null,\\\"y_min\\\":null,\\\"y_max\\\":null,\\\"num_classes\\\":null,\\\"featurization\\\":\\\"auto\\\",\\\"_ignore_package_version_incompatibilities\\\":false,\\\"is_timeseries\\\":false,\\\"max_cores_per_iteration\\\":1,\\\"max_concurrent_iterations\\\":4,\\\"iteration_timeout_minutes\\\":null,\\\"mem_in_mb\\\":null,\\\"enforce_time_on_windows\\\":false,\\\"experiment_timeout_minutes\\\":30,\\\"experiment_exit_score\\\":null,\\\"partition_column_names\\\":null,\\\"whitelist_models\\\":null,\\\"blacklist_algos\\\":[\\\"TensorFlowLinearClassifier\\\",\\\"TensorFlowDNN\\\"],\\\"supported_models\\\":[\\\"ExtremeRandomTrees\\\",\\\"TensorFlowLinearClassifier\\\",\\\"TabnetClassifier\\\",\\\"LightGBM\\\",\\\"SVM\\\",\\\"BernoulliNaiveBayes\\\",\\\"SGD\\\",\\\"LinearSVM\\\",\\\"GradientBoosting\\\",\\\"LogisticRegression\\\",\\\"RandomForest\\\",\\\"MultinomialNaiveBayes\\\",\\\"AveragedPerceptronClassifier\\\",\\\"TensorFlowDNN\\\",\\\"DecisionTree\\\",\\\"XGBoostClassifier\\\",\\\"KNN\\\"],\\\"private_models\\\":[],\\\"auto_blacklist\\\":true,\\\"blacklist_samples_reached\\\":false,\\\"exclude_nan_labels\\\":true,\\\"verbosity\\\":20,\\\"_debug_log\\\":\\\"azureml_automl.log\\\",\\\"show_warnings\\\":false,\\\"model_explainability\\\":true,\\\"service_url\\\":null,\\\"sdk_url\\\":null,\\\"sdk_packages\\\":null,\\\"enable_onnx_compatible_models\\\":false,\\\"enable_split_onnx_featurizer_estimator_models\\\":false,\\\"vm_type\\\":\\\"STANDARD_D2_V2\\\",\\\"telemetry_verbosity\\\":20,\\\"send_telemetry\\\":true,\\\"enable_dnn\\\":false,\\\"scenario\\\":\\\"AutoML\\\",\\\"environment_label\\\":null,\\\"save_mlflow\\\":false,\\\"enable_categorical_indicators\\\":false,\\\"force_text_dnn\\\":false,\\\"enable_feature_sweeping\\\":true,\\\"enable_early_stopping\\\":true,\\\"early_stopping_n_iters\\\":10,\\\"arguments\\\":null,\\\"dataset_id\\\":\\\"0632e8bb-979f-4deb-af23-04ab012fc328\\\",\\\"hyperdrive_config\\\":null,\\\"validation_dataset_id\\\":null,\\\"run_source\\\":null,\\\"metrics\\\":null,\\\"enable_metric_confidence\\\":false,\\\"enable_ensembling\\\":true,\\\"enable_stack_ensembling\\\":true,\\\"ensemble_iterations\\\":15,\\\"enable_tf\\\":false,\\\"enable_subsampling\\\":null,\\\"subsample_seed\\\":null,\\\"enable_nimbusml\\\":false,\\\"enable_streaming\\\":false,\\\"force_streaming\\\":false,\\\"track_child_runs\\\":true,\\\"n_best_runs\\\":1,\\\"allowed_private_models\\\":[],\\\"label_column_name\\\":\\\"Churn\\\",\\\"weight_column_name\\\":null,\\\"cv_split_column_names\\\":null,\\\"enable_local_managed\\\":false,\\\"_local_managed_run_id\\\":null,\\\"cost_mode\\\":1,\\\"lag_length\\\":0,\\\"metric_operation\\\":\\\"maximize\\\",\\\"preprocess\\\":true}\", \"DataPrepJsonString\": \"{\\\\\\\"training_data\\\\\\\": {\\\\\\\"datasetId\\\\\\\": \\\\\\\"0632e8bb-979f-4deb-af23-04ab012fc328\\\\\\\"}, \\\\\\\"datasets\\\\\\\": 0}\", \"EnableSubsampling\": null, \"runTemplate\": \"AutoML\", \"azureml.runsource\": \"automl\", \"display_task_type\": \"classification\", \"dependencies_versions\": \"{\\\"azureml-widgets\\\": \\\"1.47.0\\\", \\\"azureml-training-tabular\\\": \\\"1.47.0\\\", \\\"azureml-train\\\": \\\"1.47.0\\\", \\\"azureml-train-restclients-hyperdrive\\\": \\\"1.47.0\\\", \\\"azureml-train-core\\\": \\\"1.47.0\\\", \\\"azureml-train-automl\\\": \\\"1.47.0\\\", \\\"azureml-train-automl-runtime\\\": \\\"1.47.0\\\", \\\"azureml-train-automl-client\\\": \\\"1.47.0\\\", \\\"azureml-tensorboard\\\": \\\"1.47.0\\\", \\\"azureml-telemetry\\\": \\\"1.47.0\\\", \\\"azureml-sdk\\\": \\\"1.47.0\\\", \\\"azureml-samples\\\": \\\"0+unknown\\\", \\\"azureml-responsibleai\\\": \\\"1.47.0\\\", \\\"azureml-pipeline\\\": \\\"1.47.0\\\", \\\"azureml-pipeline-steps\\\": \\\"1.47.0\\\", \\\"azureml-pipeline-core\\\": \\\"1.47.0\\\", \\\"azureml-opendatasets\\\": \\\"1.47.0\\\", \\\"azureml-mlflow\\\": \\\"1.47.0\\\", \\\"azureml-interpret\\\": \\\"1.47.0\\\", \\\"azureml-inference-server-http\\\": \\\"0.7.6\\\", \\\"azureml-explain-model\\\": \\\"1.47.0\\\", \\\"azureml-defaults\\\": \\\"1.47.0\\\", \\\"azureml-dataset-runtime\\\": \\\"1.47.0\\\", \\\"azureml-dataprep\\\": \\\"4.5.7\\\", \\\"azureml-dataprep-rslex\\\": \\\"2.11.4\\\", \\\"azureml-dataprep-native\\\": \\\"38.0.0\\\", \\\"azureml-datadrift\\\": \\\"1.47.0\\\", \\\"azureml-core\\\": \\\"1.47.0\\\", \\\"azureml-contrib-services\\\": \\\"1.47.0\\\", \\\"azureml-contrib-server\\\": \\\"1.47.0\\\", \\\"azureml-contrib-reinforcementlearning\\\": \\\"1.47.0\\\", \\\"azureml-contrib-pipeline-steps\\\": \\\"1.47.0\\\", \\\"azureml-contrib-notebook\\\": \\\"1.47.0\\\", \\\"azureml-contrib-fairness\\\": \\\"1.47.0\\\", \\\"azureml-contrib-dataset\\\": \\\"1.47.0\\\", \\\"azureml-contrib-automl-pipeline-steps\\\": \\\"1.47.0\\\", \\\"azureml-cli-common\\\": \\\"1.47.0\\\", \\\"azureml-automl-runtime\\\": \\\"1.47.0\\\", \\\"azureml-automl-dnn-nlp\\\": \\\"1.47.0\\\", \\\"azureml-automl-core\\\": \\\"1.47.0\\\", \\\"azureml-accel-models\\\": \\\"1.47.0\\\"}\", \"_aml_system_scenario_identification\": \"Remote.Parent\", \"ClientType\": \"SDK\", \"environment_cpu_name\": \"AzureML-AutoML\", \"environment_cpu_label\": \"prod\", \"environment_gpu_name\": \"AzureML-AutoML-GPU\", \"environment_gpu_label\": \"prod\", \"root_attribution\": \"automl\", \"attribution\": \"AutoML\", \"Orchestrator\": \"AutoML\", \"CancelUri\": \"https://southcentralus.api.azureml.ms/jasmine/v1.0/subscriptions/d4ad7261-832d-46b2-b093-22156001df5b/resourceGroups/aml-quickstarts-223596/providers/Microsoft.MachineLearningServices/workspaces/quick-starts-ws-223596/experimentids/0e29e9d0-614f-4175-b79e-ffbde8d43cd9/cancel/AutoML_a772be5d-e991-4976-b0af-c6a054c14d46\", \"ClientSdkVersion\": \"1.48.0.post1\", \"snapshotId\": \"00000000-0000-0000-0000-000000000000\", \"SetupRunId\": \"AutoML_a772be5d-e991-4976-b0af-c6a054c14d46_setup\", \"SetupRunContainerId\": \"dcid.AutoML_a772be5d-e991-4976-b0af-c6a054c14d46_setup\", \"FeaturizationRunJsonPath\": \"featurizer_container.json\", \"FeaturizationRunId\": \"AutoML_a772be5d-e991-4976-b0af-c6a054c14d46_featurize\", \"ProblemInfoJsonString\": \"{\\\"dataset_num_categorical\\\": 0, \\\"is_sparse\\\": false, \\\"subsampling\\\": false, \\\"has_extra_col\\\": true, \\\"dataset_classes\\\": 2, \\\"dataset_features\\\": 13, \\\"dataset_samples\\\": 3150, \\\"single_frequency_class_detected\\\": false}\", \"ModelExplainRunId\": \"AutoML_a772be5d-e991-4976-b0af-c6a054c14d46_ModelExplain\"}, \"tags\": {\"model_explain_run\": \"best_run\", \"_aml_system_automl_run_workspace_id\": \"b160daf4-a7dc-4093-9e2d-ce084059a4c3\", \"_aml_system_azureml.automlComponent\": \"AutoML\", \"pipeline_id\": \"\", \"score\": \"\", \"predicted_cost\": \"\", \"fit_time\": \"\", \"training_percent\": \"\", \"iteration\": \"\", \"run_preprocessor\": \"\", \"run_algorithm\": \"\", \"dynamic_allowlisting_iterations\": \"<25>;<30>;<35>;\", \"_aml_system_azureml.automl_early_exit_message\": \"No scores improved over last 10 iterations, so experiment stopped early. This early stopping behavior can be disabled by setting enable_early_stopping = False in AutoMLConfig for notebook/python SDK runs.\", \"automl_best_child_run_id\": \"AutoML_a772be5d-e991-4976-b0af-c6a054c14d46_36\", \"model_explain_best_run_child_id\": \"AutoML_a772be5d-e991-4976-b0af-c6a054c14d46_36\"}, \"end_time_utc\": \"2023-01-26T22:03:07.503483Z\", \"status\": \"Completed\", \"log_files\": {}, \"log_groups\": [], \"run_duration\": \"0:10:50\", \"run_number\": \"1674769936\", \"run_queued_details\": {\"status\": \"Completed\", \"details\": null}}, \"child_runs\": [{\"run_id\": \"AutoML_a772be5d-e991-4976-b0af-c6a054c14d46_setup\", \"run_number\": 1674769949, \"metric\": null, \"status\": \"Completed\", \"run_type\": \"azureml.scriptrun\", \"training_percent\": null, \"start_time\": \"2023-01-26T21:52:45.44183Z\", \"end_time\": \"2023-01-26T21:54:22.610683Z\", \"created_time\": \"2023-01-26T21:52:29.28945Z\", \"created_time_dt\": \"2023-01-26T21:52:29.28945Z\", \"duration\": \"0:01:53\", \"iteration\": null, \"goal\": null, \"run_name\": \"Completed\", \"run_properties\": null}, {\"run_id\": \"AutoML_a772be5d-e991-4976-b0af-c6a054c14d46_featurize\", \"run_number\": 1674770062, \"metric\": null, \"status\": \"Completed\", \"run_type\": \"automl.featurization\", \"training_percent\": null, \"start_time\": \"2023-01-26T21:54:23.237689Z\", \"end_time\": \"2023-01-26T21:56:26.50715Z\", \"created_time\": \"2023-01-26T21:54:22.841057Z\", \"created_time_dt\": \"2023-01-26T21:54:22.841057Z\", \"duration\": \"0:02:03\", \"iteration\": null, \"goal\": null, \"run_name\": \"Completed\", \"run_properties\": null}, {\"run_id\": \"AutoML_a772be5d-e991-4976-b0af-c6a054c14d46_0\", \"run_number\": 1674770188, \"metric\": null, \"status\": \"Completed\", \"run_type\": null, \"training_percent\": \"100\", \"start_time\": \"2023-01-26T21:57:55.435952Z\", \"end_time\": \"2023-01-26T21:58:05.845287Z\", \"created_time\": \"2023-01-26T21:56:28.118956Z\", \"created_time_dt\": \"2023-01-26T21:56:28.118956Z\", \"duration\": \"0:01:37\", \"iteration\": \"0\", \"goal\": \"accuracy_max\", \"run_name\": \"MaxAbsScaler, LightGBM\", \"run_properties\": \"copy=True\", \"primary_metric\": 0.95809524, \"best_metric\": 0.95809524}, {\"run_id\": \"AutoML_a772be5d-e991-4976-b0af-c6a054c14d46_1\", \"run_number\": 1674770189, \"metric\": null, \"status\": \"Completed\", \"run_type\": null, \"training_percent\": \"100\", \"start_time\": \"2023-01-26T21:58:06.610363Z\", \"end_time\": \"2023-01-26T21:58:19.062799Z\", \"created_time\": \"2023-01-26T21:56:29.268549Z\", \"created_time_dt\": \"2023-01-26T21:56:29.268549Z\", \"duration\": \"0:01:49\", \"iteration\": \"1\", \"goal\": \"accuracy_max\", \"run_name\": \"MaxAbsScaler, XGBoostClassifier\", \"run_properties\": \"copy=True\", \"primary_metric\": 0.95650794, \"best_metric\": 0.95809524}, {\"run_id\": \"AutoML_a772be5d-e991-4976-b0af-c6a054c14d46_3\", \"run_number\": 1674770190, \"metric\": null, \"status\": \"Completed\", \"run_type\": null, \"training_percent\": \"100\", \"start_time\": \"2023-01-26T21:58:29.71952Z\", \"end_time\": \"2023-01-26T21:58:39.049609Z\", \"created_time\": \"2023-01-26T21:56:30.425299Z\", \"created_time_dt\": \"2023-01-26T21:56:30.425299Z\", \"duration\": \"0:02:08\", \"iteration\": \"3\", \"goal\": \"accuracy_max\", \"run_name\": \"SparseNormalizer, XGBoostClassifier\", \"run_properties\": \"copy=True, norm='l2'\", \"primary_metric\": 0.90095238, \"best_metric\": 0.95809524}, {\"run_id\": \"AutoML_a772be5d-e991-4976-b0af-c6a054c14d46_worker_0\", \"run_number\": 1674770191, \"metric\": null, \"status\": \"Completed\", \"run_type\": \"azureml.scriptrun\", \"training_percent\": null, \"start_time\": \"2023-01-26T21:56:39.888663Z\", \"end_time\": \"2023-01-26T21:58:58.172926Z\", \"created_time\": \"2023-01-26T21:56:31.859797Z\", \"created_time_dt\": \"2023-01-26T21:56:31.859797Z\", \"duration\": \"0:02:26\", \"iteration\": null, \"goal\": null, \"run_name\": \"Completed\", \"run_properties\": null}, {\"run_id\": \"AutoML_a772be5d-e991-4976-b0af-c6a054c14d46_5\", \"run_number\": 1674770192, \"metric\": null, \"status\": \"Completed\", \"run_type\": null, \"training_percent\": \"100\", \"start_time\": \"2023-01-26T21:57:53.745932Z\", \"end_time\": \"2023-01-26T21:58:02.857987Z\", \"created_time\": \"2023-01-26T21:56:32.031758Z\", \"created_time_dt\": \"2023-01-26T21:56:32.031758Z\", \"duration\": \"0:01:30\", \"iteration\": \"5\", \"goal\": \"accuracy_max\", \"run_name\": \"MaxAbsScaler, LightGBM\", \"run_properties\": \"copy=True\", \"primary_metric\": 0.93206349, \"best_metric\": 0.95809524}, {\"run_id\": \"AutoML_a772be5d-e991-4976-b0af-c6a054c14d46_8\", \"run_number\": 1674770193, \"metric\": null, \"status\": \"Completed\", \"run_type\": null, \"training_percent\": \"100\", \"start_time\": \"2023-01-26T21:58:22.570928Z\", \"end_time\": \"2023-01-26T21:58:32.134091Z\", \"created_time\": \"2023-01-26T21:56:33.441422Z\", \"created_time_dt\": \"2023-01-26T21:56:33.441422Z\", \"duration\": \"0:01:58\", \"iteration\": \"8\", \"goal\": \"accuracy_max\", \"run_name\": \"StandardScalerWrapper, KNN\", \"run_properties\": \"copy=True, with_mean=False, with_std=False\", \"primary_metric\": 0.83142857, \"best_metric\": 0.95809524}, {\"run_id\": \"AutoML_a772be5d-e991-4976-b0af-c6a054c14d46_worker_1\", \"run_number\": 1674770194, \"metric\": null, \"status\": \"Completed\", \"run_type\": \"azureml.scriptrun\", \"training_percent\": null, \"start_time\": \"2023-01-26T21:56:40.005447Z\", \"end_time\": \"2023-01-26T21:58:59.474361Z\", \"created_time\": \"2023-01-26T21:56:34.285522Z\", \"created_time_dt\": \"2023-01-26T21:56:34.285522Z\", \"duration\": \"0:02:25\", \"iteration\": null, \"goal\": null, \"run_name\": \"Completed\", \"run_properties\": null}, {\"run_id\": \"AutoML_a772be5d-e991-4976-b0af-c6a054c14d46_11\", \"run_number\": 1674770195, \"metric\": null, \"status\": \"Completed\", \"run_type\": null, \"training_percent\": \"100\", \"start_time\": \"2023-01-26T21:57:02.781467Z\", \"end_time\": \"2023-01-26T21:57:19.246997Z\", \"created_time\": \"2023-01-26T21:56:35.001005Z\", \"created_time_dt\": \"2023-01-26T21:56:35.001005Z\", \"duration\": \"0:00:44\", \"iteration\": \"11\", \"goal\": \"accuracy_max\", \"run_name\": \"MinMaxScaler, RandomForest\", \"run_properties\": \"copy=True, feature_range=(0, 1\", \"primary_metric\": 0.79746032, \"best_metric\": 0.95809524}, {\"run_id\": \"AutoML_a772be5d-e991-4976-b0af-c6a054c14d46_14\", \"run_number\": 1674770196, \"metric\": null, \"status\": \"Completed\", \"run_type\": null, \"training_percent\": \"100\", \"start_time\": \"2023-01-26T21:57:39.14199Z\", \"end_time\": \"2023-01-26T21:57:49.344806Z\", \"created_time\": \"2023-01-26T21:56:36.654253Z\", \"created_time_dt\": \"2023-01-26T21:56:36.654253Z\", \"duration\": \"0:01:12\", \"iteration\": \"14\", \"goal\": \"accuracy_max\", \"run_name\": \"RobustScaler, KNN\", \"run_properties\": \"copy=True, quantile_range=[10, 90], with_centering=False,\\n             with_scaling=True\", \"primary_metric\": 0.94761905, \"best_metric\": 0.95809524}, {\"run_id\": \"AutoML_a772be5d-e991-4976-b0af-c6a054c14d46_worker_2\", \"run_number\": 1674770197, \"metric\": null, \"status\": \"Completed\", \"run_type\": \"azureml.scriptrun\", \"training_percent\": null, \"start_time\": \"2023-01-26T21:56:42.231991Z\", \"end_time\": \"2023-01-26T21:57:57.785546Z\", \"created_time\": \"2023-01-26T21:56:37.001412Z\", \"created_time_dt\": \"2023-01-26T21:56:37.001412Z\", \"duration\": \"0:01:20\", \"iteration\": null, \"goal\": null, \"run_name\": \"Completed\", \"run_properties\": null}, {\"run_id\": \"AutoML_a772be5d-e991-4976-b0af-c6a054c14d46_17\", \"run_number\": 1674770198, \"metric\": null, \"status\": \"Completed\", \"run_type\": null, \"training_percent\": \"100\", \"start_time\": \"2023-01-26T21:57:24.807699Z\", \"end_time\": \"2023-01-26T21:57:39.592528Z\", \"created_time\": \"2023-01-26T21:56:38.167205Z\", \"created_time_dt\": \"2023-01-26T21:56:38.167205Z\", \"duration\": \"0:01:01\", \"iteration\": \"17\", \"goal\": \"accuracy_max\", \"run_name\": \"MaxAbsScaler, LogisticRegression\", \"run_properties\": \"copy=True\", \"primary_metric\": 0.89333333, \"best_metric\": 0.95809524}, {\"run_id\": \"AutoML_a772be5d-e991-4976-b0af-c6a054c14d46_worker_3\", \"run_number\": 1674770199, \"metric\": null, \"status\": \"Completed\", \"run_type\": \"azureml.scriptrun\", \"training_percent\": null, \"start_time\": \"2023-01-26T21:56:47.021825Z\", \"end_time\": \"2023-01-26T21:58:07.296457Z\", \"created_time\": \"2023-01-26T21:56:39.566761Z\", \"created_time_dt\": \"2023-01-26T21:56:39.566761Z\", \"duration\": \"0:01:27\", \"iteration\": null, \"goal\": null, \"run_name\": \"Completed\", \"run_properties\": null}, {\"run_id\": \"AutoML_a772be5d-e991-4976-b0af-c6a054c14d46_20\", \"run_number\": 1674770315, \"metric\": null, \"status\": \"Completed\", \"run_type\": \"azureml.scriptrun\", \"training_percent\": \"100\", \"start_time\": \"2023-01-26T21:58:43.69667Z\", \"end_time\": \"2023-01-26T21:59:13.478111Z\", \"created_time\": \"2023-01-26T21:58:35.410991Z\", \"created_time_dt\": \"2023-01-26T21:58:35.410991Z\", \"duration\": \"0:00:38\", \"iteration\": \"20\", \"goal\": \"accuracy_max\", \"run_name\": \"MaxAbsScaler, LogisticRegression\", \"run_properties\": \"copy=True\", \"primary_metric\": 0.89396825, \"best_metric\": 0.95809524}, {\"run_id\": \"AutoML_a772be5d-e991-4976-b0af-c6a054c14d46_23\", \"run_number\": 1674770352, \"metric\": null, \"status\": \"Completed\", \"run_type\": \"azureml.scriptrun\", \"training_percent\": \"100\", \"start_time\": \"2023-01-26T21:59:18.971964Z\", \"end_time\": \"2023-01-26T21:59:46.171613Z\", \"created_time\": \"2023-01-26T21:59:12.056467Z\", \"created_time_dt\": \"2023-01-26T21:59:12.056467Z\", \"duration\": \"0:00:34\", \"iteration\": \"23\", \"goal\": \"accuracy_max\", \"run_name\": \"StandardScalerWrapper, RandomForest\", \"run_properties\": \"copy=True, with_mean=False, with_std=False\", \"primary_metric\": 0.90761905, \"best_metric\": 0.95809524}, {\"run_id\": \"AutoML_a772be5d-e991-4976-b0af-c6a054c14d46_25\", \"run_number\": 1674770356, \"metric\": null, \"status\": \"Completed\", \"run_type\": \"azureml.scriptrun\", \"training_percent\": \"100\", \"start_time\": \"2023-01-26T21:59:21.832404Z\", \"end_time\": \"2023-01-26T21:59:47.494344Z\", \"created_time\": \"2023-01-26T21:59:16.327451Z\", \"created_time_dt\": \"2023-01-26T21:59:16.327451Z\", \"duration\": \"0:00:31\", \"iteration\": \"25\", \"goal\": \"accuracy_max\", \"run_name\": \"MinMaxScaler, LightGBM\", \"run_properties\": \"copy=True, feature_range=(0, 1\", \"primary_metric\": 0.8952381, \"best_metric\": 0.95809524}, {\"run_id\": \"AutoML_a772be5d-e991-4976-b0af-c6a054c14d46_26\", \"run_number\": 1674770387, \"metric\": null, \"status\": \"Completed\", \"run_type\": \"azureml.scriptrun\", \"training_percent\": \"100\", \"start_time\": \"2023-01-26T21:59:53.558097Z\", \"end_time\": \"2023-01-26T22:00:19.402485Z\", \"created_time\": \"2023-01-26T21:59:47.010205Z\", \"created_time_dt\": \"2023-01-26T21:59:47.010205Z\", \"duration\": \"0:00:32\", \"iteration\": \"26\", \"goal\": \"accuracy_max\", \"run_name\": \"RobustScaler, LightGBM\", \"run_properties\": \"copy=True, quantile_range=[25, 75], with_centering=True,\\n             with_scaling=False\", \"primary_metric\": 0.94126984, \"best_metric\": 0.95809524}, {\"run_id\": \"AutoML_a772be5d-e991-4976-b0af-c6a054c14d46_28\", \"run_number\": 1674770389, \"metric\": null, \"status\": \"Completed\", \"run_type\": \"azureml.scriptrun\", \"training_percent\": \"100\", \"start_time\": \"2023-01-26T21:59:54.59084Z\", \"end_time\": \"2023-01-26T22:00:20.247878Z\", \"created_time\": \"2023-01-26T21:59:49.599289Z\", \"created_time_dt\": \"2023-01-26T21:59:49.599289Z\", \"duration\": \"0:00:30\", \"iteration\": \"28\", \"goal\": \"accuracy_max\", \"run_name\": \"StandardScalerWrapper, LightGBM\", \"run_properties\": \"copy=True, with_mean=False, with_std=True\", \"primary_metric\": 0.85365079, \"best_metric\": 0.95809524}, {\"run_id\": \"AutoML_a772be5d-e991-4976-b0af-c6a054c14d46_29\", \"run_number\": 1674770393, \"metric\": null, \"status\": \"Completed\", \"run_type\": \"azureml.scriptrun\", \"training_percent\": \"100\", \"start_time\": \"2023-01-26T21:59:59.470663Z\", \"end_time\": \"2023-01-26T22:00:26.724383Z\", \"created_time\": \"2023-01-26T21:59:53.19861Z\", \"created_time_dt\": \"2023-01-26T21:59:53.19861Z\", \"duration\": \"0:00:33\", \"iteration\": \"29\", \"goal\": \"accuracy_max\", \"run_name\": \"MinMaxScaler, LightGBM\", \"run_properties\": \"copy=True, feature_range=(0, 1\", \"primary_metric\": 0.91079365, \"best_metric\": 0.95809524}, {\"run_id\": \"AutoML_a772be5d-e991-4976-b0af-c6a054c14d46_30\", \"run_number\": 1674770422, \"metric\": null, \"status\": \"Completed\", \"run_type\": \"azureml.scriptrun\", \"training_percent\": \"100\", \"start_time\": \"2023-01-26T22:00:29.349937Z\", \"end_time\": \"2023-01-26T22:00:56.981301Z\", \"created_time\": \"2023-01-26T22:00:22.221744Z\", \"created_time_dt\": \"2023-01-26T22:00:22.221744Z\", \"duration\": \"0:00:34\", \"iteration\": \"30\", \"goal\": \"accuracy_max\", \"run_name\": \"TruncatedSVDWrapper, LightGBM\", \"run_properties\": \"n_components=0.40578947368421053, random_state=None\", \"primary_metric\": 0.83777778, \"best_metric\": 0.95809524}, {\"run_id\": \"AutoML_a772be5d-e991-4976-b0af-c6a054c14d46_32\", \"run_number\": 1674770424, \"metric\": null, \"status\": \"Completed\", \"run_type\": \"azureml.scriptrun\", \"training_percent\": \"100\", \"start_time\": \"2023-01-26T22:00:31.95168Z\", \"end_time\": \"2023-01-26T22:00:57.626806Z\", \"created_time\": \"2023-01-26T22:00:24.468749Z\", \"created_time_dt\": \"2023-01-26T22:00:24.468749Z\", \"duration\": \"0:00:33\", \"iteration\": \"32\", \"goal\": \"accuracy_max\", \"run_name\": \"SparseNormalizer, XGBoostClassifier\", \"run_properties\": \"copy=True, norm='l2'\", \"primary_metric\": 0.93333333, \"best_metric\": 0.95809524}, {\"run_id\": \"AutoML_a772be5d-e991-4976-b0af-c6a054c14d46_33\", \"run_number\": 1674770428, \"metric\": null, \"status\": \"Completed\", \"run_type\": \"azureml.scriptrun\", \"training_percent\": \"100\", \"start_time\": \"2023-01-26T22:00:34.26652Z\", \"end_time\": \"2023-01-26T22:01:03.175561Z\", \"created_time\": \"2023-01-26T22:00:28.440112Z\", \"created_time_dt\": \"2023-01-26T22:00:28.440112Z\", \"duration\": \"0:00:34\", \"iteration\": \"33\", \"goal\": \"accuracy_max\", \"run_name\": \"SparseNormalizer, XGBoostClassifier\", \"run_properties\": \"copy=True, norm='l1'\", \"primary_metric\": 0.93174603, \"best_metric\": 0.95809524}, {\"run_id\": \"AutoML_a772be5d-e991-4976-b0af-c6a054c14d46_34\", \"run_number\": 1674770458, \"metric\": null, \"status\": \"Canceled\", \"run_type\": \"azureml.scriptrun\", \"training_percent\": \"100\", \"start_time\": \"2023-01-26T22:01:03.683728Z\", \"end_time\": \"2023-01-26T22:01:03.922453Z\", \"created_time\": \"2023-01-26T22:00:58.918624Z\", \"created_time_dt\": \"2023-01-26T22:00:58.918624Z\", \"duration\": \"0:00:05\", \"iteration\": \"34\", \"goal\": null, \"run_name\": \"Canceled\", \"run_properties\": null}, {\"run_id\": \"AutoML_a772be5d-e991-4976-b0af-c6a054c14d46_35\", \"run_number\": 1674770462, \"metric\": null, \"status\": \"Canceled\", \"run_type\": \"azureml.scriptrun\", \"training_percent\": \"100\", \"start_time\": \"2023-01-26T22:01:03.677631Z\", \"end_time\": \"2023-01-26T22:01:03.88572Z\", \"created_time\": \"2023-01-26T22:01:02.369753Z\", \"created_time_dt\": \"2023-01-26T22:01:02.369753Z\", \"duration\": \"0:00:01\", \"iteration\": \"35\", \"goal\": null, \"run_name\": \"Canceled\", \"run_properties\": null}, {\"run_id\": \"AutoML_a772be5d-e991-4976-b0af-c6a054c14d46_36\", \"run_number\": 1674770464, \"metric\": null, \"status\": \"Completed\", \"run_type\": \"azureml.scriptrun\", \"training_percent\": \"100\", \"start_time\": \"2023-01-26T22:01:09.547331Z\", \"end_time\": \"2023-01-26T22:02:58.335753Z\", \"created_time\": \"2023-01-26T22:01:04.389717Z\", \"created_time_dt\": \"2023-01-26T22:01:04.389717Z\", \"duration\": \"0:01:53\", \"iteration\": \"36\", \"goal\": \"accuracy_max\", \"run_name\": \"VotingEnsemble\", \"run_properties\": \"classification_labels=numpy.array([0, 1]\", \"primary_metric\": 0.96285714, \"best_metric\": 0.96285714}], \"children_metrics\": {\"categories\": [0], \"series\": {\"precision_score_micro\": [{\"categories\": [\"0\", \"1\", \"3\", \"5\", \"8\", \"11\", \"14\", \"17\", \"20\", \"23\", \"25\", \"26\", \"28\", \"29\", \"30\", \"32\", \"33\", \"36\"], \"mode\": \"markers\", \"name\": \"precision_score_micro\", \"stepped\": false, \"type\": \"scatter\", \"data\": [0.958095238095238, 0.9565079365079366, 0.900952380952381, 0.932063492063492, 0.8314285714285715, 0.7974603174603173, 0.9476190476190477, 0.8933333333333334, 0.893968253968254, 0.9076190476190477, 0.8952380952380953, 0.9412698412698411, 0.8536507936507937, 0.9107936507936508, 0.8377777777777777, 0.9333333333333332, 0.9317460317460317, 0.962857142857143]}, {\"categories\": [\"0\", \"1\", \"3\", \"5\", \"8\", \"11\", \"14\", \"17\", \"20\", \"23\", \"25\", \"26\", \"28\", \"29\", \"30\", \"32\", \"33\", \"36\"], \"mode\": \"lines\", \"name\": \"precision_score_micro_max\", \"stepped\": true, \"type\": \"scatter\", \"data\": [0.958095238095238, 0.958095238095238, 0.958095238095238, 0.958095238095238, 0.958095238095238, 0.958095238095238, 0.958095238095238, 0.958095238095238, 0.958095238095238, 0.958095238095238, 0.958095238095238, 0.958095238095238, 0.958095238095238, 0.958095238095238, 0.958095238095238, 0.958095238095238, 0.958095238095238, 0.962857142857143]}], \"accuracy\": [{\"categories\": [\"0\", \"1\", \"3\", \"5\", \"8\", \"11\", \"14\", \"17\", \"20\", \"23\", \"25\", \"26\", \"28\", \"29\", \"30\", \"32\", \"33\", \"36\"], \"mode\": \"markers\", \"name\": \"accuracy\", \"stepped\": false, \"type\": \"scatter\", \"data\": [0.958095238095238, 0.9565079365079366, 0.900952380952381, 0.932063492063492, 0.8314285714285715, 0.7974603174603173, 0.9476190476190477, 0.8933333333333334, 0.893968253968254, 0.9076190476190477, 0.8952380952380953, 0.9412698412698411, 0.8536507936507937, 0.9107936507936508, 0.8377777777777777, 0.9333333333333332, 0.9317460317460317, 0.962857142857143]}, {\"categories\": [\"0\", \"1\", \"3\", \"5\", \"8\", \"11\", \"14\", \"17\", \"20\", \"23\", \"25\", \"26\", \"28\", \"29\", \"30\", \"32\", \"33\", \"36\"], \"mode\": \"lines\", \"name\": \"accuracy_max\", \"stepped\": true, \"type\": \"scatter\", \"data\": [0.958095238095238, 0.958095238095238, 0.958095238095238, 0.958095238095238, 0.958095238095238, 0.958095238095238, 0.958095238095238, 0.958095238095238, 0.958095238095238, 0.958095238095238, 0.958095238095238, 0.958095238095238, 0.958095238095238, 0.958095238095238, 0.958095238095238, 0.958095238095238, 0.958095238095238, 0.962857142857143]}], \"log_loss\": [{\"categories\": [\"0\", \"1\", \"3\", \"5\", \"8\", \"11\", \"14\", \"17\", \"20\", \"23\", \"25\", \"26\", \"28\", \"29\", \"30\", \"32\", \"33\", \"36\"], \"mode\": \"markers\", \"name\": \"log_loss\", \"stepped\": false, \"type\": \"scatter\", \"data\": [0.12476236534526258, 0.12338262452895495, 0.6286075619475769, 0.17805818303399348, 0.6127727493283014, 0.44822821661661955, 0.3888404127569021, 0.22570293678781325, 0.22042040246310243, 0.21780687398106302, 0.23561874736189917, 0.13994723656941557, 0.2833468405875318, 0.2212066796754878, 0.352752370333605, 0.14834552730036246, 0.1579205737085681, 0.10688297026308387]}, {\"categories\": [\"0\", \"1\", \"3\", \"5\", \"8\", \"11\", \"14\", \"17\", \"20\", \"23\", \"25\", \"26\", \"28\", \"29\", \"30\", \"32\", \"33\", \"36\"], \"mode\": \"lines\", \"name\": \"log_loss_min\", \"stepped\": true, \"type\": \"scatter\", \"data\": [0.12476236534526258, 0.12338262452895495, 0.12338262452895495, 0.12338262452895495, 0.12338262452895495, 0.12338262452895495, 0.12338262452895495, 0.12338262452895495, 0.12338262452895495, 0.12338262452895495, 0.12338262452895495, 0.12338262452895495, 0.12338262452895495, 0.12338262452895495, 0.12338262452895495, 0.12338262452895495, 0.12338262452895495, 0.10688297026308387]}], \"average_precision_score_weighted\": [{\"categories\": [\"0\", \"1\", \"3\", \"5\", \"8\", \"11\", \"14\", \"17\", \"20\", \"23\", \"25\", \"26\", \"28\", \"29\", \"30\", \"32\", \"33\", \"36\"], \"mode\": \"markers\", \"name\": \"average_precision_score_weighted\", \"stepped\": false, \"type\": \"scatter\", \"data\": [0.9873352571447119, 0.9870583744388423, 0.9443368016986752, 0.9762116578547362, 0.8639884531441403, 0.9254251835050223, 0.9738524456243911, 0.9498280218260517, 0.9526166275814939, 0.967062983096762, 0.9597441089434956, 0.980982356409148, 0.9110613699104496, 0.9561313167391314, 0.8680267640438522, 0.978214728168371, 0.9767548617762891, 0.9895039368258377]}, {\"categories\": [\"0\", \"1\", \"3\", \"5\", \"8\", \"11\", \"14\", \"17\", \"20\", \"23\", \"25\", \"26\", \"28\", \"29\", \"30\", \"32\", \"33\", \"36\"], \"mode\": \"lines\", \"name\": \"average_precision_score_weighted_max\", \"stepped\": true, \"type\": \"scatter\", \"data\": [0.9873352571447119, 0.9873352571447119, 0.9873352571447119, 0.9873352571447119, 0.9873352571447119, 0.9873352571447119, 0.9873352571447119, 0.9873352571447119, 0.9873352571447119, 0.9873352571447119, 0.9873352571447119, 0.9873352571447119, 0.9873352571447119, 0.9873352571447119, 0.9873352571447119, 0.9873352571447119, 0.9873352571447119, 0.9895039368258377]}], \"f1_score_micro\": [{\"categories\": [\"0\", \"1\", \"3\", \"5\", \"8\", \"11\", \"14\", \"17\", \"20\", \"23\", \"25\", \"26\", \"28\", \"29\", \"30\", \"32\", \"33\", \"36\"], \"mode\": \"markers\", \"name\": \"f1_score_micro\", \"stepped\": false, \"type\": \"scatter\", \"data\": [0.958095238095238, 0.9565079365079366, 0.900952380952381, 0.932063492063492, 0.8314285714285714, 0.7974603174603175, 0.9476190476190477, 0.8933333333333334, 0.893968253968254, 0.9076190476190477, 0.8952380952380953, 0.9412698412698411, 0.8536507936507937, 0.9107936507936508, 0.8377777777777777, 0.9333333333333332, 0.9317460317460319, 0.962857142857143]}, {\"categories\": [\"0\", \"1\", \"3\", \"5\", \"8\", \"11\", \"14\", \"17\", \"20\", \"23\", \"25\", \"26\", \"28\", \"29\", \"30\", \"32\", \"33\", \"36\"], \"mode\": \"lines\", \"name\": \"f1_score_micro_max\", \"stepped\": true, \"type\": \"scatter\", \"data\": [0.958095238095238, 0.958095238095238, 0.958095238095238, 0.958095238095238, 0.958095238095238, 0.958095238095238, 0.958095238095238, 0.958095238095238, 0.958095238095238, 0.958095238095238, 0.958095238095238, 0.958095238095238, 0.958095238095238, 0.958095238095238, 0.958095238095238, 0.958095238095238, 0.958095238095238, 0.962857142857143]}], \"average_precision_score_micro\": [{\"categories\": [\"0\", \"1\", \"3\", \"5\", \"8\", \"11\", \"14\", \"17\", \"20\", \"23\", \"25\", \"26\", \"28\", \"29\", \"30\", \"32\", \"33\", \"36\"], \"mode\": \"markers\", \"name\": \"average_precision_score_micro\", \"stepped\": false, \"type\": \"scatter\", \"data\": [0.9923037307692543, 0.992225172069349, 0.9620421821877599, 0.9849454433184333, 0.9171655200132788, 0.8958205701576278, 0.9804276002858602, 0.9706273144140057, 0.9716772318940482, 0.9775993285572043, 0.9732242162877975, 0.9888542117993665, 0.9525187716340704, 0.9733696152824626, 0.9285938887164974, 0.9874083843005073, 0.9864112608959696, 0.9937115177172186]}, {\"categories\": [\"0\", \"1\", \"3\", \"5\", \"8\", \"11\", \"14\", \"17\", \"20\", \"23\", \"25\", \"26\", \"28\", \"29\", \"30\", \"32\", \"33\", \"36\"], \"mode\": \"lines\", \"name\": \"average_precision_score_micro_max\", \"stepped\": true, \"type\": \"scatter\", \"data\": [0.9923037307692543, 0.9923037307692543, 0.9923037307692543, 0.9923037307692543, 0.9923037307692543, 0.9923037307692543, 0.9923037307692543, 0.9923037307692543, 0.9923037307692543, 0.9923037307692543, 0.9923037307692543, 0.9923037307692543, 0.9923037307692543, 0.9923037307692543, 0.9923037307692543, 0.9923037307692543, 0.9923037307692543, 0.9937115177172186]}], \"weighted_accuracy\": [{\"categories\": [\"0\", \"1\", \"3\", \"5\", \"8\", \"11\", \"14\", \"17\", \"20\", \"23\", \"25\", \"26\", \"28\", \"29\", \"30\", \"32\", \"33\", \"36\"], \"mode\": \"markers\", \"name\": \"weighted_accuracy\", \"stepped\": false, \"type\": \"scatter\", \"data\": [0.9753497156696859, 0.9758983018745321, 0.956310489261119, 0.965342344155112, 0.9213309884080605, 0.7828772590136458, 0.9713156939674477, 0.9608916500449042, 0.9545102833792573, 0.9651403617412413, 0.9678107231819298, 0.9652318603592512, 0.9275467768103041, 0.9560633972543506, 0.9552451021675624, 0.9655978614647074, 0.964968556781885, 0.9793305208120638]}, {\"categories\": [\"0\", \"1\", \"3\", \"5\", \"8\", \"11\", \"14\", \"17\", \"20\", \"23\", \"25\", \"26\", \"28\", \"29\", \"30\", \"32\", \"33\", \"36\"], \"mode\": \"lines\", \"name\": \"weighted_accuracy_max\", \"stepped\": true, \"type\": \"scatter\", \"data\": [0.9753497156696859, 0.9758983018745321, 0.9758983018745321, 0.9758983018745321, 0.9758983018745321, 0.9758983018745321, 0.9758983018745321, 0.9758983018745321, 0.9758983018745321, 0.9758983018745321, 0.9758983018745321, 0.9758983018745321, 0.9758983018745321, 0.9758983018745321, 0.9758983018745321, 0.9758983018745321, 0.9758983018745321, 0.9793305208120638]}], \"AUC_micro\": [{\"categories\": [\"0\", \"1\", \"3\", \"5\", \"8\", \"11\", \"14\", \"17\", \"20\", \"23\", \"25\", \"26\", \"28\", \"29\", \"30\", \"32\", \"33\", \"36\"], \"mode\": \"markers\", \"name\": \"AUC_micro\", \"stepped\": false, \"type\": \"scatter\", \"data\": [0.992248828420257, 0.9920160241874528, 0.9666914588057445, 0.9844371882086168, 0.9183099017384732, 0.8890083144368859, 0.9844997732426304, 0.9693454270597129, 0.9703588813303098, 0.976494633408919, 0.9718170823885112, 0.9884897959183675, 0.9498630385487528, 0.9725829176114891, 0.9250832955404383, 0.9868967498110356, 0.9858660619803477, 0.9935670445956161]}, {\"categories\": [\"0\", \"1\", \"3\", \"5\", \"8\", \"11\", \"14\", \"17\", \"20\", \"23\", \"25\", \"26\", \"28\", \"29\", \"30\", \"32\", \"33\", \"36\"], \"mode\": \"lines\", \"name\": \"AUC_micro_max\", \"stepped\": true, \"type\": \"scatter\", \"data\": [0.992248828420257, 0.992248828420257, 0.992248828420257, 0.992248828420257, 0.992248828420257, 0.992248828420257, 0.992248828420257, 0.992248828420257, 0.992248828420257, 0.992248828420257, 0.992248828420257, 0.992248828420257, 0.992248828420257, 0.992248828420257, 0.992248828420257, 0.992248828420257, 0.992248828420257, 0.9935670445956161]}], \"AUC_weighted\": [{\"categories\": [\"0\", \"1\", \"3\", \"5\", \"8\", \"11\", \"14\", \"17\", \"20\", \"23\", \"25\", \"26\", \"28\", \"29\", \"30\", \"32\", \"33\", \"36\"], \"mode\": \"markers\", \"name\": \"AUC_weighted\", \"stepped\": false, \"type\": \"scatter\", \"data\": [0.984233177530354, 0.9840565417267023, 0.9210698769166127, 0.9710589382313447, 0.8062107322531041, 0.8946530726953265, 0.9636834193494755, 0.9334233346024634, 0.9365486095869637, 0.9625856252483521, 0.9522881095725569, 0.9770202849018478, 0.8978160474980402, 0.9443092579470277, 0.8110641725594777, 0.9750261378877617, 0.9726131110440946, 0.9877264860861241]}, {\"categories\": [\"0\", \"1\", \"3\", \"5\", \"8\", \"11\", \"14\", \"17\", \"20\", \"23\", \"25\", \"26\", \"28\", \"29\", \"30\", \"32\", \"33\", \"36\"], \"mode\": \"lines\", \"name\": \"AUC_weighted_max\", \"stepped\": true, \"type\": \"scatter\", \"data\": [0.984233177530354, 0.984233177530354, 0.984233177530354, 0.984233177530354, 0.984233177530354, 0.984233177530354, 0.984233177530354, 0.984233177530354, 0.984233177530354, 0.984233177530354, 0.984233177530354, 0.984233177530354, 0.984233177530354, 0.984233177530354, 0.984233177530354, 0.984233177530354, 0.984233177530354, 0.9877264860861241]}], \"AUC_macro\": [{\"categories\": [\"0\", \"1\", \"3\", \"5\", \"8\", \"11\", \"14\", \"17\", \"20\", \"23\", \"25\", \"26\", \"28\", \"29\", \"30\", \"32\", \"33\", \"36\"], \"mode\": \"markers\", \"name\": \"AUC_macro\", \"stepped\": false, \"type\": \"scatter\", \"data\": [0.9842331775303538, 0.9840565417267023, 0.9210698769166127, 0.9710589382313447, 0.806210732253104, 0.8946530726953265, 0.9636834193494757, 0.9334233346024634, 0.9365486095869637, 0.962585625248352, 0.952288109572557, 0.9770202849018478, 0.8978160474980402, 0.9443092579470277, 0.8110641725594777, 0.9750261378877617, 0.9726131110440946, 0.987726486086124]}, {\"categories\": [\"0\", \"1\", \"3\", \"5\", \"8\", \"11\", \"14\", \"17\", \"20\", \"23\", \"25\", \"26\", \"28\", \"29\", \"30\", \"32\", \"33\", \"36\"], \"mode\": \"lines\", \"name\": \"AUC_macro_max\", \"stepped\": true, \"type\": \"scatter\", \"data\": [0.9842331775303538, 0.9842331775303538, 0.9842331775303538, 0.9842331775303538, 0.9842331775303538, 0.9842331775303538, 0.9842331775303538, 0.9842331775303538, 0.9842331775303538, 0.9842331775303538, 0.9842331775303538, 0.9842331775303538, 0.9842331775303538, 0.9842331775303538, 0.9842331775303538, 0.9842331775303538, 0.9842331775303538, 0.987726486086124]}], \"norm_macro_recall\": [{\"categories\": [\"0\", \"1\", \"3\", \"5\", \"8\", \"11\", \"14\", \"17\", \"20\", \"23\", \"25\", \"26\", \"28\", \"29\", \"30\", \"32\", \"33\", \"36\"], \"mode\": \"markers\", \"name\": \"norm_macro_recall\", \"stepped\": false, \"type\": \"scatter\", \"data\": [0.8204283531634288, 0.8053940500862907, 0.49480728137664537, 0.6794105647264992, 0.16393766547079283, 0.6760558466152244, 0.7639565940731697, 0.41204723753032396, 0.45232365352331955, 0.496114620795433, 0.3881349111122026, 0.749710055236112, 0.297377603841623, 0.570353066231408, 0.023794933561636384, 0.6878602166894808, 0.6793087956546122, 0.8342731020935105]}, {\"categories\": [\"0\", \"1\", \"3\", \"5\", \"8\", \"11\", \"14\", \"17\", \"20\", \"23\", \"25\", \"26\", \"28\", \"29\", \"30\", \"32\", \"33\", \"36\"], \"mode\": \"lines\", \"name\": \"norm_macro_recall_max\", \"stepped\": true, \"type\": \"scatter\", \"data\": [0.8204283531634288, 0.8204283531634288, 0.8204283531634288, 0.8204283531634288, 0.8204283531634288, 0.8204283531634288, 0.8204283531634288, 0.8204283531634288, 0.8204283531634288, 0.8204283531634288, 0.8204283531634288, 0.8204283531634288, 0.8204283531634288, 0.8204283531634288, 0.8204283531634288, 0.8204283531634288, 0.8204283531634288, 0.8342731020935105]}], \"precision_score_macro\": [{\"categories\": [\"0\", \"1\", \"3\", \"5\", \"8\", \"11\", \"14\", \"17\", \"20\", \"23\", \"25\", \"26\", \"28\", \"29\", \"30\", \"32\", \"33\", \"36\"], \"mode\": \"markers\", \"name\": \"precision_score_macro\", \"stepped\": false, \"type\": \"scatter\", \"data\": [0.9297411578077875, 0.930084758760018, 0.8451874641427644, 0.8918513881764308, 0.6515068606634995, 0.7034514508466149, 0.9144114196376479, 0.8494205108486997, 0.8325516337890639, 0.8743558263389696, 0.8817586435553122, 0.8993109154649547, 0.7195440226634261, 0.8552246007022491, 0.5738346831981107, 0.8933224649224232, 0.8912325745830266, 0.940637090868449]}, {\"categories\": [\"0\", \"1\", \"3\", \"5\", \"8\", \"11\", \"14\", \"17\", \"20\", \"23\", \"25\", \"26\", \"28\", \"29\", \"30\", \"32\", \"33\", \"36\"], \"mode\": \"lines\", \"name\": \"precision_score_macro_max\", \"stepped\": true, \"type\": \"scatter\", \"data\": [0.9297411578077875, 0.930084758760018, 0.930084758760018, 0.930084758760018, 0.930084758760018, 0.930084758760018, 0.930084758760018, 0.930084758760018, 0.930084758760018, 0.930084758760018, 0.930084758760018, 0.930084758760018, 0.930084758760018, 0.930084758760018, 0.930084758760018, 0.930084758760018, 0.930084758760018, 0.940637090868449]}], \"f1_score_weighted\": [{\"categories\": [\"0\", \"1\", \"3\", \"5\", \"8\", \"11\", \"14\", \"17\", \"20\", \"23\", \"25\", \"26\", \"28\", \"29\", \"30\", \"32\", \"33\", \"36\"], \"mode\": \"markers\", \"name\": \"f1_score_weighted\", \"stepped\": false, \"type\": \"scatter\", \"data\": [0.9575905632904651, 0.9557521554306496, 0.8928306105203981, 0.9295461841097065, 0.8078114143999251, 0.8216501280821974, 0.9464819658828754, 0.8795322911367188, 0.8836332712659832, 0.8981088713211006, 0.8782392464281594, 0.9403335882212313, 0.8382752856684381, 0.9057303002917741, 0.7777647546839778, 0.9309714081533093, 0.9293164928937395, 0.9623146832528607]}, {\"categories\": [\"0\", \"1\", \"3\", \"5\", \"8\", \"11\", \"14\", \"17\", \"20\", \"23\", \"25\", \"26\", \"28\", \"29\", \"30\", \"32\", \"33\", \"36\"], \"mode\": \"lines\", \"name\": \"f1_score_weighted_max\", \"stepped\": true, \"type\": \"scatter\", \"data\": [0.9575905632904651, 0.9575905632904651, 0.9575905632904651, 0.9575905632904651, 0.9575905632904651, 0.9575905632904651, 0.9575905632904651, 0.9575905632904651, 0.9575905632904651, 0.9575905632904651, 0.9575905632904651, 0.9575905632904651, 0.9575905632904651, 0.9575905632904651, 0.9575905632904651, 0.9575905632904651, 0.9575905632904651, 0.9623146832528607]}], \"f1_score_macro\": [{\"categories\": [\"0\", \"1\", \"3\", \"5\", \"8\", \"11\", \"14\", \"17\", \"20\", \"23\", \"25\", \"26\", \"28\", \"29\", \"30\", \"32\", \"33\", \"36\"], \"mode\": \"markers\", \"name\": \"f1_score_macro\", \"stepped\": false, \"type\": \"scatter\", \"data\": [0.9189895174965338, 0.9150635397625265, 0.7835200688637561, 0.8624161939929954, 0.5971484987879389, 0.7241521163035599, 0.8969825450326891, 0.749250135233972, 0.7626088470879866, 0.7912730664515241, 0.7419195900085995, 0.8856658040933052, 0.6685282825631522, 0.8129569831340427, 0.486879446656906, 0.8655051186823496, 0.8622013841880379, 0.9278213589758798]}, {\"categories\": [\"0\", \"1\", \"3\", \"5\", \"8\", \"11\", \"14\", \"17\", \"20\", \"23\", \"25\", \"26\", \"28\", \"29\", \"30\", \"32\", \"33\", \"36\"], \"mode\": \"lines\", \"name\": \"f1_score_macro_max\", \"stepped\": true, \"type\": \"scatter\", \"data\": [0.9189895174965338, 0.9189895174965338, 0.9189895174965338, 0.9189895174965338, 0.9189895174965338, 0.9189895174965338, 0.9189895174965338, 0.9189895174965338, 0.9189895174965338, 0.9189895174965338, 0.9189895174965338, 0.9189895174965338, 0.9189895174965338, 0.9189895174965338, 0.9189895174965338, 0.9189895174965338, 0.9189895174965338, 0.9278213589758798]}], \"recall_score_macro\": [{\"categories\": [\"0\", \"1\", \"3\", \"5\", \"8\", \"11\", \"14\", \"17\", \"20\", \"23\", \"25\", \"26\", \"28\", \"29\", \"30\", \"32\", \"33\", \"36\"], \"mode\": \"markers\", \"name\": \"recall_score_macro\", \"stepped\": false, \"type\": \"scatter\", \"data\": [0.9102141765817144, 0.9026970250431453, 0.7474036406883227, 0.8397052823632496, 0.5819688327353965, 0.8380279233076123, 0.8819782970365848, 0.706023618765162, 0.7261618267616597, 0.7480573103977165, 0.6940674555561013, 0.8748550276180559, 0.6486888019208115, 0.785176533115704, 0.5118974667808182, 0.8439301083447402, 0.8396543978273061, 0.9171365510467552]}, {\"categories\": [\"0\", \"1\", \"3\", \"5\", \"8\", \"11\", \"14\", \"17\", \"20\", \"23\", \"25\", \"26\", \"28\", \"29\", \"30\", \"32\", \"33\", \"36\"], \"mode\": \"lines\", \"name\": \"recall_score_macro_max\", \"stepped\": true, \"type\": \"scatter\", \"data\": [0.9102141765817144, 0.9102141765817144, 0.9102141765817144, 0.9102141765817144, 0.9102141765817144, 0.9102141765817144, 0.9102141765817144, 0.9102141765817144, 0.9102141765817144, 0.9102141765817144, 0.9102141765817144, 0.9102141765817144, 0.9102141765817144, 0.9102141765817144, 0.9102141765817144, 0.9102141765817144, 0.9102141765817144, 0.9171365510467552]}], \"matthews_correlation\": [{\"categories\": [\"0\", \"1\", \"3\", \"5\", \"8\", \"11\", \"14\", \"17\", \"20\", \"23\", \"25\", \"26\", \"28\", \"29\", \"30\", \"32\", \"33\", \"36\"], \"mode\": \"markers\", \"name\": \"matthews_correlation\", \"stepped\": false, \"type\": \"scatter\", \"data\": [0.8393258039783748, 0.8319295809886024, 0.5842819044044377, 0.7294064884804884, 0.22257034510434592, 0.524451783763492, 0.7956243265642279, 0.5359498794905023, 0.5477057633957471, 0.6089459767244242, 0.5422499893047151, 0.7732605022163552, 0.35875644417705904, 0.6357147964841651, 0.056748057643878434, 0.7352572892166714, 0.7288126661982289, 0.8570891249296496]}, {\"categories\": [\"0\", \"1\", \"3\", \"5\", \"8\", \"11\", \"14\", \"17\", \"20\", \"23\", \"25\", \"26\", \"28\", \"29\", \"30\", \"32\", \"33\", \"36\"], \"mode\": \"lines\", \"name\": \"matthews_correlation_max\", \"stepped\": true, \"type\": \"scatter\", \"data\": [0.8393258039783748, 0.8393258039783748, 0.8393258039783748, 0.8393258039783748, 0.8393258039783748, 0.8393258039783748, 0.8393258039783748, 0.8393258039783748, 0.8393258039783748, 0.8393258039783748, 0.8393258039783748, 0.8393258039783748, 0.8393258039783748, 0.8393258039783748, 0.8393258039783748, 0.8393258039783748, 0.8393258039783748, 0.8570891249296496]}], \"recall_score_micro\": [{\"categories\": [\"0\", \"1\", \"3\", \"5\", \"8\", \"11\", \"14\", \"17\", \"20\", \"23\", \"25\", \"26\", \"28\", \"29\", \"30\", \"32\", \"33\", \"36\"], \"mode\": \"markers\", \"name\": \"recall_score_micro\", \"stepped\": false, \"type\": \"scatter\", \"data\": [0.958095238095238, 0.9565079365079366, 0.900952380952381, 0.932063492063492, 0.8314285714285715, 0.7974603174603173, 0.9476190476190477, 0.8933333333333334, 0.893968253968254, 0.9076190476190477, 0.8952380952380953, 0.9412698412698411, 0.8536507936507937, 0.9107936507936508, 0.8377777777777777, 0.9333333333333332, 0.9317460317460317, 0.962857142857143]}, {\"categories\": [\"0\", \"1\", \"3\", \"5\", \"8\", \"11\", \"14\", \"17\", \"20\", \"23\", \"25\", \"26\", \"28\", \"29\", \"30\", \"32\", \"33\", \"36\"], \"mode\": \"lines\", \"name\": \"recall_score_micro_max\", \"stepped\": true, \"type\": \"scatter\", \"data\": [0.958095238095238, 0.958095238095238, 0.958095238095238, 0.958095238095238, 0.958095238095238, 0.958095238095238, 0.958095238095238, 0.958095238095238, 0.958095238095238, 0.958095238095238, 0.958095238095238, 0.958095238095238, 0.958095238095238, 0.958095238095238, 0.958095238095238, 0.958095238095238, 0.958095238095238, 0.962857142857143]}], \"precision_score_weighted\": [{\"categories\": [\"0\", \"1\", \"3\", \"5\", \"8\", \"11\", \"14\", \"17\", \"20\", \"23\", \"25\", \"26\", \"28\", \"29\", \"30\", \"32\", \"33\", \"36\"], \"mode\": \"markers\", \"name\": \"precision_score_weighted\", \"stepped\": false, \"type\": \"scatter\", \"data\": [0.9578017042565307, 0.9559537585719756, 0.8938750740987613, 0.9294558713292167, 0.7989783393995483, 0.8903601452236494, 0.9462284640190592, 0.885865182102818, 0.8853130340866756, 0.9027162637784953, 0.8932288819724623, 0.9404275081208654, 0.8343953091752622, 0.9058901213093082, 0.7605002872651873, 0.9308726358606986, 0.929236367077143, 0.9625411481709634]}, {\"categories\": [\"0\", \"1\", \"3\", \"5\", \"8\", \"11\", \"14\", \"17\", \"20\", \"23\", \"25\", \"26\", \"28\", \"29\", \"30\", \"32\", \"33\", \"36\"], \"mode\": \"lines\", \"name\": \"precision_score_weighted_max\", \"stepped\": true, \"type\": \"scatter\", \"data\": [0.9578017042565307, 0.9578017042565307, 0.9578017042565307, 0.9578017042565307, 0.9578017042565307, 0.9578017042565307, 0.9578017042565307, 0.9578017042565307, 0.9578017042565307, 0.9578017042565307, 0.9578017042565307, 0.9578017042565307, 0.9578017042565307, 0.9578017042565307, 0.9578017042565307, 0.9578017042565307, 0.9578017042565307, 0.9625411481709634]}], \"recall_score_weighted\": [{\"categories\": [\"0\", \"1\", \"3\", \"5\", \"8\", \"11\", \"14\", \"17\", \"20\", \"23\", \"25\", \"26\", \"28\", \"29\", \"30\", \"32\", \"33\", \"36\"], \"mode\": \"markers\", \"name\": \"recall_score_weighted\", \"stepped\": false, \"type\": \"scatter\", \"data\": [0.958095238095238, 0.9565079365079366, 0.900952380952381, 0.932063492063492, 0.8314285714285715, 0.7974603174603173, 0.9476190476190477, 0.8933333333333334, 0.893968253968254, 0.9076190476190477, 0.8952380952380953, 0.9412698412698411, 0.8536507936507937, 0.9107936507936508, 0.8377777777777777, 0.9333333333333332, 0.9317460317460317, 0.962857142857143]}, {\"categories\": [\"0\", \"1\", \"3\", \"5\", \"8\", \"11\", \"14\", \"17\", \"20\", \"23\", \"25\", \"26\", \"28\", \"29\", \"30\", \"32\", \"33\", \"36\"], \"mode\": \"lines\", \"name\": \"recall_score_weighted_max\", \"stepped\": true, \"type\": \"scatter\", \"data\": [0.958095238095238, 0.958095238095238, 0.958095238095238, 0.958095238095238, 0.958095238095238, 0.958095238095238, 0.958095238095238, 0.958095238095238, 0.958095238095238, 0.958095238095238, 0.958095238095238, 0.958095238095238, 0.958095238095238, 0.958095238095238, 0.958095238095238, 0.958095238095238, 0.958095238095238, 0.962857142857143]}], \"balanced_accuracy\": [{\"categories\": [\"0\", \"1\", \"3\", \"5\", \"8\", \"11\", \"14\", \"17\", \"20\", \"23\", \"25\", \"26\", \"28\", \"29\", \"30\", \"32\", \"33\", \"36\"], \"mode\": \"markers\", \"name\": \"balanced_accuracy\", \"stepped\": false, \"type\": \"scatter\", \"data\": [0.9102141765817144, 0.9026970250431453, 0.7474036406883227, 0.8397052823632496, 0.5819688327353965, 0.8380279233076123, 0.8819782970365848, 0.706023618765162, 0.7261618267616597, 0.7480573103977165, 0.6940674555561013, 0.8748550276180559, 0.6486888019208115, 0.785176533115704, 0.5118974667808182, 0.8439301083447402, 0.8396543978273061, 0.9171365510467552]}, {\"categories\": [\"0\", \"1\", \"3\", \"5\", \"8\", \"11\", \"14\", \"17\", \"20\", \"23\", \"25\", \"26\", \"28\", \"29\", \"30\", \"32\", \"33\", \"36\"], \"mode\": \"lines\", \"name\": \"balanced_accuracy_max\", \"stepped\": true, \"type\": \"scatter\", \"data\": [0.9102141765817144, 0.9102141765817144, 0.9102141765817144, 0.9102141765817144, 0.9102141765817144, 0.9102141765817144, 0.9102141765817144, 0.9102141765817144, 0.9102141765817144, 0.9102141765817144, 0.9102141765817144, 0.9102141765817144, 0.9102141765817144, 0.9102141765817144, 0.9102141765817144, 0.9102141765817144, 0.9102141765817144, 0.9171365510467552]}], \"average_precision_score_macro\": [{\"categories\": [\"0\", \"1\", \"3\", \"5\", \"8\", \"11\", \"14\", \"17\", \"20\", \"23\", \"25\", \"26\", \"28\", \"29\", \"30\", \"32\", \"33\", \"36\"], \"mode\": \"markers\", \"name\": \"average_precision_score_macro\", \"stepped\": false, \"type\": \"scatter\", \"data\": [0.966859192293754, 0.965596889139111, 0.8727334251524708, 0.9365510700981696, 0.6662203279384232, 0.8122844928586669, 0.9412911021371072, 0.8691569039339675, 0.876583474613647, 0.9104933913952741, 0.8916139680714791, 0.9491490585095125, 0.7603453241286693, 0.8850132347773623, 0.6639133780267782, 0.9409140326332678, 0.9373815275084026, 0.9717927649751124]}, {\"categories\": [\"0\", \"1\", \"3\", \"5\", \"8\", \"11\", \"14\", \"17\", \"20\", \"23\", \"25\", \"26\", \"28\", \"29\", \"30\", \"32\", \"33\", \"36\"], \"mode\": \"lines\", \"name\": \"average_precision_score_macro_max\", \"stepped\": true, \"type\": \"scatter\", \"data\": [0.966859192293754, 0.966859192293754, 0.966859192293754, 0.966859192293754, 0.966859192293754, 0.966859192293754, 0.966859192293754, 0.966859192293754, 0.966859192293754, 0.966859192293754, 0.966859192293754, 0.966859192293754, 0.966859192293754, 0.966859192293754, 0.966859192293754, 0.966859192293754, 0.966859192293754, 0.9717927649751124]}]}, \"metricName\": null, \"primaryMetricName\": \"accuracy\", \"showLegend\": false}, \"run_metrics\": [{\"name\": \"experiment_status\", \"run_id\": \"AutoML_a772be5d-e991-4976-b0af-c6a054c14d46\", \"categories\": [0, 1, 2, 3, 4, 5, 6, 7, 8, 9, 10, 11, 12, 13, 14], \"series\": [{\"data\": [\"DatasetEvaluation\", \"FeaturesGeneration\", \"DatasetFeaturization\", \"DatasetFeaturizationCompleted\", \"DatasetBalancing\", \"DatasetCrossValidationSplit\", \"ModelSelection\", \"BestRunExplainModel\", \"ModelExplanationDataSetSetup\", \"PickSurrogateModel\", \"EngineeredFeatureExplanations\", \"EngineeredFeatureExplanations\", \"RawFeaturesExplanations\", \"RawFeaturesExplanations\", \"BestRunExplainModel\"]}]}, {\"name\": \"experiment_status_description\", \"run_id\": \"AutoML_a772be5d-e991-4976-b0af-c6a054c14d46\", \"categories\": [0, 1, 2, 3, 4, 5, 6, 7, 8, 9, 10, 11, 12, 13, 14], \"series\": [{\"data\": [\"Gathering dataset statistics.\", \"Generating features for the dataset.\", \"Beginning to fit featurizers and featurize the dataset.\", \"Completed fit featurizers and featurizing the dataset.\", \"Performing class balancing sweeping\", \"Generating individually featurized CV splits.\", \"Beginning model selection.\", \"Best run model explanations started\", \"Model explanations data setup completed\", \"Choosing LightGBM as the surrogate model for explanations\", \"Computation of engineered features started\", \"Computation of engineered features completed\", \"Computation of raw features started\", \"Computation of raw features completed\", \"Best run model explanations completed\"]}]}, {\"name\": \"recall_score_micro\", \"run_id\": \"AutoML_a772be5d-e991-4976-b0af-c6a054c14d46\", \"categories\": [0], \"series\": [{\"data\": [0.962857142857143]}]}, {\"name\": \"recall_score_weighted\", \"run_id\": \"AutoML_a772be5d-e991-4976-b0af-c6a054c14d46\", \"categories\": [0], \"series\": [{\"data\": [0.962857142857143]}]}, {\"name\": \"precision_score_weighted\", \"run_id\": \"AutoML_a772be5d-e991-4976-b0af-c6a054c14d46\", \"categories\": [0], \"series\": [{\"data\": [0.9625411481709634]}]}, {\"name\": \"norm_macro_recall\", \"run_id\": \"AutoML_a772be5d-e991-4976-b0af-c6a054c14d46\", \"categories\": [0], \"series\": [{\"data\": [0.8342731020935105]}]}, {\"name\": \"AUC_macro\", \"run_id\": \"AutoML_a772be5d-e991-4976-b0af-c6a054c14d46\", \"categories\": [0], \"series\": [{\"data\": [0.987726486086124]}]}, {\"name\": \"AUC_micro\", \"run_id\": \"AutoML_a772be5d-e991-4976-b0af-c6a054c14d46\", \"categories\": [0], \"series\": [{\"data\": [0.9935670445956161]}]}, {\"name\": \"average_precision_score_micro\", \"run_id\": \"AutoML_a772be5d-e991-4976-b0af-c6a054c14d46\", \"categories\": [0], \"series\": [{\"data\": [0.9937115177172186]}]}, {\"name\": \"log_loss\", \"run_id\": \"AutoML_a772be5d-e991-4976-b0af-c6a054c14d46\", \"categories\": [0], \"series\": [{\"data\": [0.10688297026308387]}]}, {\"name\": \"weighted_accuracy\", \"run_id\": \"AutoML_a772be5d-e991-4976-b0af-c6a054c14d46\", \"categories\": [0], \"series\": [{\"data\": [0.9793305208120638]}]}, {\"name\": \"accuracy\", \"run_id\": \"AutoML_a772be5d-e991-4976-b0af-c6a054c14d46\", \"categories\": [0], \"series\": [{\"data\": [0.962857142857143]}]}, {\"name\": \"average_precision_score_weighted\", \"run_id\": \"AutoML_a772be5d-e991-4976-b0af-c6a054c14d46\", \"categories\": [0], \"series\": [{\"data\": [0.9895039368258377]}]}, {\"name\": \"average_precision_score_macro\", \"run_id\": \"AutoML_a772be5d-e991-4976-b0af-c6a054c14d46\", \"categories\": [0], \"series\": [{\"data\": [0.9717927649751124]}]}, {\"name\": \"f1_score_macro\", \"run_id\": \"AutoML_a772be5d-e991-4976-b0af-c6a054c14d46\", \"categories\": [0], \"series\": [{\"data\": [0.9278213589758798]}]}, {\"name\": \"AUC_weighted\", \"run_id\": \"AutoML_a772be5d-e991-4976-b0af-c6a054c14d46\", \"categories\": [0], \"series\": [{\"data\": [0.9877264860861241]}]}, {\"name\": \"precision_score_macro\", \"run_id\": \"AutoML_a772be5d-e991-4976-b0af-c6a054c14d46\", \"categories\": [0], \"series\": [{\"data\": [0.940637090868449]}]}, {\"name\": \"matthews_correlation\", \"run_id\": \"AutoML_a772be5d-e991-4976-b0af-c6a054c14d46\", \"categories\": [0], \"series\": [{\"data\": [0.8570891249296496]}]}, {\"name\": \"f1_score_weighted\", \"run_id\": \"AutoML_a772be5d-e991-4976-b0af-c6a054c14d46\", \"categories\": [0], \"series\": [{\"data\": [0.9623146832528607]}]}, {\"name\": \"balanced_accuracy\", \"run_id\": \"AutoML_a772be5d-e991-4976-b0af-c6a054c14d46\", \"categories\": [0], \"series\": [{\"data\": [0.9171365510467552]}]}, {\"name\": \"f1_score_micro\", \"run_id\": \"AutoML_a772be5d-e991-4976-b0af-c6a054c14d46\", \"categories\": [0], \"series\": [{\"data\": [0.962857142857143]}]}, {\"name\": \"precision_score_micro\", \"run_id\": \"AutoML_a772be5d-e991-4976-b0af-c6a054c14d46\", \"categories\": [0], \"series\": [{\"data\": [0.962857142857143]}]}, {\"name\": \"recall_score_macro\", \"run_id\": \"AutoML_a772be5d-e991-4976-b0af-c6a054c14d46\", \"categories\": [0], \"series\": [{\"data\": [0.9171365510467552]}]}], \"run_logs\": \"\\nRun is completed.\", \"graph\": {}, \"widget_settings\": {\"childWidgetDisplay\": \"popup\", \"send_telemetry\": false, \"log_level\": \"INFO\", \"sdk_version\": \"1.47.0\"}, \"loading\": false}"
          },
          "metadata": {}
        },
        {
          "output_type": "display_data",
          "data": {
            "text/plain": "<IPython.core.display.HTML object>",
            "text/html": "<table style=\"width:100%\"><tr><th>Experiment</th><th>Id</th><th>Type</th><th>Status</th><th>Details Page</th><th>Docs Page</th></tr><tr><td>automl_maternal_health_experiment</td><td>AutoML_a772be5d-e991-4976-b0af-c6a054c14d46</td><td>automl</td><td>Completed</td><td><a href=\"https://ml.azure.com/runs/AutoML_a772be5d-e991-4976-b0af-c6a054c14d46?wsid=/subscriptions/d4ad7261-832d-46b2-b093-22156001df5b/resourcegroups/aml-quickstarts-223596/workspaces/quick-starts-ws-223596&amp;tid=660b3398-b80e-49d2-bc5b-ac1dc93b5254\" target=\"_blank\" rel=\"noopener\">Link to Azure Machine Learning studio</a></td><td><a href=\"https://docs.microsoft.com/en-us/python/api/overview/azure/ml/intro?view=azure-ml-py\" target=\"_blank\" rel=\"noopener\">Link to Documentation</a></td></tr></table>"
          },
          "metadata": {}
        },
        {
          "output_type": "stream",
          "name": "stdout",
          "text": "\n\n********************************************************************************************\nDATA GUARDRAILS: \n\nTYPE:         Cross validation\nSTATUS:       DONE\nDESCRIPTION:  In order to accurately evaluate the model(s) trained by AutoML, we leverage a dataset that the model is not trained on. Hence, if the user doesn't provide an explicit validation dataset, a part of the training dataset is used to achieve this. For smaller datasets (fewer than 20,000 samples), cross-validation is leveraged, else a single hold-out set is split from the training data to serve as the validation dataset. Hence, for your input data we leverage cross-validation with 10 folds, if the number of training samples are fewer than 1000, and 3 folds in all other cases.\n              Learn more about cross validation: https://aka.ms/AutomatedMLCrossValidation\nDETAILS:      \n+------------------------------+\n|Number of folds               |\n+==============================+\n|3                             |\n+------------------------------+\n\n********************************************************************************************\n\nTYPE:         Class balancing detection\nSTATUS:       ALERTED\nDESCRIPTION:  To decrease model bias, please cancel the current run and fix balancing problem.\n              Learn more about imbalanced data: https://aka.ms/AutomatedMLImbalancedData\nDETAILS:      Imbalanced data can lead to a falsely perceived positive effect of a model's accuracy because the input data has bias towards one class.\n+------------------------------+--------------------------------+--------------------------------------+\n|Size of the smallest class    |Name/Label of the smallest class|Number of samples in the training data|\n+==============================+================================+======================================+\n|495                           |1.0                             |3150                                  |\n+------------------------------+--------------------------------+--------------------------------------+\n\n********************************************************************************************\n\nTYPE:         Missing feature values imputation\nSTATUS:       PASSED\nDESCRIPTION:  No feature missing values were detected in the training data.\n              Learn more about missing value imputation: https://aka.ms/AutomatedMLFeaturization\n\n********************************************************************************************\n\nTYPE:         High cardinality feature detection\nSTATUS:       PASSED\nDESCRIPTION:  Your inputs were analyzed, and no high cardinality features were detected.\n              Learn more about high cardinality feature handling: https://aka.ms/AutomatedMLFeaturization\n\n********************************************************************************************\n\n********************************************************************************************\nITER: The iteration being evaluated.\nPIPELINE: A summary description of the pipeline being evaluated.\nDURATION: Time taken for the current iteration.\nMETRIC: The result of computing score on the fitted pipeline.\nBEST: The best observed score thus far.\n********************************************************************************************\n\n ITER   PIPELINE                                       DURATION            METRIC      BEST\n    0   MaxAbsScaler LightGBM                          0:00:10             0.9581    0.9581\n    1   MaxAbsScaler XGBoostClassifier                 0:00:12             0.9565    0.9581\n    2   MaxAbsScaler ExtremeRandomTrees                0:00:10             0.8486    0.9581\n    3   SparseNormalizer XGBoostClassifier             0:00:09             0.9010    0.9581\n    4   StandardScalerWrapper KNN                      0:00:09             0.8238    0.9581\n    5   MaxAbsScaler LightGBM                          0:00:09             0.9321    0.9581\n    6   RobustScaler LogisticRegression                0:00:08             0.8467    0.9581\n    7   MaxAbsScaler LightGBM                          0:00:09             0.8778    0.9581\n   10   StandardScalerWrapper XGBoostClassifier        0:00:10             0.9486    0.9581\n   11   MinMaxScaler RandomForest                      0:00:16             0.7975    0.9581\n    8   StandardScalerWrapper KNN                      0:00:10             0.8314    0.9581\n    9   StandardScalerWrapper SVM                      0:00:18             0.9508    0.9581\n   12   StandardScalerWrapper LogisticRegression       0:00:10             0.7146    0.9581\n   13   StandardScalerWrapper KNN                      0:00:09             0.9260    0.9581\n   14   RobustScaler KNN                               0:00:10             0.9476    0.9581\n   15   MinMaxScaler KNN                               0:00:14             0.9416    0.9581\n   16   SparseNormalizer KNN                           0:00:13             0.8530    0.9581\n   17   MaxAbsScaler LogisticRegression                0:00:15             0.8933    0.9581\n   18   StandardScalerWrapper XGBoostClassifier        0:00:09             0.9422    0.9581\n   19   StandardScalerWrapper XGBoostClassifier        0:00:08             0.9400    0.9581\n   20   MaxAbsScaler LogisticRegression                0:00:30             0.8940    0.9581\n   21   StandardScalerWrapper XGBoostClassifier        0:00:25             0.9432    0.9581\n   22   SparseNormalizer RandomForest                  0:00:32             0.8686    0.9581\n   23   StandardScalerWrapper RandomForest             0:00:27             0.9076    0.9581\n   24   StandardScalerWrapper XGBoostClassifier        0:00:26             0.9460    0.9581\n   25   MinMaxScaler LightGBM                          0:00:26             0.8952    0.9581\n   26   RobustScaler LightGBM                          0:00:26             0.9413    0.9581\n   27   MaxAbsScaler LightGBM                          0:00:24             0.9219    0.9581\n   28   StandardScalerWrapper LightGBM                 0:00:26             0.8537    0.9581\n   29   MinMaxScaler LightGBM                          0:00:27             0.9108    0.9581\n   30   TruncatedSVDWrapper LightGBM                   0:00:28             0.8378    0.9581\n   31   RobustScaler LightGBM                          0:00:30             0.8851    0.9581\n   32   SparseNormalizer XGBoostClassifier             0:00:26             0.9333    0.9581\n   33   SparseNormalizer XGBoostClassifier             0:00:29             0.9317    0.9581\n   34                                                  0:00:00                nan    0.9581\n   35                                                  0:00:00                nan    0.9581\n   36    VotingEnsemble                                0:01:49             0.9629    0.9629\n   37    StackEnsemble                                 0:01:53             0.9616    0.9629\n"
        },
        {
          "output_type": "execute_result",
          "execution_count": 14,
          "data": {
            "text/plain": "{'runId': 'AutoML_a772be5d-e991-4976-b0af-c6a054c14d46',\n 'target': 'cluster-yum',\n 'status': 'Completed',\n 'startTimeUtc': '2023-01-26T21:52:30.598407Z',\n 'endTimeUtc': '2023-01-26T22:03:07.503483Z',\n 'services': {},\n 'warnings': [{'source': 'JasmineService',\n   'message': 'No scores improved over last 10 iterations, so experiment stopped early. This early stopping behavior can be disabled by setting enable_early_stopping = False in AutoMLConfig for notebook/python SDK runs.'}],\n 'properties': {'num_iterations': '1000',\n  'training_type': 'TrainFull',\n  'acquisition_function': 'EI',\n  'primary_metric': 'accuracy',\n  'train_split': '0',\n  'acquisition_parameter': '0',\n  'num_cross_validation': None,\n  'target': 'cluster-yum',\n  'AMLSettingsJsonString': '{\"path\":null,\"name\":\"automl_maternal_health_experiment\",\"subscription_id\":\"d4ad7261-832d-46b2-b093-22156001df5b\",\"resource_group\":\"aml-quickstarts-223596\",\"workspace_name\":\"quick-starts-ws-223596\",\"region\":\"southcentralus\",\"compute_target\":\"cluster-yum\",\"spark_service\":null,\"azure_service\":\"remote\",\"many_models\":false,\"pipeline_fetch_max_batch_size\":1,\"enable_batch_run\":true,\"enable_parallel_run\":false,\"num_procs\":null,\"enable_run_restructure\":false,\"start_auxiliary_runs_before_parent_complete\":false,\"enable_code_generation\":true,\"iterations\":1000,\"primary_metric\":\"accuracy\",\"task_type\":\"classification\",\"positive_label\":null,\"data_script\":null,\"test_size\":0.0,\"test_include_predictions_only\":false,\"validation_size\":0.0,\"n_cross_validations\":null,\"y_min\":null,\"y_max\":null,\"num_classes\":null,\"featurization\":\"auto\",\"_ignore_package_version_incompatibilities\":false,\"is_timeseries\":false,\"max_cores_per_iteration\":1,\"max_concurrent_iterations\":4,\"iteration_timeout_minutes\":null,\"mem_in_mb\":null,\"enforce_time_on_windows\":false,\"experiment_timeout_minutes\":30,\"experiment_exit_score\":null,\"partition_column_names\":null,\"whitelist_models\":null,\"blacklist_algos\":[\"TensorFlowLinearClassifier\",\"TensorFlowDNN\"],\"supported_models\":[\"ExtremeRandomTrees\",\"TensorFlowLinearClassifier\",\"TabnetClassifier\",\"LightGBM\",\"SVM\",\"BernoulliNaiveBayes\",\"SGD\",\"LinearSVM\",\"GradientBoosting\",\"LogisticRegression\",\"RandomForest\",\"MultinomialNaiveBayes\",\"AveragedPerceptronClassifier\",\"TensorFlowDNN\",\"DecisionTree\",\"XGBoostClassifier\",\"KNN\"],\"private_models\":[],\"auto_blacklist\":true,\"blacklist_samples_reached\":false,\"exclude_nan_labels\":true,\"verbosity\":20,\"_debug_log\":\"azureml_automl.log\",\"show_warnings\":false,\"model_explainability\":true,\"service_url\":null,\"sdk_url\":null,\"sdk_packages\":null,\"enable_onnx_compatible_models\":false,\"enable_split_onnx_featurizer_estimator_models\":false,\"vm_type\":\"STANDARD_D2_V2\",\"telemetry_verbosity\":20,\"send_telemetry\":true,\"enable_dnn\":false,\"scenario\":\"AutoML\",\"environment_label\":null,\"save_mlflow\":false,\"enable_categorical_indicators\":false,\"force_text_dnn\":false,\"enable_feature_sweeping\":true,\"enable_early_stopping\":true,\"early_stopping_n_iters\":10,\"arguments\":null,\"dataset_id\":\"0632e8bb-979f-4deb-af23-04ab012fc328\",\"hyperdrive_config\":null,\"validation_dataset_id\":null,\"run_source\":null,\"metrics\":null,\"enable_metric_confidence\":false,\"enable_ensembling\":true,\"enable_stack_ensembling\":true,\"ensemble_iterations\":15,\"enable_tf\":false,\"enable_subsampling\":null,\"subsample_seed\":null,\"enable_nimbusml\":false,\"enable_streaming\":false,\"force_streaming\":false,\"track_child_runs\":true,\"n_best_runs\":1,\"allowed_private_models\":[],\"label_column_name\":\"Churn\",\"weight_column_name\":null,\"cv_split_column_names\":null,\"enable_local_managed\":false,\"_local_managed_run_id\":null,\"cost_mode\":1,\"lag_length\":0,\"metric_operation\":\"maximize\",\"preprocess\":true}',\n  'DataPrepJsonString': '{\\\\\"training_data\\\\\": {\\\\\"datasetId\\\\\": \\\\\"0632e8bb-979f-4deb-af23-04ab012fc328\\\\\"}, \\\\\"datasets\\\\\": 0}',\n  'EnableSubsampling': None,\n  'runTemplate': 'AutoML',\n  'azureml.runsource': 'automl',\n  'display_task_type': 'classification',\n  'dependencies_versions': '{\"azureml-widgets\": \"1.47.0\", \"azureml-training-tabular\": \"1.47.0\", \"azureml-train\": \"1.47.0\", \"azureml-train-restclients-hyperdrive\": \"1.47.0\", \"azureml-train-core\": \"1.47.0\", \"azureml-train-automl\": \"1.47.0\", \"azureml-train-automl-runtime\": \"1.47.0\", \"azureml-train-automl-client\": \"1.47.0\", \"azureml-tensorboard\": \"1.47.0\", \"azureml-telemetry\": \"1.47.0\", \"azureml-sdk\": \"1.47.0\", \"azureml-samples\": \"0+unknown\", \"azureml-responsibleai\": \"1.47.0\", \"azureml-pipeline\": \"1.47.0\", \"azureml-pipeline-steps\": \"1.47.0\", \"azureml-pipeline-core\": \"1.47.0\", \"azureml-opendatasets\": \"1.47.0\", \"azureml-mlflow\": \"1.47.0\", \"azureml-interpret\": \"1.47.0\", \"azureml-inference-server-http\": \"0.7.6\", \"azureml-explain-model\": \"1.47.0\", \"azureml-defaults\": \"1.47.0\", \"azureml-dataset-runtime\": \"1.47.0\", \"azureml-dataprep\": \"4.5.7\", \"azureml-dataprep-rslex\": \"2.11.4\", \"azureml-dataprep-native\": \"38.0.0\", \"azureml-datadrift\": \"1.47.0\", \"azureml-core\": \"1.47.0\", \"azureml-contrib-services\": \"1.47.0\", \"azureml-contrib-server\": \"1.47.0\", \"azureml-contrib-reinforcementlearning\": \"1.47.0\", \"azureml-contrib-pipeline-steps\": \"1.47.0\", \"azureml-contrib-notebook\": \"1.47.0\", \"azureml-contrib-fairness\": \"1.47.0\", \"azureml-contrib-dataset\": \"1.47.0\", \"azureml-contrib-automl-pipeline-steps\": \"1.47.0\", \"azureml-cli-common\": \"1.47.0\", \"azureml-automl-runtime\": \"1.47.0\", \"azureml-automl-dnn-nlp\": \"1.47.0\", \"azureml-automl-core\": \"1.47.0\", \"azureml-accel-models\": \"1.47.0\"}',\n  '_aml_system_scenario_identification': 'Remote.Parent',\n  'ClientType': 'SDK',\n  'environment_cpu_name': 'AzureML-AutoML',\n  'environment_cpu_label': 'prod',\n  'environment_gpu_name': 'AzureML-AutoML-GPU',\n  'environment_gpu_label': 'prod',\n  'root_attribution': 'automl',\n  'attribution': 'AutoML',\n  'Orchestrator': 'AutoML',\n  'CancelUri': 'https://southcentralus.api.azureml.ms/jasmine/v1.0/subscriptions/d4ad7261-832d-46b2-b093-22156001df5b/resourceGroups/aml-quickstarts-223596/providers/Microsoft.MachineLearningServices/workspaces/quick-starts-ws-223596/experimentids/0e29e9d0-614f-4175-b79e-ffbde8d43cd9/cancel/AutoML_a772be5d-e991-4976-b0af-c6a054c14d46',\n  'ClientSdkVersion': '1.48.0.post1',\n  'snapshotId': '00000000-0000-0000-0000-000000000000',\n  'SetupRunId': 'AutoML_a772be5d-e991-4976-b0af-c6a054c14d46_setup',\n  'SetupRunContainerId': 'dcid.AutoML_a772be5d-e991-4976-b0af-c6a054c14d46_setup',\n  'FeaturizationRunJsonPath': 'featurizer_container.json',\n  'FeaturizationRunId': 'AutoML_a772be5d-e991-4976-b0af-c6a054c14d46_featurize',\n  'ProblemInfoJsonString': '{\"dataset_num_categorical\": 0, \"is_sparse\": false, \"subsampling\": false, \"has_extra_col\": true, \"dataset_classes\": 2, \"dataset_features\": 13, \"dataset_samples\": 3150, \"single_frequency_class_detected\": false}',\n  'ModelExplainRunId': 'AutoML_a772be5d-e991-4976-b0af-c6a054c14d46_ModelExplain'},\n 'inputDatasets': [{'dataset': {'id': '0632e8bb-979f-4deb-af23-04ab012fc328'}, 'consumptionDetails': {'type': 'RunInput', 'inputName': 'training_data', 'mechanism': 'Direct'}}],\n 'outputDatasets': [{'identifier': {'savedId': '80a2b60f-16c2-43ba-a915-34b7328e1f16'},\n   'outputType': 'RunOutput',\n   'outputDetails': {'outputName': 'full_training_dataset'},\n   'dataset': {\n     \"source\": [\n       \"('workspaceartifactstore', 'ExperimentRun/dcid.AutoML_a772be5d-e991-4976-b0af-c6a054c14d46/outputs/featurization/data/full_training_dataset.df.parquet')\"\n     ],\n     \"definition\": [\n       \"GetDatastoreFiles\",\n       \"ReadParquetFile\",\n       \"DropColumns\"\n     ],\n     \"registration\": {\n       \"id\": \"80a2b60f-16c2-43ba-a915-34b7328e1f16\",\n       \"name\": null,\n       \"version\": null,\n       \"workspace\": \"Workspace.create(name='quick-starts-ws-223596', subscription_id='d4ad7261-832d-46b2-b093-22156001df5b', resource_group='aml-quickstarts-223596')\"\n     }\n   }}],\n 'logFiles': {},\n 'submittedBy': 'ODL_User 223596'}"
          },
          "metadata": {}
        }
      ],
      "execution_count": 14,
      "metadata": {
        "gather": {
          "logged": 1674770854290
        },
        "jupyter": {
          "outputs_hidden": false,
          "source_hidden": false
        },
        "nteract": {
          "transient": {
            "deleting": false
          }
        }
      }
    },
    {
      "cell_type": "markdown",
      "source": [
        "## Best Model\n",
        "\n",
        "In the cell below, get the best model from the automl experiments and display all the properties of the model."
      ],
      "metadata": {}
    },
    {
      "cell_type": "code",
      "source": [
        "best_run, fitted_model = run.get_output()"
      ],
      "outputs": [
        {
          "output_type": "stream",
          "name": "stderr",
          "text": "WARNING:root:The version of the SDK does not match the version the model was trained on.\nWARNING:root:The consistency in the result may not be guaranteed.\nWARNING:root:Package:azureml-automl-core, training version:1.48.0, current version:1.47.0\nPackage:azureml-automl-runtime, training version:1.48.0.post1, current version:1.47.0\nPackage:azureml-core, training version:1.48.0, current version:1.47.0\nPackage:azureml-dataprep, training version:4.8.3, current version:4.5.7\nPackage:azureml-dataprep-rslex, training version:2.15.1, current version:2.11.4\nPackage:azureml-dataset-runtime, training version:1.48.0, current version:1.47.0\nPackage:azureml-defaults, training version:1.48.0, current version:1.47.0\nPackage:azureml-interpret, training version:1.48.0, current version:1.47.0\nPackage:azureml-mlflow, training version:1.48.0, current version:1.47.0\nPackage:azureml-pipeline-core, training version:1.48.0, current version:1.47.0\nPackage:azureml-responsibleai, training version:1.48.0, current version:1.47.0\nPackage:azureml-telemetry, training version:1.48.0, current version:1.47.0\nPackage:azureml-train-automl-client, training version:1.48.0, current version:1.47.0\nPackage:azureml-train-automl-runtime, training version:1.48.0.post1, current version:1.47.0\nPackage:azureml-train-core, training version:1.48.0, current version:1.47.0\nPackage:azureml-train-restclients-hyperdrive, training version:1.48.0, current version:1.47.0\nPackage:azureml-training-tabular, training version:1.48.0, current version:1.47.0\nWARNING:root:Please ensure the version of your local conda dependencies match the version on which your model was trained in order to properly retrieve your model.\n"
        }
      ],
      "execution_count": 15,
      "metadata": {
        "jupyter": {
          "source_hidden": false,
          "outputs_hidden": false
        },
        "nteract": {
          "transient": {
            "deleting": false
          }
        },
        "gather": {
          "logged": 1674771408261
        }
      }
    },
    {
      "cell_type": "code",
      "source": [
        "# Save the best model\n",
        "# best_run.register_model(model_name = 'automl-best-model-yum.pkl',model_path = './outputs/')\n",
        "joblib.dump(fitted_model, filename=\"auto_model.joblib\")"
      ],
      "outputs": [
        {
          "output_type": "execute_result",
          "execution_count": 16,
          "data": {
            "text/plain": "['auto_model.joblib']"
          },
          "metadata": {}
        }
      ],
      "execution_count": 16,
      "metadata": {
        "gather": {
          "logged": 1674771413005
        },
        "jupyter": {
          "outputs_hidden": false,
          "source_hidden": false
        },
        "nteract": {
          "transient": {
            "deleting": false
          }
        }
      }
    },
    {
      "cell_type": "code",
      "source": [
        "# best_run.get_file_names()\n",
        "# # Download the yaml file that includes the environment dependencies\n",
        "# best_run.download_file('outputs/conda_env_v_1_0_0.yml', 'env.yml')\n",
        "# # Download the model file\n",
        "# best_run.download_file('outputs/model.pkl', 'Automl_model.pkl')\n",
        "\n",
        "model_name = best_run.properties['model_name']\n",
        "model_name"
      ],
      "outputs": [
        {
          "output_type": "execute_result",
          "execution_count": 17,
          "data": {
            "text/plain": "'AutoMLa772be5de36'"
          },
          "metadata": {}
        }
      ],
      "execution_count": 17,
      "metadata": {
        "gather": {
          "logged": 1674771419046
        }
      }
    },
    {
      "cell_type": "markdown",
      "source": [
        "## Model Deployment\n",
        "\n",
        "Remember you have to deploy only one of the two models you trained but you still need to register both the models. Perform the steps in the rest of this notebook only if you wish to deploy this model.\n",
        "\n",
        "In the cell below, register the model, create an inference config and deploy the model as a web service."
      ],
      "metadata": {}
    },
    {
      "cell_type": "code",
      "source": [
        "environment = best_run.get_environment().save_to_directory(path='environment')\n",
        "entry_script='inference/scoring.py'\n",
        "best_run.download_file('outputs/scoring_file_v_1_0_0.py', entry_script)\n",
        "\n",
        "model = run.register_model(model_name=model_name)\n",
        "\n",
        "inference_config = InferenceConfig(entry_script = entry_script, environment = environment)\n",
        "\n",
        "deployment_config = AciWebservice.deploy_configuration(cpu_cores = 1, \n",
        "                                                    memory_gb = 1)\n",
        "\n",
        "service = Model.deploy(ws, \"churnservice\", [model], inference_config, deployment_config)\n",
        "service.wait_for_deployment(show_output = True)"
      ],
      "outputs": [
        {
          "output_type": "stream",
          "name": "stdout",
          "text": "Tips: You can try get_logs(): https://aka.ms/debugimage#dockerlog or local deployment: https://aka.ms/debugimage#debug-locally to debug if deployment takes longer than 10 minutes.\nRunning\n2023-01-26 22:17:11+00:00 Creating Container Registry if not exists.\n2023-01-26 22:17:13+00:00 Generating deployment configuration.\n2023-01-26 22:17:14+00:00 Submitting deployment to compute.\n2023-01-26 22:17:18+00:00 Checking the status of deployment churnservice..\n2023-01-26 22:21:25+00:00 Checking the status of inference endpoint churnservice.\nSucceeded\nACI service creation operation finished, operation \"Succeeded\"\n"
        }
      ],
      "execution_count": 18,
      "metadata": {
        "gather": {
          "logged": 1674771733778
        },
        "jupyter": {
          "outputs_hidden": false,
          "source_hidden": false
        },
        "nteract": {
          "transient": {
            "deleting": false
          }
        }
      }
    },
    {
      "cell_type": "code",
      "source": [
        "# Getting the service state\n",
        "# The scorig URI & the primary authentication key are copied to the endpoint.py file in order to test the deployed service.\n",
        "# The Swagger URI can be used in Swagger UI: https://petstore.swagger.io/ For more info, please see the relevant part in the README file.\n",
        "\n",
        "# # Authentication is enabled, so I use the get_keys method to retrieve the primary and secondary authentication keys:\n",
        "# primary, secondary = service.get_keys()\n",
        "\n",
        "print('Service state: ' + service.state)\n",
        "print('Service scoring URI: ' + service.scoring_uri)\n",
        "print('Service Swagger URI: ' + service.swagger_uri)\n"
      ],
      "outputs": [
        {
          "output_type": "stream",
          "name": "stdout",
          "text": "Service state: Healthy\nService scoring URI: http://05653210-0151-4d4c-9f09-01832b360570.southcentralus.azurecontainer.io/score\nService Swagger URI: http://05653210-0151-4d4c-9f09-01832b360570.southcentralus.azurecontainer.io/swagger.json\n"
        }
      ],
      "execution_count": 20,
      "metadata": {
        "gather": {
          "logged": 1674771788148
        }
      }
    },
    {
      "cell_type": "markdown",
      "source": [
        "In the cell below, send a request to the web service you deployed to test it."
      ],
      "metadata": {
        "collapsed": true,
        "gather": {
          "logged": 1598431657736
        },
        "jupyter": {
          "outputs_hidden": false,
          "source_hidden": false
        },
        "nteract": {
          "transient": {
            "deleting": false
          }
        }
      }
    },
    {
      "cell_type": "code",
      "source": [
        "import requests\n",
        "import json\n",
        "\n",
        "data = {\"data\":\n",
        "        [{\"Anonymous Customer ID\": 1.0, \"Call  Failure\": 8, \"Complains\": 0,  \"Subscription  Length\": 38, \"Charge  Amount\": 0, \"Seconds of Use\": 4370, \"Frequency of use\": 71, \"Frequency of SMS\": 5, \"Distinct Called Numbers\": 17,  \"Age Group\": 3, \"Tariff Plan\": 1, \"Status\": 1,  \"Customer Value\": 132.6}      \n",
        "      ]\n",
        "    }\n",
        "# Convert to JSON string\n",
        "input_data = json.dumps(data)\n",
        "input_data\n",
        "# Set the content type\n",
        "headers = {'Content-Type': 'application/json'}\n",
        "\n",
        "# Make the request and display the response\n",
        "resp = requests.post(service.scoring_uri, input_data, headers=headers)\n",
        "print(resp.json())"
      ],
      "outputs": [
        {
          "output_type": "stream",
          "name": "stdout",
          "text": "{\"result\": [0.0]}\n"
        }
      ],
      "execution_count": 27,
      "metadata": {
        "gather": {
          "logged": 1674772145891
        },
        "jupyter": {
          "outputs_hidden": false,
          "source_hidden": false
        },
        "nteract": {
          "transient": {
            "deleting": false
          }
        }
      }
    },
    {
      "cell_type": "markdown",
      "source": [
        "TODO: In the cell below, print the logs of the web service and delete the service"
      ],
      "metadata": {
        "collapsed": true,
        "gather": {
          "logged": 1598432765711
        },
        "jupyter": {
          "outputs_hidden": false,
          "source_hidden": false
        },
        "nteract": {
          "transient": {
            "deleting": false
          }
        }
      }
    },
    {
      "cell_type": "code",
      "source": [
        "# Printing the logs\n",
        "print(service.get_logs())"
      ],
      "outputs": [
        {
          "output_type": "stream",
          "name": "stdout",
          "text": "2023-01-26T22:21:12,991932815+00:00 - iot-server/run \n2023-01-26T22:21:12,992822915+00:00 - rsyslog/run \n2023-01-26T22:21:12,996354615+00:00 - gunicorn/run \n2023-01-26T22:21:13,002108015+00:00 | gunicorn/run | \n2023-01-26T22:21:13,006818515+00:00 | gunicorn/run | ###############################################\n2023-01-26T22:21:13,016402015+00:00 | gunicorn/run | AzureML Container Runtime Information\n2023-01-26T22:21:13,025316115+00:00 | gunicorn/run | ###############################################\n2023-01-26T22:21:13,026870515+00:00 | gunicorn/run | \n2023-01-26T22:21:13,028548015+00:00 | gunicorn/run | \n2023-01-26T22:21:13,105965215+00:00 | gunicorn/run | AzureML image information: openmpi3.1.2-ubuntu18.04, Materializaton Build:20230103.v4\n2023-01-26T22:21:13,109076215+00:00 | gunicorn/run | \n2023-01-26T22:21:13,115448215+00:00 | gunicorn/run | \n2023-01-26T22:21:13,117070815+00:00 | gunicorn/run | PATH environment variable: /azureml-envs/azureml_cc96bffb210e59c36dafe3fe23d9a95e/bin:/opt/miniconda/bin:/usr/local/sbin:/usr/local/bin:/usr/sbin:/usr/bin:/sbin:/bin\n2023-01-26T22:21:13,124082015+00:00 | gunicorn/run | PYTHONPATH environment variable: \n2023-01-26T22:21:13,125763515+00:00 | gunicorn/run | \n2023-01-26T22:21:13,127551315+00:00 | gunicorn/run | Pip Dependencies (before dynamic installation)\n\n2023-01-26T22:21:13,341214315+00:00 - nginx/run \nEdgeHubConnectionString and IOTEDGE_IOTHUBHOSTNAME are not set. Exiting...\n2023-01-26T22:21:16,733121896+00:00 - iot-server/finish 1 0\n2023-01-26T22:21:16,740477651+00:00 - Exit code 1 is normal. Not restarting iot-server.\nadal==1.2.7\napplicationinsights==0.11.10\nargcomplete==2.0.0\narviz @ file:///home/conda/feedstock_root/build_artifacts/arviz_1666645025910/work\nattrs==22.2.0\nazure-common==1.1.28\nazure-core==1.26.2\nazure-graphrbac==0.61.1\nazure-identity==1.12.0\nazure-mgmt-authorization==3.0.0\nazure-mgmt-containerregistry==10.0.0\nazure-mgmt-core==1.3.2\nazure-mgmt-keyvault==10.1.0\nazure-mgmt-resource==21.2.1\nazure-mgmt-storage==20.1.0\nazure-storage-blob==12.13.0\nazure-storage-queue==12.5.0\nazureml-automl-core==1.48.0\nazureml-automl-runtime==1.48.0.post1\nazureml-core==1.48.0\nazureml-dataprep==4.8.3\nazureml-dataprep-native==38.0.0\nazureml-dataprep-rslex==2.15.1\nazureml-dataset-runtime==1.48.0\nazureml-defaults==1.48.0\nazureml-inference-server-http==0.7.7\nazureml-interpret==1.48.0\nazureml-mlflow==1.48.0\nazureml-pipeline-core==1.48.0\nazureml-responsibleai==1.48.0\nazureml-telemetry==1.48.0\nazureml-train-automl-client==1.48.0\nazureml-train-automl-runtime==1.48.0.post1\nazureml-train-core==1.48.0\nazureml-train-restclients-hyperdrive==1.48.0\nazureml-training-tabular==1.48.0\nbackcall==0.2.0\nbackports.tempfile==1.0\nbackports.weakref==1.0.post1\nbcrypt==4.0.1\nbokeh==2.4.3\nboto==2.49.0\nboto3 @ file:///home/conda/feedstock_root/build_artifacts/boto3_1602889982367/work\nbotocore @ file:///home/conda/feedstock_root/build_artifacts/botocore_1602884371056/work\nbrotlipy @ file:///home/conda/feedstock_root/build_artifacts/brotlipy_1648854164153/work\ncachetools==5.2.1\ncertifi==2022.12.7\ncffi @ file:///home/conda/feedstock_root/build_artifacts/cffi_1625835301720/work\ncftime @ file:///home/conda/feedstock_root/build_artifacts/cftime_1663606412550/work\ncharset-normalizer==3.0.1\nclick @ file:///home/conda/feedstock_root/build_artifacts/click_1645238117885/work\ncloudpickle @ file:///home/conda/feedstock_root/build_artifacts/cloudpickle_1598400192773/work\ncolorama @ file:///home/conda/feedstock_root/build_artifacts/colorama_1666700638685/work\ncontextlib2==21.6.0\nconvertdate @ file:///home/conda/feedstock_root/build_artifacts/convertdate_1642883757836/work\ncryptography @ file:///home/conda/feedstock_root/build_artifacts/cryptography_1666563349571/work\ncycler @ file:///home/conda/feedstock_root/build_artifacts/cycler_1635519461629/work\nCython==0.29.17\ndask==2021.6.0\ndatabricks-cli==0.17.4\ndataclasses==0.6\ndebugpy==1.6.5\ndecorator==5.1.1\ndice-ml==0.9\ndill==0.3.6\ndistributed==2021.6.0\ndistro==1.8.0\ndocker==6.0.1\ndotnetcore2==3.1.23\neconml==0.14.0\nentrypoints==0.4\nephem @ file:///home/conda/feedstock_root/build_artifacts/ephem_1649637195901/work\nerroranalysis==0.3.13\nfairlearn==0.7.0\nfbprophet @ file:///home/conda/feedstock_root/build_artifacts/fbprophet_1599365534439/work\nfire==0.5.0\nFlask==2.2.2\nFlask-Cors==3.0.10\nflatbuffers==23.1.4\nfonttools @ file:///home/conda/feedstock_root/build_artifacts/fonttools_1666389892786/work\nfsspec==2022.11.0\ngensim==3.8.3\ngitdb==4.0.10\nGitPython==3.1.30\ngoogle-api-core==2.11.0\ngoogle-auth==2.16.0\ngoogleapis-common-protos==1.58.0\ngunicorn==20.1.0\nh5py==3.7.0\nHeapDict==1.0.1\nholidays @ file:///home/conda/feedstock_root/build_artifacts/holidays_1595448845196/work\nhumanfriendly==10.0\nidna @ file:///home/conda/feedstock_root/build_artifacts/idna_1663625384323/work\nimportlib-metadata @ file:///home/conda/feedstock_root/build_artifacts/importlib-metadata_1653252814274/work\nimportlib-resources==5.10.2\ninference-schema==1.5.1\ninterpret-community==0.27.0\ninterpret-core==0.2.7\nipykernel==6.6.0\nipython==7.34.0\nisodate==0.6.1\nitsdangerous==2.1.2\njedi==0.18.2\njeepney==0.8.0\nJinja2==3.1.2\njmespath @ file:///home/conda/feedstock_root/build_artifacts/jmespath_1589369830981/work\njoblib @ file:///home/conda/feedstock_root/build_artifacts/joblib_1589548394565/work\njsonpickle==2.2.0\njsonschema==4.17.3\njupyter-client==7.4.9\njupyter-core==4.12.0\nkeras2onnx==1.6.0\nkiwisolver @ file:///home/conda/feedstock_root/build_artifacts/kiwisolver_1657953088445/work\nknack==0.10.1\nkorean-lunar-calendar @ file:///home/conda/feedstock_root/build_artifacts/korean_lunar_calendar_1663341251025/work\nlightgbm==3.2.1\nllvmlite==0.38.1\nlocket==1.0.0\nLunarCalendar==0.0.9\nMarkupSafe==2.0.1\nmatplotlib @ file:///home/conda/feedstock_root/build_artifacts/matplotlib-suite_1661439848456/work\nmatplotlib-inline==0.1.6\nml-wrappers==0.2.2\nmlflow-skinny==1.30.0\nmpi4py==3.1.3\nmsal==1.20.0\nmsal-extensions==1.0.0\nmsgpack==1.0.4\nmsrest==0.7.1\nmsrestazure==0.6.4\nmunkres==1.1.4\nndg-httpsclient==0.5.1\nnest-asyncio==1.5.6\nnetCDF4 @ file:///home/conda/feedstock_root/build_artifacts/netcdf4_1663234155476/work\nnetworkx==2.5\nnimbusml==1.8.0\nnumba==0.55.2\nnumpy @ file:///home/conda/feedstock_root/build_artifacts/numpy_1649806299270/work\noauthlib==3.2.2\nonnx==1.12.0\nonnxconverter-common==1.6.0\nonnxmltools==1.4.1\nonnxruntime==1.11.1\nopencensus==0.11.0\nopencensus-context==0.1.3\nopencensus-ext-azure==1.1.7\npackaging==21.3\npandas==1.1.5\nparamiko==2.12.0\nparso==0.8.3\npartd==1.3.0\npathspec==0.10.3\npatsy==0.5.3\npexpect==4.8.0\npickleshare==0.7.5\nPillow @ file:///home/conda/feedstock_root/build_artifacts/pillow_1660385854171/work\npkginfo==1.9.6\npkgutil-resolve-name==1.3.10\npmdarima==1.7.1\nportalocker==2.6.0\nprompt-toolkit==3.0.36\nprotobuf==3.20.1\npsutil @ file:///home/conda/feedstock_root/build_artifacts/psutil_1666155398032/work\nptyprocess==0.7.0\npy-cpuinfo==5.0.0\npyarrow==9.0.0\npyasn1==0.4.8\npyasn1-modules==0.2.8\npycparser @ file:///home/conda/feedstock_root/build_artifacts/pycparser_1636257122734/work\nPygments==2.14.0\nPyJWT==2.6.0\nPyMeeus @ file:///home/conda/feedstock_root/build_artifacts/pymeeus_1670868433998/work\nPyNaCl==1.5.0\npyOpenSSL==22.1.0\npyparsing @ file:///home/conda/feedstock_root/build_artifacts/pyparsing_1652235407899/work\npyrsistent==0.19.3\nPySocks @ file:///home/conda/feedstock_root/build_artifacts/pysocks_1648857264451/work\npystan @ file:///home/conda/feedstock_root/build_artifacts/pystan_1598392733373/work\npython-dateutil @ file:///home/conda/feedstock_root/build_artifacts/python-dateutil_1626286286081/work\npytz @ file:///home/conda/feedstock_root/build_artifacts/pytz_1671365381334/work\nPyYAML==6.0\npyzmq==25.0.0\nraiutils==0.3.0\nrequests==2.28.2\nrequests-oauthlib==1.3.1\nresponsibleai==0.23.0\nrsa==4.9\ns3transfer @ file:///home/conda/feedstock_root/build_artifacts/s3transfer_1618355402893/work\nscikit-learn==0.22.1\nscipy==1.5.3\nSecretStorage==3.3.3\nsemver==2.13.0\nsetuptools-git==1.2\nshap==0.39.0\nsix @ file:///home/conda/feedstock_root/build_artifacts/six_1620240208055/work\nskl2onnx==1.4.9\nsklearn-pandas==1.7.0\nslicer==0.0.7\nsmart-open==1.9.0\nsmmap==5.0.0\nsortedcontainers==2.4.0\nsparse==0.13.0\nsqlparse==0.4.3\nstatsmodels==0.11.1\ntabulate==0.9.0\ntblib==1.7.0\ntermcolor==2.2.0\ntoolz==0.12.0\ntornado==6.2\ntqdm @ file:///home/conda/feedstock_root/build_artifacts/tqdm_1662214488106/work\ntraitlets==5.8.1\ntyping-extensions @ file:///home/conda/feedstock_root/build_artifacts/typing_extensions_1665144421445/work\nunicodedata2 @ file:///home/conda/feedstock_root/build_artifacts/unicodedata2_1649111917568/work\nurllib3 @ file:///home/conda/feedstock_root/build_artifacts/urllib3_1603125704209/work\nwcwidth==0.2.5\nwebsocket-client==1.4.2\nWerkzeug==2.2.2\nwrapt==1.12.1\nxarray @ file:///home/conda/feedstock_root/build_artifacts/xarray_1639125986756/work\nxarray-einstats @ file:///home/conda/feedstock_root/build_artifacts/xarray-einstats_1648967091347/work\nxgboost==1.3.3\nzict==2.2.0\nzipp @ file:///home/conda/feedstock_root/build_artifacts/zipp_1669453021653/work\n\n2023-01-26T22:21:20,656402935+00:00 | gunicorn/run | \n2023-01-26T22:21:20,658988241+00:00 | gunicorn/run | ###############################################\n2023-01-26T22:21:20,661330648+00:00 | gunicorn/run | AzureML Inference Server\n2023-01-26T22:21:20,667869565+00:00 | gunicorn/run | ###############################################\n2023-01-26T22:21:20,669475969+00:00 | gunicorn/run | \n2023-01-26T22:21:24,604773075+00:00 | gunicorn/run | Starting AzureML Inference Server HTTP.\n\nAzure ML Inferencing HTTP server v0.7.7\n\n\nServer Settings\n---------------\nEntry Script Name: /var/azureml-app/main.py\nModel Directory: /var/azureml-app/azureml-models/AutoMLa772be5de36/1\nWorker Count: 1\nWorker Timeout (seconds): 300\nServer Port: 31311\nApplication Insights Enabled: false\nApplication Insights Key: None\nInferencing HTTP server version: azmlinfsrv/0.7.7\nCORS for the specified origins: None\n\n\nServer Routes\n---------------\nLiveness Probe: GET   127.0.0.1:31311/\nScore:          POST  127.0.0.1:31311/score\n\nStarting gunicorn 20.1.0\nListening at: http://0.0.0.0:31311 (72)\nUsing worker: sync\nBooting worker with pid: 129\nInitializing logger\n2023-01-26 22:21:27,382 | root | INFO | Starting up app insights client\nlogging socket was found. logging is available.\nlogging socket was found. logging is available.\n2023-01-26 22:21:27,383 | root | INFO | Starting up app insight hooks\n2023-01-26 22:21:30,280 | root | INFO | Found driver script at /var/azureml-app/main.py and the score script at /var/azureml-app/scoring.py\n2023-01-26 22:21:30,280 | root | INFO | run() is decorated with @input_schema. Server will invoke it with the following arguments: data, method.\n2023-01-26 22:21:30,280 | root | INFO | Invoking user's init function\ngenerated new fontManager\nImporting plotly failed. Interactive plots will not work.\n2023-01-26 22:21:58,171 | azureml.core | WARNING | Failure while loading azureml_run_type_providers. Failed to load entrypoint azureml.scriptrun = azureml.core.script_run:ScriptRun._from_run_dto with exception (urllib3 1.25.11 (/azureml-envs/azureml_cc96bffb210e59c36dafe3fe23d9a95e/lib/python3.7/site-packages), Requirement.parse('urllib3>=1.26.0'), {'docker'}).\nFailure while loading azureml_run_type_providers. Failed to load entrypoint azureml.scriptrun = azureml.core.script_run:ScriptRun._from_run_dto with exception (urllib3 1.25.11 (/azureml-envs/azureml_cc96bffb210e59c36dafe3fe23d9a95e/lib/python3.7/site-packages), Requirement.parse('urllib3>=1.26.0'), {'docker'}).\n2023-01-26 22:21:58,193 | azureml.core | WARNING | Failure while loading azureml_run_type_providers. Failed to load entrypoint azureml.PipelineRun = azureml.pipeline.core.run:PipelineRun._from_dto with exception (urllib3 1.25.11 (/azureml-envs/azureml_cc96bffb210e59c36dafe3fe23d9a95e/lib/python3.7/site-packages), Requirement.parse('urllib3>=1.26.0'), {'docker'}).\nFailure while loading azureml_run_type_providers. Failed to load entrypoint azureml.PipelineRun = azureml.pipeline.core.run:PipelineRun._from_dto with exception (urllib3 1.25.11 (/azureml-envs/azureml_cc96bffb210e59c36dafe3fe23d9a95e/lib/python3.7/site-packages), Requirement.parse('urllib3>=1.26.0'), {'docker'}).\n2023-01-26 22:21:58,220 | azureml.core | WARNING | Failure while loading azureml_run_type_providers. Failed to load entrypoint azureml.ReusedStepRun = azureml.pipeline.core.run:StepRun._from_reused_dto with exception (urllib3 1.25.11 (/azureml-envs/azureml_cc96bffb210e59c36dafe3fe23d9a95e/lib/python3.7/site-packages), Requirement.parse('urllib3>=1.26.0'), {'docker'}).\nFailure while loading azureml_run_type_providers. Failed to load entrypoint azureml.ReusedStepRun = azureml.pipeline.core.run:StepRun._from_reused_dto with exception (urllib3 1.25.11 (/azureml-envs/azureml_cc96bffb210e59c36dafe3fe23d9a95e/lib/python3.7/site-packages), Requirement.parse('urllib3>=1.26.0'), {'docker'}).\n2023-01-26 22:21:58,241 | azureml.core | WARNING | Failure while loading azureml_run_type_providers. Failed to load entrypoint azureml.StepRun = azureml.pipeline.core.run:StepRun._from_dto with exception (urllib3 1.25.11 (/azureml-envs/azureml_cc96bffb210e59c36dafe3fe23d9a95e/lib/python3.7/site-packages), Requirement.parse('urllib3>=1.26.0'), {'docker'}).\nFailure while loading azureml_run_type_providers. Failed to load entrypoint azureml.StepRun = azureml.pipeline.core.run:StepRun._from_dto with exception (urllib3 1.25.11 (/azureml-envs/azureml_cc96bffb210e59c36dafe3fe23d9a95e/lib/python3.7/site-packages), Requirement.parse('urllib3>=1.26.0'), {'docker'}).\n2023-01-26 22:21:58,352 | azureml.core | WARNING | Failure while loading azureml_run_type_providers. Failed to load entrypoint automl = azureml.train.automl.run:AutoMLRun._from_run_dto with exception (azure-identity 1.12.0 (/azureml-envs/azureml_cc96bffb210e59c36dafe3fe23d9a95e/lib/python3.7/site-packages), Requirement.parse('azure-identity==1.7.0'), {'azureml-dataprep'}).\nFailure while loading azureml_run_type_providers. Failed to load entrypoint automl = azureml.train.automl.run:AutoMLRun._from_run_dto with exception (azure-identity 1.12.0 (/azureml-envs/azureml_cc96bffb210e59c36dafe3fe23d9a95e/lib/python3.7/site-packages), Requirement.parse('azure-identity==1.7.0'), {'azureml-dataprep'}).\n2023-01-26 22:21:58,376 | azureml.core | WARNING | Failure while loading azureml_run_type_providers. Failed to load entrypoint hyperdrive = azureml.train.hyperdrive:HyperDriveRun._from_run_dto with exception (urllib3 1.25.11 (/azureml-envs/azureml_cc96bffb210e59c36dafe3fe23d9a95e/lib/python3.7/site-packages), Requirement.parse('urllib3>=1.26.0'), {'docker'}).\nFailure while loading azureml_run_type_providers. Failed to load entrypoint hyperdrive = azureml.train.hyperdrive:HyperDriveRun._from_run_dto with exception (urllib3 1.25.11 (/azureml-envs/azureml_cc96bffb210e59c36dafe3fe23d9a95e/lib/python3.7/site-packages), Requirement.parse('urllib3>=1.26.0'), {'docker'}).\n2023-01-26 22:22:06,859 | root | INFO | Users's init has completed successfully\n2023-01-26 22:22:06,866 | root | INFO | Swaggers are prepared for the following versions: [2, 3].\n2023-01-26 22:22:06,866 | root | INFO | Scoring timeout is found from os.environ: 60000 ms\n2023-01-26 22:22:06,867 | root | INFO | AML_FLASK_ONE_COMPATIBILITY is set. Patched Flask to ensure compatibility with Flask 1.\n2023-01-26 22:22:09,046 | root | INFO | 200\n127.0.0.1 - - [26/Jan/2023:22:22:09 +0000] \"GET /swagger.json HTTP/1.0\" 200 3835 \"-\" \"Go-http-client/1.1\"\n2023-01-26 22:22:13,438 | root | INFO | 200\n127.0.0.1 - - [26/Jan/2023:22:22:13 +0000] \"GET /swagger.json HTTP/1.0\" 200 3835 \"-\" \"Go-http-client/1.1\"\n2023-01-26 22:23:01,216 | root | ERROR | Encountered Exception: Traceback (most recent call last):\n  File \"/azureml-envs/azureml_cc96bffb210e59c36dafe3fe23d9a95e/lib/python3.7/site-packages/azureml_inference_server_http/server/user_script.py\", line 129, in invoke_run\n    run_output = self._wrapped_user_run(**run_parameters, request_headers=dict(request.headers))\n  File \"/azureml-envs/azureml_cc96bffb210e59c36dafe3fe23d9a95e/lib/python3.7/site-packages/azureml_inference_server_http/server/user_script.py\", line 156, in <lambda>\n    self._wrapped_user_run = lambda request_headers, **kwargs: self._user_run(**kwargs)\n  File \"/azureml-envs/azureml_cc96bffb210e59c36dafe3fe23d9a95e/lib/python3.7/site-packages/inference_schema/schema_decorators.py\", line 62, in decorator_input\n    return user_run(*args, **kwargs)\n  File \"/azureml-envs/azureml_cc96bffb210e59c36dafe3fe23d9a95e/lib/python3.7/site-packages/inference_schema/schema_decorators.py\", line 58, in decorator_input\n    kwargs[param_name] = _deserialize_input_argument(kwargs[param_name], param_type, param_name)\n  File \"/azureml-envs/azureml_cc96bffb210e59c36dafe3fe23d9a95e/lib/python3.7/site-packages/inference_schema/schema_decorators.py\", line 343, in _deserialize_input_argument\n    input_data = param_type.deserialize_input(input_data)\n  File \"/azureml-envs/azureml_cc96bffb210e59c36dafe3fe23d9a95e/lib/python3.7/site-packages/inference_schema/parameter_types/pandas_parameter_type.py\", line 110, in deserialize_input\n    data_frame.shape[dim], dim, expected_shape[dim]))\nValueError: Invalid input data frame: data frame has size 12 on dimension #1, while expected value is 13\n\nThe above exception was the direct cause of the following exception:\n\nTraceback (most recent call last):\n  File \"/azureml-envs/azureml_cc96bffb210e59c36dafe3fe23d9a95e/lib/python3.7/site-packages/azureml_inference_server_http/server/routes.py\", line 210, in handle_score\n    timed_result = app.user_script.invoke_run(request, timeout_ms=app.scoring_timeout_in_ms)\n  File \"/azureml-envs/azureml_cc96bffb210e59c36dafe3fe23d9a95e/lib/python3.7/site-packages/azureml_inference_server_http/server/user_script.py\", line 136, in invoke_run\n    raise UserScriptException(ex) from ex\nazureml_inference_server_http.server.user_script.UserScriptException: Caught an unhandled exception from the user script\n\n2023-01-26 22:23:01,216 | root | INFO | 500\n127.0.0.1 - - [26/Jan/2023:22:23:01 +0000] \"POST /score HTTP/1.0\" 500 92 \"-\" \"python-requests/2.28.1\"\n2023-01-26 22:23:26,830 | root | ERROR | Encountered Exception: Traceback (most recent call last):\n  File \"/azureml-envs/azureml_cc96bffb210e59c36dafe3fe23d9a95e/lib/python3.7/site-packages/azureml_inference_server_http/server/user_script.py\", line 129, in invoke_run\n    run_output = self._wrapped_user_run(**run_parameters, request_headers=dict(request.headers))\n  File \"/azureml-envs/azureml_cc96bffb210e59c36dafe3fe23d9a95e/lib/python3.7/site-packages/azureml_inference_server_http/server/user_script.py\", line 156, in <lambda>\n    self._wrapped_user_run = lambda request_headers, **kwargs: self._user_run(**kwargs)\n  File \"/azureml-envs/azureml_cc96bffb210e59c36dafe3fe23d9a95e/lib/python3.7/site-packages/inference_schema/schema_decorators.py\", line 62, in decorator_input\n    return user_run(*args, **kwargs)\n  File \"/azureml-envs/azureml_cc96bffb210e59c36dafe3fe23d9a95e/lib/python3.7/site-packages/inference_schema/schema_decorators.py\", line 58, in decorator_input\n    kwargs[param_name] = _deserialize_input_argument(kwargs[param_name], param_type, param_name)\n  File \"/azureml-envs/azureml_cc96bffb210e59c36dafe3fe23d9a95e/lib/python3.7/site-packages/inference_schema/schema_decorators.py\", line 343, in _deserialize_input_argument\n    input_data = param_type.deserialize_input(input_data)\n  File \"/azureml-envs/azureml_cc96bffb210e59c36dafe3fe23d9a95e/lib/python3.7/site-packages/inference_schema/parameter_types/pandas_parameter_type.py\", line 110, in deserialize_input\n    data_frame.shape[dim], dim, expected_shape[dim]))\nValueError: Invalid input data frame: data frame has size 12 on dimension #1, while expected value is 13\n\nThe above exception was the direct cause of the following exception:\n\nTraceback (most recent call last):\n  File \"/azureml-envs/azureml_cc96bffb210e59c36dafe3fe23d9a95e/lib/python3.7/site-packages/azureml_inference_server_http/server/routes.py\", line 210, in handle_score\n    timed_result = app.user_script.invoke_run(request, timeout_ms=app.scoring_timeout_in_ms)\n  File \"/azureml-envs/azureml_cc96bffb210e59c36dafe3fe23d9a95e/lib/python3.7/site-packages/azureml_inference_server_http/server/user_script.py\", line 136, in invoke_run\n    raise UserScriptException(ex) from ex\nazureml_inference_server_http.server.user_script.UserScriptException: Caught an unhandled exception from the user script\n\n2023-01-26 22:23:26,835 | root | INFO | 500\n127.0.0.1 - - [26/Jan/2023:22:23:26 +0000] \"POST /score HTTP/1.0\" 500 92 \"-\" \"python-requests/2.28.1\"\n2023-01-26 22:24:11,600 | root | ERROR | Encountered Exception: Traceback (most recent call last):\n  File \"/azureml-envs/azureml_cc96bffb210e59c36dafe3fe23d9a95e/lib/python3.7/site-packages/azureml_inference_server_http/server/user_script.py\", line 129, in invoke_run\n    run_output = self._wrapped_user_run(**run_parameters, request_headers=dict(request.headers))\n  File \"/azureml-envs/azureml_cc96bffb210e59c36dafe3fe23d9a95e/lib/python3.7/site-packages/azureml_inference_server_http/server/user_script.py\", line 156, in <lambda>\n    self._wrapped_user_run = lambda request_headers, **kwargs: self._user_run(**kwargs)\n  File \"/azureml-envs/azureml_cc96bffb210e59c36dafe3fe23d9a95e/lib/python3.7/site-packages/inference_schema/schema_decorators.py\", line 62, in decorator_input\n    return user_run(*args, **kwargs)\n  File \"/azureml-envs/azureml_cc96bffb210e59c36dafe3fe23d9a95e/lib/python3.7/site-packages/inference_schema/schema_decorators.py\", line 58, in decorator_input\n    kwargs[param_name] = _deserialize_input_argument(kwargs[param_name], param_type, param_name)\n  File \"/azureml-envs/azureml_cc96bffb210e59c36dafe3fe23d9a95e/lib/python3.7/site-packages/inference_schema/schema_decorators.py\", line 343, in _deserialize_input_argument\n    input_data = param_type.deserialize_input(input_data)\n  File \"/azureml-envs/azureml_cc96bffb210e59c36dafe3fe23d9a95e/lib/python3.7/site-packages/inference_schema/parameter_types/pandas_parameter_type.py\", line 110, in deserialize_input\n    data_frame.shape[dim], dim, expected_shape[dim]))\nValueError: Invalid input data frame: data frame has size 12 on dimension #1, while expected value is 13\n\nThe above exception was the direct cause of the following exception:\n\nTraceback (most recent call last):\n  File \"/azureml-envs/azureml_cc96bffb210e59c36dafe3fe23d9a95e/lib/python3.7/site-packages/azureml_inference_server_http/server/routes.py\", line 210, in handle_score\n    timed_result = app.user_script.invoke_run(request, timeout_ms=app.scoring_timeout_in_ms)\n  File \"/azureml-envs/azureml_cc96bffb210e59c36dafe3fe23d9a95e/lib/python3.7/site-packages/azureml_inference_server_http/server/user_script.py\", line 136, in invoke_run\n    raise UserScriptException(ex) from ex\nazureml_inference_server_http.server.user_script.UserScriptException: Caught an unhandled exception from the user script\n\n2023-01-26 22:24:11,601 | root | INFO | 500\n127.0.0.1 - - [26/Jan/2023:22:24:11 +0000] \"POST /score HTTP/1.0\" 500 92 \"-\" \"python-requests/2.28.1\"\n2023-01-26 22:24:38,649 | root | INFO | 200\n127.0.0.1 - - [26/Jan/2023:22:24:38 +0000] \"GET /swagger.json HTTP/1.0\" 200 3835 \"-\" \"Mozilla/5.0 (Windows NT 10.0; Win64; x64) AppleWebKit/537.36 (KHTML, like Gecko) Chrome/87.0.4280.88 Safari/537.36\"\n127.0.0.1 - - [26/Jan/2023:22:24:38 +0000] \"GET /favicon.ico HTTP/1.0\" 404 127 \"http://05653210-0151-4d4c-9f09-01832b360570.southcentralus.azurecontainer.io/swagger.json\" \"Mozilla/5.0 (Windows NT 10.0; Win64; x64) AppleWebKit/537.36 (KHTML, like Gecko) Chrome/87.0.4280.88 Safari/537.36\"\n2023-01-26 22:29:05,627 | root | INFO | 200\n127.0.0.1 - - [26/Jan/2023:22:29:05 +0000] \"POST /score HTTP/1.0\" 200 21 \"-\" \"python-requests/2.28.1\"\n2023-01-26 22:30:12,172 | root | INFO | 200\n127.0.0.1 - - [26/Jan/2023:22:30:12 +0000] \"GET /swagger.json HTTP/1.0\" 200 3835 \"-\" \"Go-http-client/1.1\"\n\n"
        }
      ],
      "execution_count": 28,
      "metadata": {
        "gather": {
          "logged": 1674772266638
        },
        "jupyter": {
          "outputs_hidden": false,
          "source_hidden": false
        },
        "nteract": {
          "transient": {
            "deleting": false
          }
        }
      }
    },
    {
      "cell_type": "markdown",
      "source": [
        "## Deleting the service\n",
        "Putting the deletion of the service in a separate cell to avoid accidentally running the cell before finishing the tasks"
      ],
      "metadata": {}
    },
    {
      "cell_type": "code",
      "source": [
        "service.delete()"
      ],
      "outputs": [],
      "execution_count": 73,
      "metadata": {}
    },
    {
      "cell_type": "markdown",
      "source": [
        "**Submission Checklist**\n",
        "- I have registered the model.\n",
        "- I have deployed the model with the best accuracy as a webservice.\n",
        "- I have tested the webservice by sending a request to the model endpoint.\n",
        "- I have deleted the webservice and shutdown all the computes that I have used.\n",
        "- I have taken a screenshot showing the model endpoint as active.\n",
        "- The project includes a file containing the environment details.\n"
      ],
      "metadata": {}
    },
    {
      "cell_type": "markdown",
      "source": [],
      "metadata": {}
    }
  ],
  "metadata": {
    "kernel_info": {
      "name": "python3"
    },
    "kernelspec": {
      "name": "python3",
      "language": "python",
      "display_name": "Python 3 (ipykernel)"
    },
    "language_info": {
      "name": "python",
      "version": "3.8.5",
      "mimetype": "text/x-python",
      "codemirror_mode": {
        "name": "ipython",
        "version": 3
      },
      "pygments_lexer": "ipython3",
      "nbconvert_exporter": "python",
      "file_extension": ".py"
    },
    "microsoft": {
      "host": {
        "AzureML": {
          "notebookHasBeenCompleted": true
        }
      }
    },
    "nteract": {
      "version": "nteract-front-end@1.0.0"
    }
  },
  "nbformat": 4,
  "nbformat_minor": 2
}