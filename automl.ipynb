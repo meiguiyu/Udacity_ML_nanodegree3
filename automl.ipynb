{
 "cells": [
  {
   "cell_type": "markdown",
   "metadata": {},
   "source": [
    "## Automated ML\n",
    "\n",
    "Importing all needed dependencies to complete the project."
   ]
  },
  {
   "cell_type": "code",
   "execution_count": 48,
   "metadata": {
    "gather": {
     "logged": 1598423888013
    },
    "jupyter": {
     "outputs_hidden": false,
     "source_hidden": false
    },
    "nteract": {
     "transient": {
      "deleting": false
     }
    }
   },
   "outputs": [
    {
     "name": "stdout",
     "output_type": "stream",
     "text": [
      "SDK version: 1.47.0\n"
     ]
    }
   ],
   "source": [
    "import requests\n",
    "import json\n",
    "import logging\n",
    "import joblib\n",
    "from pprint import pprint\n",
    "import pandas as pd\n",
    "from sklearn.model_selection import train_test_split\n",
    "\n",
    "import azureml.core\n",
    "from azureml.core.workspace import Workspace\n",
    "from azureml.core.experiment import Experiment\n",
    "from azureml.core.compute import ComputeTarget, AmlCompute\n",
    "from azureml.train.automl import AutoMLConfig\n",
    "from azureml.core.compute_target import ComputeTargetException\n",
    "from azureml.core.dataset import Dataset\n",
    "from azureml.data.dataset_factory import TabularDatasetFactory\n",
    "from azureml.widgets import RunDetails\n",
    "from azureml.core.model import Model, InferenceConfig\n",
    "from azureml.core.webservice import AciWebservice\n",
    "from azureml.automl.core.shared import constants\n",
    "from azureml.core.environment import Environment"
   ]
  },
  {
   "cell_type": "markdown",
   "metadata": {},
   "source": [
    "## Workspace and Experiment"
   ]
  },
  {
   "cell_type": "code",
   "execution_count": 49,
   "metadata": {},
   "outputs": [
    {
     "name": "stdout",
     "output_type": "stream",
     "text": [
      "Workspace name:  quick-starts-ws-219220\n",
      "Subscription id:  81cefad3-d2c9-4f77-a466-99a7f541c7bb\n",
      "Resource group: \n",
      "aml-quickstarts-219220\n"
     ]
    }
   ],
   "source": [
    "ws = Workspace.from_config()\n",
    "# choose a name for experiment\n",
    "experiment_name = \"automl_maternal_health_experiment\"\n",
    "experiment = Experiment(ws,experiment_name)"
   ]
  },
  {
   "cell_type": "markdown",
   "metadata": {},
   "source": [
    "## AmlCompute cluster"
   ]
  },
  {
   "cell_type": "code",
   "execution_count": 51,
   "metadata": {},
   "outputs": [
    {
     "name": "stdout",
     "output_type": "stream",
     "text": [
      "Creating a new compute cluster...\n",
      "InProgress..\n",
      "SucceededProvisioning operation finished, operation \"Succeeded\"\n",
      "Succeeded..................\n",
      "AmlCompute wait for completion finished\n",
      "\n",
      "Minimum number of nodes requested have been provisioned\n",
      "{'currentNodeCount': 1, 'targetNodeCount': 1, 'nodeStateCounts': {'preparingNodeCount': 1, 'runningNodeCount': 0, 'idleNodeCount': 0, 'unusableNodeCount': 0, 'leavingNodeCount': 0, 'preemptedNodeCount': 0}, 'allocationState': 'Steady', 'allocationStateTransitionTime': '2022-12-19T11:04:38.694000+00:00', 'errors': None, 'creationTime': '2022-12-19T11:03:21.964033+00:00', 'modifiedTime': '2022-12-19T11:03:28.730239+00:00', 'provisioningState': 'Succeeded', 'provisioningStateTransitionTime': None, 'scaleSettings': {'minNodeCount': 1, 'maxNodeCount': 4, 'nodeIdleTimeBeforeScaleDown': 'PT1800S'}, 'vmPriority': 'Dedicated', 'vmSize': 'STANDARD_D2_V2'}\n"
     ]
    }
   ],
   "source": [
    "# Choose a name for the cluster\n",
    "cpu_cluster_name = 'cluster-yum'\n",
    "\n",
    "try:\n",
    "    compute_target = ComputeTarget(workspace=ws, name=cpu_cluster_name)\n",
    "    print('Found existing cluster, use it.')\n",
    "except ComputeTargetException:\n",
    "    print('Creating a new compute cluster...')\n",
    "    compute_config = AmlCompute.provisioning_configuration(vm_size='Standard_D2_V2', min_nodes=1, max_nodes=4)\n",
    "    compute_target = ComputeTarget.create(ws, cpu_cluster_name, compute_config)\n",
    "\n",
    "compute_target.wait_for_completion(show_output=True)"
   ]
  },
  {
   "cell_type": "markdown",
   "metadata": {},
   "source": [
    "## Dataset\n",
    "\n",
    "### Overview\n",
    "TODO: In this markdown cell, give an overview of the dataset you are using. Also mention the task you will be performing.\n",
    "\n",
    "TODO: Get data. In the cell below, write code to access the data you will be using in this project. Remember that the dataset needs to be external."
   ]
  },
  {
   "cell_type": "code",
   "execution_count": 52,
   "metadata": {
    "gather": {
     "logged": 1598423890461
    },
    "jupyter": {
     "outputs_hidden": false,
     "source_hidden": false
    },
    "nteract": {
     "transient": {
      "deleting": false
     }
    }
   },
   "outputs": [],
   "source": [
    "# validate dataset is in store\n",
    "key = \"maternal-health\"\n",
    "description_text = \"Maternal health\"\n",
    "\n",
    "\n",
    "if key in ws.datasets.keys():\n",
    "    dataset = ws.datasets[key]\n",
    "    print('The Dataset was found')\n",
    "else:\n",
    "    # Create AML Dataset and register it into Workspace\n",
    "    data_url = \"https://archive.ics.uci.edu/ml/machine-learning-databases/00639/Maternal Health Risk Data Set.csv\"\n",
    "    dataset = Dataset.Tabular.from_delimited_files(data_url)\n",
    "    #Register Dataset in Workspace\n",
    "    dataset = dataset.register(workspace = ws,name = key,description = description_text)\n",
    "\n",
    "df = dataset.to_pandas_dataframe()\n",
    "print(df.head())"
   ]
  },
  {
   "cell_type": "markdown",
   "metadata": {},
   "source": [
    "## AutoML Configuration"
   ]
  },
  {
   "cell_type": "code",
   "execution_count": 55,
   "metadata": {
    "gather": {
     "logged": 1598429217746
    },
    "jupyter": {
     "outputs_hidden": false,
     "source_hidden": false
    },
    "nteract": {
     "transient": {
      "deleting": false
     }
    }
   },
   "outputs": [],
   "source": [
    "# TODO: Put your automl settings here\n",
    "automl_settings = {\n",
    "    \"experiment_timeout_minutes\" : 30,\n",
    "    \"enable_early_stopping\" : True,\n",
    "    \"primary_metric\":'accuracy',\n",
    "    \"n_cross_validations\":4,\n",
    "    \"max_concurrent_iterations\":4,\n",
    "    \"verbosity\": logging.INFO\n",
    "}\n",
    "\n",
    "# TODO: Put your automl config here\n",
    "automl_config = AutoMLConfig(compute_target = compute_target,\n",
    "                            task = 'classification',\n",
    "                            training_data=dataset,                         \n",
    "                            label_column_name=\"RiskLevel\",\n",
    "                            **automl_settings\n",
    "                            )"
   ]
  },
  {
   "cell_type": "code",
   "execution_count": 56,
   "metadata": {
    "gather": {
     "logged": 1598431107951
    },
    "jupyter": {
     "outputs_hidden": false,
     "source_hidden": false
    },
    "nteract": {
     "transient": {
      "deleting": false
     }
    }
   },
   "outputs": [
    {
     "name": "stdout",
     "output_type": "stream",
     "text": [
      "Submitting remote run.\n",
      "No run_configuration provided, running on cluster-cpu with default configuration\n",
      "Running on remote compute: cluster-cpu\n"
     ]
    },
    {
     "data": {
      "text/html": [
       "<table style=\"width:100%\"><tr><th>Experiment</th><th>Id</th><th>Type</th><th>Status</th><th>Details Page</th><th>Docs Page</th></tr><tr><td>automl_heart_failure_experiment</td><td>AutoML_a8026d04-0a63-4621-bb03-ffdaa17023ae</td><td>automl</td><td>NotStarted</td><td><a href=\"https://ml.azure.com/runs/AutoML_a8026d04-0a63-4621-bb03-ffdaa17023ae?wsid=/subscriptions/81cefad3-d2c9-4f77-a466-99a7f541c7bb/resourcegroups/aml-quickstarts-219220/workspaces/quick-starts-ws-219220&amp;tid=660b3398-b80e-49d2-bc5b-ac1dc93b5254\" target=\"_blank\" rel=\"noopener\">Link to Azure Machine Learning studio</a></td><td><a href=\"https://docs.microsoft.com/en-us/python/api/overview/azure/ml/intro?view=azure-ml-py\" target=\"_blank\" rel=\"noopener\">Link to Documentation</a></td></tr></table>"
      ],
      "text/plain": [
       "<IPython.core.display.HTML object>"
      ]
     },
     "metadata": {},
     "output_type": "display_data"
    },
    {
     "name": "stdout",
     "output_type": "stream",
     "text": [
      "\n",
      "Current status: FeaturesGeneration. Generating features for the dataset.\n",
      "Current status: DatasetCrossValidationSplit. Generating individually featurized CV splits.\n",
      "Current status: ModelSelection. Beginning model selection.\n",
      "\n",
      "********************************************************************************************\n",
      "DATA GUARDRAILS: \n",
      "\n",
      "TYPE:         Class balancing detection\n",
      "STATUS:       PASSED\n",
      "DESCRIPTION:  Your inputs were analyzed, and all classes are balanced in your training data.\n",
      "              Learn more about imbalanced data: https://aka.ms/AutomatedMLImbalancedData\n",
      "\n",
      "********************************************************************************************\n",
      "\n",
      "TYPE:         Missing feature values imputation\n",
      "STATUS:       PASSED\n",
      "DESCRIPTION:  No feature missing values were detected in the training data.\n",
      "              Learn more about missing value imputation: https://aka.ms/AutomatedMLFeaturization\n",
      "\n",
      "********************************************************************************************\n",
      "\n",
      "TYPE:         High cardinality feature detection\n",
      "STATUS:       PASSED\n",
      "DESCRIPTION:  Your inputs were analyzed, and no high cardinality features were detected.\n",
      "              Learn more about high cardinality feature handling: https://aka.ms/AutomatedMLFeaturization\n",
      "\n",
      "********************************************************************************************\n",
      "\n",
      "********************************************************************************************\n",
      "ITER: The iteration being evaluated.\n",
      "PIPELINE: A summary description of the pipeline being evaluated.\n",
      "DURATION: Time taken for the current iteration.\n",
      "METRIC: The result of computing score on the fitted pipeline.\n",
      "BEST: The best observed score thus far.\n",
      "********************************************************************************************\n",
      "\n",
      " ITER   PIPELINE                                       DURATION            METRIC      BEST\n",
      "    0   MaxAbsScaler LightGBM                          0:00:13             0.8259    0.8259\n",
      "    1   MaxAbsScaler XGBoostClassifier                 0:00:19             0.8292    0.8292\n",
      "    2   MaxAbsScaler ExtremeRandomTrees                0:00:15             0.8258    0.8292\n",
      "    3   SparseNormalizer XGBoostClassifier             0:00:19             0.7860    0.8292\n",
      "    4   StandardScalerWrapper KNN                      0:00:19             0.5953    0.8292\n",
      "    5   MaxAbsScaler LightGBM                          0:00:15             0.8460    0.8460\n",
      "    6   RobustScaler LogisticRegression                0:00:17             0.8024    0.8460\n",
      "    7   MaxAbsScaler LightGBM                          0:00:15             0.8127    0.8460\n",
      "    8   StandardScalerWrapper KNN                      0:00:13             0.6118    0.8460\n",
      "    9   StandardScalerWrapper SVM                      0:00:19             0.7422    0.8460\n",
      "   10   StandardScalerWrapper XGBoostClassifier        0:00:16             0.8392    0.8460\n",
      "   11   MinMaxScaler RandomForest                      0:00:17             0.8424    0.8460\n",
      "   15   MinMaxScaler KNN                               0:00:18             0.7257    0.8460\n",
      "   12   StandardScalerWrapper LogisticRegression       0:00:16             0.7489    0.8460\n",
      "   13   StandardScalerWrapper KNN                      0:00:11             0.7125    0.8460\n",
      "   16   SparseNormalizer KNN                           0:00:16             0.7425    0.8460\n",
      "   14   RobustScaler KNN                               0:00:15             0.7190    0.8460\n",
      "   17   MaxAbsScaler LogisticRegression                0:00:16             0.8192    0.8460\n",
      "   18   StandardScalerWrapper XGBoostClassifier        0:00:17             0.8458    0.8460\n",
      "   19   StandardScalerWrapper XGBoostClassifier        0:00:16             0.8426    0.8460\n",
      "   21   StandardScalerWrapper XGBoostClassifier        0:00:30             0.8459    0.8460\n",
      "   22   SparseNormalizer RandomForest                  0:00:29             0.8125    0.8460\n",
      "   23   StandardScalerWrapper RandomForest             0:00:34             0.7927    0.8460\n",
      "   24   StandardScalerWrapper XGBoostClassifier        0:00:28             0.8325    0.8460\n",
      "   25   StandardScalerWrapper LightGBM                 0:00:27             0.8427    0.8460\n",
      "   26   SparseNormalizer XGBoostClassifier             0:00:25             0.8192    0.8460\n",
      "   20   MaxAbsScaler LogisticRegression                0:01:45             0.8125    0.8460\n",
      "   27   RobustScaler RandomForest                      0:00:28             0.8359    0.8460\n",
      "   28   SparseNormalizer XGBoostClassifier             0:00:27             0.8428    0.8460\n",
      "   29   StandardScalerWrapper GradientBoosting         0:00:24             0.8426    0.8460\n",
      "   30   StandardScalerWrapper LightGBM                 0:00:32             0.8393    0.8460\n",
      "   31   RobustScaler LightGBM                          0:00:33             0.8528    0.8528\n",
      "   32   RobustScaler RandomForest                      0:00:26             0.8392    0.8528\n",
      "   33   StandardScalerWrapper XGBoostClassifier        0:00:26             0.8292    0.8528\n",
      "   34   StandardScalerWrapper XGBoostClassifier        0:00:33             0.8527    0.8528\n",
      "   35   RobustScaler LightGBM                          0:00:33             0.8326    0.8528\n",
      "   36   StandardScalerWrapper XGBoostClassifier        0:00:28             0.8291    0.8528\n",
      "   37   MinMaxScaler LightGBM                          0:00:28             0.8359    0.8528\n",
      "   38   MinMaxScaler LightGBM                          0:00:32             0.8193    0.8528\n",
      "   39   MinMaxScaler RandomForest                      0:00:31             0.8323    0.8528\n",
      "   40   PCA LightGBM                                   0:00:27             0.6791    0.8528\n",
      "   41   MinMaxScaler RandomForest                      0:00:30             0.8191    0.8528\n",
      "   43   StandardScalerWrapper XGBoostClassifier        0:00:27             0.8325    0.8528\n",
      "   44   StandardScalerWrapper XGBoostClassifier        0:00:29             0.8426    0.8528\n",
      "   42   StandardScalerWrapper XGBoostClassifier        0:00:32             0.8325    0.8528\n",
      "   45   MinMaxScaler LightGBM                          0:00:22             0.8427    0.8528\n",
      "   46                                                  0:00:00                nan    0.8528\n",
      "   47                                                  0:00:01                nan    0.8528\n",
      "   48    VotingEnsemble                                0:00:45             0.8662    0.8662\n",
      "   49    StackEnsemble                                 0:00:59             0.8595    0.8662\n"
     ]
    }
   ],
   "source": [
    "# Submit your experiment\n",
    "run = experiment.submit(automl_config, show_output=True)\n",
    "#run.wait_for_completion()"
   ]
  },
  {
   "cell_type": "code",
   "execution_count": 57,
   "metadata": {},
   "outputs": [
    {
     "name": "stdout",
     "output_type": "stream",
     "text": [
      "Run Status:  Completed\n"
     ]
    }
   ],
   "source": [
    "print(\"Run Status: \",run.get_status())"
   ]
  },
  {
   "cell_type": "markdown",
   "metadata": {},
   "source": [
    "## Run Details\n",
    "\n",
    "In the cell below, use the `RunDetails` widget to show the different experiments."
   ]
  },
  {
   "cell_type": "code",
   "execution_count": 58,
   "metadata": {
    "gather": {
     "logged": 1598431121770
    },
    "jupyter": {
     "outputs_hidden": false,
     "source_hidden": false
    },
    "nteract": {
     "transient": {
      "deleting": false
     }
    }
   },
   "outputs": [
    {
     "data": {
      "application/vnd.jupyter.widget-view+json": {
       "model_id": "bf1d6cca0b554bfe8b3d6413454567fb",
       "version_major": 2,
       "version_minor": 0
      },
      "text/plain": [
       "_AutoMLWidget(widget_settings={'childWidgetDisplay': 'popup', 'send_telemetry': False, 'log_level': 'INFO', 's…"
      ]
     },
     "metadata": {},
     "output_type": "display_data"
    },
    {
     "data": {
      "application/aml.mini.widget.v1": "{\"status\": \"Completed\", \"workbench_run_details_uri\": \"https://ml.azure.com/runs/AutoML_a8026d04-0a63-4621-bb03-ffdaa17023ae?wsid=/subscriptions/81cefad3-d2c9-4f77-a466-99a7f541c7bb/resourcegroups/aml-quickstarts-219220/workspaces/quick-starts-ws-219220&tid=660b3398-b80e-49d2-bc5b-ac1dc93b5254\", \"run_id\": \"AutoML_a8026d04-0a63-4621-bb03-ffdaa17023ae\", \"run_properties\": {\"run_id\": \"AutoML_a8026d04-0a63-4621-bb03-ffdaa17023ae\", \"created_utc\": \"2022-12-19T11:07:23.553527Z\", \"properties\": {\"num_iterations\": \"1000\", \"training_type\": \"TrainFull\", \"acquisition_function\": \"EI\", \"primary_metric\": \"accuracy\", \"train_split\": \"0\", \"acquisition_parameter\": \"0\", \"num_cross_validation\": \"4\", \"target\": \"cluster-cpu\", \"AMLSettingsJsonString\": \"{\\\"path\\\":null,\\\"name\\\":\\\"automl_heart_failure_experiment\\\",\\\"subscription_id\\\":\\\"81cefad3-d2c9-4f77-a466-99a7f541c7bb\\\",\\\"resource_group\\\":\\\"aml-quickstarts-219220\\\",\\\"workspace_name\\\":\\\"quick-starts-ws-219220\\\",\\\"region\\\":\\\"southcentralus\\\",\\\"compute_target\\\":\\\"cluster-cpu\\\",\\\"spark_service\\\":null,\\\"azure_service\\\":\\\"remote\\\",\\\"many_models\\\":false,\\\"pipeline_fetch_max_batch_size\\\":1,\\\"enable_batch_run\\\":true,\\\"enable_parallel_run\\\":false,\\\"num_procs\\\":null,\\\"enable_run_restructure\\\":false,\\\"start_auxiliary_runs_before_parent_complete\\\":false,\\\"enable_code_generation\\\":true,\\\"iterations\\\":1000,\\\"primary_metric\\\":\\\"accuracy\\\",\\\"task_type\\\":\\\"classification\\\",\\\"positive_label\\\":null,\\\"data_script\\\":null,\\\"test_size\\\":0.0,\\\"test_include_predictions_only\\\":false,\\\"validation_size\\\":0.0,\\\"n_cross_validations\\\":4,\\\"y_min\\\":null,\\\"y_max\\\":null,\\\"num_classes\\\":null,\\\"featurization\\\":\\\"auto\\\",\\\"_ignore_package_version_incompatibilities\\\":false,\\\"is_timeseries\\\":false,\\\"max_cores_per_iteration\\\":1,\\\"max_concurrent_iterations\\\":4,\\\"iteration_timeout_minutes\\\":null,\\\"mem_in_mb\\\":null,\\\"enforce_time_on_windows\\\":false,\\\"experiment_timeout_minutes\\\":30,\\\"experiment_exit_score\\\":null,\\\"partition_column_names\\\":null,\\\"whitelist_models\\\":null,\\\"blacklist_algos\\\":[\\\"TensorFlowLinearClassifier\\\",\\\"TensorFlowDNN\\\"],\\\"supported_models\\\":[\\\"GradientBoosting\\\",\\\"SVM\\\",\\\"BernoulliNaiveBayes\\\",\\\"LogisticRegression\\\",\\\"LightGBM\\\",\\\"TensorFlowLinearClassifier\\\",\\\"DecisionTree\\\",\\\"LinearSVM\\\",\\\"XGBoostClassifier\\\",\\\"TabnetClassifier\\\",\\\"AveragedPerceptronClassifier\\\",\\\"MultinomialNaiveBayes\\\",\\\"SGD\\\",\\\"KNN\\\",\\\"TensorFlowDNN\\\",\\\"RandomForest\\\",\\\"ExtremeRandomTrees\\\"],\\\"private_models\\\":[],\\\"auto_blacklist\\\":true,\\\"blacklist_samples_reached\\\":false,\\\"exclude_nan_labels\\\":true,\\\"verbosity\\\":20,\\\"_debug_log\\\":\\\"azureml_automl.log\\\",\\\"show_warnings\\\":false,\\\"model_explainability\\\":true,\\\"service_url\\\":null,\\\"sdk_url\\\":null,\\\"sdk_packages\\\":null,\\\"enable_onnx_compatible_models\\\":false,\\\"enable_split_onnx_featurizer_estimator_models\\\":false,\\\"vm_type\\\":\\\"STANDARD_D2_V2\\\",\\\"telemetry_verbosity\\\":20,\\\"send_telemetry\\\":true,\\\"enable_dnn\\\":false,\\\"scenario\\\":\\\"AutoML\\\",\\\"environment_label\\\":null,\\\"save_mlflow\\\":false,\\\"enable_categorical_indicators\\\":false,\\\"force_text_dnn\\\":false,\\\"enable_feature_sweeping\\\":true,\\\"enable_early_stopping\\\":true,\\\"early_stopping_n_iters\\\":10,\\\"arguments\\\":null,\\\"dataset_id\\\":\\\"7d74a28e-09c9-4241-8b8a-4f5f2264eb90\\\",\\\"hyperdrive_config\\\":null,\\\"validation_dataset_id\\\":null,\\\"run_source\\\":null,\\\"metrics\\\":null,\\\"enable_metric_confidence\\\":false,\\\"enable_ensembling\\\":true,\\\"enable_stack_ensembling\\\":true,\\\"ensemble_iterations\\\":15,\\\"enable_tf\\\":false,\\\"enable_subsampling\\\":null,\\\"subsample_seed\\\":null,\\\"enable_nimbusml\\\":false,\\\"enable_streaming\\\":false,\\\"force_streaming\\\":false,\\\"track_child_runs\\\":true,\\\"n_best_runs\\\":1,\\\"allowed_private_models\\\":[],\\\"label_column_name\\\":\\\"DEATH_EVENT\\\",\\\"weight_column_name\\\":null,\\\"cv_split_column_names\\\":null,\\\"enable_local_managed\\\":false,\\\"_local_managed_run_id\\\":null,\\\"cost_mode\\\":1,\\\"lag_length\\\":0,\\\"metric_operation\\\":\\\"maximize\\\",\\\"preprocess\\\":true}\", \"DataPrepJsonString\": \"{\\\\\\\"training_data\\\\\\\": {\\\\\\\"datasetId\\\\\\\": \\\\\\\"7d74a28e-09c9-4241-8b8a-4f5f2264eb90\\\\\\\"}, \\\\\\\"datasets\\\\\\\": 0}\", \"EnableSubsampling\": null, \"runTemplate\": \"AutoML\", \"azureml.runsource\": \"automl\", \"display_task_type\": \"classification\", \"dependencies_versions\": \"{\\\"azureml-widgets\\\": \\\"1.47.0\\\", \\\"azureml-training-tabular\\\": \\\"1.47.0\\\", \\\"azureml-train\\\": \\\"1.47.0\\\", \\\"azureml-train-restclients-hyperdrive\\\": \\\"1.47.0\\\", \\\"azureml-train-core\\\": \\\"1.47.0\\\", \\\"azureml-train-automl\\\": \\\"1.47.0\\\", \\\"azureml-train-automl-runtime\\\": \\\"1.47.0\\\", \\\"azureml-train-automl-client\\\": \\\"1.47.0\\\", \\\"azureml-tensorboard\\\": \\\"1.47.0\\\", \\\"azureml-telemetry\\\": \\\"1.47.0\\\", \\\"azureml-sdk\\\": \\\"1.47.0\\\", \\\"azureml-samples\\\": \\\"0+unknown\\\", \\\"azureml-responsibleai\\\": \\\"1.47.0\\\", \\\"azureml-pipeline\\\": \\\"1.47.0\\\", \\\"azureml-pipeline-steps\\\": \\\"1.47.0\\\", \\\"azureml-pipeline-core\\\": \\\"1.47.0\\\", \\\"azureml-opendatasets\\\": \\\"1.47.0\\\", \\\"azureml-mlflow\\\": \\\"1.47.0\\\", \\\"azureml-interpret\\\": \\\"1.47.0\\\", \\\"azureml-inference-server-http\\\": \\\"0.7.6\\\", \\\"azureml-explain-model\\\": \\\"1.47.0\\\", \\\"azureml-defaults\\\": \\\"1.47.0\\\", \\\"azureml-dataset-runtime\\\": \\\"1.47.0\\\", \\\"azureml-dataprep\\\": \\\"4.5.7\\\", \\\"azureml-dataprep-rslex\\\": \\\"2.11.4\\\", \\\"azureml-dataprep-native\\\": \\\"38.0.0\\\", \\\"azureml-datadrift\\\": \\\"1.47.0\\\", \\\"azureml-core\\\": \\\"1.47.0\\\", \\\"azureml-contrib-services\\\": \\\"1.47.0\\\", \\\"azureml-contrib-server\\\": \\\"1.47.0\\\", \\\"azureml-contrib-reinforcementlearning\\\": \\\"1.47.0\\\", \\\"azureml-contrib-pipeline-steps\\\": \\\"1.47.0\\\", \\\"azureml-contrib-notebook\\\": \\\"1.47.0\\\", \\\"azureml-contrib-fairness\\\": \\\"1.47.0\\\", \\\"azureml-contrib-dataset\\\": \\\"1.47.0\\\", \\\"azureml-contrib-automl-pipeline-steps\\\": \\\"1.47.0\\\", \\\"azureml-cli-common\\\": \\\"1.47.0\\\", \\\"azureml-automl-runtime\\\": \\\"1.47.0\\\", \\\"azureml-automl-dnn-nlp\\\": \\\"1.47.0\\\", \\\"azureml-automl-core\\\": \\\"1.47.0\\\", \\\"azureml-accel-models\\\": \\\"1.47.0\\\"}\", \"_aml_system_scenario_identification\": \"Remote.Parent\", \"ClientType\": \"SDK\", \"environment_cpu_name\": \"AzureML-AutoML\", \"environment_cpu_label\": \"prod\", \"environment_gpu_name\": \"AzureML-AutoML-GPU\", \"environment_gpu_label\": \"prod\", \"root_attribution\": \"automl\", \"attribution\": \"AutoML\", \"Orchestrator\": \"AutoML\", \"CancelUri\": \"https://southcentralus.api.azureml.ms/jasmine/v1.0/subscriptions/81cefad3-d2c9-4f77-a466-99a7f541c7bb/resourceGroups/aml-quickstarts-219220/providers/Microsoft.MachineLearningServices/workspaces/quick-starts-ws-219220/experimentids/b9015ccd-cec0-4548-87d8-495d3ecc4d88/cancel/AutoML_a8026d04-0a63-4621-bb03-ffdaa17023ae\", \"ClientSdkVersion\": \"1.47.0\", \"snapshotId\": \"00000000-0000-0000-0000-000000000000\", \"SetupRunId\": \"AutoML_a8026d04-0a63-4621-bb03-ffdaa17023ae_setup\", \"SetupRunContainerId\": \"dcid.AutoML_a8026d04-0a63-4621-bb03-ffdaa17023ae_setup\", \"FeaturizationRunJsonPath\": \"featurizer_container.json\", \"FeaturizationRunId\": \"AutoML_a8026d04-0a63-4621-bb03-ffdaa17023ae_featurize\", \"ProblemInfoJsonString\": \"{\\\"dataset_num_categorical\\\": 0, \\\"is_sparse\\\": false, \\\"subsampling\\\": false, \\\"has_extra_col\\\": true, \\\"dataset_classes\\\": 2, \\\"dataset_features\\\": 12, \\\"dataset_samples\\\": 299, \\\"single_frequency_class_detected\\\": false}\", \"ModelExplainRunId\": \"AutoML_a8026d04-0a63-4621-bb03-ffdaa17023ae_ModelExplain\"}, \"tags\": {\"model_explain_run\": \"best_run\", \"_aml_system_automl_run_workspace_id\": \"10bc6e7c-c0a4-47b4-b43b-1edd7acb2929\", \"_aml_system_azureml.automlComponent\": \"AutoML\", \"pipeline_id\": \"\", \"score\": \"\", \"predicted_cost\": \"\", \"fit_time\": \"\", \"training_percent\": \"\", \"iteration\": \"\", \"run_preprocessor\": \"\", \"run_algorithm\": \"\", \"dynamic_allowlisting_iterations\": \"<25>;<30>;<35>;<40>;<45>;\", \"_aml_system_azureml.automl_early_exit_message\": \"No scores improved over last 10 iterations, so experiment stopped early. This early stopping behavior can be disabled by setting enable_early_stopping = False in AutoMLConfig for notebook/python SDK runs.\", \"automl_best_child_run_id\": \"AutoML_a8026d04-0a63-4621-bb03-ffdaa17023ae_48\", \"model_explain_best_run_child_id\": \"AutoML_a8026d04-0a63-4621-bb03-ffdaa17023ae_48\"}, \"end_time_utc\": \"2022-12-19T11:20:50.062782Z\", \"status\": \"Completed\", \"log_files\": {}, \"log_groups\": [], \"run_duration\": \"0:13:26\", \"run_number\": \"1671448043\", \"run_queued_details\": {\"status\": \"Completed\", \"details\": null}}, \"child_runs\": [{\"run_id\": \"AutoML_a8026d04-0a63-4621-bb03-ffdaa17023ae_setup\", \"run_number\": 1671448055, \"metric\": null, \"status\": \"Completed\", \"run_type\": \"azureml.scriptrun\", \"training_percent\": null, \"start_time\": \"2022-12-19T11:07:44.424975Z\", \"end_time\": \"2022-12-19T11:09:34.988002Z\", \"created_time\": \"2022-12-19T11:07:35.458554Z\", \"created_time_dt\": \"2022-12-19T11:07:35.458554Z\", \"duration\": \"0:01:59\", \"iteration\": null, \"goal\": null, \"run_name\": \"Completed\", \"run_properties\": null}, {\"run_id\": \"AutoML_a8026d04-0a63-4621-bb03-ffdaa17023ae_featurize\", \"run_number\": 1671448175, \"metric\": null, \"status\": \"Completed\", \"run_type\": \"automl.featurization\", \"training_percent\": null, \"start_time\": \"2022-12-19T11:09:35.526698Z\", \"end_time\": \"2022-12-19T11:10:18.94277Z\", \"created_time\": \"2022-12-19T11:09:35.24333Z\", \"created_time_dt\": \"2022-12-19T11:09:35.24333Z\", \"duration\": \"0:00:43\", \"iteration\": null, \"goal\": null, \"run_name\": \"Completed\", \"run_properties\": null}, {\"run_id\": \"AutoML_a8026d04-0a63-4621-bb03-ffdaa17023ae_0\", \"run_number\": 1671448220, \"metric\": null, \"status\": \"Completed\", \"run_type\": null, \"training_percent\": \"100\", \"start_time\": \"2022-12-19T11:10:40.083665Z\", \"end_time\": \"2022-12-19T11:10:53.580903Z\", \"created_time\": \"2022-12-19T11:10:20.165115Z\", \"created_time_dt\": \"2022-12-19T11:10:20.165115Z\", \"duration\": \"0:00:33\", \"iteration\": \"0\", \"goal\": \"accuracy_max\", \"run_name\": \"MaxAbsScaler, LightGBM\", \"run_properties\": \"copy=True\", \"primary_metric\": 0.82594595, \"best_metric\": 0.82594595}, {\"run_id\": \"AutoML_a8026d04-0a63-4621-bb03-ffdaa17023ae_2\", \"run_number\": 1671448221, \"metric\": null, \"status\": \"Completed\", \"run_type\": null, \"training_percent\": \"100\", \"start_time\": \"2022-12-19T11:11:13.702718Z\", \"end_time\": \"2022-12-19T11:11:29.179161Z\", \"created_time\": \"2022-12-19T11:10:21.127277Z\", \"created_time_dt\": \"2022-12-19T11:10:21.127277Z\", \"duration\": \"0:01:08\", \"iteration\": \"2\", \"goal\": \"accuracy_max\", \"run_name\": \"MaxAbsScaler, ExtremeRandomTrees\", \"run_properties\": \"copy=True\", \"primary_metric\": 0.82581081, \"best_metric\": 0.82594595}, {\"run_id\": \"AutoML_a8026d04-0a63-4621-bb03-ffdaa17023ae_worker_0\", \"run_number\": 1671448222, \"metric\": null, \"status\": \"Completed\", \"run_type\": \"azureml.scriptrun\", \"training_percent\": null, \"start_time\": \"2022-12-19T11:10:29.616842Z\", \"end_time\": \"2022-12-19T11:12:12.469572Z\", \"created_time\": \"2022-12-19T11:10:22.300606Z\", \"created_time_dt\": \"2022-12-19T11:10:22.300606Z\", \"duration\": \"0:01:50\", \"iteration\": null, \"goal\": null, \"run_name\": \"Completed\", \"run_properties\": null}, {\"run_id\": \"AutoML_a8026d04-0a63-4621-bb03-ffdaa17023ae_6\", \"run_number\": 1671448223, \"metric\": null, \"status\": \"Completed\", \"run_type\": null, \"training_percent\": \"100\", \"start_time\": \"2022-12-19T11:12:47.908222Z\", \"end_time\": \"2022-12-19T11:13:04.915507Z\", \"created_time\": \"2022-12-19T11:10:23.020044Z\", \"created_time_dt\": \"2022-12-19T11:10:23.020044Z\", \"duration\": \"0:02:41\", \"iteration\": \"6\", \"goal\": \"accuracy_max\", \"run_name\": \"RobustScaler, LogisticRegression\", \"run_properties\": \"copy=True, quantile_range=[10, 90], with_centering=True,\\n             with_scaling=True\", \"primary_metric\": 0.80243243, \"best_metric\": 0.82594595}, {\"run_id\": \"AutoML_a8026d04-0a63-4621-bb03-ffdaa17023ae_worker_1\", \"run_number\": 1671448224, \"metric\": null, \"status\": \"Completed\", \"run_type\": \"azureml.scriptrun\", \"training_percent\": null, \"start_time\": \"2022-12-19T11:12:21.719927Z\", \"end_time\": \"2022-12-19T11:13:57.681877Z\", \"created_time\": \"2022-12-19T11:10:24.746388Z\", \"created_time_dt\": \"2022-12-19T11:10:24.746388Z\", \"duration\": \"0:03:32\", \"iteration\": null, \"goal\": null, \"run_name\": \"Completed\", \"run_properties\": null}, {\"run_id\": \"AutoML_a8026d04-0a63-4621-bb03-ffdaa17023ae_10\", \"run_number\": 1671448225, \"metric\": null, \"status\": \"Completed\", \"run_type\": null, \"training_percent\": \"100\", \"start_time\": \"2022-12-19T11:13:56.909866Z\", \"end_time\": \"2022-12-19T11:14:12.96642Z\", \"created_time\": \"2022-12-19T11:10:25.261292Z\", \"created_time_dt\": \"2022-12-19T11:10:25.261292Z\", \"duration\": \"0:03:47\", \"iteration\": \"10\", \"goal\": \"accuracy_max\", \"run_name\": \"StandardScalerWrapper, XGBoostClassifier\", \"run_properties\": \"copy=True, with_mean=False, with_std=False\", \"primary_metric\": 0.83918919, \"best_metric\": 0.83918919}, {\"run_id\": \"AutoML_a8026d04-0a63-4621-bb03-ffdaa17023ae_12\", \"run_number\": 1671448226, \"metric\": null, \"status\": \"Completed\", \"run_type\": null, \"training_percent\": \"100\", \"start_time\": \"2022-12-19T11:14:30.381066Z\", \"end_time\": \"2022-12-19T11:14:46.047954Z\", \"created_time\": \"2022-12-19T11:10:26.25075Z\", \"created_time_dt\": \"2022-12-19T11:10:26.25075Z\", \"duration\": \"0:04:19\", \"iteration\": \"12\", \"goal\": \"accuracy_max\", \"run_name\": \"StandardScalerWrapper, LogisticRegression\", \"run_properties\": \"copy=True, with_mean=True, with_std=False\", \"primary_metric\": 0.74887387, \"best_metric\": 0.83918919}, {\"run_id\": \"AutoML_a8026d04-0a63-4621-bb03-ffdaa17023ae_worker_2\", \"run_number\": 1671448227, \"metric\": null, \"status\": \"Completed\", \"run_type\": \"azureml.scriptrun\", \"training_percent\": null, \"start_time\": \"2022-12-19T11:12:48.959652Z\", \"end_time\": \"2022-12-19T11:15:17.786627Z\", \"created_time\": \"2022-12-19T11:10:27.466231Z\", \"created_time_dt\": \"2022-12-19T11:10:27.466231Z\", \"duration\": \"0:04:50\", \"iteration\": null, \"goal\": null, \"run_name\": \"Completed\", \"run_properties\": null}, {\"run_id\": \"AutoML_a8026d04-0a63-4621-bb03-ffdaa17023ae_16\", \"run_number\": 1671448228, \"metric\": null, \"status\": \"Completed\", \"run_type\": null, \"training_percent\": \"100\", \"start_time\": \"2022-12-19T11:14:19.392413Z\", \"end_time\": \"2022-12-19T11:14:35.2516Z\", \"created_time\": \"2022-12-19T11:10:28.126233Z\", \"created_time_dt\": \"2022-12-19T11:10:28.126233Z\", \"duration\": \"0:04:07\", \"iteration\": \"16\", \"goal\": \"accuracy_max\", \"run_name\": \"SparseNormalizer, KNN\", \"run_properties\": \"copy=True, norm='max'\", \"primary_metric\": 0.74252252, \"best_metric\": 0.83918919}, {\"run_id\": \"AutoML_a8026d04-0a63-4621-bb03-ffdaa17023ae_worker_3\", \"run_number\": 1671448229, \"metric\": null, \"status\": \"Completed\", \"run_type\": \"azureml.scriptrun\", \"training_percent\": null, \"start_time\": \"2022-12-19T11:12:48.448356Z\", \"end_time\": \"2022-12-19T11:15:31.011694Z\", \"created_time\": \"2022-12-19T11:10:29.825339Z\", \"created_time_dt\": \"2022-12-19T11:10:29.825339Z\", \"duration\": \"0:05:01\", \"iteration\": null, \"goal\": null, \"run_name\": \"Completed\", \"run_properties\": null}, {\"run_id\": \"AutoML_a8026d04-0a63-4621-bb03-ffdaa17023ae_21\", \"run_number\": 1671448500, \"metric\": null, \"status\": \"Completed\", \"run_type\": \"azureml.scriptrun\", \"training_percent\": \"100\", \"start_time\": \"2022-12-19T11:15:07.263595Z\", \"end_time\": \"2022-12-19T11:15:37.035654Z\", \"created_time\": \"2022-12-19T11:15:00.301206Z\", \"created_time_dt\": \"2022-12-19T11:15:00.301206Z\", \"duration\": \"0:00:36\", \"iteration\": \"21\", \"goal\": \"accuracy_max\", \"run_name\": \"StandardScalerWrapper, XGBoostClassifier\", \"run_properties\": \"copy=True, with_mean=False, with_std=False\", \"primary_metric\": 0.84594595, \"best_metric\": 0.84594595}, {\"run_id\": \"AutoML_a8026d04-0a63-4621-bb03-ffdaa17023ae_22\", \"run_number\": 1671448528, \"metric\": null, \"status\": \"Completed\", \"run_type\": \"azureml.scriptrun\", \"training_percent\": \"100\", \"start_time\": \"2022-12-19T11:15:36.217571Z\", \"end_time\": \"2022-12-19T11:16:04.812809Z\", \"created_time\": \"2022-12-19T11:15:28.204827Z\", \"created_time_dt\": \"2022-12-19T11:15:28.204827Z\", \"duration\": \"0:00:36\", \"iteration\": \"22\", \"goal\": \"accuracy_max\", \"run_name\": \"SparseNormalizer, RandomForest\", \"run_properties\": \"copy=True, norm='l2'\", \"primary_metric\": 0.81252252, \"best_metric\": 0.84594595}, {\"run_id\": \"AutoML_a8026d04-0a63-4621-bb03-ffdaa17023ae_24\", \"run_number\": 1671448539, \"metric\": null, \"status\": \"Completed\", \"run_type\": \"azureml.scriptrun\", \"training_percent\": \"100\", \"start_time\": \"2022-12-19T11:15:44.276883Z\", \"end_time\": \"2022-12-19T11:16:12.700781Z\", \"created_time\": \"2022-12-19T11:15:39.611977Z\", \"created_time_dt\": \"2022-12-19T11:15:39.611977Z\", \"duration\": \"0:00:33\", \"iteration\": \"24\", \"goal\": \"accuracy_max\", \"run_name\": \"StandardScalerWrapper, XGBoostClassifier\", \"run_properties\": \"copy=True, with_mean=False, with_std=False\", \"primary_metric\": 0.83252252, \"best_metric\": 0.84594595}, {\"run_id\": \"AutoML_a8026d04-0a63-4621-bb03-ffdaa17023ae_25\", \"run_number\": 1671448567, \"metric\": null, \"status\": \"Completed\", \"run_type\": \"azureml.scriptrun\", \"training_percent\": \"100\", \"start_time\": \"2022-12-19T11:16:12.685842Z\", \"end_time\": \"2022-12-19T11:16:39.724838Z\", \"created_time\": \"2022-12-19T11:16:07.499218Z\", \"created_time_dt\": \"2022-12-19T11:16:07.499218Z\", \"duration\": \"0:00:32\", \"iteration\": \"25\", \"goal\": \"accuracy_max\", \"run_name\": \"StandardScalerWrapper, LightGBM\", \"run_properties\": \"copy=True, with_mean=True, with_std=False\", \"primary_metric\": 0.84265766, \"best_metric\": 0.84594595}, {\"run_id\": \"AutoML_a8026d04-0a63-4621-bb03-ffdaa17023ae_26\", \"run_number\": 1671448574, \"metric\": null, \"status\": \"Completed\", \"run_type\": \"azureml.scriptrun\", \"training_percent\": \"100\", \"start_time\": \"2022-12-19T11:16:21.741338Z\", \"end_time\": \"2022-12-19T11:16:46.591636Z\", \"created_time\": \"2022-12-19T11:16:14.293059Z\", \"created_time_dt\": \"2022-12-19T11:16:14.293059Z\", \"duration\": \"0:00:32\", \"iteration\": \"26\", \"goal\": \"accuracy_max\", \"run_name\": \"SparseNormalizer, XGBoostClassifier\", \"run_properties\": \"copy=True, norm='l1'\", \"primary_metric\": 0.81918919, \"best_metric\": 0.84594595}, {\"run_id\": \"AutoML_a8026d04-0a63-4621-bb03-ffdaa17023ae_27\", \"run_number\": 1671448580, \"metric\": null, \"status\": \"Completed\", \"run_type\": \"azureml.scriptrun\", \"training_percent\": \"100\", \"start_time\": \"2022-12-19T11:16:28.126538Z\", \"end_time\": \"2022-12-19T11:16:56.439686Z\", \"created_time\": \"2022-12-19T11:16:20.959443Z\", \"created_time_dt\": \"2022-12-19T11:16:20.959443Z\", \"duration\": \"0:00:35\", \"iteration\": \"27\", \"goal\": \"accuracy_max\", \"run_name\": \"RobustScaler, RandomForest\", \"run_properties\": \"copy=True, quantile_range=[10, 90], with_centering=True,\\n             with_scaling=True\", \"primary_metric\": 0.8359009, \"best_metric\": 0.84594595}, {\"run_id\": \"AutoML_a8026d04-0a63-4621-bb03-ffdaa17023ae_28\", \"run_number\": 1671448601, \"metric\": null, \"status\": \"Completed\", \"run_type\": \"azureml.scriptrun\", \"training_percent\": \"100\", \"start_time\": \"2022-12-19T11:16:49.07711Z\", \"end_time\": \"2022-12-19T11:17:16.111513Z\", \"created_time\": \"2022-12-19T11:16:41.386395Z\", \"created_time_dt\": \"2022-12-19T11:16:41.386395Z\", \"duration\": \"0:00:34\", \"iteration\": \"28\", \"goal\": \"accuracy_max\", \"run_name\": \"SparseNormalizer, XGBoostClassifier\", \"run_properties\": \"copy=True, norm='l2'\", \"primary_metric\": 0.84279279, \"best_metric\": 0.84594595}, {\"run_id\": \"AutoML_a8026d04-0a63-4621-bb03-ffdaa17023ae_29\", \"run_number\": 1671448608, \"metric\": null, \"status\": \"Completed\", \"run_type\": \"azureml.scriptrun\", \"training_percent\": \"100\", \"start_time\": \"2022-12-19T11:16:55.454078Z\", \"end_time\": \"2022-12-19T11:17:19.652334Z\", \"created_time\": \"2022-12-19T11:16:48.261237Z\", \"created_time_dt\": \"2022-12-19T11:16:48.261237Z\", \"duration\": \"0:00:31\", \"iteration\": \"29\", \"goal\": \"accuracy_max\", \"run_name\": \"StandardScalerWrapper, GradientBoosting\", \"run_properties\": \"copy=True, with_mean=True, with_std=True\", \"primary_metric\": 0.84261261, \"best_metric\": 0.84594595}, {\"run_id\": \"AutoML_a8026d04-0a63-4621-bb03-ffdaa17023ae_30\", \"run_number\": 1671448618, \"metric\": null, \"status\": \"Completed\", \"run_type\": \"azureml.scriptrun\", \"training_percent\": \"100\", \"start_time\": \"2022-12-19T11:17:04.646276Z\", \"end_time\": \"2022-12-19T11:17:36.322889Z\", \"created_time\": \"2022-12-19T11:16:58.088773Z\", \"created_time_dt\": \"2022-12-19T11:16:58.088773Z\", \"duration\": \"0:00:38\", \"iteration\": \"30\", \"goal\": \"accuracy_max\", \"run_name\": \"StandardScalerWrapper, LightGBM\", \"run_properties\": \"copy=True, with_mean=True, with_std=False\", \"primary_metric\": 0.83927928, \"best_metric\": 0.84594595}, {\"run_id\": \"AutoML_a8026d04-0a63-4621-bb03-ffdaa17023ae_31\", \"run_number\": 1671448620, \"metric\": null, \"status\": \"Completed\", \"run_type\": \"azureml.scriptrun\", \"training_percent\": \"100\", \"start_time\": \"2022-12-19T11:17:05.728455Z\", \"end_time\": \"2022-12-19T11:17:38.334188Z\", \"created_time\": \"2022-12-19T11:17:00.369829Z\", \"created_time_dt\": \"2022-12-19T11:17:00.369829Z\", \"duration\": \"0:00:37\", \"iteration\": \"31\", \"goal\": \"accuracy_max\", \"run_name\": \"RobustScaler, LightGBM\", \"run_properties\": \"copy=True, quantile_range=[25, 75], with_centering=True,\\n             with_scaling=False\", \"primary_metric\": 0.85279279, \"best_metric\": 0.85279279}, {\"run_id\": \"AutoML_a8026d04-0a63-4621-bb03-ffdaa17023ae_32\", \"run_number\": 1671448637, \"metric\": null, \"status\": \"Completed\", \"run_type\": \"azureml.scriptrun\", \"training_percent\": \"100\", \"start_time\": \"2022-12-19T11:17:23.500694Z\", \"end_time\": \"2022-12-19T11:17:49.11591Z\", \"created_time\": \"2022-12-19T11:17:17.831668Z\", \"created_time_dt\": \"2022-12-19T11:17:17.831668Z\", \"duration\": \"0:00:31\", \"iteration\": \"32\", \"goal\": \"accuracy_max\", \"run_name\": \"RobustScaler, RandomForest\", \"run_properties\": \"copy=True, quantile_range=[25, 75], with_centering=True,\\n             with_scaling=False\", \"primary_metric\": 0.83923423, \"best_metric\": 0.85279279}, {\"run_id\": \"AutoML_a8026d04-0a63-4621-bb03-ffdaa17023ae_33\", \"run_number\": 1671448641, \"metric\": null, \"status\": \"Completed\", \"run_type\": \"azureml.scriptrun\", \"training_percent\": \"100\", \"start_time\": \"2022-12-19T11:17:26.6046Z\", \"end_time\": \"2022-12-19T11:17:52.989234Z\", \"created_time\": \"2022-12-19T11:17:21.205985Z\", \"created_time_dt\": \"2022-12-19T11:17:21.205985Z\", \"duration\": \"0:00:31\", \"iteration\": \"33\", \"goal\": \"accuracy_max\", \"run_name\": \"StandardScalerWrapper, XGBoostClassifier\", \"run_properties\": \"copy=True, with_mean=False, with_std=False\", \"primary_metric\": 0.82918919, \"best_metric\": 0.85279279}, {\"run_id\": \"AutoML_a8026d04-0a63-4621-bb03-ffdaa17023ae_34\", \"run_number\": 1671448657, \"metric\": null, \"status\": \"Completed\", \"run_type\": \"azureml.scriptrun\", \"training_percent\": \"100\", \"start_time\": \"2022-12-19T11:17:45.170327Z\", \"end_time\": \"2022-12-19T11:18:17.746367Z\", \"created_time\": \"2022-12-19T11:17:37.873691Z\", \"created_time_dt\": \"2022-12-19T11:17:37.873691Z\", \"duration\": \"0:00:39\", \"iteration\": \"34\", \"goal\": \"accuracy_max\", \"run_name\": \"StandardScalerWrapper, XGBoostClassifier\", \"run_properties\": \"copy=True, with_mean=False, with_std=False\", \"primary_metric\": 0.85265766, \"best_metric\": 0.85279279}, {\"run_id\": \"AutoML_a8026d04-0a63-4621-bb03-ffdaa17023ae_35\", \"run_number\": 1671448661, \"metric\": null, \"status\": \"Completed\", \"run_type\": \"azureml.scriptrun\", \"training_percent\": \"100\", \"start_time\": \"2022-12-19T11:17:47.18092Z\", \"end_time\": \"2022-12-19T11:18:19.825806Z\", \"created_time\": \"2022-12-19T11:17:41.699738Z\", \"created_time_dt\": \"2022-12-19T11:17:41.699738Z\", \"duration\": \"0:00:38\", \"iteration\": \"35\", \"goal\": \"accuracy_max\", \"run_name\": \"RobustScaler, LightGBM\", \"run_properties\": \"copy=True, quantile_range=[25, 75], with_centering=True,\\n             with_scaling=False\", \"primary_metric\": 0.83261261, \"best_metric\": 0.85279279}, {\"run_id\": \"AutoML_a8026d04-0a63-4621-bb03-ffdaa17023ae_36\", \"run_number\": 1671448670, \"metric\": null, \"status\": \"Completed\", \"run_type\": \"azureml.scriptrun\", \"training_percent\": \"100\", \"start_time\": \"2022-12-19T11:17:56.09171Z\", \"end_time\": \"2022-12-19T11:18:24.16398Z\", \"created_time\": \"2022-12-19T11:17:50.709263Z\", \"created_time_dt\": \"2022-12-19T11:17:50.709263Z\", \"duration\": \"0:00:33\", \"iteration\": \"36\", \"goal\": \"accuracy_max\", \"run_name\": \"StandardScalerWrapper, XGBoostClassifier\", \"run_properties\": \"copy=True, with_mean=False, with_std=False\", \"primary_metric\": 0.8290991, \"best_metric\": 0.85279279}, {\"run_id\": \"AutoML_a8026d04-0a63-4621-bb03-ffdaa17023ae_37\", \"run_number\": 1671448674, \"metric\": null, \"status\": \"Completed\", \"run_type\": \"azureml.scriptrun\", \"training_percent\": \"100\", \"start_time\": \"2022-12-19T11:18:01.56377Z\", \"end_time\": \"2022-12-19T11:18:29.152934Z\", \"created_time\": \"2022-12-19T11:17:54.808571Z\", \"created_time_dt\": \"2022-12-19T11:17:54.808571Z\", \"duration\": \"0:00:34\", \"iteration\": \"37\", \"goal\": \"accuracy_max\", \"run_name\": \"MinMaxScaler, LightGBM\", \"run_properties\": \"copy=True, feature_range=(0, 1\", \"primary_metric\": 0.83594595, \"best_metric\": 0.85279279}, {\"run_id\": \"AutoML_a8026d04-0a63-4621-bb03-ffdaa17023ae_38\", \"run_number\": 1671448699, \"metric\": null, \"status\": \"Completed\", \"run_type\": \"azureml.scriptrun\", \"training_percent\": \"100\", \"start_time\": \"2022-12-19T11:18:26.742643Z\", \"end_time\": \"2022-12-19T11:18:59.067728Z\", \"created_time\": \"2022-12-19T11:18:19.417542Z\", \"created_time_dt\": \"2022-12-19T11:18:19.417542Z\", \"duration\": \"0:00:39\", \"iteration\": \"38\", \"goal\": \"accuracy_max\", \"run_name\": \"MinMaxScaler, LightGBM\", \"run_properties\": \"copy=True, feature_range=(0, 1\", \"primary_metric\": 0.81927928, \"best_metric\": 0.85279279}, {\"run_id\": \"AutoML_a8026d04-0a63-4621-bb03-ffdaa17023ae_39\", \"run_number\": 1671448701, \"metric\": null, \"status\": \"Completed\", \"run_type\": \"azureml.scriptrun\", \"training_percent\": \"100\", \"start_time\": \"2022-12-19T11:18:26.84105Z\", \"end_time\": \"2022-12-19T11:18:57.519439Z\", \"created_time\": \"2022-12-19T11:18:21.615935Z\", \"created_time_dt\": \"2022-12-19T11:18:21.615935Z\", \"duration\": \"0:00:35\", \"iteration\": \"39\", \"goal\": \"accuracy_max\", \"run_name\": \"MinMaxScaler, RandomForest\", \"run_properties\": \"copy=True, feature_range=(0, 1\", \"primary_metric\": 0.83234234, \"best_metric\": 0.85279279}, {\"run_id\": \"AutoML_a8026d04-0a63-4621-bb03-ffdaa17023ae_40\", \"run_number\": 1671448706, \"metric\": null, \"status\": \"Completed\", \"run_type\": \"azureml.scriptrun\", \"training_percent\": \"100\", \"start_time\": \"2022-12-19T11:18:32.199815Z\", \"end_time\": \"2022-12-19T11:18:59.140549Z\", \"created_time\": \"2022-12-19T11:18:26.872842Z\", \"created_time_dt\": \"2022-12-19T11:18:26.872842Z\", \"duration\": \"0:00:32\", \"iteration\": \"40\", \"goal\": \"accuracy_max\", \"run_name\": \"PCA, LightGBM\", \"run_properties\": \"copy=True, iterated_power='auto', n_components=0.45526315789473687,\\n    random_state=None, svd_solver='auto', tol=0.0, whiten=True\", \"primary_metric\": 0.6790991, \"best_metric\": 0.85279279}, {\"run_id\": \"AutoML_a8026d04-0a63-4621-bb03-ffdaa17023ae_41\", \"run_number\": 1671448710, \"metric\": null, \"status\": \"Completed\", \"run_type\": \"azureml.scriptrun\", \"training_percent\": \"100\", \"start_time\": \"2022-12-19T11:18:38.624973Z\", \"end_time\": \"2022-12-19T11:19:08.295176Z\", \"created_time\": \"2022-12-19T11:18:30.727671Z\", \"created_time_dt\": \"2022-12-19T11:18:30.727671Z\", \"duration\": \"0:00:37\", \"iteration\": \"41\", \"goal\": \"accuracy_max\", \"run_name\": \"MinMaxScaler, RandomForest\", \"run_properties\": \"copy=True, feature_range=(0, 1\", \"primary_metric\": 0.81905405, \"best_metric\": 0.85279279}, {\"run_id\": \"AutoML_a8026d04-0a63-4621-bb03-ffdaa17023ae_42\", \"run_number\": 1671448738, \"metric\": null, \"status\": \"Completed\", \"run_type\": \"azureml.scriptrun\", \"training_percent\": \"100\", \"start_time\": \"2022-12-19T11:19:06.088876Z\", \"end_time\": \"2022-12-19T11:19:37.690365Z\", \"created_time\": \"2022-12-19T11:18:58.978771Z\", \"created_time_dt\": \"2022-12-19T11:18:58.978771Z\", \"duration\": \"0:00:38\", \"iteration\": \"42\", \"goal\": \"accuracy_max\", \"run_name\": \"StandardScalerWrapper, XGBoostClassifier\", \"run_properties\": \"copy=True, with_mean=False, with_std=False\", \"primary_metric\": 0.83247748, \"best_metric\": 0.85279279}, {\"run_id\": \"AutoML_a8026d04-0a63-4621-bb03-ffdaa17023ae_43\", \"run_number\": 1671448741, \"metric\": null, \"status\": \"Completed\", \"run_type\": \"azureml.scriptrun\", \"training_percent\": \"100\", \"start_time\": \"2022-12-19T11:19:05.902857Z\", \"end_time\": \"2022-12-19T11:19:33.12401Z\", \"created_time\": \"2022-12-19T11:19:01.278774Z\", \"created_time_dt\": \"2022-12-19T11:19:01.278774Z\", \"duration\": \"0:00:31\", \"iteration\": \"43\", \"goal\": \"accuracy_max\", \"run_name\": \"StandardScalerWrapper, XGBoostClassifier\", \"run_properties\": \"copy=True, with_mean=False, with_std=False\", \"primary_metric\": 0.83252252, \"best_metric\": 0.85279279}, {\"run_id\": \"AutoML_a8026d04-0a63-4621-bb03-ffdaa17023ae_45\", \"run_number\": 1671448750, \"metric\": null, \"status\": \"Canceled\", \"run_type\": \"azureml.scriptrun\", \"training_percent\": \"100\", \"start_time\": \"2022-12-19T11:19:17.029458Z\", \"end_time\": \"2022-12-19T11:19:39.010838Z\", \"created_time\": \"2022-12-19T11:19:10.880328Z\", \"created_time_dt\": \"2022-12-19T11:19:10.880328Z\", \"duration\": \"0:00:28\", \"iteration\": \"45\", \"goal\": \"accuracy_max\", \"run_name\": \"MinMaxScaler, LightGBM\", \"run_properties\": \"copy=True, feature_range=(0, 1\", \"primary_metric\": 0.8427027, \"best_metric\": 0.85279279}, {\"run_id\": \"AutoML_a8026d04-0a63-4621-bb03-ffdaa17023ae_46\", \"run_number\": 1671448775, \"metric\": null, \"status\": \"Canceled\", \"run_type\": \"azureml.scriptrun\", \"training_percent\": \"100\", \"start_time\": \"2022-12-19T11:19:38.772408Z\", \"end_time\": \"2022-12-19T11:19:38.934662Z\", \"created_time\": \"2022-12-19T11:19:35.478555Z\", \"created_time_dt\": \"2022-12-19T11:19:35.478555Z\", \"duration\": \"0:00:03\", \"iteration\": \"46\", \"goal\": null, \"run_name\": \"Canceled\", \"run_properties\": null}, {\"run_id\": \"AutoML_a8026d04-0a63-4621-bb03-ffdaa17023ae_47\", \"run_number\": 1671448777, \"metric\": null, \"status\": \"Canceled\", \"run_type\": \"azureml.scriptrun\", \"training_percent\": \"100\", \"start_time\": \"2022-12-19T11:19:38.760998Z\", \"end_time\": \"2022-12-19T11:19:40.20343Z\", \"created_time\": \"2022-12-19T11:19:37.670474Z\", \"created_time_dt\": \"2022-12-19T11:19:37.670474Z\", \"duration\": \"0:00:02\", \"iteration\": \"47\", \"goal\": null, \"run_name\": \"Canceled\", \"run_properties\": null}, {\"run_id\": \"AutoML_a8026d04-0a63-4621-bb03-ffdaa17023ae_48\", \"run_number\": 1671448780, \"metric\": null, \"status\": \"Completed\", \"run_type\": \"azureml.scriptrun\", \"training_percent\": \"100\", \"start_time\": \"2022-12-19T11:19:47.193325Z\", \"end_time\": \"2022-12-19T11:20:32.579053Z\", \"created_time\": \"2022-12-19T11:19:40.805526Z\", \"created_time_dt\": \"2022-12-19T11:19:40.805526Z\", \"duration\": \"0:00:51\", \"iteration\": \"48\", \"goal\": \"accuracy_max\", \"run_name\": \"VotingEnsemble\", \"run_properties\": \"classification_labels=numpy.array([0, 1]\", \"primary_metric\": 0.86617117, \"best_metric\": 0.86617117}], \"children_metrics\": {\"categories\": [0], \"series\": {\"log_loss\": [{\"categories\": [\"0\", \"2\", \"6\", \"10\", \"12\", \"16\", \"21\", \"22\", \"24\", \"25\", \"26\", \"27\", \"28\", \"29\", \"30\", \"31\", \"32\", \"33\", \"34\", \"35\", \"36\", \"37\", \"38\", \"39\", \"40\", \"41\", \"42\", \"43\", \"45\", \"48\"], \"mode\": \"markers\", \"name\": \"log_loss\", \"stepped\": false, \"type\": \"scatter\", \"data\": [0.4862782439584045, 0.5416881245766115, 0.4559767257028999, 0.404356961056117, 0.5201697899585536, 1.0931208181070349, 0.37548732690583875, 0.42014888120220306, 0.37609668828478116, 0.42463129227911756, 0.43011652776137427, 0.6002606706744931, 0.39714021153437895, 0.36510807125821504, 0.4384672549687127, 0.37694480117723256, 0.3747920507002873, 0.5392336832701494, 0.37123493100033267, 0.37705252944302214, 0.5648129337920689, 0.48178971157236583, 0.41667143080830865, 0.3795950454300454, 0.6430516472153556, 0.3855227030431111, 0.4615209342182506, 0.42704334472060973, 0.4086542792213115, 0.397482912569034]}, {\"categories\": [\"0\", \"2\", \"6\", \"10\", \"12\", \"16\", \"21\", \"22\", \"24\", \"25\", \"26\", \"27\", \"28\", \"29\", \"30\", \"31\", \"32\", \"33\", \"34\", \"35\", \"36\", \"37\", \"38\", \"39\", \"40\", \"41\", \"42\", \"43\", \"45\", \"48\"], \"mode\": \"lines\", \"name\": \"log_loss_min\", \"stepped\": true, \"type\": \"scatter\", \"data\": [0.4862782439584045, 0.4862782439584045, 0.4559767257028999, 0.404356961056117, 0.404356961056117, 0.404356961056117, 0.37548732690583875, 0.37548732690583875, 0.37548732690583875, 0.37548732690583875, 0.37548732690583875, 0.37548732690583875, 0.37548732690583875, 0.36510807125821504, 0.36510807125821504, 0.36510807125821504, 0.36510807125821504, 0.36510807125821504, 0.36510807125821504, 0.36510807125821504, 0.36510807125821504, 0.36510807125821504, 0.36510807125821504, 0.36510807125821504, 0.36510807125821504, 0.36510807125821504, 0.36510807125821504, 0.36510807125821504, 0.36510807125821504, 0.36510807125821504]}], \"weighted_accuracy\": [{\"categories\": [\"0\", \"2\", \"6\", \"10\", \"12\", \"16\", \"21\", \"22\", \"24\", \"25\", \"26\", \"27\", \"28\", \"29\", \"30\", \"31\", \"32\", \"33\", \"34\", \"35\", \"36\", \"37\", \"38\", \"39\", \"40\", \"41\", \"42\", \"43\", \"45\", \"48\"], \"mode\": \"markers\", \"name\": \"weighted_accuracy\", \"stepped\": false, \"type\": \"scatter\", \"data\": [0.8509254276713047, 0.8376729325551328, 0.8061427141562728, 0.8643954497565638, 0.7360721608521412, 0.8037117268201679, 0.8734458419158764, 0.8344594691736933, 0.8578795125920267, 0.8720469357935748, 0.8498089235876107, 0.8528825992572212, 0.8677066896656628, 0.8611580030895878, 0.8705485574322331, 0.8762819499186528, 0.8635667856001058, 0.8444211926847155, 0.8743645319291435, 0.8573312609146158, 0.849032863951848, 0.8578686653701527, 0.8564098595809684, 0.8522846261544555, 0.7972022593522936, 0.8354165559708251, 0.8540463499492571, 0.8635518968325149, 0.869294450539507, 0.8912802402919023]}, {\"categories\": [\"0\", \"2\", \"6\", \"10\", \"12\", \"16\", \"21\", \"22\", \"24\", \"25\", \"26\", \"27\", \"28\", \"29\", \"30\", \"31\", \"32\", \"33\", \"34\", \"35\", \"36\", \"37\", \"38\", \"39\", \"40\", \"41\", \"42\", \"43\", \"45\", \"48\"], \"mode\": \"lines\", \"name\": \"weighted_accuracy_max\", \"stepped\": true, \"type\": \"scatter\", \"data\": [0.8509254276713047, 0.8509254276713047, 0.8509254276713047, 0.8643954497565638, 0.8643954497565638, 0.8643954497565638, 0.8734458419158764, 0.8734458419158764, 0.8734458419158764, 0.8734458419158764, 0.8734458419158764, 0.8734458419158764, 0.8734458419158764, 0.8734458419158764, 0.8734458419158764, 0.8762819499186528, 0.8762819499186528, 0.8762819499186528, 0.8762819499186528, 0.8762819499186528, 0.8762819499186528, 0.8762819499186528, 0.8762819499186528, 0.8762819499186528, 0.8762819499186528, 0.8762819499186528, 0.8762819499186528, 0.8762819499186528, 0.8762819499186528, 0.8912802402919023]}], \"recall_score_macro\": [{\"categories\": [\"0\", \"2\", \"6\", \"10\", \"12\", \"16\", \"21\", \"22\", \"24\", \"25\", \"26\", \"27\", \"28\", \"29\", \"30\", \"31\", \"32\", \"33\", \"34\", \"35\", \"36\", \"37\", \"38\", \"39\", \"40\", \"41\", \"42\", \"43\", \"45\", \"48\"], \"mode\": \"markers\", \"name\": \"recall_score_macro\", \"stepped\": false, \"type\": \"scatter\", \"data\": [0.7898464186864611, 0.8068558109342008, 0.7953005514181362, 0.8020578056595006, 0.7642865804942076, 0.652813929244014, 0.8070572171472596, 0.7787736373011797, 0.794878134655677, 0.8000376036392985, 0.774092137068832, 0.8119408878942778, 0.8055999232641182, 0.8150312777696253, 0.7942731262381686, 0.8184771952780427, 0.8039727888244838, 0.8085896673555572, 0.8201749766633242, 0.7976784593310018, 0.8011845018995443, 0.8028777611669562, 0.766155629132324, 0.8034203898345846, 0.5, 0.7951637414296313, 0.8022855420630844, 0.7859751036392986, 0.8059276303185201, 0.8298182847441322]}, {\"categories\": [\"0\", \"2\", \"6\", \"10\", \"12\", \"16\", \"21\", \"22\", \"24\", \"25\", \"26\", \"27\", \"28\", \"29\", \"30\", \"31\", \"32\", \"33\", \"34\", \"35\", \"36\", \"37\", \"38\", \"39\", \"40\", \"41\", \"42\", \"43\", \"45\", \"48\"], \"mode\": \"lines\", \"name\": \"recall_score_macro_max\", \"stepped\": true, \"type\": \"scatter\", \"data\": [0.7898464186864611, 0.8068558109342008, 0.8068558109342008, 0.8068558109342008, 0.8068558109342008, 0.8068558109342008, 0.8070572171472596, 0.8070572171472596, 0.8070572171472596, 0.8070572171472596, 0.8070572171472596, 0.8119408878942778, 0.8119408878942778, 0.8150312777696253, 0.8150312777696253, 0.8184771952780427, 0.8184771952780427, 0.8184771952780427, 0.8201749766633242, 0.8201749766633242, 0.8201749766633242, 0.8201749766633242, 0.8201749766633242, 0.8201749766633242, 0.8201749766633242, 0.8201749766633242, 0.8201749766633242, 0.8201749766633242, 0.8201749766633242, 0.8298182847441322]}], \"average_precision_score_weighted\": [{\"categories\": [\"0\", \"2\", \"6\", \"10\", \"12\", \"16\", \"21\", \"22\", \"24\", \"25\", \"26\", \"27\", \"28\", \"29\", \"30\", \"31\", \"32\", \"33\", \"34\", \"35\", \"36\", \"37\", \"38\", \"39\", \"40\", \"41\", \"42\", \"43\", \"45\", \"48\"], \"mode\": \"markers\", \"name\": \"average_precision_score_weighted\", \"stepped\": false, \"type\": \"scatter\", \"data\": [0.897705223504243, 0.8877512870155934, 0.8787605512145298, 0.8786647134930367, 0.8576159971629225, 0.7723118195696068, 0.908368748403954, 0.8821136403955615, 0.9160436844925219, 0.9089276951280196, 0.8940195828487076, 0.893554286706428, 0.9053410339513243, 0.9159727784812656, 0.8789926653858688, 0.9064707857198484, 0.9098976427027905, 0.8956189491533638, 0.9095987335705545, 0.9058969120288572, 0.9169686799685035, 0.8847552892629249, 0.9113511340118461, 0.9083848100937145, 0.5995167002816278, 0.9038294048774351, 0.8926653157075591, 0.8593770868778614, 0.9071452684664054, 0.9111387511467616]}, {\"categories\": [\"0\", \"2\", \"6\", \"10\", \"12\", \"16\", \"21\", \"22\", \"24\", \"25\", \"26\", \"27\", \"28\", \"29\", \"30\", \"31\", \"32\", \"33\", \"34\", \"35\", \"36\", \"37\", \"38\", \"39\", \"40\", \"41\", \"42\", \"43\", \"45\", \"48\"], \"mode\": \"lines\", \"name\": \"average_precision_score_weighted_max\", \"stepped\": true, \"type\": \"scatter\", \"data\": [0.897705223504243, 0.897705223504243, 0.897705223504243, 0.897705223504243, 0.897705223504243, 0.897705223504243, 0.908368748403954, 0.908368748403954, 0.9160436844925219, 0.9160436844925219, 0.9160436844925219, 0.9160436844925219, 0.9160436844925219, 0.9160436844925219, 0.9160436844925219, 0.9160436844925219, 0.9160436844925219, 0.9160436844925219, 0.9160436844925219, 0.9160436844925219, 0.9169686799685035, 0.9169686799685035, 0.9169686799685035, 0.9169686799685035, 0.9169686799685035, 0.9169686799685035, 0.9169686799685035, 0.9169686799685035, 0.9169686799685035, 0.9169686799685035]}], \"AUC_weighted\": [{\"categories\": [\"0\", \"2\", \"6\", \"10\", \"12\", \"16\", \"21\", \"22\", \"24\", \"25\", \"26\", \"27\", \"28\", \"29\", \"30\", \"31\", \"32\", \"33\", \"34\", \"35\", \"36\", \"37\", \"38\", \"39\", \"40\", \"41\", \"42\", \"43\", \"45\", \"48\"], \"mode\": \"markers\", \"name\": \"AUC_weighted\", \"stepped\": false, \"type\": \"scatter\", \"data\": [0.8859521958215462, 0.873444128193422, 0.8624833721938241, 0.8712278828098036, 0.844248120837104, 0.7371203034515182, 0.9049052240524698, 0.8749570632338993, 0.905861522475223, 0.9017788313250884, 0.8853791224730491, 0.8857526027017553, 0.8913838326091151, 0.9089161727579806, 0.8792614655432452, 0.8969334520888192, 0.902548351418408, 0.8972309225222361, 0.9031679197816205, 0.8966081143694139, 0.9070949311856797, 0.8733984824027197, 0.901759048651704, 0.9021158925819942, 0.536470201238916, 0.8970098312965544, 0.892309495275597, 0.8645702340529318, 0.8983705429326898, 0.9042427741227176]}, {\"categories\": [\"0\", \"2\", \"6\", \"10\", \"12\", \"16\", \"21\", \"22\", \"24\", \"25\", \"26\", \"27\", \"28\", \"29\", \"30\", \"31\", \"32\", \"33\", \"34\", \"35\", \"36\", \"37\", \"38\", \"39\", \"40\", \"41\", \"42\", \"43\", \"45\", \"48\"], \"mode\": \"lines\", \"name\": \"AUC_weighted_max\", \"stepped\": true, \"type\": \"scatter\", \"data\": [0.8859521958215462, 0.8859521958215462, 0.8859521958215462, 0.8859521958215462, 0.8859521958215462, 0.8859521958215462, 0.9049052240524698, 0.9049052240524698, 0.905861522475223, 0.905861522475223, 0.905861522475223, 0.905861522475223, 0.905861522475223, 0.9089161727579806, 0.9089161727579806, 0.9089161727579806, 0.9089161727579806, 0.9089161727579806, 0.9089161727579806, 0.9089161727579806, 0.9089161727579806, 0.9089161727579806, 0.9089161727579806, 0.9089161727579806, 0.9089161727579806, 0.9089161727579806, 0.9089161727579806, 0.9089161727579806, 0.9089161727579806, 0.9089161727579806]}], \"balanced_accuracy\": [{\"categories\": [\"0\", \"2\", \"6\", \"10\", \"12\", \"16\", \"21\", \"22\", \"24\", \"25\", \"26\", \"27\", \"28\", \"29\", \"30\", \"31\", \"32\", \"33\", \"34\", \"35\", \"36\", \"37\", \"38\", \"39\", \"40\", \"41\", \"42\", \"43\", \"45\", \"48\"], \"mode\": \"markers\", \"name\": \"balanced_accuracy\", \"stepped\": false, \"type\": \"scatter\", \"data\": [0.7898464186864611, 0.8068558109342008, 0.7953005514181362, 0.8020578056595006, 0.7642865804942076, 0.652813929244014, 0.8070572171472596, 0.7787736373011797, 0.794878134655677, 0.8000376036392985, 0.774092137068832, 0.8119408878942778, 0.8055999232641182, 0.8150312777696253, 0.7942731262381686, 0.8184771952780427, 0.8039727888244838, 0.8085896673555572, 0.8201749766633242, 0.7976784593310018, 0.8011845018995443, 0.8028777611669562, 0.766155629132324, 0.8034203898345846, 0.5, 0.7951637414296313, 0.8022855420630844, 0.7859751036392986, 0.8059276303185201, 0.8298182847441322]}, {\"categories\": [\"0\", \"2\", \"6\", \"10\", \"12\", \"16\", \"21\", \"22\", \"24\", \"25\", \"26\", \"27\", \"28\", \"29\", \"30\", \"31\", \"32\", \"33\", \"34\", \"35\", \"36\", \"37\", \"38\", \"39\", \"40\", \"41\", \"42\", \"43\", \"45\", \"48\"], \"mode\": \"lines\", \"name\": \"balanced_accuracy_max\", \"stepped\": true, \"type\": \"scatter\", \"data\": [0.7898464186864611, 0.8068558109342008, 0.8068558109342008, 0.8068558109342008, 0.8068558109342008, 0.8068558109342008, 0.8070572171472596, 0.8070572171472596, 0.8070572171472596, 0.8070572171472596, 0.8070572171472596, 0.8119408878942778, 0.8119408878942778, 0.8150312777696253, 0.8150312777696253, 0.8184771952780427, 0.8184771952780427, 0.8184771952780427, 0.8201749766633242, 0.8201749766633242, 0.8201749766633242, 0.8201749766633242, 0.8201749766633242, 0.8201749766633242, 0.8201749766633242, 0.8201749766633242, 0.8201749766633242, 0.8201749766633242, 0.8201749766633242, 0.8298182847441322]}], \"f1_score_micro\": [{\"categories\": [\"0\", \"2\", \"6\", \"10\", \"12\", \"16\", \"21\", \"22\", \"24\", \"25\", \"26\", \"27\", \"28\", \"29\", \"30\", \"31\", \"32\", \"33\", \"34\", \"35\", \"36\", \"37\", \"38\", \"39\", \"40\", \"41\", \"42\", \"43\", \"45\", \"48\"], \"mode\": \"markers\", \"name\": \"f1_score_micro\", \"stepped\": false, \"type\": \"scatter\", \"data\": [0.825945945945946, 0.8258108108108108, 0.8024324324324325, 0.8391891891891892, 0.7488738738738738, 0.7425225225225225, 0.845945945945946, 0.8125225225225224, 0.8325225225225225, 0.8426576576576577, 0.8191891891891891, 0.8359009009009009, 0.8427927927927927, 0.8426126126126127, 0.8392792792792793, 0.8527927927927927, 0.8392342342342343, 0.8291891891891892, 0.8526576576576578, 0.8326126126126127, 0.8290990990990991, 0.835945945945946, 0.8192792792792793, 0.8323423423423423, 0.6790990990990992, 0.8190540540540541, 0.8324774774774774, 0.8325225225225225, 0.8427027027027028, 0.8661711711711712]}, {\"categories\": [\"0\", \"2\", \"6\", \"10\", \"12\", \"16\", \"21\", \"22\", \"24\", \"25\", \"26\", \"27\", \"28\", \"29\", \"30\", \"31\", \"32\", \"33\", \"34\", \"35\", \"36\", \"37\", \"38\", \"39\", \"40\", \"41\", \"42\", \"43\", \"45\", \"48\"], \"mode\": \"lines\", \"name\": \"f1_score_micro_max\", \"stepped\": true, \"type\": \"scatter\", \"data\": [0.825945945945946, 0.825945945945946, 0.825945945945946, 0.8391891891891892, 0.8391891891891892, 0.8391891891891892, 0.845945945945946, 0.845945945945946, 0.845945945945946, 0.845945945945946, 0.845945945945946, 0.845945945945946, 0.845945945945946, 0.845945945945946, 0.845945945945946, 0.8527927927927927, 0.8527927927927927, 0.8527927927927927, 0.8527927927927927, 0.8527927927927927, 0.8527927927927927, 0.8527927927927927, 0.8527927927927927, 0.8527927927927927, 0.8527927927927927, 0.8527927927927927, 0.8527927927927927, 0.8527927927927927, 0.8527927927927927, 0.8661711711711712]}], \"f1_score_weighted\": [{\"categories\": [\"0\", \"2\", \"6\", \"10\", \"12\", \"16\", \"21\", \"22\", \"24\", \"25\", \"26\", \"27\", \"28\", \"29\", \"30\", \"31\", \"32\", \"33\", \"34\", \"35\", \"36\", \"37\", \"38\", \"39\", \"40\", \"41\", \"42\", \"43\", \"45\", \"48\"], \"mode\": \"markers\", \"name\": \"f1_score_weighted\", \"stepped\": false, \"type\": \"scatter\", \"data\": [0.8223577453628388, 0.8270426458342292, 0.806664794390922, 0.8345447537202857, 0.7568386856109037, 0.7193482799385437, 0.8410690940102705, 0.8108524764212144, 0.8284374614407273, 0.836870239330622, 0.811706841609593, 0.8343967776404634, 0.8370938635250881, 0.8404808886157134, 0.8329169851169851, 0.848368889459147, 0.8354355442456265, 0.8275233235295689, 0.8494370225590451, 0.829960420403558, 0.8263261495019191, 0.8327524729571245, 0.8091437949473015, 0.8314718137257389, 0.5525023137601632, 0.8184536226813994, 0.8298608087985458, 0.8269431431198349, 0.837116474892844, 0.8604284204389155]}, {\"categories\": [\"0\", \"2\", \"6\", \"10\", \"12\", \"16\", \"21\", \"22\", \"24\", \"25\", \"26\", \"27\", \"28\", \"29\", \"30\", \"31\", \"32\", \"33\", \"34\", \"35\", \"36\", \"37\", \"38\", \"39\", \"40\", \"41\", \"42\", \"43\", \"45\", \"48\"], \"mode\": \"lines\", \"name\": \"f1_score_weighted_max\", \"stepped\": true, \"type\": \"scatter\", \"data\": [0.8223577453628388, 0.8270426458342292, 0.8270426458342292, 0.8345447537202857, 0.8345447537202857, 0.8345447537202857, 0.8410690940102705, 0.8410690940102705, 0.8410690940102705, 0.8410690940102705, 0.8410690940102705, 0.8410690940102705, 0.8410690940102705, 0.8410690940102705, 0.8410690940102705, 0.848368889459147, 0.848368889459147, 0.848368889459147, 0.8494370225590451, 0.8494370225590451, 0.8494370225590451, 0.8494370225590451, 0.8494370225590451, 0.8494370225590451, 0.8494370225590451, 0.8494370225590451, 0.8494370225590451, 0.8494370225590451, 0.8494370225590451, 0.8604284204389155]}], \"average_precision_score_macro\": [{\"categories\": [\"0\", \"2\", \"6\", \"10\", \"12\", \"16\", \"21\", \"22\", \"24\", \"25\", \"26\", \"27\", \"28\", \"29\", \"30\", \"31\", \"32\", \"33\", \"34\", \"35\", \"36\", \"37\", \"38\", \"39\", \"40\", \"41\", \"42\", \"43\", \"45\", \"48\"], \"mode\": \"markers\", \"name\": \"average_precision_score_macro\", \"stepped\": false, \"type\": \"scatter\", \"data\": [0.8721441836724315, 0.8518574371696629, 0.8384226850573844, 0.8489307137356183, 0.8249402204656258, 0.7288557212321529, 0.8755967408978418, 0.8463496238545851, 0.8902484070549855, 0.8834248303472343, 0.8658788428684661, 0.8652273023712245, 0.8807807975418407, 0.8920696699713337, 0.8466405229888352, 0.8833220167988205, 0.8805772794079048, 0.8661706930176719, 0.8826061021053431, 0.8817543527859839, 0.8904498028834121, 0.854276595488946, 0.8861738817184435, 0.8801813437721154, 0.52331898406407, 0.8723810437355773, 0.863139328911143, 0.8304560674218943, 0.8828124941431841, 0.8864099646482893]}, {\"categories\": [\"0\", \"2\", \"6\", \"10\", \"12\", \"16\", \"21\", \"22\", \"24\", \"25\", \"26\", \"27\", \"28\", \"29\", \"30\", \"31\", \"32\", \"33\", \"34\", \"35\", \"36\", \"37\", \"38\", \"39\", \"40\", \"41\", \"42\", \"43\", \"45\", \"48\"], \"mode\": \"lines\", \"name\": \"average_precision_score_macro_max\", \"stepped\": true, \"type\": \"scatter\", \"data\": [0.8721441836724315, 0.8721441836724315, 0.8721441836724315, 0.8721441836724315, 0.8721441836724315, 0.8721441836724315, 0.8755967408978418, 0.8755967408978418, 0.8902484070549855, 0.8902484070549855, 0.8902484070549855, 0.8902484070549855, 0.8902484070549855, 0.8920696699713337, 0.8920696699713337, 0.8920696699713337, 0.8920696699713337, 0.8920696699713337, 0.8920696699713337, 0.8920696699713337, 0.8920696699713337, 0.8920696699713337, 0.8920696699713337, 0.8920696699713337, 0.8920696699713337, 0.8920696699713337, 0.8920696699713337, 0.8920696699713337, 0.8920696699713337, 0.8920696699713337]}], \"AUC_micro\": [{\"categories\": [\"0\", \"2\", \"6\", \"10\", \"12\", \"16\", \"21\", \"22\", \"24\", \"25\", \"26\", \"27\", \"28\", \"29\", \"30\", \"31\", \"32\", \"33\", \"34\", \"35\", \"36\", \"37\", \"38\", \"39\", \"40\", \"41\", \"42\", \"43\", \"45\", \"48\"], \"mode\": \"markers\", \"name\": \"AUC_micro\", \"stepped\": false, \"type\": \"scatter\", \"data\": [0.9012668614560506, 0.8877769255742228, 0.8664251602954305, 0.8916650596542488, 0.8183175472770068, 0.795480934989043, 0.9114249898547196, 0.8918603684765847, 0.9138754808862918, 0.899363306549793, 0.8947447122798473, 0.8991746530314098, 0.9030540053567081, 0.914309033357682, 0.8799459297134973, 0.9086500771041311, 0.9116620323025729, 0.8992342180017856, 0.9110488677867056, 0.907623926629332, 0.9025914373833294, 0.8887731352974596, 0.9018558233909584, 0.9101255255255256, 0.6926340881421962, 0.904269142115088, 0.899918724129535, 0.8804290723155588, 0.9027317100884669, 0.9130237724210697]}, {\"categories\": [\"0\", \"2\", \"6\", \"10\", \"12\", \"16\", \"21\", \"22\", \"24\", \"25\", \"26\", \"27\", \"28\", \"29\", \"30\", \"31\", \"32\", \"33\", \"34\", \"35\", \"36\", \"37\", \"38\", \"39\", \"40\", \"41\", \"42\", \"43\", \"45\", \"48\"], \"mode\": \"lines\", \"name\": \"AUC_micro_max\", \"stepped\": true, \"type\": \"scatter\", \"data\": [0.9012668614560506, 0.9012668614560506, 0.9012668614560506, 0.9012668614560506, 0.9012668614560506, 0.9012668614560506, 0.9114249898547196, 0.9114249898547196, 0.9138754808862918, 0.9138754808862918, 0.9138754808862918, 0.9138754808862918, 0.9138754808862918, 0.914309033357682, 0.914309033357682, 0.914309033357682, 0.914309033357682, 0.914309033357682, 0.914309033357682, 0.914309033357682, 0.914309033357682, 0.914309033357682, 0.914309033357682, 0.914309033357682, 0.914309033357682, 0.914309033357682, 0.914309033357682, 0.914309033357682, 0.914309033357682, 0.914309033357682]}], \"matthews_correlation\": [{\"categories\": [\"0\", \"2\", \"6\", \"10\", \"12\", \"16\", \"21\", \"22\", \"24\", \"25\", \"26\", \"27\", \"28\", \"29\", \"30\", \"31\", \"32\", \"33\", \"34\", \"35\", \"36\", \"37\", \"38\", \"39\", \"40\", \"41\", \"42\", \"43\", \"45\", \"48\"], \"mode\": \"markers\", \"name\": \"matthews_correlation\", \"stepped\": false, \"type\": \"scatter\", \"data\": [0.5911058017587592, 0.5999157337626029, 0.566658801375632, 0.6217546330235859, 0.49504843534030574, 0.3636854863204681, 0.636458211577628, 0.5656664449522346, 0.6066636762848637, 0.6325938106375939, 0.5747386367576516, 0.6253599315005856, 0.6382611657150628, 0.6430584129424408, 0.6202646291811368, 0.663687120189675, 0.6309771609716714, 0.6183147948613177, 0.6606809902980898, 0.6064217072335545, 0.6139835125048595, 0.6163021813784426, 0.5775340489600359, 0.624540401641376, 0.0, 0.5990132048247715, 0.615590895610078, 0.6041830802935487, 0.6343364528022336, 0.6955860130073342]}, {\"categories\": [\"0\", \"2\", \"6\", \"10\", \"12\", \"16\", \"21\", \"22\", \"24\", \"25\", \"26\", \"27\", \"28\", \"29\", \"30\", \"31\", \"32\", \"33\", \"34\", \"35\", \"36\", \"37\", \"38\", \"39\", \"40\", \"41\", \"42\", \"43\", \"45\", \"48\"], \"mode\": \"lines\", \"name\": \"matthews_correlation_max\", \"stepped\": true, \"type\": \"scatter\", \"data\": [0.5911058017587592, 0.5999157337626029, 0.5999157337626029, 0.6217546330235859, 0.6217546330235859, 0.6217546330235859, 0.636458211577628, 0.636458211577628, 0.636458211577628, 0.636458211577628, 0.636458211577628, 0.636458211577628, 0.6382611657150628, 0.6430584129424408, 0.6430584129424408, 0.663687120189675, 0.663687120189675, 0.663687120189675, 0.663687120189675, 0.663687120189675, 0.663687120189675, 0.663687120189675, 0.663687120189675, 0.663687120189675, 0.663687120189675, 0.663687120189675, 0.663687120189675, 0.663687120189675, 0.663687120189675, 0.6955860130073342]}], \"precision_score_micro\": [{\"categories\": [\"0\", \"2\", \"6\", \"10\", \"12\", \"16\", \"21\", \"22\", \"24\", \"25\", \"26\", \"27\", \"28\", \"29\", \"30\", \"31\", \"32\", \"33\", \"34\", \"35\", \"36\", \"37\", \"38\", \"39\", \"40\", \"41\", \"42\", \"43\", \"45\", \"48\"], \"mode\": \"markers\", \"name\": \"precision_score_micro\", \"stepped\": false, \"type\": \"scatter\", \"data\": [0.825945945945946, 0.8258108108108109, 0.8024324324324325, 0.8391891891891892, 0.7488738738738738, 0.7425225225225225, 0.845945945945946, 0.8125225225225226, 0.8325225225225226, 0.8426576576576577, 0.8191891891891891, 0.8359009009009009, 0.8427927927927927, 0.8426126126126127, 0.8392792792792793, 0.8527927927927927, 0.8392342342342343, 0.8291891891891892, 0.8526576576576577, 0.8326126126126127, 0.8290990990990991, 0.835945945945946, 0.8192792792792793, 0.8323423423423423, 0.6790990990990992, 0.8190540540540541, 0.8324774774774775, 0.8325225225225226, 0.8427027027027028, 0.8661711711711712]}, {\"categories\": [\"0\", \"2\", \"6\", \"10\", \"12\", \"16\", \"21\", \"22\", \"24\", \"25\", \"26\", \"27\", \"28\", \"29\", \"30\", \"31\", \"32\", \"33\", \"34\", \"35\", \"36\", \"37\", \"38\", \"39\", \"40\", \"41\", \"42\", \"43\", \"45\", \"48\"], \"mode\": \"lines\", \"name\": \"precision_score_micro_max\", \"stepped\": true, \"type\": \"scatter\", \"data\": [0.825945945945946, 0.825945945945946, 0.825945945945946, 0.8391891891891892, 0.8391891891891892, 0.8391891891891892, 0.845945945945946, 0.845945945945946, 0.845945945945946, 0.845945945945946, 0.845945945945946, 0.845945945945946, 0.845945945945946, 0.845945945945946, 0.845945945945946, 0.8527927927927927, 0.8527927927927927, 0.8527927927927927, 0.8527927927927927, 0.8527927927927927, 0.8527927927927927, 0.8527927927927927, 0.8527927927927927, 0.8527927927927927, 0.8527927927927927, 0.8527927927927927, 0.8527927927927927, 0.8527927927927927, 0.8527927927927927, 0.8661711711711712]}], \"precision_score_weighted\": [{\"categories\": [\"0\", \"2\", \"6\", \"10\", \"12\", \"16\", \"21\", \"22\", \"24\", \"25\", \"26\", \"27\", \"28\", \"29\", \"30\", \"31\", \"32\", \"33\", \"34\", \"35\", \"36\", \"37\", \"38\", \"39\", \"40\", \"41\", \"42\", \"43\", \"45\", \"48\"], \"mode\": \"markers\", \"name\": \"precision_score_weighted\", \"stepped\": false, \"type\": \"scatter\", \"data\": [0.8263286460903094, 0.8309555748664899, 0.8200871789160016, 0.8432003815230951, 0.7968199284917836, 0.7461041227825997, 0.8501689044158618, 0.8168385136988283, 0.8385224818629075, 0.8487505810764324, 0.8230182973354478, 0.84544684355618, 0.8485984153489873, 0.848631480537141, 0.8453417217149167, 0.856923737383752, 0.8481821082964082, 0.8434711571273721, 0.8576745463262199, 0.833475557635294, 0.8433501916669169, 0.8362527389458425, 0.8286339459879437, 0.8470857955857956, 0.46863748072396716, 0.839035479920883, 0.8412979989836192, 0.8384985800418934, 0.8501717408130881, 0.8733931603325003]}, {\"categories\": [\"0\", \"2\", \"6\", \"10\", \"12\", \"16\", \"21\", \"22\", \"24\", \"25\", \"26\", \"27\", \"28\", \"29\", \"30\", \"31\", \"32\", \"33\", \"34\", \"35\", \"36\", \"37\", \"38\", \"39\", \"40\", \"41\", \"42\", \"43\", \"45\", \"48\"], \"mode\": \"lines\", \"name\": \"precision_score_weighted_max\", \"stepped\": true, \"type\": \"scatter\", \"data\": [0.8263286460903094, 0.8309555748664899, 0.8309555748664899, 0.8432003815230951, 0.8432003815230951, 0.8432003815230951, 0.8501689044158618, 0.8501689044158618, 0.8501689044158618, 0.8501689044158618, 0.8501689044158618, 0.8501689044158618, 0.8501689044158618, 0.8501689044158618, 0.8501689044158618, 0.856923737383752, 0.856923737383752, 0.856923737383752, 0.8576745463262199, 0.8576745463262199, 0.8576745463262199, 0.8576745463262199, 0.8576745463262199, 0.8576745463262199, 0.8576745463262199, 0.8576745463262199, 0.8576745463262199, 0.8576745463262199, 0.8576745463262199, 0.8733931603325003]}], \"recall_score_weighted\": [{\"categories\": [\"0\", \"2\", \"6\", \"10\", \"12\", \"16\", \"21\", \"22\", \"24\", \"25\", \"26\", \"27\", \"28\", \"29\", \"30\", \"31\", \"32\", \"33\", \"34\", \"35\", \"36\", \"37\", \"38\", \"39\", \"40\", \"41\", \"42\", \"43\", \"45\", \"48\"], \"mode\": \"markers\", \"name\": \"recall_score_weighted\", \"stepped\": false, \"type\": \"scatter\", \"data\": [0.825945945945946, 0.8258108108108109, 0.8024324324324325, 0.8391891891891892, 0.7488738738738738, 0.7425225225225225, 0.845945945945946, 0.8125225225225226, 0.8325225225225226, 0.8426576576576577, 0.8191891891891891, 0.8359009009009009, 0.8427927927927927, 0.8426126126126127, 0.8392792792792793, 0.8527927927927927, 0.8392342342342343, 0.8291891891891892, 0.8526576576576577, 0.8326126126126127, 0.8290990990990991, 0.835945945945946, 0.8192792792792793, 0.8323423423423423, 0.6790990990990992, 0.8190540540540541, 0.8324774774774775, 0.8325225225225226, 0.8427027027027028, 0.8661711711711712]}, {\"categories\": [\"0\", \"2\", \"6\", \"10\", \"12\", \"16\", \"21\", \"22\", \"24\", \"25\", \"26\", \"27\", \"28\", \"29\", \"30\", \"31\", \"32\", \"33\", \"34\", \"35\", \"36\", \"37\", \"38\", \"39\", \"40\", \"41\", \"42\", \"43\", \"45\", \"48\"], \"mode\": \"lines\", \"name\": \"recall_score_weighted_max\", \"stepped\": true, \"type\": \"scatter\", \"data\": [0.825945945945946, 0.825945945945946, 0.825945945945946, 0.8391891891891892, 0.8391891891891892, 0.8391891891891892, 0.845945945945946, 0.845945945945946, 0.845945945945946, 0.845945945945946, 0.845945945945946, 0.845945945945946, 0.845945945945946, 0.845945945945946, 0.845945945945946, 0.8527927927927927, 0.8527927927927927, 0.8527927927927927, 0.8527927927927927, 0.8527927927927927, 0.8527927927927927, 0.8527927927927927, 0.8527927927927927, 0.8527927927927927, 0.8527927927927927, 0.8527927927927927, 0.8527927927927927, 0.8527927927927927, 0.8527927927927927, 0.8661711711711712]}], \"recall_score_micro\": [{\"categories\": [\"0\", \"2\", \"6\", \"10\", \"12\", \"16\", \"21\", \"22\", \"24\", \"25\", \"26\", \"27\", \"28\", \"29\", \"30\", \"31\", \"32\", \"33\", \"34\", \"35\", \"36\", \"37\", \"38\", \"39\", \"40\", \"41\", \"42\", \"43\", \"45\", \"48\"], \"mode\": \"markers\", \"name\": \"recall_score_micro\", \"stepped\": false, \"type\": \"scatter\", \"data\": [0.825945945945946, 0.8258108108108109, 0.8024324324324325, 0.8391891891891892, 0.7488738738738738, 0.7425225225225225, 0.845945945945946, 0.8125225225225226, 0.8325225225225226, 0.8426576576576577, 0.8191891891891891, 0.8359009009009009, 0.8427927927927927, 0.8426126126126127, 0.8392792792792793, 0.8527927927927927, 0.8392342342342343, 0.8291891891891892, 0.8526576576576577, 0.8326126126126127, 0.8290990990990991, 0.835945945945946, 0.8192792792792793, 0.8323423423423423, 0.6790990990990992, 0.8190540540540541, 0.8324774774774775, 0.8325225225225226, 0.8427027027027028, 0.8661711711711712]}, {\"categories\": [\"0\", \"2\", \"6\", \"10\", \"12\", \"16\", \"21\", \"22\", \"24\", \"25\", \"26\", \"27\", \"28\", \"29\", \"30\", \"31\", \"32\", \"33\", \"34\", \"35\", \"36\", \"37\", \"38\", \"39\", \"40\", \"41\", \"42\", \"43\", \"45\", \"48\"], \"mode\": \"lines\", \"name\": \"recall_score_micro_max\", \"stepped\": true, \"type\": \"scatter\", \"data\": [0.825945945945946, 0.825945945945946, 0.825945945945946, 0.8391891891891892, 0.8391891891891892, 0.8391891891891892, 0.845945945945946, 0.845945945945946, 0.845945945945946, 0.845945945945946, 0.845945945945946, 0.845945945945946, 0.845945945945946, 0.845945945945946, 0.845945945945946, 0.8527927927927927, 0.8527927927927927, 0.8527927927927927, 0.8527927927927927, 0.8527927927927927, 0.8527927927927927, 0.8527927927927927, 0.8527927927927927, 0.8527927927927927, 0.8527927927927927, 0.8527927927927927, 0.8527927927927927, 0.8527927927927927, 0.8527927927927927, 0.8661711711711712]}], \"accuracy\": [{\"categories\": [\"0\", \"2\", \"6\", \"10\", \"12\", \"16\", \"21\", \"22\", \"24\", \"25\", \"26\", \"27\", \"28\", \"29\", \"30\", \"31\", \"32\", \"33\", \"34\", \"35\", \"36\", \"37\", \"38\", \"39\", \"40\", \"41\", \"42\", \"43\", \"45\", \"48\"], \"mode\": \"markers\", \"name\": \"accuracy\", \"stepped\": false, \"type\": \"scatter\", \"data\": [0.825945945945946, 0.8258108108108109, 0.8024324324324325, 0.8391891891891892, 0.7488738738738738, 0.7425225225225225, 0.845945945945946, 0.8125225225225226, 0.8325225225225226, 0.8426576576576577, 0.8191891891891891, 0.8359009009009009, 0.8427927927927927, 0.8426126126126127, 0.8392792792792793, 0.8527927927927927, 0.8392342342342343, 0.8291891891891892, 0.8526576576576577, 0.8326126126126127, 0.8290990990990991, 0.835945945945946, 0.8192792792792793, 0.8323423423423423, 0.6790990990990992, 0.8190540540540541, 0.8324774774774775, 0.8325225225225226, 0.8427027027027028, 0.8661711711711712]}, {\"categories\": [\"0\", \"2\", \"6\", \"10\", \"12\", \"16\", \"21\", \"22\", \"24\", \"25\", \"26\", \"27\", \"28\", \"29\", \"30\", \"31\", \"32\", \"33\", \"34\", \"35\", \"36\", \"37\", \"38\", \"39\", \"40\", \"41\", \"42\", \"43\", \"45\", \"48\"], \"mode\": \"lines\", \"name\": \"accuracy_max\", \"stepped\": true, \"type\": \"scatter\", \"data\": [0.825945945945946, 0.825945945945946, 0.825945945945946, 0.8391891891891892, 0.8391891891891892, 0.8391891891891892, 0.845945945945946, 0.845945945945946, 0.845945945945946, 0.845945945945946, 0.845945945945946, 0.845945945945946, 0.845945945945946, 0.845945945945946, 0.845945945945946, 0.8527927927927927, 0.8527927927927927, 0.8527927927927927, 0.8527927927927927, 0.8527927927927927, 0.8527927927927927, 0.8527927927927927, 0.8527927927927927, 0.8527927927927927, 0.8527927927927927, 0.8527927927927927, 0.8527927927927927, 0.8527927927927927, 0.8527927927927927, 0.8661711711711712]}], \"AUC_macro\": [{\"categories\": [\"0\", \"2\", \"6\", \"10\", \"12\", \"16\", \"21\", \"22\", \"24\", \"25\", \"26\", \"27\", \"28\", \"29\", \"30\", \"31\", \"32\", \"33\", \"34\", \"35\", \"36\", \"37\", \"38\", \"39\", \"40\", \"41\", \"42\", \"43\", \"45\", \"48\"], \"mode\": \"markers\", \"name\": \"AUC_macro\", \"stepped\": false, \"type\": \"scatter\", \"data\": [0.8859521958215462, 0.873444128193422, 0.8624833721938242, 0.8712278828098037, 0.8442481208371038, 0.7371203034515182, 0.9049052240524698, 0.8749570632338994, 0.9058615224752231, 0.9017788313250884, 0.8853791224730491, 0.8857526027017553, 0.8913838326091151, 0.9089161727579806, 0.8792614655432451, 0.8969334520888195, 0.902548351418408, 0.897230922522236, 0.9031679197816203, 0.8966081143694138, 0.9070949311856797, 0.8733984824027197, 0.9017590486517041, 0.9021158925819943, 0.536470201238916, 0.8970098312965544, 0.892309495275597, 0.8645702340529318, 0.8983705429326897, 0.9042427741227177]}, {\"categories\": [\"0\", \"2\", \"6\", \"10\", \"12\", \"16\", \"21\", \"22\", \"24\", \"25\", \"26\", \"27\", \"28\", \"29\", \"30\", \"31\", \"32\", \"33\", \"34\", \"35\", \"36\", \"37\", \"38\", \"39\", \"40\", \"41\", \"42\", \"43\", \"45\", \"48\"], \"mode\": \"lines\", \"name\": \"AUC_macro_max\", \"stepped\": true, \"type\": \"scatter\", \"data\": [0.8859521958215462, 0.8859521958215462, 0.8859521958215462, 0.8859521958215462, 0.8859521958215462, 0.8859521958215462, 0.9049052240524698, 0.9049052240524698, 0.9058615224752231, 0.9058615224752231, 0.9058615224752231, 0.9058615224752231, 0.9058615224752231, 0.9089161727579806, 0.9089161727579806, 0.9089161727579806, 0.9089161727579806, 0.9089161727579806, 0.9089161727579806, 0.9089161727579806, 0.9089161727579806, 0.9089161727579806, 0.9089161727579806, 0.9089161727579806, 0.9089161727579806, 0.9089161727579806, 0.9089161727579806, 0.9089161727579806, 0.9089161727579806, 0.9089161727579806]}], \"norm_macro_recall\": [{\"categories\": [\"0\", \"2\", \"6\", \"10\", \"12\", \"16\", \"21\", \"22\", \"24\", \"25\", \"26\", \"27\", \"28\", \"29\", \"30\", \"31\", \"32\", \"33\", \"34\", \"35\", \"36\", \"37\", \"38\", \"39\", \"40\", \"41\", \"42\", \"43\", \"45\", \"48\"], \"mode\": \"markers\", \"name\": \"norm_macro_recall\", \"stepped\": false, \"type\": \"scatter\", \"data\": [0.5796928373729222, 0.6137116218684016, 0.5906011028362723, 0.6041156113190012, 0.5285731609884152, 0.30562785848802804, 0.6141144342945191, 0.5575472746023593, 0.589756269311354, 0.6000752072785971, 0.548184274137664, 0.6238817757885555, 0.6111998465282364, 0.6300625555392505, 0.5885462524763372, 0.6369543905560855, 0.6079455776489675, 0.6171793347111143, 0.6403499533266483, 0.5953569186620035, 0.6023690037990885, 0.6057555223339122, 0.5323112582646481, 0.6068407796691694, 0.0, 0.5903274828592624, 0.6045710841261689, 0.5719502072785971, 0.6118552606370402, 0.6596365694882644]}, {\"categories\": [\"0\", \"2\", \"6\", \"10\", \"12\", \"16\", \"21\", \"22\", \"24\", \"25\", \"26\", \"27\", \"28\", \"29\", \"30\", \"31\", \"32\", \"33\", \"34\", \"35\", \"36\", \"37\", \"38\", \"39\", \"40\", \"41\", \"42\", \"43\", \"45\", \"48\"], \"mode\": \"lines\", \"name\": \"norm_macro_recall_max\", \"stepped\": true, \"type\": \"scatter\", \"data\": [0.5796928373729222, 0.6137116218684016, 0.6137116218684016, 0.6137116218684016, 0.6137116218684016, 0.6137116218684016, 0.6141144342945191, 0.6141144342945191, 0.6141144342945191, 0.6141144342945191, 0.6141144342945191, 0.6238817757885555, 0.6238817757885555, 0.6300625555392505, 0.6300625555392505, 0.6369543905560855, 0.6369543905560855, 0.6369543905560855, 0.6403499533266483, 0.6403499533266483, 0.6403499533266483, 0.6403499533266483, 0.6403499533266483, 0.6403499533266483, 0.6403499533266483, 0.6403499533266483, 0.6403499533266483, 0.6403499533266483, 0.6403499533266483, 0.6596365694882644]}], \"f1_score_macro\": [{\"categories\": [\"0\", \"2\", \"6\", \"10\", \"12\", \"16\", \"21\", \"22\", \"24\", \"25\", \"26\", \"27\", \"28\", \"29\", \"30\", \"31\", \"32\", \"33\", \"34\", \"35\", \"36\", \"37\", \"38\", \"39\", \"40\", \"41\", \"42\", \"43\", \"45\", \"48\"], \"mode\": \"markers\", \"name\": \"f1_score_macro\", \"stepped\": false, \"type\": \"scatter\", \"data\": [0.7915392891119759, 0.7984317794695321, 0.7779379835130895, 0.8040587548678967, 0.7294602629816241, 0.6555093708839905, 0.8110131970426089, 0.7789111226719138, 0.7962432891910851, 0.8073681669337673, 0.7778426018908704, 0.8062969065701894, 0.8103206569571496, 0.8163209088406331, 0.8005654549412116, 0.825114590615533, 0.8072342621541656, 0.8001796150478264, 0.8244488932844072, 0.8000070758442541, 0.7971820466855224, 0.8045676350101991, 0.7737349805359452, 0.803765521562652, 0.4028479422190175, 0.7884303766805681, 0.8007697254120336, 0.7934216629235427, 0.8075886737823494, 0.83813450979573]}, {\"categories\": [\"0\", \"2\", \"6\", \"10\", \"12\", \"16\", \"21\", \"22\", \"24\", \"25\", \"26\", \"27\", \"28\", \"29\", \"30\", \"31\", \"32\", \"33\", \"34\", \"35\", \"36\", \"37\", \"38\", \"39\", \"40\", \"41\", \"42\", \"43\", \"45\", \"48\"], \"mode\": \"lines\", \"name\": \"f1_score_macro_max\", \"stepped\": true, \"type\": \"scatter\", \"data\": [0.7915392891119759, 0.7984317794695321, 0.7984317794695321, 0.8040587548678967, 0.8040587548678967, 0.8040587548678967, 0.8110131970426089, 0.8110131970426089, 0.8110131970426089, 0.8110131970426089, 0.8110131970426089, 0.8110131970426089, 0.8110131970426089, 0.8163209088406331, 0.8163209088406331, 0.825114590615533, 0.825114590615533, 0.825114590615533, 0.825114590615533, 0.825114590615533, 0.825114590615533, 0.825114590615533, 0.825114590615533, 0.825114590615533, 0.825114590615533, 0.825114590615533, 0.825114590615533, 0.825114590615533, 0.825114590615533, 0.83813450979573]}], \"average_precision_score_micro\": [{\"categories\": [\"0\", \"2\", \"6\", \"10\", \"12\", \"16\", \"21\", \"22\", \"24\", \"25\", \"26\", \"27\", \"28\", \"29\", \"30\", \"31\", \"32\", \"33\", \"34\", \"35\", \"36\", \"37\", \"38\", \"39\", \"40\", \"41\", \"42\", \"43\", \"45\", \"48\"], \"mode\": \"markers\", \"name\": \"average_precision_score_micro\", \"stepped\": false, \"type\": \"scatter\", \"data\": [0.901211140104835, 0.8867265866681961, 0.8677769972697678, 0.8810221296599251, 0.8152095205677936, 0.7803695205277341, 0.9127002357779231, 0.8940660982722661, 0.9161490846492466, 0.8972324719621225, 0.8955293320778086, 0.8941282270371771, 0.9062251192335968, 0.9165123187881741, 0.8776571544194347, 0.9077829655065963, 0.9124143008715457, 0.8976566300791642, 0.9147946929696812, 0.9066331802038277, 0.9053236827961557, 0.8860950312276331, 0.902505505239787, 0.9133748658104388, 0.6584547150936781, 0.9067054328656644, 0.8948897468030867, 0.8626164960974823, 0.9016588622501688, 0.9124297611447804]}, {\"categories\": [\"0\", \"2\", \"6\", \"10\", \"12\", \"16\", \"21\", \"22\", \"24\", \"25\", \"26\", \"27\", \"28\", \"29\", \"30\", \"31\", \"32\", \"33\", \"34\", \"35\", \"36\", \"37\", \"38\", \"39\", \"40\", \"41\", \"42\", \"43\", \"45\", \"48\"], \"mode\": \"lines\", \"name\": \"average_precision_score_micro_max\", \"stepped\": true, \"type\": \"scatter\", \"data\": [0.901211140104835, 0.901211140104835, 0.901211140104835, 0.901211140104835, 0.901211140104835, 0.901211140104835, 0.9127002357779231, 0.9127002357779231, 0.9161490846492466, 0.9161490846492466, 0.9161490846492466, 0.9161490846492466, 0.9161490846492466, 0.9165123187881741, 0.9165123187881741, 0.9165123187881741, 0.9165123187881741, 0.9165123187881741, 0.9165123187881741, 0.9165123187881741, 0.9165123187881741, 0.9165123187881741, 0.9165123187881741, 0.9165123187881741, 0.9165123187881741, 0.9165123187881741, 0.9165123187881741, 0.9165123187881741, 0.9165123187881741, 0.9165123187881741]}], \"precision_score_macro\": [{\"categories\": [\"0\", \"2\", \"6\", \"10\", \"12\", \"16\", \"21\", \"22\", \"24\", \"25\", \"26\", \"27\", \"28\", \"29\", \"30\", \"31\", \"32\", \"33\", \"34\", \"35\", \"36\", \"37\", \"38\", \"39\", \"40\", \"41\", \"42\", \"43\", \"45\", \"48\"], \"mode\": \"markers\", \"name\": \"precision_score_macro\", \"stepped\": false, \"type\": \"scatter\", \"data\": [0.8018714549996244, 0.7933211141894396, 0.7721700476017461, 0.8206995118176048, 0.7322762016564296, 0.7180119593227736, 0.8305610558399605, 0.7873025236404052, 0.8127789481349479, 0.8340257813651777, 0.8022129377562681, 0.8143531007151332, 0.8341770491633882, 0.8286393812337208, 0.8276150210670831, 0.8463456689841503, 0.828271799782475, 0.8112126837483781, 0.8413437193360085, 0.8091216112881934, 0.8145043260719276, 0.813933209948698, 0.8147671878753769, 0.8223513986013986, 0.3395495495495496, 0.8054542456414959, 0.8143038266623583, 0.8196969712532698, 0.8301741427817346, 0.8677434818213142]}, {\"categories\": [\"0\", \"2\", \"6\", \"10\", \"12\", \"16\", \"21\", \"22\", \"24\", \"25\", \"26\", \"27\", \"28\", \"29\", \"30\", \"31\", \"32\", \"33\", \"34\", \"35\", \"36\", \"37\", \"38\", \"39\", \"40\", \"41\", \"42\", \"43\", \"45\", \"48\"], \"mode\": \"lines\", \"name\": \"precision_score_macro_max\", \"stepped\": true, \"type\": \"scatter\", \"data\": [0.8018714549996244, 0.8018714549996244, 0.8018714549996244, 0.8206995118176048, 0.8206995118176048, 0.8206995118176048, 0.8305610558399605, 0.8305610558399605, 0.8305610558399605, 0.8340257813651777, 0.8340257813651777, 0.8340257813651777, 0.8341770491633882, 0.8341770491633882, 0.8341770491633882, 0.8463456689841503, 0.8463456689841503, 0.8463456689841503, 0.8463456689841503, 0.8463456689841503, 0.8463456689841503, 0.8463456689841503, 0.8463456689841503, 0.8463456689841503, 0.8463456689841503, 0.8463456689841503, 0.8463456689841503, 0.8463456689841503, 0.8463456689841503, 0.8677434818213142]}]}, \"metricName\": null, \"primaryMetricName\": \"accuracy\", \"showLegend\": false}, \"run_metrics\": [{\"name\": \"experiment_status\", \"run_id\": \"AutoML_a8026d04-0a63-4621-bb03-ffdaa17023ae\", \"categories\": [0, 1, 2, 3, 4, 5, 6, 7, 8, 9, 10, 11, 12, 13], \"series\": [{\"data\": [\"DatasetEvaluation\", \"FeaturesGeneration\", \"DatasetFeaturization\", \"DatasetFeaturizationCompleted\", \"DatasetCrossValidationSplit\", \"ModelSelection\", \"BestRunExplainModel\", \"ModelExplanationDataSetSetup\", \"PickSurrogateModel\", \"EngineeredFeatureExplanations\", \"EngineeredFeatureExplanations\", \"RawFeaturesExplanations\", \"RawFeaturesExplanations\", \"BestRunExplainModel\"]}]}, {\"name\": \"experiment_status_description\", \"run_id\": \"AutoML_a8026d04-0a63-4621-bb03-ffdaa17023ae\", \"categories\": [0, 1, 2, 3, 4, 5, 6, 7, 8, 9, 10, 11, 12, 13], \"series\": [{\"data\": [\"Gathering dataset statistics.\", \"Generating features for the dataset.\", \"Beginning to fit featurizers and featurize the dataset.\", \"Completed fit featurizers and featurizing the dataset.\", \"Generating individually featurized CV splits.\", \"Beginning model selection.\", \"Best run model explanations started\", \"Model explanations data setup completed\", \"Choosing LightGBM as the surrogate model for explanations\", \"Computation of engineered features started\", \"Computation of engineered features completed\", \"Computation of raw features started\", \"Computation of raw features completed\", \"Best run model explanations completed\"]}]}, {\"name\": \"f1_score_macro\", \"run_id\": \"AutoML_a8026d04-0a63-4621-bb03-ffdaa17023ae\", \"categories\": [0], \"series\": [{\"data\": [0.83813450979573]}]}, {\"name\": \"precision_score_micro\", \"run_id\": \"AutoML_a8026d04-0a63-4621-bb03-ffdaa17023ae\", \"categories\": [0], \"series\": [{\"data\": [0.8661711711711712]}]}, {\"name\": \"average_precision_score_macro\", \"run_id\": \"AutoML_a8026d04-0a63-4621-bb03-ffdaa17023ae\", \"categories\": [0], \"series\": [{\"data\": [0.8864099646482893]}]}, {\"name\": \"f1_score_weighted\", \"run_id\": \"AutoML_a8026d04-0a63-4621-bb03-ffdaa17023ae\", \"categories\": [0], \"series\": [{\"data\": [0.8604284204389155]}]}, {\"name\": \"average_precision_score_weighted\", \"run_id\": \"AutoML_a8026d04-0a63-4621-bb03-ffdaa17023ae\", \"categories\": [0], \"series\": [{\"data\": [0.9111387511467616]}]}, {\"name\": \"precision_score_weighted\", \"run_id\": \"AutoML_a8026d04-0a63-4621-bb03-ffdaa17023ae\", \"categories\": [0], \"series\": [{\"data\": [0.8733931603325003]}]}, {\"name\": \"precision_score_macro\", \"run_id\": \"AutoML_a8026d04-0a63-4621-bb03-ffdaa17023ae\", \"categories\": [0], \"series\": [{\"data\": [0.8677434818213142]}]}, {\"name\": \"norm_macro_recall\", \"run_id\": \"AutoML_a8026d04-0a63-4621-bb03-ffdaa17023ae\", \"categories\": [0], \"series\": [{\"data\": [0.6596365694882644]}]}, {\"name\": \"log_loss\", \"run_id\": \"AutoML_a8026d04-0a63-4621-bb03-ffdaa17023ae\", \"categories\": [0], \"series\": [{\"data\": [0.397482912569034]}]}, {\"name\": \"average_precision_score_micro\", \"run_id\": \"AutoML_a8026d04-0a63-4621-bb03-ffdaa17023ae\", \"categories\": [0], \"series\": [{\"data\": [0.9124297611447804]}]}, {\"name\": \"AUC_macro\", \"run_id\": \"AutoML_a8026d04-0a63-4621-bb03-ffdaa17023ae\", \"categories\": [0], \"series\": [{\"data\": [0.9042427741227177]}]}, {\"name\": \"balanced_accuracy\", \"run_id\": \"AutoML_a8026d04-0a63-4621-bb03-ffdaa17023ae\", \"categories\": [0], \"series\": [{\"data\": [0.8298182847441322]}]}, {\"name\": \"recall_score_micro\", \"run_id\": \"AutoML_a8026d04-0a63-4621-bb03-ffdaa17023ae\", \"categories\": [0], \"series\": [{\"data\": [0.8661711711711712]}]}, {\"name\": \"AUC_micro\", \"run_id\": \"AutoML_a8026d04-0a63-4621-bb03-ffdaa17023ae\", \"categories\": [0], \"series\": [{\"data\": [0.9130237724210697]}]}, {\"name\": \"recall_score_weighted\", \"run_id\": \"AutoML_a8026d04-0a63-4621-bb03-ffdaa17023ae\", \"categories\": [0], \"series\": [{\"data\": [0.8661711711711712]}]}, {\"name\": \"f1_score_micro\", \"run_id\": \"AutoML_a8026d04-0a63-4621-bb03-ffdaa17023ae\", \"categories\": [0], \"series\": [{\"data\": [0.8661711711711712]}]}, {\"name\": \"recall_score_macro\", \"run_id\": \"AutoML_a8026d04-0a63-4621-bb03-ffdaa17023ae\", \"categories\": [0], \"series\": [{\"data\": [0.8298182847441322]}]}, {\"name\": \"accuracy\", \"run_id\": \"AutoML_a8026d04-0a63-4621-bb03-ffdaa17023ae\", \"categories\": [0], \"series\": [{\"data\": [0.8661711711711712]}]}, {\"name\": \"AUC_weighted\", \"run_id\": \"AutoML_a8026d04-0a63-4621-bb03-ffdaa17023ae\", \"categories\": [0], \"series\": [{\"data\": [0.9042427741227176]}]}, {\"name\": \"weighted_accuracy\", \"run_id\": \"AutoML_a8026d04-0a63-4621-bb03-ffdaa17023ae\", \"categories\": [0], \"series\": [{\"data\": [0.8912802402919023]}]}, {\"name\": \"matthews_correlation\", \"run_id\": \"AutoML_a8026d04-0a63-4621-bb03-ffdaa17023ae\", \"categories\": [0], \"series\": [{\"data\": [0.6955860130073342]}]}], \"run_logs\": \"\\nRun is completed.\", \"graph\": {}, \"widget_settings\": {\"childWidgetDisplay\": \"popup\", \"send_telemetry\": false, \"log_level\": \"INFO\", \"sdk_version\": \"1.47.0\"}, \"loading\": false}"
     },
     "metadata": {},
     "output_type": "display_data"
    },
    {
     "data": {
      "text/html": [
       "<table style=\"width:100%\"><tr><th>Experiment</th><th>Id</th><th>Type</th><th>Status</th><th>Details Page</th><th>Docs Page</th></tr><tr><td>automl_heart_failure_experiment</td><td>AutoML_a8026d04-0a63-4621-bb03-ffdaa17023ae</td><td>automl</td><td>Completed</td><td><a href=\"https://ml.azure.com/runs/AutoML_a8026d04-0a63-4621-bb03-ffdaa17023ae?wsid=/subscriptions/81cefad3-d2c9-4f77-a466-99a7f541c7bb/resourcegroups/aml-quickstarts-219220/workspaces/quick-starts-ws-219220&amp;tid=660b3398-b80e-49d2-bc5b-ac1dc93b5254\" target=\"_blank\" rel=\"noopener\">Link to Azure Machine Learning studio</a></td><td><a href=\"https://docs.microsoft.com/en-us/python/api/overview/azure/ml/intro?view=azure-ml-py\" target=\"_blank\" rel=\"noopener\">Link to Documentation</a></td></tr></table>"
      ],
      "text/plain": [
       "<IPython.core.display.HTML object>"
      ]
     },
     "metadata": {},
     "output_type": "display_data"
    },
    {
     "name": "stdout",
     "output_type": "stream",
     "text": [
      "\n",
      "\n",
      "********************************************************************************************\n",
      "DATA GUARDRAILS: \n",
      "\n",
      "TYPE:         Class balancing detection\n",
      "STATUS:       PASSED\n",
      "DESCRIPTION:  Your inputs were analyzed, and all classes are balanced in your training data.\n",
      "              Learn more about imbalanced data: https://aka.ms/AutomatedMLImbalancedData\n",
      "\n",
      "********************************************************************************************\n",
      "\n",
      "TYPE:         Missing feature values imputation\n",
      "STATUS:       PASSED\n",
      "DESCRIPTION:  No feature missing values were detected in the training data.\n",
      "              Learn more about missing value imputation: https://aka.ms/AutomatedMLFeaturization\n",
      "\n",
      "********************************************************************************************\n",
      "\n",
      "TYPE:         High cardinality feature detection\n",
      "STATUS:       PASSED\n",
      "DESCRIPTION:  Your inputs were analyzed, and no high cardinality features were detected.\n",
      "              Learn more about high cardinality feature handling: https://aka.ms/AutomatedMLFeaturization\n",
      "\n",
      "********************************************************************************************\n",
      "\n",
      "********************************************************************************************\n",
      "ITER: The iteration being evaluated.\n",
      "PIPELINE: A summary description of the pipeline being evaluated.\n",
      "DURATION: Time taken for the current iteration.\n",
      "METRIC: The result of computing score on the fitted pipeline.\n",
      "BEST: The best observed score thus far.\n",
      "********************************************************************************************\n",
      "\n",
      " ITER   PIPELINE                                       DURATION            METRIC      BEST\n",
      "    0   MaxAbsScaler LightGBM                          0:00:13             0.8259    0.8259\n",
      "    1   MaxAbsScaler XGBoostClassifier                 0:00:19             0.8292    0.8292\n",
      "    2   MaxAbsScaler ExtremeRandomTrees                0:00:15             0.8258    0.8292\n",
      "    3   SparseNormalizer XGBoostClassifier             0:00:19             0.7860    0.8292\n",
      "    4   StandardScalerWrapper KNN                      0:00:19             0.5953    0.8292\n",
      "    5   MaxAbsScaler LightGBM                          0:00:15             0.8460    0.8460\n",
      "    6   RobustScaler LogisticRegression                0:00:17             0.8024    0.8460\n",
      "    7   MaxAbsScaler LightGBM                          0:00:15             0.8127    0.8460\n",
      "   10   StandardScalerWrapper XGBoostClassifier        0:00:16             0.8392    0.8460\n",
      "   11   MinMaxScaler RandomForest                      0:00:17             0.8424    0.8460\n",
      "    8   StandardScalerWrapper KNN                      0:00:13             0.6118    0.8460\n",
      "    9   StandardScalerWrapper SVM                      0:00:19             0.7422    0.8460\n",
      "   12   StandardScalerWrapper LogisticRegression       0:00:16             0.7489    0.8460\n",
      "   13   StandardScalerWrapper KNN                      0:00:11             0.7125    0.8460\n",
      "   14   RobustScaler KNN                               0:00:15             0.7190    0.8460\n",
      "   15   MinMaxScaler KNN                               0:00:18             0.7257    0.8460\n",
      "   16   SparseNormalizer KNN                           0:00:16             0.7425    0.8460\n",
      "   17   MaxAbsScaler LogisticRegression                0:00:16             0.8192    0.8460\n",
      "   18   StandardScalerWrapper XGBoostClassifier        0:00:17             0.8458    0.8460\n",
      "   19   StandardScalerWrapper XGBoostClassifier        0:00:16             0.8426    0.8460\n",
      "   20   MaxAbsScaler LogisticRegression                0:01:45             0.8125    0.8460\n",
      "   21   StandardScalerWrapper XGBoostClassifier        0:00:30             0.8459    0.8460\n",
      "   22   SparseNormalizer RandomForest                  0:00:29             0.8125    0.8460\n",
      "   23   StandardScalerWrapper RandomForest             0:00:34             0.7927    0.8460\n",
      "   24   StandardScalerWrapper XGBoostClassifier        0:00:28             0.8325    0.8460\n",
      "   25   StandardScalerWrapper LightGBM                 0:00:27             0.8427    0.8460\n",
      "   26   SparseNormalizer XGBoostClassifier             0:00:25             0.8192    0.8460\n",
      "   27   RobustScaler RandomForest                      0:00:28             0.8359    0.8460\n",
      "   28   SparseNormalizer XGBoostClassifier             0:00:27             0.8428    0.8460\n",
      "   29   StandardScalerWrapper GradientBoosting         0:00:24             0.8426    0.8460\n",
      "   30   StandardScalerWrapper LightGBM                 0:00:32             0.8393    0.8460\n",
      "   31   RobustScaler LightGBM                          0:00:33             0.8528    0.8528\n",
      "   32   RobustScaler RandomForest                      0:00:26             0.8392    0.8528\n",
      "   33   StandardScalerWrapper XGBoostClassifier        0:00:26             0.8292    0.8528\n",
      "   34   StandardScalerWrapper XGBoostClassifier        0:00:33             0.8527    0.8528\n",
      "   35   RobustScaler LightGBM                          0:00:33             0.8326    0.8528\n",
      "   36   StandardScalerWrapper XGBoostClassifier        0:00:28             0.8291    0.8528\n",
      "   37   MinMaxScaler LightGBM                          0:00:28             0.8359    0.8528\n",
      "   38   MinMaxScaler LightGBM                          0:00:32             0.8193    0.8528\n",
      "   39   MinMaxScaler RandomForest                      0:00:31             0.8323    0.8528\n",
      "   40   PCA LightGBM                                   0:00:27             0.6791    0.8528\n",
      "   41   MinMaxScaler RandomForest                      0:00:30             0.8191    0.8528\n",
      "   42   StandardScalerWrapper XGBoostClassifier        0:00:32             0.8325    0.8528\n",
      "   43   StandardScalerWrapper XGBoostClassifier        0:00:27             0.8325    0.8528\n",
      "   44   StandardScalerWrapper XGBoostClassifier        0:00:29             0.8426    0.8528\n",
      "   45   MinMaxScaler LightGBM                          0:00:22             0.8427    0.8528\n",
      "   46                                                  0:00:00                nan    0.8528\n",
      "   47                                                  0:00:01                nan    0.8528\n",
      "   48    VotingEnsemble                                0:00:45             0.8662    0.8662\n",
      "   49    StackEnsemble                                 0:00:59             0.8595    0.8662\n"
     ]
    },
    {
     "data": {
      "text/plain": [
       "{'runId': 'AutoML_a8026d04-0a63-4621-bb03-ffdaa17023ae',\n",
       " 'target': 'cluster-cpu',\n",
       " 'status': 'Completed',\n",
       " 'startTimeUtc': '2022-12-19T11:07:36.377922Z',\n",
       " 'endTimeUtc': '2022-12-19T11:20:50.062782Z',\n",
       " 'services': {},\n",
       " 'warnings': [{'source': 'JasmineService',\n",
       "   'message': 'No scores improved over last 10 iterations, so experiment stopped early. This early stopping behavior can be disabled by setting enable_early_stopping = False in AutoMLConfig for notebook/python SDK runs.'}],\n",
       " 'properties': {'num_iterations': '1000',\n",
       "  'training_type': 'TrainFull',\n",
       "  'acquisition_function': 'EI',\n",
       "  'primary_metric': 'accuracy',\n",
       "  'train_split': '0',\n",
       "  'acquisition_parameter': '0',\n",
       "  'num_cross_validation': '4',\n",
       "  'target': 'cluster-cpu',\n",
       "  'AMLSettingsJsonString': '{\"path\":null,\"name\":\"automl_heart_failure_experiment\",\"subscription_id\":\"81cefad3-d2c9-4f77-a466-99a7f541c7bb\",\"resource_group\":\"aml-quickstarts-219220\",\"workspace_name\":\"quick-starts-ws-219220\",\"region\":\"southcentralus\",\"compute_target\":\"cluster-cpu\",\"spark_service\":null,\"azure_service\":\"remote\",\"many_models\":false,\"pipeline_fetch_max_batch_size\":1,\"enable_batch_run\":true,\"enable_parallel_run\":false,\"num_procs\":null,\"enable_run_restructure\":false,\"start_auxiliary_runs_before_parent_complete\":false,\"enable_code_generation\":true,\"iterations\":1000,\"primary_metric\":\"accuracy\",\"task_type\":\"classification\",\"positive_label\":null,\"data_script\":null,\"test_size\":0.0,\"test_include_predictions_only\":false,\"validation_size\":0.0,\"n_cross_validations\":4,\"y_min\":null,\"y_max\":null,\"num_classes\":null,\"featurization\":\"auto\",\"_ignore_package_version_incompatibilities\":false,\"is_timeseries\":false,\"max_cores_per_iteration\":1,\"max_concurrent_iterations\":4,\"iteration_timeout_minutes\":null,\"mem_in_mb\":null,\"enforce_time_on_windows\":false,\"experiment_timeout_minutes\":30,\"experiment_exit_score\":null,\"partition_column_names\":null,\"whitelist_models\":null,\"blacklist_algos\":[\"TensorFlowLinearClassifier\",\"TensorFlowDNN\"],\"supported_models\":[\"GradientBoosting\",\"SVM\",\"BernoulliNaiveBayes\",\"LogisticRegression\",\"LightGBM\",\"TensorFlowLinearClassifier\",\"DecisionTree\",\"LinearSVM\",\"XGBoostClassifier\",\"TabnetClassifier\",\"AveragedPerceptronClassifier\",\"MultinomialNaiveBayes\",\"SGD\",\"KNN\",\"TensorFlowDNN\",\"RandomForest\",\"ExtremeRandomTrees\"],\"private_models\":[],\"auto_blacklist\":true,\"blacklist_samples_reached\":false,\"exclude_nan_labels\":true,\"verbosity\":20,\"_debug_log\":\"azureml_automl.log\",\"show_warnings\":false,\"model_explainability\":true,\"service_url\":null,\"sdk_url\":null,\"sdk_packages\":null,\"enable_onnx_compatible_models\":false,\"enable_split_onnx_featurizer_estimator_models\":false,\"vm_type\":\"STANDARD_D2_V2\",\"telemetry_verbosity\":20,\"send_telemetry\":true,\"enable_dnn\":false,\"scenario\":\"AutoML\",\"environment_label\":null,\"save_mlflow\":false,\"enable_categorical_indicators\":false,\"force_text_dnn\":false,\"enable_feature_sweeping\":true,\"enable_early_stopping\":true,\"early_stopping_n_iters\":10,\"arguments\":null,\"dataset_id\":\"7d74a28e-09c9-4241-8b8a-4f5f2264eb90\",\"hyperdrive_config\":null,\"validation_dataset_id\":null,\"run_source\":null,\"metrics\":null,\"enable_metric_confidence\":false,\"enable_ensembling\":true,\"enable_stack_ensembling\":true,\"ensemble_iterations\":15,\"enable_tf\":false,\"enable_subsampling\":null,\"subsample_seed\":null,\"enable_nimbusml\":false,\"enable_streaming\":false,\"force_streaming\":false,\"track_child_runs\":true,\"n_best_runs\":1,\"allowed_private_models\":[],\"label_column_name\":\"DEATH_EVENT\",\"weight_column_name\":null,\"cv_split_column_names\":null,\"enable_local_managed\":false,\"_local_managed_run_id\":null,\"cost_mode\":1,\"lag_length\":0,\"metric_operation\":\"maximize\",\"preprocess\":true}',\n",
       "  'DataPrepJsonString': '{\\\\\"training_data\\\\\": {\\\\\"datasetId\\\\\": \\\\\"7d74a28e-09c9-4241-8b8a-4f5f2264eb90\\\\\"}, \\\\\"datasets\\\\\": 0}',\n",
       "  'EnableSubsampling': None,\n",
       "  'runTemplate': 'AutoML',\n",
       "  'azureml.runsource': 'automl',\n",
       "  'display_task_type': 'classification',\n",
       "  'dependencies_versions': '{\"azureml-widgets\": \"1.47.0\", \"azureml-training-tabular\": \"1.47.0\", \"azureml-train\": \"1.47.0\", \"azureml-train-restclients-hyperdrive\": \"1.47.0\", \"azureml-train-core\": \"1.47.0\", \"azureml-train-automl\": \"1.47.0\", \"azureml-train-automl-runtime\": \"1.47.0\", \"azureml-train-automl-client\": \"1.47.0\", \"azureml-tensorboard\": \"1.47.0\", \"azureml-telemetry\": \"1.47.0\", \"azureml-sdk\": \"1.47.0\", \"azureml-samples\": \"0+unknown\", \"azureml-responsibleai\": \"1.47.0\", \"azureml-pipeline\": \"1.47.0\", \"azureml-pipeline-steps\": \"1.47.0\", \"azureml-pipeline-core\": \"1.47.0\", \"azureml-opendatasets\": \"1.47.0\", \"azureml-mlflow\": \"1.47.0\", \"azureml-interpret\": \"1.47.0\", \"azureml-inference-server-http\": \"0.7.6\", \"azureml-explain-model\": \"1.47.0\", \"azureml-defaults\": \"1.47.0\", \"azureml-dataset-runtime\": \"1.47.0\", \"azureml-dataprep\": \"4.5.7\", \"azureml-dataprep-rslex\": \"2.11.4\", \"azureml-dataprep-native\": \"38.0.0\", \"azureml-datadrift\": \"1.47.0\", \"azureml-core\": \"1.47.0\", \"azureml-contrib-services\": \"1.47.0\", \"azureml-contrib-server\": \"1.47.0\", \"azureml-contrib-reinforcementlearning\": \"1.47.0\", \"azureml-contrib-pipeline-steps\": \"1.47.0\", \"azureml-contrib-notebook\": \"1.47.0\", \"azureml-contrib-fairness\": \"1.47.0\", \"azureml-contrib-dataset\": \"1.47.0\", \"azureml-contrib-automl-pipeline-steps\": \"1.47.0\", \"azureml-cli-common\": \"1.47.0\", \"azureml-automl-runtime\": \"1.47.0\", \"azureml-automl-dnn-nlp\": \"1.47.0\", \"azureml-automl-core\": \"1.47.0\", \"azureml-accel-models\": \"1.47.0\"}',\n",
       "  '_aml_system_scenario_identification': 'Remote.Parent',\n",
       "  'ClientType': 'SDK',\n",
       "  'environment_cpu_name': 'AzureML-AutoML',\n",
       "  'environment_cpu_label': 'prod',\n",
       "  'environment_gpu_name': 'AzureML-AutoML-GPU',\n",
       "  'environment_gpu_label': 'prod',\n",
       "  'root_attribution': 'automl',\n",
       "  'attribution': 'AutoML',\n",
       "  'Orchestrator': 'AutoML',\n",
       "  'CancelUri': 'https://southcentralus.api.azureml.ms/jasmine/v1.0/subscriptions/81cefad3-d2c9-4f77-a466-99a7f541c7bb/resourceGroups/aml-quickstarts-219220/providers/Microsoft.MachineLearningServices/workspaces/quick-starts-ws-219220/experimentids/b9015ccd-cec0-4548-87d8-495d3ecc4d88/cancel/AutoML_a8026d04-0a63-4621-bb03-ffdaa17023ae',\n",
       "  'ClientSdkVersion': '1.47.0',\n",
       "  'snapshotId': '00000000-0000-0000-0000-000000000000',\n",
       "  'SetupRunId': 'AutoML_a8026d04-0a63-4621-bb03-ffdaa17023ae_setup',\n",
       "  'SetupRunContainerId': 'dcid.AutoML_a8026d04-0a63-4621-bb03-ffdaa17023ae_setup',\n",
       "  'FeaturizationRunJsonPath': 'featurizer_container.json',\n",
       "  'FeaturizationRunId': 'AutoML_a8026d04-0a63-4621-bb03-ffdaa17023ae_featurize',\n",
       "  'ProblemInfoJsonString': '{\"dataset_num_categorical\": 0, \"is_sparse\": false, \"subsampling\": false, \"has_extra_col\": true, \"dataset_classes\": 2, \"dataset_features\": 12, \"dataset_samples\": 299, \"single_frequency_class_detected\": false}',\n",
       "  'ModelExplainRunId': 'AutoML_a8026d04-0a63-4621-bb03-ffdaa17023ae_ModelExplain'},\n",
       " 'inputDatasets': [{'dataset': {'id': '7d74a28e-09c9-4241-8b8a-4f5f2264eb90'}, 'consumptionDetails': {'type': 'RunInput', 'inputName': 'training_data', 'mechanism': 'Direct'}}],\n",
       " 'outputDatasets': [{'identifier': {'savedId': 'd1f11cb1-1038-49d1-805e-f15be348b90b'},\n",
       "   'outputType': 'RunOutput',\n",
       "   'outputDetails': {'outputName': 'full_training_dataset'},\n",
       "   'dataset': {\n",
       "     \"source\": [\n",
       "       \"('workspaceartifactstore', 'ExperimentRun/dcid.AutoML_a8026d04-0a63-4621-bb03-ffdaa17023ae/outputs/featurization/data/full_training_dataset.df.parquet')\"\n",
       "     ],\n",
       "     \"definition\": [\n",
       "       \"GetDatastoreFiles\",\n",
       "       \"ReadParquetFile\",\n",
       "       \"DropColumns\"\n",
       "     ],\n",
       "     \"registration\": {\n",
       "       \"id\": \"d1f11cb1-1038-49d1-805e-f15be348b90b\",\n",
       "       \"name\": null,\n",
       "       \"version\": null,\n",
       "       \"workspace\": \"Workspace.create(name='quick-starts-ws-219220', subscription_id='81cefad3-d2c9-4f77-a466-99a7f541c7bb', resource_group='aml-quickstarts-219220')\"\n",
       "     }\n",
       "   }}],\n",
       " 'logFiles': {},\n",
       " 'submittedBy': 'ODL_User 219220'}"
      ]
     },
     "execution_count": 58,
     "metadata": {},
     "output_type": "execute_result"
    }
   ],
   "source": [
    "RunDetails(run).show()\n",
    "run.wait_for_completion (show_output = True)"
   ]
  },
  {
   "cell_type": "markdown",
   "metadata": {},
   "source": [
    "## Best Model\n",
    "\n",
    "In the cell below, get the best model from the automl experiments and display all the properties of the model."
   ]
  },
  {
   "cell_type": "code",
   "execution_count": 59,
   "metadata": {
    "gather": {
     "logged": 1598431425670
    },
    "jupyter": {
     "outputs_hidden": false,
     "source_hidden": false
    },
    "nteract": {
     "transient": {
      "deleting": false
     }
    }
   },
   "outputs": [],
   "source": [
    "best_run,fitted_model = run.get_output()"
   ]
  },
  {
   "cell_type": "code",
   "execution_count": 61,
   "metadata": {},
   "outputs": [
    {
     "name": "stdout",
     "output_type": "stream",
     "text": [
      "{'matthews_correlation': 0.6955860130073342, 'recall_score_macro': 0.8298182847441322, 'norm_macro_recall': 0.6596365694882644, 'weighted_accuracy': 0.8912802402919023, 'AUC_micro': 0.9130237724210697, 'AUC_weighted': 0.9042427741227176, 'recall_score_weighted': 0.8661711711711712, 'f1_score_micro': 0.8661711711711712, 'accuracy': 0.8661711711711712, 'average_precision_score_macro': 0.8864099646482893, 'recall_score_micro': 0.8661711711711712, 'precision_score_macro': 0.8677434818213142, 'average_precision_score_weighted': 0.9111387511467616, 'f1_score_macro': 0.83813450979573, 'balanced_accuracy': 0.8298182847441322, 'precision_score_micro': 0.8661711711711712, 'precision_score_weighted': 0.8733931603325003, 'average_precision_score_micro': 0.9124297611447804, 'AUC_macro': 0.9042427741227177, 'f1_score_weighted': 0.8604284204389155, 'log_loss': 0.397482912569034, 'accuracy_table': 'aml://artifactId/ExperimentRun/dcid.AutoML_a8026d04-0a63-4621-bb03-ffdaa17023ae_48/accuracy_table', 'confusion_matrix': 'aml://artifactId/ExperimentRun/dcid.AutoML_a8026d04-0a63-4621-bb03-ffdaa17023ae_48/confusion_matrix'}\n"
     ]
    }
   ],
   "source": [
    "# print(best_run.get_metrics())\n",
    "# print(best_run.get_details())"
   ]
  },
  {
   "cell_type": "code",
   "execution_count": 65,
   "metadata": {
    "gather": {
     "logged": 1598431426111
    },
    "jupyter": {
     "outputs_hidden": false,
     "source_hidden": false
    },
    "nteract": {
     "transient": {
      "deleting": false
     }
    }
   },
   "outputs": [
    {
     "data": {
      "text/plain": [
       "Model(workspace=Workspace.create(name='quick-starts-ws-219220', subscription_id='81cefad3-d2c9-4f77-a466-99a7f541c7bb', resource_group='aml-quickstarts-219220'), name=automl-best-model.pkl, id=automl-best-model.pkl:4, version=4, tags={}, properties={})"
      ]
     },
     "execution_count": 65,
     "metadata": {},
     "output_type": "execute_result"
    }
   ],
   "source": [
    "# Save the best model\n",
    "best_run.register_model(model_name = 'automl-best-model-yum.pkl',model_path = './outputs/')"
   ]
  },
  {
   "cell_type": "code",
   "execution_count": 66,
   "metadata": {},
   "outputs": [],
   "source": [
    "# best_run.get_file_names()\n",
    "# # Download the yaml file that includes the environment dependencies\n",
    "# best_run.download_file('outputs/conda_env_v_1_0_0.yml', 'env.yml')\n",
    "# # Download the model file\n",
    "# best_run.download_file('outputs/model.pkl', 'Automl_model.pkl')"
   ]
  },
  {
   "cell_type": "markdown",
   "metadata": {},
   "source": [
    "## Model Deployment\n",
    "\n",
    "Remember you have to deploy only one of the two models you trained but you still need to register both the models. Perform the steps in the rest of this notebook only if you wish to deploy this model.\n",
    "\n",
    "In the cell below, register the model, create an inference config and deploy the model as a web service."
   ]
  },
  {
   "cell_type": "code",
   "execution_count": 68,
   "metadata": {
    "gather": {
     "logged": 1598431435189
    },
    "jupyter": {
     "outputs_hidden": false,
     "source_hidden": false
    },
    "nteract": {
     "transient": {
      "deleting": false
     }
    }
   },
   "outputs": [
    {
     "name": "stdout",
     "output_type": "stream",
     "text": [
      "automl-best-model.pkl\n",
      "Tips: You can try get_logs(): https://aka.ms/debugimage#dockerlog or local deployment: https://aka.ms/debugimage#debug-locally to debug if deployment takes longer than 10 minutes.\n",
      "Running\n",
      "2022-12-19 12:23:55+00:00 Creating Container Registry if not exists.\n",
      "2022-12-19 12:23:55+00:00 Use the existing image.\n",
      "2022-12-19 12:23:57+00:00 Submitting deployment to compute.\n",
      "2022-12-19 12:24:01+00:00 Checking the status of deployment aciservice..\n",
      "2022-12-19 12:26:45+00:00 Checking the status of inference endpoint aciservice.\n",
      "Succeeded\n",
      "ACI service creation operation finished, operation \"Succeeded\"\n"
     ]
    }
   ],
   "source": [
    "# Registring the best model\n",
    "model = run.register_model(model_name='automl-best-model-yum.pkl')\n",
    "print(run.model_id)\n",
    "\n",
    "# Get automl environment with its dependencies\n",
    "environment = Environment.get(ws, \"AzureML-AutoML\")\n",
    "\n",
    "environment = best_run.get_environment()\n",
    "entry_script='inference/scoring.py'\n",
    "best_run.download_file('outputs/scoring_file_v_1_0_0.py', entry_script)\n",
    "\n",
    "inference_config = InferenceConfig(entry_script = entry_script, environment = environment)\n",
    "\n",
    "deployment_config = AciWebservice.deploy_configuration(cpu_cores = 1, \n",
    "                                                    memory_gb = 1, \n",
    "                                                    auth_enabled= True, \n",
    "                                                    enable_app_insights= True)\n",
    "\n",
    "service = Model.deploy(ws, \"aciservice\", [model], inference_config, deployment_config)\n",
    "service.wait_for_deployment(show_output = True)"
   ]
  },
  {
   "cell_type": "code",
   "execution_count": 70,
   "metadata": {},
   "outputs": [
    {
     "name": "stdout",
     "output_type": "stream",
     "text": [
      "Service state: Healthy\n",
      "Service scoring URI: http://5e9ae7fd-d333-4fe6-9940-987e1eeec211.southcentralus.azurecontainer.io/score\n",
      "Service Swagger URI: http://5e9ae7fd-d333-4fe6-9940-987e1eeec211.southcentralus.azurecontainer.io/swagger.json\n",
      "Service primary authentication key: LK8G9vCuz2XoG2cLqlOjCyFRQRwc3zWx\n"
     ]
    }
   ],
   "source": [
    "# Getting the service state\n",
    "# The scorig URI & the primary authentication key are copied to the endpoint.py file in order to test the deployed service.\n",
    "# The Swagger URI can be used in Swagger UI: https://petstore.swagger.io/ For more info, please see the relevant part in the README file.\n",
    "\n",
    "# # Authentication is enabled, so I use the get_keys method to retrieve the primary and secondary authentication keys:\n",
    "# primary, secondary = service.get_keys()\n",
    "\n",
    "print('Service state: ' + service.state)\n",
    "print('Service scoring URI: ' + service.scoring_uri)\n",
    "print('Service Swagger URI: ' + service.swagger_uri)\n",
    "print('Service primary authentication key: ' + primary)\n"
   ]
  },
  {
   "cell_type": "markdown",
   "metadata": {
    "collapsed": true,
    "gather": {
     "logged": 1598431657736
    },
    "jupyter": {
     "outputs_hidden": false,
     "source_hidden": false
    },
    "nteract": {
     "transient": {
      "deleting": false
     }
    }
   },
   "source": [
    "In the cell below, send a request to the web service you deployed to test it."
   ]
  },
  {
   "cell_type": "code",
   "execution_count": 71,
   "metadata": {
    "gather": {
     "logged": 1598432707604
    },
    "jupyter": {
     "outputs_hidden": false,
     "source_hidden": false
    },
    "nteract": {
     "transient": {
      "deleting": false
     }
    }
   },
   "outputs": [
    {
     "name": "stdout",
     "output_type": "stream",
     "text": [
      "{\"result\": [1, 0]}\n",
      "Expected result: [true, false], where 'true' means '1' and 'false' means '0' as result in the 'DEATH_EVENT' column\n"
     ]
    }
   ],
   "source": [
    "#%run endpoint.py\n",
    "\n",
    "import requests\n",
    "import json\n",
    "\n",
    "# URL for the web service, should be similar to:\n",
    "\n",
    "scoring_uri = ''\n",
    "\n",
    "# If the service is authenticated, set the key or token\n",
    "\n",
    "# key = 'LK8G9vCuz2XoG2cLqlOjCyFRQRwc3zWx'\n",
    "\n",
    "data = {\"data\":\n",
    "        [\n",
    "          \"Age\": 25,\n",
    "            \"SystolicBP\": 130\n",
    "            \"DiastolicBP\": 80\n",
    "            \"BS\": 15\n",
    "            \"BodyTemp\": 98\n",
    "            \"HeartRate\": 86          \n",
    "      ]\n",
    "    }\n",
    "# Convert to JSON string\n",
    "input_data = json.dumps(data)\n",
    "with open(\"data.json\", \"w\") as _f:\n",
    "    _f.write(input_data)\n",
    "\n",
    "# Set the content type\n",
    "headers = {'Content-Type': 'application/json'}\n",
    "# If authentication is enabled, set the authorization header\n",
    "# headers['Authorization'] = f'Bearer {key}'\n",
    "\n",
    "\n",
    "# Make the request and display the response\n",
    "resp = requests.post(scoring_uri, input_data, headers=headers)\n",
    "print(resp.json())"
   ]
  },
  {
   "cell_type": "markdown",
   "metadata": {
    "collapsed": true,
    "gather": {
     "logged": 1598432765711
    },
    "jupyter": {
     "outputs_hidden": false,
     "source_hidden": false
    },
    "nteract": {
     "transient": {
      "deleting": false
     }
    }
   },
   "source": [
    "TODO: In the cell below, print the logs of the web service and delete the service"
   ]
  },
  {
   "cell_type": "code",
   "execution_count": 72,
   "metadata": {
    "jupyter": {
     "outputs_hidden": false,
     "source_hidden": false
    },
    "nteract": {
     "transient": {
      "deleting": false
     }
    }
   },
   "outputs": [
    {
     "name": "stdout",
     "output_type": "stream",
     "text": [
      "2022-12-19T12:26:21,947010100+00:00 - iot-server/run \n",
      "2022-12-19T12:26:21,949085900+00:00 - rsyslog/run \n",
      "2022-12-19T12:26:21,964420200+00:00 - gunicorn/run \n",
      "2022-12-19T12:26:21,970206600+00:00 | gunicorn/run | \n",
      "2022-12-19T12:26:21,973776700+00:00 | gunicorn/run | ###############################################\n",
      "2022-12-19T12:26:21,980089100+00:00 | gunicorn/run | AzureML Container Runtime Information\n",
      "2022-12-19T12:26:21,988219400+00:00 | gunicorn/run | ###############################################\n",
      "2022-12-19T12:26:21,988815700+00:00 - nginx/run \n",
      "2022-12-19T12:26:22,009753100+00:00 | gunicorn/run | \n",
      "2022-12-19T12:26:22,025280600+00:00 | gunicorn/run | \n",
      "2022-12-19T12:26:22,045696200+00:00 | gunicorn/run | AzureML image information: openmpi3.1.2-ubuntu18.04, Materializaton Build:20220930.v4\n",
      "2022-12-19T12:26:22,057764000+00:00 | gunicorn/run | \n",
      "2022-12-19T12:26:22,066567400+00:00 | gunicorn/run | \n",
      "2022-12-19T12:26:22,075501400+00:00 | gunicorn/run | PATH environment variable: /azureml-envs/azureml_bd40b1c03779eb152f0fb9bbd7fd1c81/bin:/opt/miniconda/bin:/usr/local/sbin:/usr/local/bin:/usr/sbin:/usr/bin:/sbin:/bin\n",
      "2022-12-19T12:26:22,088309800+00:00 | gunicorn/run | PYTHONPATH environment variable: \n",
      "2022-12-19T12:26:22,095241900+00:00 | gunicorn/run | \n",
      "2022-12-19T12:26:22,098290100+00:00 | gunicorn/run | Pip Dependencies (before dynamic installation)\n",
      "\n",
      "EdgeHubConnectionString and IOTEDGE_IOTHUBHOSTNAME are not set. Exiting...\n",
      "2022-12-19T12:26:22,700665700+00:00 - iot-server/finish 1 0\n",
      "2022-12-19T12:26:22,707033700+00:00 - Exit code 1 is normal. Not restarting iot-server.\n",
      "adal==1.2.7\n",
      "applicationinsights==0.11.10\n",
      "argcomplete==2.0.0\n",
      "arviz @ file:///tmp/build/80754af9/arviz_1614019183254/work\n",
      "attrs==22.1.0\n",
      "azure-common==1.1.28\n",
      "azure-core==1.26.0\n",
      "azure-graphrbac==0.61.1\n",
      "azure-identity==1.11.0\n",
      "azure-mgmt-authorization==2.0.0\n",
      "azure-mgmt-containerregistry==10.0.0\n",
      "azure-mgmt-core==1.3.2\n",
      "azure-mgmt-keyvault==10.1.0\n",
      "azure-mgmt-resource==21.2.1\n",
      "azure-mgmt-storage==20.1.0\n",
      "azure-storage-blob==12.13.0\n",
      "azure-storage-queue==12.5.0\n",
      "azureml-automl-core==1.47.0\n",
      "azureml-automl-runtime==1.47.0\n",
      "azureml-core==1.47.0\n",
      "azureml-dataprep==4.5.7\n",
      "azureml-dataprep-native==38.0.0\n",
      "azureml-dataprep-rslex==2.11.4\n",
      "azureml-dataset-runtime==1.47.0\n",
      "azureml-defaults==1.47.0\n",
      "azureml-inference-server-http==0.7.6\n",
      "azureml-interpret==1.47.0\n",
      "azureml-mlflow==1.47.0\n",
      "azureml-pipeline-core==1.47.0\n",
      "azureml-responsibleai==1.47.0\n",
      "azureml-telemetry==1.47.0\n",
      "azureml-train-automl-client==1.47.0\n",
      "azureml-train-automl-runtime==1.47.0\n",
      "azureml-train-core==1.47.0\n",
      "azureml-train-restclients-hyperdrive==1.47.0\n",
      "azureml-training-tabular==1.47.0\n",
      "backcall==0.2.0\n",
      "backports.tempfile==1.0\n",
      "backports.weakref==1.0.post1\n",
      "bcrypt==4.0.1\n",
      "bokeh==2.4.3\n",
      "boto==2.49.0\n",
      "boto3 @ file:///home/conda/feedstock_root/build_artifacts/boto3_1602889982367/work\n",
      "botocore @ file:///home/conda/feedstock_root/build_artifacts/botocore_1602884371056/work\n",
      "brotlipy==0.7.0\n",
      "cachetools==5.2.0\n",
      "certifi @ file:///opt/conda/conda-bld/certifi_1655968806487/work/certifi\n",
      "cffi @ file:///tmp/abs_98z5h56wf8/croots/recipe/cffi_1659598650955/work\n",
      "cftime @ file:///tmp/build/80754af9/cftime_1638345281172/work\n",
      "charset-normalizer==2.1.1\n",
      "click @ file:///home/linux1/recipes/ci/click_1610990599742/work\n",
      "cloudpickle @ file:///Users/ktietz/demo/mc3/conda-bld/cloudpickle_1629142150447/work\n",
      "configparser==3.7.4\n",
      "contextlib2==21.6.0\n",
      "convertdate @ file:///tmp/build/80754af9/convertdate_1634070773133/work\n",
      "cryptography @ file:///tmp/build/80754af9/cryptography_1652083456434/work\n",
      "cycler @ file:///tmp/build/80754af9/cycler_1637851556182/work\n",
      "Cython==0.29.17\n",
      "dask==2.30.0\n",
      "databricks-cli==0.17.3\n",
      "dataclasses==0.6\n",
      "debugpy==1.6.3\n",
      "decorator==5.1.1\n",
      "dice-ml==0.8\n",
      "dill==0.3.6\n",
      "distributed==2.30.1\n",
      "distro==1.8.0\n",
      "docker==6.0.0\n",
      "dotnetcore2==3.1.23\n",
      "dowhy==0.7.1\n",
      "econml==0.13.1\n",
      "entrypoints==0.4\n",
      "ephem @ file:///tmp/build/80754af9/ephem_1638960312619/work\n",
      "erroranalysis==0.3.12\n",
      "fairlearn==0.7.0\n",
      "fbprophet @ file:///home/conda/feedstock_root/build_artifacts/fbprophet_1599365534439/work\n",
      "fire==0.4.0\n",
      "Flask==2.1.3\n",
      "Flask-Cors==3.0.10\n",
      "flatbuffers==22.10.26\n",
      "fonttools==4.25.0\n",
      "fsspec==2022.10.0\n",
      "gensim==3.8.3\n",
      "gitdb==4.0.9\n",
      "GitPython==3.1.29\n",
      "google-api-core==2.10.2\n",
      "google-auth==2.13.0\n",
      "googleapis-common-protos==1.56.4\n",
      "gunicorn==20.1.0\n",
      "h5py==3.7.0\n",
      "HeapDict==1.0.1\n",
      "holidays @ file:///home/conda/feedstock_root/build_artifacts/holidays_1595448845196/work\n",
      "humanfriendly==10.0\n",
      "idna @ file:///tmp/build/80754af9/idna_1637925883363/work\n",
      "importlib-metadata==5.0.0\n",
      "importlib-resources==5.10.0\n",
      "inference-schema==1.5\n",
      "interpret-community==0.27.0\n",
      "interpret-core==0.2.7\n",
      "ipykernel==6.6.0\n",
      "ipython==7.34.0\n",
      "isodate==0.6.1\n",
      "itsdangerous==2.1.2\n",
      "jedi==0.18.1\n",
      "jeepney==0.8.0\n",
      "Jinja2==2.11.2\n",
      "jmespath @ file:///Users/ktietz/demo/mc3/conda-bld/jmespath_1630583964805/work\n",
      "joblib==0.14.1\n",
      "json-logging-py==0.2\n",
      "jsonpickle==2.2.0\n",
      "jsonschema==4.16.0\n",
      "jupyter-client==7.4.4\n",
      "jupyter-core==4.11.2\n",
      "keras2onnx==1.6.0\n",
      "kiwisolver @ file:///opt/conda/conda-bld/kiwisolver_1653292039266/work\n",
      "knack==0.10.0\n",
      "korean-lunar-calendar @ file:///tmp/build/80754af9/korean_lunar_calendar_1634063020401/work\n",
      "lightgbm==3.2.1\n",
      "llvmlite==0.38.1\n",
      "locket==1.0.0\n",
      "LunarCalendar @ file:///tmp/build/80754af9/lunarcalendar_1646383991234/work\n",
      "MarkupSafe==2.0.1\n",
      "matplotlib @ file:///tmp/build/80754af9/matplotlib-suite_1647441664166/work\n",
      "matplotlib-inline==0.1.6\n",
      "ml-wrappers==0.2.2\n",
      "mlflow-skinny==1.30.0\n",
      "mpi4py @ file:///home/conda/feedstock_root/build_artifacts/mpi4py_1660326262210/work\n",
      "mpmath==1.2.1\n",
      "msal==1.20.0\n",
      "msal-extensions==1.0.0\n",
      "msgpack==1.0.4\n",
      "msrest==0.7.1\n",
      "msrestazure==0.6.4\n",
      "munkres==1.1.4\n",
      "ndg-httpsclient==0.5.1\n",
      "nest-asyncio==1.5.6\n",
      "netCDF4==1.5.7\n",
      "networkx==2.5\n",
      "nimbusml==1.8.0\n",
      "numba==0.55.2\n",
      "numpy @ file:///home/conda/feedstock_root/build_artifacts/numpy_1649806299270/work\n",
      "oauthlib==3.2.2\n",
      "onnx==1.12.0\n",
      "onnxconverter-common==1.6.0\n",
      "onnxmltools==1.4.1\n",
      "onnxruntime==1.11.1\n",
      "opencensus==0.11.0\n",
      "opencensus-context==0.1.3\n",
      "opencensus-ext-azure==1.1.7\n",
      "packaging @ file:///tmp/build/80754af9/packaging_1637314298585/work\n",
      "pandas==1.1.5\n",
      "paramiko==2.11.0\n",
      "parso==0.8.3\n",
      "partd==1.3.0\n",
      "pathspec==0.10.1\n",
      "patsy==0.5.3\n",
      "pexpect==4.8.0\n",
      "pickleshare==0.7.5\n",
      "Pillow==9.2.0\n",
      "pkginfo==1.8.3\n",
      "pkgutil-resolve-name==1.3.10\n",
      "pmdarima==1.7.1\n",
      "portalocker==2.6.0\n",
      "prompt-toolkit==3.0.31\n",
      "protobuf==3.20.1\n",
      "psutil @ file:///opt/conda/conda-bld/psutil_1656431268089/work\n",
      "ptyprocess==0.7.0\n",
      "py-cpuinfo==5.0.0\n",
      "pyarrow==9.0.0\n",
      "pyasn1==0.4.8\n",
      "pyasn1-modules==0.2.8\n",
      "pycparser @ file:///tmp/build/80754af9/pycparser_1636541352034/work\n",
      "pydot==1.4.2\n",
      "Pygments==2.13.0\n",
      "PyJWT==2.6.0\n",
      "PyMeeus @ file:///tmp/build/80754af9/pymeeus_1634069098549/work\n",
      "PyNaCl==1.5.0\n",
      "pyOpenSSL @ file:///opt/conda/conda-bld/pyopenssl_1643788558760/work\n",
      "pyparsing @ file:///tmp/build/80754af9/pyparsing_1635766073266/work\n",
      "pyrsistent==0.19.1\n",
      "PySocks @ file:///tmp/build/80754af9/pysocks_1594394576006/work\n",
      "pystan @ file:///tmp/build/80754af9/pystan_1613565226242/work\n",
      "python-dateutil @ file:///tmp/build/80754af9/python-dateutil_1626374649649/work\n",
      "pytz @ file:///opt/conda/conda-bld/pytz_1654762638606/work\n",
      "PyYAML==6.0\n",
      "pyzmq==24.0.1\n",
      "raiutils==0.2.0\n",
      "requests==2.28.1\n",
      "requests-oauthlib==1.3.1\n",
      "responsibleai==0.22.0\n",
      "rsa==4.9\n",
      "s3transfer @ file:///tmp/build/80754af9/s3transfer_1616183147336/work\n",
      "scikit-learn==0.22.1\n",
      "scipy==1.5.3\n",
      "SecretStorage==3.3.3\n",
      "semver==2.13.0\n",
      "setuptools-git==1.2\n",
      "shap==0.39.0\n",
      "six @ file:///tmp/build/80754af9/six_1644875935023/work\n",
      "skl2onnx==1.4.9\n",
      "sklearn-pandas==1.7.0\n",
      "slicer==0.0.7\n",
      "smart-open==1.9.0\n",
      "smmap==5.0.0\n",
      "sortedcontainers==2.4.0\n",
      "sparse==0.13.0\n",
      "sqlparse==0.4.3\n",
      "statsmodels==0.11.1\n",
      "sympy==1.10.1\n",
      "tabulate==0.9.0\n",
      "tblib==1.7.0\n",
      "termcolor==2.1.0\n",
      "toolz==0.12.0\n",
      "tornado==6.2\n",
      "tqdm @ file:///opt/conda/conda-bld/tqdm_1650891076910/work\n",
      "traitlets==5.5.0\n",
      "typing-extensions @ file:///tmp/abs_ben9emwtky/croots/recipe/typing_extensions_1659638822008/work\n",
      "urllib3 @ file:///tmp/build/80754af9/urllib3_1603305693037/work\n",
      "wcwidth==0.2.5\n",
      "websocket-client==1.4.1\n",
      "Werkzeug==2.2.2\n",
      "wrapt==1.12.1\n",
      "xarray @ file:///opt/conda/conda-bld/xarray_1639166117697/work\n",
      "xgboost==1.3.3\n",
      "zict==2.2.0\n",
      "zipp==3.10.0\n",
      "\n",
      "2022-12-19T12:26:24,297017705+00:00 | gunicorn/run | \n",
      "2022-12-19T12:26:24,299854352+00:00 | gunicorn/run | ###############################################\n",
      "2022-12-19T12:26:24,305777370+00:00 | gunicorn/run | AzureML Inference Server\n",
      "2022-12-19T12:26:24,309948634+00:00 | gunicorn/run | ###############################################\n",
      "2022-12-19T12:26:24,314932494+00:00 | gunicorn/run | \n",
      "2022-12-19T12:26:28,375300015+00:00 | gunicorn/run | Starting AzureML Inference Server HTTP.\n",
      "Valid Application Insights instrumentation key provided.\n",
      "\n",
      "Azure ML Inferencing HTTP server v0.7.6\n",
      "\n",
      "\n",
      "Server Settings\n",
      "---------------\n",
      "Entry Script Name: /var/azureml-app/main.py\n",
      "Model Directory: /var/azureml-app/azureml-models/automl-best-model.pkl/5\n",
      "Worker Count: 1\n",
      "Worker Timeout (seconds): 300\n",
      "Server Port: 31311\n",
      "Application Insights Enabled: true\n",
      "Application Insights Key: AppInsights key provided\n",
      "Inferencing HTTP server version: azmlinfsrv/0.7.6\n",
      "CORS for the specified origins: None\n",
      "\n",
      "\n",
      "Server Routes\n",
      "---------------\n",
      "Liveness Probe: GET   127.0.0.1:31311/\n",
      "Score:          POST  127.0.0.1:31311/score\n",
      "\n",
      "Starting gunicorn 20.1.0\n",
      "Listening at: http://0.0.0.0:31311 (73)\n",
      "Using worker: sync\n",
      "Booting worker with pid: 127\n",
      "Initializing logger\n",
      "2022-12-19 12:26:30,348 | root | INFO | Starting up app insights client\n",
      "DeprecationWarning: Explicitly using instrumentation key isdeprecated. Please use a connection string instead.\n",
      "DeprecationWarning: Explicitly using instrumentation key isdeprecated. Please use a connection string instead.\n",
      "DeprecationWarning: Explicitly using instrumentation key isdeprecated. Please use a connection string instead.\n",
      "logging socket was found. logging is available.\n",
      "logging socket was found. logging is available.\n",
      "2022-12-19 12:26:35,585 | root | INFO | Starting up app insight hooks\n",
      "2022-12-19 12:26:36,984 | root | INFO | Found driver script at /var/azureml-app/main.py and the score script at /var/azureml-app/scoring.py\n",
      "2022-12-19 12:26:36,985 | root | INFO | run() is decorated with @input_schema. Server will invoke it with the following arguments: data, method.\n",
      "2022-12-19 12:26:36,985 | root | INFO | Invoking user's init function\n",
      "generated new fontManager\n",
      "Importing plotly failed. Interactive plots will not work.\n",
      "2022-12-19 12:26:50,437 | azureml.core | WARNING | Failure while loading azureml_run_type_providers. Failed to load entrypoint azureml.scriptrun = azureml.core.script_run:ScriptRun._from_run_dto with exception (urllib3 1.25.11 (/azureml-envs/azureml_bd40b1c03779eb152f0fb9bbd7fd1c81/lib/python3.7/site-packages), Requirement.parse('urllib3>=1.26.0'), {'docker'}).\n",
      "Failure while loading azureml_run_type_providers. Failed to load entrypoint azureml.scriptrun = azureml.core.script_run:ScriptRun._from_run_dto with exception (urllib3 1.25.11 (/azureml-envs/azureml_bd40b1c03779eb152f0fb9bbd7fd1c81/lib/python3.7/site-packages), Requirement.parse('urllib3>=1.26.0'), {'docker'}).\n",
      "2022-12-19 12:26:50,452 | azureml.core | WARNING | Failure while loading azureml_run_type_providers. Failed to load entrypoint azureml.PipelineRun = azureml.pipeline.core.run:PipelineRun._from_dto with exception (urllib3 1.25.11 (/azureml-envs/azureml_bd40b1c03779eb152f0fb9bbd7fd1c81/lib/python3.7/site-packages), Requirement.parse('urllib3>=1.26.0'), {'docker'}).\n",
      "Failure while loading azureml_run_type_providers. Failed to load entrypoint azureml.PipelineRun = azureml.pipeline.core.run:PipelineRun._from_dto with exception (urllib3 1.25.11 (/azureml-envs/azureml_bd40b1c03779eb152f0fb9bbd7fd1c81/lib/python3.7/site-packages), Requirement.parse('urllib3>=1.26.0'), {'docker'}).\n",
      "2022-12-19 12:26:50,468 | azureml.core | WARNING | Failure while loading azureml_run_type_providers. Failed to load entrypoint azureml.ReusedStepRun = azureml.pipeline.core.run:StepRun._from_reused_dto with exception (urllib3 1.25.11 (/azureml-envs/azureml_bd40b1c03779eb152f0fb9bbd7fd1c81/lib/python3.7/site-packages), Requirement.parse('urllib3>=1.26.0'), {'docker'}).\n",
      "Failure while loading azureml_run_type_providers. Failed to load entrypoint azureml.ReusedStepRun = azureml.pipeline.core.run:StepRun._from_reused_dto with exception (urllib3 1.25.11 (/azureml-envs/azureml_bd40b1c03779eb152f0fb9bbd7fd1c81/lib/python3.7/site-packages), Requirement.parse('urllib3>=1.26.0'), {'docker'}).\n",
      "2022-12-19 12:26:50,486 | azureml.core | WARNING | Failure while loading azureml_run_type_providers. Failed to load entrypoint azureml.StepRun = azureml.pipeline.core.run:StepRun._from_dto with exception (urllib3 1.25.11 (/azureml-envs/azureml_bd40b1c03779eb152f0fb9bbd7fd1c81/lib/python3.7/site-packages), Requirement.parse('urllib3>=1.26.0'), {'docker'}).\n",
      "Failure while loading azureml_run_type_providers. Failed to load entrypoint azureml.StepRun = azureml.pipeline.core.run:StepRun._from_dto with exception (urllib3 1.25.11 (/azureml-envs/azureml_bd40b1c03779eb152f0fb9bbd7fd1c81/lib/python3.7/site-packages), Requirement.parse('urllib3>=1.26.0'), {'docker'}).\n",
      "2022-12-19 12:26:50,646 | azureml.core | WARNING | Failure while loading azureml_run_type_providers. Failed to load entrypoint automl = azureml.train.automl.run:AutoMLRun._from_run_dto with exception (azure-identity 1.11.0 (/azureml-envs/azureml_bd40b1c03779eb152f0fb9bbd7fd1c81/lib/python3.7/site-packages), Requirement.parse('azure-identity==1.7.0'), {'azureml-dataprep'}).\n",
      "Failure while loading azureml_run_type_providers. Failed to load entrypoint automl = azureml.train.automl.run:AutoMLRun._from_run_dto with exception (azure-identity 1.11.0 (/azureml-envs/azureml_bd40b1c03779eb152f0fb9bbd7fd1c81/lib/python3.7/site-packages), Requirement.parse('azure-identity==1.7.0'), {'azureml-dataprep'}).\n",
      "2022-12-19 12:26:50,669 | azureml.core | WARNING | Failure while loading azureml_run_type_providers. Failed to load entrypoint hyperdrive = azureml.train.hyperdrive:HyperDriveRun._from_run_dto with exception (urllib3 1.25.11 (/azureml-envs/azureml_bd40b1c03779eb152f0fb9bbd7fd1c81/lib/python3.7/site-packages), Requirement.parse('urllib3>=1.26.0'), {'docker'}).\n",
      "Failure while loading azureml_run_type_providers. Failed to load entrypoint hyperdrive = azureml.train.hyperdrive:HyperDriveRun._from_run_dto with exception (urllib3 1.25.11 (/azureml-envs/azureml_bd40b1c03779eb152f0fb9bbd7fd1c81/lib/python3.7/site-packages), Requirement.parse('urllib3>=1.26.0'), {'docker'}).\n",
      "2022-12-19 12:26:53,092 | root | INFO | Users's init has completed successfully\n",
      "2022-12-19 12:26:53,098 | root | INFO | Swaggers are prepared for the following versions: [2, 3].\n",
      "2022-12-19 12:26:53,099 | root | INFO | Scoring timeout is found from os.environ: 60000 ms\n",
      "2022-12-19 12:26:53,102 | root | INFO | AML_FLASK_ONE_COMPATIBILITY is set. Patched Flask to ensure compatibility with Flask 1.\n",
      "2022-12-19 12:26:53,118 | root | INFO | 200\n",
      "127.0.0.1 - - [19/Dec/2022:12:26:53 +0000] \"GET /swagger.json HTTP/1.0\" 200 3583 \"-\" \"Go-http-client/1.1\"\n",
      "2022-12-19 12:26:57,465 | root | INFO | 200\n",
      "127.0.0.1 - - [19/Dec/2022:12:26:57 +0000] \"GET /swagger.json HTTP/1.0\" 200 3583 \"-\" \"Go-http-client/1.1\"\n",
      "2022-12-19 12:29:10,194 | root | INFO | 200\n",
      "127.0.0.1 - - [19/Dec/2022:12:29:10 +0000] \"POST /score HTTP/1.0\" 200 22 \"-\" \"python-requests/2.28.1\"\n",
      "\n"
     ]
    }
   ],
   "source": [
    "# Printing the logs\n",
    "print(service.get_logs())"
   ]
  },
  {
   "cell_type": "markdown",
   "metadata": {},
   "source": [
    "## Deleting the service\n",
    "Putting the deletion of the service in a separate cell to avoid accidentally running the cell before finishing the tasks"
   ]
  },
  {
   "cell_type": "code",
   "execution_count": 73,
   "metadata": {},
   "outputs": [],
   "source": [
    "service.delete()"
   ]
  },
  {
   "cell_type": "markdown",
   "metadata": {},
   "source": [
    "**Submission Checklist**\n",
    "- I have registered the model.\n",
    "- I have deployed the model with the best accuracy as a webservice.\n",
    "- I have tested the webservice by sending a request to the model endpoint.\n",
    "- I have deleted the webservice and shutdown all the computes that I have used.\n",
    "- I have taken a screenshot showing the model endpoint as active.\n",
    "- The project includes a file containing the environment details.\n"
   ]
  },
  {
   "cell_type": "markdown",
   "metadata": {},
   "source": []
  }
 ],
 "metadata": {
  "kernel_info": {
   "name": "python3-azureml"
  },
  "kernelspec": {
   "display_name": "Python 3",
   "language": "python",
   "name": "python3"
  },
  "language_info": {
   "codemirror_mode": {
    "name": "ipython",
    "version": 3
   },
   "file_extension": ".py",
   "mimetype": "text/x-python",
   "name": "python",
   "nbconvert_exporter": "python",
   "pygments_lexer": "ipython3",
   "version": "3.7.0"
  },
  "nteract": {
   "version": "nteract-front-end@1.0.0"
  }
 },
 "nbformat": 4,
 "nbformat_minor": 2
}
