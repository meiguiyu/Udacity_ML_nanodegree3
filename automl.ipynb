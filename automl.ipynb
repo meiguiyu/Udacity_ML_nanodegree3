{
 "cells": [
  {
   "cell_type": "markdown",
   "metadata": {},
   "source": [
    "## Automated ML\n",
    "\n",
    "Importing all needed dependencies to complete the project."
   ]
  },
  {
   "cell_type": "code",
   "execution_count": 1,
   "metadata": {
    "gather": {
     "logged": 1674709604464
    },
    "jupyter": {
     "outputs_hidden": false,
     "source_hidden": false
    },
    "nteract": {
     "transient": {
      "deleting": false
     }
    }
   },
   "outputs": [],
   "source": [
    "import requests\n",
    "import json\n",
    "import logging\n",
    "import joblib\n",
    "from pprint import pprint\n",
    "import pandas as pd\n",
    "from sklearn.model_selection import train_test_split\n",
    "\n",
    "import azureml.core\n",
    "from azureml.core.workspace import Workspace\n",
    "from azureml.core.experiment import Experiment\n",
    "from azureml.core.compute import ComputeTarget, AmlCompute\n",
    "from azureml.train.automl import AutoMLConfig\n",
    "from azureml.core.compute_target import ComputeTargetException\n",
    "from azureml.core.dataset import Dataset\n",
    "from azureml.data.dataset_factory import TabularDatasetFactory\n",
    "from azureml.widgets import RunDetails\n",
    "from azureml.core.model import Model, InferenceConfig\n",
    "from azureml.core.webservice import AciWebservice\n",
    "from azureml.automl.core.shared import constants\n",
    "from azureml.core.environment import Environment"
   ]
  },
  {
   "cell_type": "markdown",
   "metadata": {},
   "source": [
    "## Workspace and Experiment"
   ]
  },
  {
   "cell_type": "code",
   "execution_count": 2,
   "metadata": {
    "gather": {
     "logged": 1674709621743
    }
   },
   "outputs": [],
   "source": [
    "ws = Workspace.from_config()\n",
    "# choose a name for experiment\n",
    "experiment_name = \"automl_maternal_health_experiment\"\n",
    "experiment = Experiment(ws,experiment_name)"
   ]
  },
  {
   "cell_type": "markdown",
   "metadata": {},
   "source": [
    "## AmlCompute cluster"
   ]
  },
  {
   "cell_type": "code",
   "execution_count": 3,
   "metadata": {
    "gather": {
     "logged": 1674709733008
    }
   },
   "outputs": [
    {
     "name": "stdout",
     "output_type": "stream",
     "text": [
      "Creating a new compute cluster...\n",
      "InProgress..\n",
      "SucceededProvisioning operation finished, operation \"Succeeded\"\n",
      "Succeeded..................\n",
      "AmlCompute wait for completion finished\n",
      "\n",
      "Minimum number of nodes requested have been provisioned\n"
     ]
    }
   ],
   "source": [
    "# Choose a name for the cluster\n",
    "cpu_cluster_name = 'cluster-yum'\n",
    "\n",
    "try:\n",
    "    compute_target = ComputeTarget(workspace=ws, name=cpu_cluster_name)\n",
    "    print('Found existing cluster, use it.')\n",
    "except ComputeTargetException:\n",
    "    print('Creating a new compute cluster...')\n",
    "    compute_config = AmlCompute.provisioning_configuration(vm_size='Standard_D2_V2', min_nodes=1, max_nodes=4)\n",
    "    compute_target = ComputeTarget.create(ws, cpu_cluster_name, compute_config)\n",
    "\n",
    "compute_target.wait_for_completion(show_output=True)"
   ]
  },
  {
   "cell_type": "markdown",
   "metadata": {},
   "source": [
    "## Dataset\n",
    "\n",
    "### Overview\n",
    "TODO: In this markdown cell, give an overview of the dataset you are using. Also mention the task you will be performing.\n",
    "\n",
    "TODO: Get data. In the cell below, write code to access the data you will be using in this project. Remember that the dataset needs to be external."
   ]
  },
  {
   "cell_type": "code",
   "execution_count": 6,
   "metadata": {
    "gather": {
     "logged": 1674709994650
    },
    "jupyter": {
     "outputs_hidden": false,
     "source_hidden": false
    },
    "nteract": {
     "transient": {
      "deleting": false
     }
    }
   },
   "outputs": [
    {
     "data": {
      "text/plain": [
       "KeysView({})"
      ]
     },
     "execution_count": 6,
     "metadata": {},
     "output_type": "execute_result"
    }
   ],
   "source": [
    "ws.datasets.keys()"
   ]
  },
  {
   "cell_type": "code",
   "execution_count": 7,
   "metadata": {
    "gather": {
     "logged": 1674710148720
    },
    "jupyter": {
     "outputs_hidden": false,
     "source_hidden": false
    },
    "nteract": {
     "transient": {
      "deleting": false
     }
    }
   },
   "outputs": [
    {
     "name": "stdout",
     "output_type": "stream",
     "text": [
      "   Age  SystolicBP  DiastolicBP    BS  BodyTemp  HeartRate  RiskLevel\n",
      "0   25         130           80  15.0      98.0         86  high risk\n",
      "1   35         140           90  13.0      98.0         70  high risk\n",
      "2   29          90           70   8.0     100.0         80  high risk\n",
      "3   30         140           85   7.0      98.0         70  high risk\n",
      "4   35         120           60   6.1      98.0         76   low risk\n"
     ]
    }
   ],
   "source": [
    "# validate dataset is in store\n",
    "key = \"churn\"\n",
    "description_text = \"Churn\"\n",
    "\n",
    "\n",
    "if key in ws.datasets.keys():\n",
    "    dataset = ws.datasets[key]\n",
    "    print('The Dataset was found')\n",
    "else:\n",
    "    # Create AML Dataset and register it into Workspace\n",
    "    data_url = \"https://archive.ics.uci.edu/ml/machine-learning-databases/00592/Churn_Dateset.csv\"\n",
    "    dataset = Dataset.Tabular.from_delimited_files(data_url)\n",
    "    #Register Dataset in Workspace\n",
    "    dataset = dataset.register(workspace = ws,name = key,description = description_text)\n",
    "\n",
    "df = dataset.to_pandas_dataframe()\n",
    "print(df.head())"
   ]
  },
  {
   "cell_type": "markdown",
   "metadata": {},
   "source": [
    "## AutoML Configuration"
   ]
  },
  {
   "cell_type": "code",
   "execution_count": 8,
   "metadata": {
    "gather": {
     "logged": 1674710160485
    },
    "jupyter": {
     "outputs_hidden": false,
     "source_hidden": false
    },
    "nteract": {
     "transient": {
      "deleting": false
     }
    }
   },
   "outputs": [],
   "source": [
    "# TODO: Put your automl settings here\n",
    "automl_settings = {\n",
    "    \"experiment_timeout_minutes\" : 30,\n",
    "    \"enable_early_stopping\" : True,\n",
    "    \"primary_metric\":'accuracy',\n",
    "    \"max_concurrent_iterations\":4,\n",
    "    \"verbosity\": logging.INFO\n",
    "}\n",
    "# TODO: Put your automl config here\n",
    "automl_config = AutoMLConfig(compute_target = compute_target,\n",
    "                            task = 'classification',\n",
    "                            training_data=dataset,                         \n",
    "                            label_column_name=\"Churn\",\n",
    "                            **automl_settings\n",
    "                            )"
   ]
  },
  {
   "cell_type": "code",
   "execution_count": 9,
   "metadata": {
    "gather": {
     "logged": 1674710985726
    },
    "jupyter": {
     "outputs_hidden": false,
     "source_hidden": false
    },
    "nteract": {
     "transient": {
      "deleting": false
     }
    }
   },
   "outputs": [
    {
     "name": "stdout",
     "output_type": "stream",
     "text": [
      "Submitting remote run.\n",
      "No run_configuration provided, running on cluster-yum with default configuration\n",
      "Running on remote compute: cluster-yum\n"
     ]
    },
    {
     "data": {
      "text/html": [
       "<table style=\"width:100%\"><tr><th>Experiment</th><th>Id</th><th>Type</th><th>Status</th><th>Details Page</th><th>Docs Page</th></tr><tr><td>automl_maternal_health_experiment</td><td>AutoML_ce70000b-1d29-44d4-846b-2c8097d702a8</td><td>automl</td><td>NotStarted</td><td><a href=\"https://ml.azure.com/runs/AutoML_ce70000b-1d29-44d4-846b-2c8097d702a8?wsid=/subscriptions/9e65f93e-bdd8-437b-b1e8-0647cd6098f7/resourcegroups/aml-quickstarts-223541/workspaces/quick-starts-ws-223541&amp;tid=660b3398-b80e-49d2-bc5b-ac1dc93b5254\" target=\"_blank\" rel=\"noopener\">Link to Azure Machine Learning studio</a></td><td><a href=\"https://docs.microsoft.com/en-us/python/api/overview/azure/ml/intro?view=azure-ml-py\" target=\"_blank\" rel=\"noopener\">Link to Documentation</a></td></tr></table>"
      ],
      "text/plain": [
       "<IPython.core.display.HTML object>"
      ]
     },
     "metadata": {},
     "output_type": "display_data"
    },
    {
     "name": "stdout",
     "output_type": "stream",
     "text": [
      "\n",
      "Current status: FeaturesGeneration. Generating features for the dataset.\n",
      "Current status: DatasetCrossValidationSplit. Generating individually featurized CV splits.\n",
      "Current status: ModelSelection. Beginning model selection.\n",
      "\n",
      "********************************************************************************************\n",
      "DATA GUARDRAILS: \n",
      "\n",
      "TYPE:         Cross validation\n",
      "STATUS:       DONE\n",
      "DESCRIPTION:  In order to accurately evaluate the model(s) trained by AutoML, we leverage a dataset that the model is not trained on. Hence, if the user doesn't provide an explicit validation dataset, a part of the training dataset is used to achieve this. For smaller datasets (fewer than 20,000 samples), cross-validation is leveraged, else a single hold-out set is split from the training data to serve as the validation dataset. Hence, for your input data we leverage cross-validation with 10 folds, if the number of training samples are fewer than 1000, and 3 folds in all other cases.\n",
      "              Learn more about cross validation: https://aka.ms/AutomatedMLCrossValidation\n",
      "DETAILS:      \n",
      "+------------------------------+\n",
      "|Number of folds               |\n",
      "+==============================+\n",
      "|3                             |\n",
      "+------------------------------+\n",
      "\n",
      "********************************************************************************************\n",
      "\n",
      "TYPE:         Class balancing detection\n",
      "STATUS:       PASSED\n",
      "DESCRIPTION:  Your inputs were analyzed, and all classes are balanced in your training data.\n",
      "              Learn more about imbalanced data: https://aka.ms/AutomatedMLImbalancedData\n",
      "\n",
      "********************************************************************************************\n",
      "\n",
      "TYPE:         Missing feature values imputation\n",
      "STATUS:       DONE\n",
      "DESCRIPTION:  If the missing values are expected, let the run complete. Otherwise cancel the current run and use a script to customize the handling of missing feature values that may be more appropriate based on the data type and business requirement.\n",
      "              Learn more about missing value imputation: https://aka.ms/AutomatedMLFeaturization\n",
      "DETAILS:      \n",
      "+------------------------------+------------------------------+------------------------------+\n",
      "|Column name                   |Missing value count           |Imputation type               |\n",
      "+==============================+==============================+==============================+\n",
      "|BodyTemp                      |3                             |mean                          |\n",
      "+------------------------------+------------------------------+------------------------------+\n",
      "\n",
      "********************************************************************************************\n",
      "\n",
      "TYPE:         High cardinality feature detection\n",
      "STATUS:       PASSED\n",
      "DESCRIPTION:  Your inputs were analyzed, and no high cardinality features were detected.\n",
      "              Learn more about high cardinality feature handling: https://aka.ms/AutomatedMLFeaturization\n",
      "\n",
      "********************************************************************************************\n",
      "\n",
      "********************************************************************************************\n",
      "ITER: The iteration being evaluated.\n",
      "PIPELINE: A summary description of the pipeline being evaluated.\n",
      "DURATION: Time taken for the current iteration.\n",
      "METRIC: The result of computing score on the fitted pipeline.\n",
      "BEST: The best observed score thus far.\n",
      "********************************************************************************************\n",
      "\n",
      " ITER   PIPELINE                                       DURATION            METRIC      BEST\n",
      "    0   MaxAbsScaler LightGBM                          0:00:42             0.7959    0.7959\n",
      "    1   MaxAbsScaler XGBoostClassifier                 0:00:11             0.8166    0.8166\n",
      "    2   MaxAbsScaler ExtremeRandomTrees                0:00:14             0.6972    0.8166\n",
      "    3   SparseNormalizer XGBoostClassifier             0:00:13             0.7327    0.8166\n",
      "    4   MaxAbsScaler LightGBM                          0:00:10             0.7101    0.8166\n",
      "    5   MaxAbsScaler LightGBM                          0:00:09             0.7110    0.8166\n",
      "    6   StandardScalerWrapper XGBoostClassifier        0:00:13             0.7919    0.8166\n",
      "    7   MaxAbsScaler LogisticRegression                0:00:13             0.6726    0.8166\n",
      "    8   StandardScalerWrapper ExtremeRandomTrees       0:00:13             0.6538    0.8166\n",
      "    9   StandardScalerWrapper XGBoostClassifier        0:00:15             0.7574    0.8166\n",
      "   10   SparseNormalizer LightGBM                      0:00:08             0.6775    0.8166\n",
      "   11   StandardScalerWrapper XGBoostClassifier        0:00:14             0.7465    0.8166\n",
      "   12   MaxAbsScaler LogisticRegression                0:00:14             0.6765    0.8166\n",
      "   13   MaxAbsScaler SGD                               0:00:12             0.6588    0.8166\n",
      "   15   SparseNormalizer RandomForest                  0:00:42             0.7308    0.8166\n",
      "   14   StandardScalerWrapper XGBoostClassifier        0:00:13             0.7495    0.8166\n",
      "   16   StandardScalerWrapper LogisticRegression       0:00:15             0.6775    0.8166\n",
      "   17   StandardScalerWrapper RandomForest             0:00:09             0.7160    0.8166\n",
      "   18   StandardScalerWrapper XGBoostClassifier        0:00:09             0.7801    0.8166\n",
      "   19   TruncatedSVDWrapper RandomForest               0:00:15             0.7229    0.8166\n",
      "   21   StandardScalerWrapper XGBoostClassifier        0:00:29             0.7821    0.8166\n",
      "   22   SparseNormalizer XGBoostClassifier             0:00:30             0.7692    0.8166\n",
      "   23   StandardScalerWrapper LogisticRegression       0:00:29             0.6696    0.8166\n",
      "   24   StandardScalerWrapper RandomForest             0:00:27             0.6361    0.8166\n",
      "   25   TruncatedSVDWrapper XGBoostClassifier          0:00:31             0.6243    0.8166\n",
      "   26   SparseNormalizer XGBoostClassifier             0:00:31             0.7535    0.8166\n",
      "   27   MaxAbsScaler ExtremeRandomTrees                0:00:28             0.7041    0.8166\n",
      "   20   TruncatedSVDWrapper RandomForest               0:01:54             0.7742    0.8166\n",
      "   28   StandardScalerWrapper XGBoostClassifier        0:00:30             0.7002    0.8166\n",
      "   29   StandardScalerWrapper XGBoostClassifier        0:00:26             0.7110    0.8166\n",
      "   30   StandardScalerWrapper XGBoostClassifier        0:00:32             0.6765    0.8166\n",
      "   31   StandardScalerWrapper XGBoostClassifier        0:00:32             0.7663    0.8166\n",
      "   32   StandardScalerWrapper DecisionTree             0:00:30             0.6686    0.8166\n",
      "   33                                                  0:00:10                nan    0.8166\n",
      "   34                                                  0:00:00                nan    0.8166\n",
      "   35   TruncatedSVDWrapper XGBoostClassifier          0:00:01                nan    0.8166\n",
      "   36    VotingEnsemble                                0:00:46             0.8284    0.8284\n",
      "   37    StackEnsemble                                 0:00:57             0.8176    0.8284\n"
     ]
    }
   ],
   "source": [
    "# Submit your experiment\n",
    "run = experiment.submit(automl_config, show_output=True)\n",
    "#run.wait_for_completion()"
   ]
  },
  {
   "cell_type": "code",
   "execution_count": 10,
   "metadata": {
    "gather": {
     "logged": 1674710986052
    }
   },
   "outputs": [
    {
     "name": "stdout",
     "output_type": "stream",
     "text": [
      "Run Status:  Completed\n"
     ]
    }
   ],
   "source": [
    "print(\"Run Status: \",run.get_status())"
   ]
  },
  {
   "cell_type": "markdown",
   "metadata": {},
   "source": [
    "## Run Details\n",
    "\n",
    "In the cell below, use the `RunDetails` widget to show the different experiments."
   ]
  },
  {
   "cell_type": "code",
   "execution_count": 11,
   "metadata": {
    "gather": {
     "logged": 1674711583404
    },
    "jupyter": {
     "outputs_hidden": false,
     "source_hidden": false
    },
    "nteract": {
     "transient": {
      "deleting": false
     }
    }
   },
   "outputs": [
    {
     "data": {
      "application/vnd.jupyter.widget-view+json": {
       "model_id": "85db1dac30cd45398748c3c139079b4c",
       "version_major": 2,
       "version_minor": 0
      },
      "text/plain": [
       "_AutoMLWidget(widget_settings={'childWidgetDisplay': 'popup', 'send_telemetry': False, 'log_level': 'INFO', 's…"
      ]
     },
     "metadata": {},
     "output_type": "display_data"
    },
    {
     "data": {
      "application/aml.mini.widget.v1": "{\"status\": \"Completed\", \"workbench_run_details_uri\": \"https://ml.azure.com/runs/AutoML_ce70000b-1d29-44d4-846b-2c8097d702a8?wsid=/subscriptions/9e65f93e-bdd8-437b-b1e8-0647cd6098f7/resourcegroups/aml-quickstarts-223541/workspaces/quick-starts-ws-223541&tid=660b3398-b80e-49d2-bc5b-ac1dc93b5254\", \"run_id\": \"AutoML_ce70000b-1d29-44d4-846b-2c8097d702a8\", \"run_properties\": {\"run_id\": \"AutoML_ce70000b-1d29-44d4-846b-2c8097d702a8\", \"created_utc\": \"2023-01-26T05:16:11.808954Z\", \"properties\": {\"num_iterations\": \"1000\", \"training_type\": \"TrainFull\", \"acquisition_function\": \"EI\", \"primary_metric\": \"accuracy\", \"train_split\": \"0\", \"acquisition_parameter\": \"0\", \"num_cross_validation\": null, \"target\": \"cluster-yum\", \"AMLSettingsJsonString\": \"{\\\"path\\\":null,\\\"name\\\":\\\"automl_maternal_health_experiment\\\",\\\"subscription_id\\\":\\\"9e65f93e-bdd8-437b-b1e8-0647cd6098f7\\\",\\\"resource_group\\\":\\\"aml-quickstarts-223541\\\",\\\"workspace_name\\\":\\\"quick-starts-ws-223541\\\",\\\"region\\\":\\\"southcentralus\\\",\\\"compute_target\\\":\\\"cluster-yum\\\",\\\"spark_service\\\":null,\\\"azure_service\\\":\\\"remote\\\",\\\"many_models\\\":false,\\\"pipeline_fetch_max_batch_size\\\":1,\\\"enable_batch_run\\\":true,\\\"enable_parallel_run\\\":false,\\\"num_procs\\\":null,\\\"enable_run_restructure\\\":false,\\\"start_auxiliary_runs_before_parent_complete\\\":false,\\\"enable_code_generation\\\":true,\\\"iterations\\\":1000,\\\"primary_metric\\\":\\\"accuracy\\\",\\\"task_type\\\":\\\"classification\\\",\\\"positive_label\\\":null,\\\"data_script\\\":null,\\\"test_size\\\":0.0,\\\"test_include_predictions_only\\\":false,\\\"validation_size\\\":0.0,\\\"n_cross_validations\\\":null,\\\"y_min\\\":null,\\\"y_max\\\":null,\\\"num_classes\\\":null,\\\"featurization\\\":\\\"auto\\\",\\\"_ignore_package_version_incompatibilities\\\":false,\\\"is_timeseries\\\":false,\\\"max_cores_per_iteration\\\":1,\\\"max_concurrent_iterations\\\":4,\\\"iteration_timeout_minutes\\\":null,\\\"mem_in_mb\\\":null,\\\"enforce_time_on_windows\\\":false,\\\"experiment_timeout_minutes\\\":30,\\\"experiment_exit_score\\\":null,\\\"partition_column_names\\\":null,\\\"whitelist_models\\\":null,\\\"blacklist_algos\\\":[\\\"TensorFlowLinearClassifier\\\",\\\"TensorFlowDNN\\\"],\\\"supported_models\\\":[\\\"XGBoostClassifier\\\",\\\"MultinomialNaiveBayes\\\",\\\"RandomForest\\\",\\\"LinearSVM\\\",\\\"TabnetClassifier\\\",\\\"BernoulliNaiveBayes\\\",\\\"SGD\\\",\\\"KNN\\\",\\\"SVM\\\",\\\"TensorFlowDNN\\\",\\\"ExtremeRandomTrees\\\",\\\"DecisionTree\\\",\\\"LightGBM\\\",\\\"AveragedPerceptronClassifier\\\",\\\"TensorFlowLinearClassifier\\\",\\\"GradientBoosting\\\",\\\"LogisticRegression\\\"],\\\"private_models\\\":[],\\\"auto_blacklist\\\":true,\\\"blacklist_samples_reached\\\":false,\\\"exclude_nan_labels\\\":true,\\\"verbosity\\\":20,\\\"_debug_log\\\":\\\"azureml_automl.log\\\",\\\"show_warnings\\\":false,\\\"model_explainability\\\":true,\\\"service_url\\\":null,\\\"sdk_url\\\":null,\\\"sdk_packages\\\":null,\\\"enable_onnx_compatible_models\\\":false,\\\"enable_split_onnx_featurizer_estimator_models\\\":false,\\\"vm_type\\\":\\\"STANDARD_D2_V2\\\",\\\"telemetry_verbosity\\\":20,\\\"send_telemetry\\\":true,\\\"enable_dnn\\\":false,\\\"scenario\\\":\\\"AutoML\\\",\\\"environment_label\\\":null,\\\"save_mlflow\\\":false,\\\"enable_categorical_indicators\\\":false,\\\"force_text_dnn\\\":false,\\\"enable_feature_sweeping\\\":true,\\\"enable_early_stopping\\\":true,\\\"early_stopping_n_iters\\\":10,\\\"arguments\\\":null,\\\"dataset_id\\\":\\\"a42ca6bd-a3ae-4b2b-96c8-32e485a3cad0\\\",\\\"hyperdrive_config\\\":null,\\\"validation_dataset_id\\\":null,\\\"run_source\\\":null,\\\"metrics\\\":null,\\\"enable_metric_confidence\\\":false,\\\"enable_ensembling\\\":true,\\\"enable_stack_ensembling\\\":true,\\\"ensemble_iterations\\\":15,\\\"enable_tf\\\":false,\\\"enable_subsampling\\\":null,\\\"subsample_seed\\\":null,\\\"enable_nimbusml\\\":false,\\\"enable_streaming\\\":false,\\\"force_streaming\\\":false,\\\"track_child_runs\\\":true,\\\"n_best_runs\\\":1,\\\"allowed_private_models\\\":[],\\\"label_column_name\\\":\\\"RiskLevel\\\",\\\"weight_column_name\\\":null,\\\"cv_split_column_names\\\":null,\\\"enable_local_managed\\\":false,\\\"_local_managed_run_id\\\":null,\\\"cost_mode\\\":1,\\\"lag_length\\\":0,\\\"metric_operation\\\":\\\"maximize\\\",\\\"preprocess\\\":true}\", \"DataPrepJsonString\": \"{\\\\\\\"training_data\\\\\\\": {\\\\\\\"datasetId\\\\\\\": \\\\\\\"a42ca6bd-a3ae-4b2b-96c8-32e485a3cad0\\\\\\\"}, \\\\\\\"datasets\\\\\\\": 0}\", \"EnableSubsampling\": null, \"runTemplate\": \"AutoML\", \"azureml.runsource\": \"automl\", \"display_task_type\": \"classification\", \"dependencies_versions\": \"{\\\"azureml-widgets\\\": \\\"1.47.0\\\", \\\"azureml-training-tabular\\\": \\\"1.47.0\\\", \\\"azureml-train\\\": \\\"1.47.0\\\", \\\"azureml-train-restclients-hyperdrive\\\": \\\"1.47.0\\\", \\\"azureml-train-core\\\": \\\"1.47.0\\\", \\\"azureml-train-automl\\\": \\\"1.47.0\\\", \\\"azureml-train-automl-runtime\\\": \\\"1.47.0\\\", \\\"azureml-train-automl-client\\\": \\\"1.47.0\\\", \\\"azureml-tensorboard\\\": \\\"1.47.0\\\", \\\"azureml-telemetry\\\": \\\"1.47.0\\\", \\\"azureml-sdk\\\": \\\"1.47.0\\\", \\\"azureml-samples\\\": \\\"0+unknown\\\", \\\"azureml-responsibleai\\\": \\\"1.47.0\\\", \\\"azureml-pipeline\\\": \\\"1.47.0\\\", \\\"azureml-pipeline-steps\\\": \\\"1.47.0\\\", \\\"azureml-pipeline-core\\\": \\\"1.47.0\\\", \\\"azureml-opendatasets\\\": \\\"1.47.0\\\", \\\"azureml-mlflow\\\": \\\"1.47.0\\\", \\\"azureml-interpret\\\": \\\"1.47.0\\\", \\\"azureml-inference-server-http\\\": \\\"0.7.6\\\", \\\"azureml-explain-model\\\": \\\"1.47.0\\\", \\\"azureml-defaults\\\": \\\"1.47.0\\\", \\\"azureml-dataset-runtime\\\": \\\"1.47.0\\\", \\\"azureml-dataprep\\\": \\\"4.5.7\\\", \\\"azureml-dataprep-rslex\\\": \\\"2.11.4\\\", \\\"azureml-dataprep-native\\\": \\\"38.0.0\\\", \\\"azureml-datadrift\\\": \\\"1.47.0\\\", \\\"azureml-core\\\": \\\"1.47.0\\\", \\\"azureml-contrib-services\\\": \\\"1.47.0\\\", \\\"azureml-contrib-server\\\": \\\"1.47.0\\\", \\\"azureml-contrib-reinforcementlearning\\\": \\\"1.47.0\\\", \\\"azureml-contrib-pipeline-steps\\\": \\\"1.47.0\\\", \\\"azureml-contrib-notebook\\\": \\\"1.47.0\\\", \\\"azureml-contrib-fairness\\\": \\\"1.47.0\\\", \\\"azureml-contrib-dataset\\\": \\\"1.47.0\\\", \\\"azureml-contrib-automl-pipeline-steps\\\": \\\"1.47.0\\\", \\\"azureml-cli-common\\\": \\\"1.47.0\\\", \\\"azureml-automl-runtime\\\": \\\"1.47.0\\\", \\\"azureml-automl-dnn-nlp\\\": \\\"1.47.0\\\", \\\"azureml-automl-core\\\": \\\"1.47.0\\\", \\\"azureml-accel-models\\\": \\\"1.47.0\\\"}\", \"_aml_system_scenario_identification\": \"Remote.Parent\", \"ClientType\": \"SDK\", \"environment_cpu_name\": \"AzureML-AutoML\", \"environment_cpu_label\": \"prod\", \"environment_gpu_name\": \"AzureML-AutoML-GPU\", \"environment_gpu_label\": \"prod\", \"root_attribution\": \"automl\", \"attribution\": \"AutoML\", \"Orchestrator\": \"AutoML\", \"CancelUri\": \"https://southcentralus.api.azureml.ms/jasmine/v1.0/subscriptions/9e65f93e-bdd8-437b-b1e8-0647cd6098f7/resourceGroups/aml-quickstarts-223541/providers/Microsoft.MachineLearningServices/workspaces/quick-starts-ws-223541/experimentids/2bc37972-7e6b-4541-a4d7-5d2e4283f9b9/cancel/AutoML_ce70000b-1d29-44d4-846b-2c8097d702a8\", \"ClientSdkVersion\": \"1.48.0.post1\", \"snapshotId\": \"00000000-0000-0000-0000-000000000000\", \"SetupRunId\": \"AutoML_ce70000b-1d29-44d4-846b-2c8097d702a8_setup\", \"SetupRunContainerId\": \"dcid.AutoML_ce70000b-1d29-44d4-846b-2c8097d702a8_setup\", \"FeaturizationRunJsonPath\": \"featurizer_container.json\", \"FeaturizationRunId\": \"AutoML_ce70000b-1d29-44d4-846b-2c8097d702a8_featurize\", \"ProblemInfoJsonString\": \"{\\\"dataset_num_categorical\\\": 0, \\\"is_sparse\\\": true, \\\"subsampling\\\": false, \\\"has_extra_col\\\": true, \\\"dataset_classes\\\": 3, \\\"dataset_features\\\": 103, \\\"dataset_samples\\\": 1014, \\\"single_frequency_class_detected\\\": false}\", \"ModelExplainRunId\": \"AutoML_ce70000b-1d29-44d4-846b-2c8097d702a8_ModelExplain\"}, \"tags\": {\"model_explain_run\": \"best_run\", \"_aml_system_automl_run_workspace_id\": \"1d3d0b73-afda-4363-920e-55162a10c89a\", \"_aml_system_azureml.automlComponent\": \"AutoML\", \"pipeline_id\": \"\", \"score\": \"\", \"predicted_cost\": \"\", \"fit_time\": \"\", \"training_percent\": \"\", \"iteration\": \"\", \"run_preprocessor\": \"\", \"run_algorithm\": \"\", \"dynamic_allowlisting_iterations\": \"<25>;<30>;<35>;\", \"_aml_system_azureml.automl_early_exit_message\": \"No scores improved over last 10 iterations, so experiment stopped early. This early stopping behavior can be disabled by setting enable_early_stopping = False in AutoMLConfig for notebook/python SDK runs.\", \"automl_best_child_run_id\": \"AutoML_ce70000b-1d29-44d4-846b-2c8097d702a8_36\", \"model_explain_best_run_child_id\": \"AutoML_ce70000b-1d29-44d4-846b-2c8097d702a8_36\"}, \"end_time_utc\": \"2023-01-26T05:29:28.113061Z\", \"status\": \"Completed\", \"log_files\": {}, \"log_groups\": [], \"run_duration\": \"0:13:16\", \"run_number\": \"1674710171\", \"run_queued_details\": {\"status\": \"Completed\", \"details\": null}}, \"child_runs\": [{\"run_id\": \"AutoML_ce70000b-1d29-44d4-846b-2c8097d702a8_setup\", \"run_number\": 1674710194, \"metric\": null, \"status\": \"Completed\", \"run_type\": \"azureml.scriptrun\", \"training_percent\": null, \"start_time\": \"2023-01-26T05:16:45.394501Z\", \"end_time\": \"2023-01-26T05:18:45.603226Z\", \"created_time\": \"2023-01-26T05:16:34.924696Z\", \"created_time_dt\": \"2023-01-26T05:16:34.924696Z\", \"duration\": \"0:02:10\", \"iteration\": null, \"goal\": null, \"run_name\": \"Completed\", \"run_properties\": null}, {\"run_id\": \"AutoML_ce70000b-1d29-44d4-846b-2c8097d702a8_featurize\", \"run_number\": 1674710325, \"metric\": null, \"status\": \"Completed\", \"run_type\": \"automl.featurization\", \"training_percent\": null, \"start_time\": \"2023-01-26T05:18:46.289753Z\", \"end_time\": \"2023-01-26T05:19:53.572396Z\", \"created_time\": \"2023-01-26T05:18:45.906377Z\", \"created_time_dt\": \"2023-01-26T05:18:45.906377Z\", \"duration\": \"0:01:07\", \"iteration\": null, \"goal\": null, \"run_name\": \"Completed\", \"run_properties\": null}, {\"run_id\": \"AutoML_ce70000b-1d29-44d4-846b-2c8097d702a8_0\", \"run_number\": 1674710395, \"metric\": null, \"status\": \"Completed\", \"run_type\": null, \"training_percent\": \"100\", \"start_time\": \"2023-01-26T05:20:15.512493Z\", \"end_time\": \"2023-01-26T05:20:57.385491Z\", \"created_time\": \"2023-01-26T05:19:55.170672Z\", \"created_time_dt\": \"2023-01-26T05:19:55.170672Z\", \"duration\": \"0:01:02\", \"iteration\": \"0\", \"goal\": \"accuracy_max\", \"run_name\": \"MaxAbsScaler, LightGBM\", \"run_properties\": \"copy=True\", \"primary_metric\": 0.79585799, \"best_metric\": 0.79585799}, {\"run_id\": \"AutoML_ce70000b-1d29-44d4-846b-2c8097d702a8_2\", \"run_number\": 1674710396, \"metric\": null, \"status\": \"Completed\", \"run_type\": null, \"training_percent\": \"100\", \"start_time\": \"2023-01-26T05:21:08.903762Z\", \"end_time\": \"2023-01-26T05:21:23.391458Z\", \"created_time\": \"2023-01-26T05:19:56.096282Z\", \"created_time_dt\": \"2023-01-26T05:19:56.096282Z\", \"duration\": \"0:01:27\", \"iteration\": \"2\", \"goal\": \"accuracy_max\", \"run_name\": \"MaxAbsScaler, ExtremeRandomTrees\", \"run_properties\": \"copy=True\", \"primary_metric\": 0.69723866, \"best_metric\": 0.79585799}, {\"run_id\": \"AutoML_ce70000b-1d29-44d4-846b-2c8097d702a8_worker_0\", \"run_number\": 1674710397, \"metric\": null, \"status\": \"Completed\", \"run_type\": \"azureml.scriptrun\", \"training_percent\": null, \"start_time\": \"2023-01-26T05:20:05.075583Z\", \"end_time\": \"2023-01-26T05:21:55.852427Z\", \"created_time\": \"2023-01-26T05:19:57.341839Z\", \"created_time_dt\": \"2023-01-26T05:19:57.341839Z\", \"duration\": \"0:01:58\", \"iteration\": null, \"goal\": null, \"run_name\": \"Completed\", \"run_properties\": null}, {\"run_id\": \"AutoML_ce70000b-1d29-44d4-846b-2c8097d702a8_6\", \"run_number\": 1674710398, \"metric\": null, \"status\": \"Completed\", \"run_type\": null, \"training_percent\": \"100\", \"start_time\": \"2023-01-26T05:22:19.796755Z\", \"end_time\": \"2023-01-26T05:22:33.288495Z\", \"created_time\": \"2023-01-26T05:19:58.223049Z\", \"created_time_dt\": \"2023-01-26T05:19:58.223049Z\", \"duration\": \"0:02:35\", \"iteration\": \"6\", \"goal\": \"accuracy_max\", \"run_name\": \"StandardScalerWrapper, XGBoostClassifier\", \"run_properties\": \"copy=True, with_mean=False, with_std=False\", \"primary_metric\": 0.79191321, \"best_metric\": 0.79585799}, {\"run_id\": \"AutoML_ce70000b-1d29-44d4-846b-2c8097d702a8_worker_1\", \"run_number\": 1674710399, \"metric\": null, \"status\": \"Completed\", \"run_type\": \"azureml.scriptrun\", \"training_percent\": null, \"start_time\": \"2023-01-26T05:22:00.439148Z\", \"end_time\": \"2023-01-26T05:23:24.476713Z\", \"created_time\": \"2023-01-26T05:19:59.911742Z\", \"created_time_dt\": \"2023-01-26T05:19:59.911742Z\", \"duration\": \"0:03:24\", \"iteration\": null, \"goal\": null, \"run_name\": \"Completed\", \"run_properties\": null}, {\"run_id\": \"AutoML_ce70000b-1d29-44d4-846b-2c8097d702a8_10\", \"run_number\": 1674710400, \"metric\": null, \"status\": \"Completed\", \"run_type\": null, \"training_percent\": \"100\", \"start_time\": \"2023-01-26T05:24:07.772854Z\", \"end_time\": \"2023-01-26T05:24:15.993475Z\", \"created_time\": \"2023-01-26T05:20:00.096149Z\", \"created_time_dt\": \"2023-01-26T05:20:00.096149Z\", \"duration\": \"0:04:15\", \"iteration\": \"10\", \"goal\": \"accuracy_max\", \"run_name\": \"SparseNormalizer, LightGBM\", \"run_properties\": \"copy=True, norm='l1'\", \"primary_metric\": 0.67751479, \"best_metric\": 0.79585799}, {\"run_id\": \"AutoML_ce70000b-1d29-44d4-846b-2c8097d702a8_12\", \"run_number\": 1674710401, \"metric\": null, \"status\": \"Completed\", \"run_type\": null, \"training_percent\": \"100\", \"start_time\": \"2023-01-26T05:24:30.513084Z\", \"end_time\": \"2023-01-26T05:24:44.734382Z\", \"created_time\": \"2023-01-26T05:20:01.093683Z\", \"created_time_dt\": \"2023-01-26T05:20:01.093683Z\", \"duration\": \"0:04:43\", \"iteration\": \"12\", \"goal\": \"accuracy_max\", \"run_name\": \"MaxAbsScaler, LogisticRegression\", \"run_properties\": \"copy=True\", \"primary_metric\": 0.6765286, \"best_metric\": 0.79585799}, {\"run_id\": \"AutoML_ce70000b-1d29-44d4-846b-2c8097d702a8_worker_2\", \"run_number\": 1674710402, \"metric\": null, \"status\": \"Completed\", \"run_type\": \"azureml.scriptrun\", \"training_percent\": null, \"start_time\": \"2023-01-26T05:22:48.433132Z\", \"end_time\": \"2023-01-26T05:25:19.261606Z\", \"created_time\": \"2023-01-26T05:20:02.424031Z\", \"created_time_dt\": \"2023-01-26T05:20:02.424031Z\", \"duration\": \"0:05:16\", \"iteration\": null, \"goal\": null, \"run_name\": \"Completed\", \"run_properties\": null}, {\"run_id\": \"AutoML_ce70000b-1d29-44d4-846b-2c8097d702a8_16\", \"run_number\": 1674710403, \"metric\": null, \"status\": \"Completed\", \"run_type\": null, \"training_percent\": \"100\", \"start_time\": \"2023-01-26T05:25:02.323509Z\", \"end_time\": \"2023-01-26T05:25:17.039923Z\", \"created_time\": \"2023-01-26T05:20:03.187508Z\", \"created_time_dt\": \"2023-01-26T05:20:03.187508Z\", \"duration\": \"0:05:13\", \"iteration\": \"16\", \"goal\": \"accuracy_max\", \"run_name\": \"StandardScalerWrapper, LogisticRegression\", \"run_properties\": \"copy=True, with_mean=False, with_std=False\", \"primary_metric\": 0.67751479, \"best_metric\": 0.79585799}, {\"run_id\": \"AutoML_ce70000b-1d29-44d4-846b-2c8097d702a8_18\", \"run_number\": 1674710404, \"metric\": null, \"status\": \"Completed\", \"run_type\": null, \"training_percent\": \"100\", \"start_time\": \"2023-01-26T05:25:27.129778Z\", \"end_time\": \"2023-01-26T05:25:35.965794Z\", \"created_time\": \"2023-01-26T05:20:04.900422Z\", \"created_time_dt\": \"2023-01-26T05:20:04.900422Z\", \"duration\": \"0:05:31\", \"iteration\": \"18\", \"goal\": \"accuracy_max\", \"run_name\": \"StandardScalerWrapper, XGBoostClassifier\", \"run_properties\": \"copy=True, with_mean=False, with_std=False\", \"primary_metric\": 0.7800789, \"best_metric\": 0.79585799}, {\"run_id\": \"AutoML_ce70000b-1d29-44d4-846b-2c8097d702a8_worker_3\", \"run_number\": 1674710405, \"metric\": null, \"status\": \"Completed\", \"run_type\": \"azureml.scriptrun\", \"training_percent\": null, \"start_time\": \"2023-01-26T05:22:51.852857Z\", \"end_time\": \"2023-01-26T05:25:59.877106Z\", \"created_time\": \"2023-01-26T05:20:05.661683Z\", \"created_time_dt\": \"2023-01-26T05:20:05.661683Z\", \"duration\": \"0:05:54\", \"iteration\": null, \"goal\": null, \"run_name\": \"Completed\", \"run_properties\": null}, {\"run_id\": \"AutoML_ce70000b-1d29-44d4-846b-2c8097d702a8_21\", \"run_number\": 1674710719, \"metric\": null, \"status\": \"Completed\", \"run_type\": \"azureml.scriptrun\", \"training_percent\": \"100\", \"start_time\": \"2023-01-26T05:25:36.85281Z\", \"end_time\": \"2023-01-26T05:26:06.334468Z\", \"created_time\": \"2023-01-26T05:25:19.512141Z\", \"created_time_dt\": \"2023-01-26T05:25:19.512141Z\", \"duration\": \"0:00:46\", \"iteration\": \"21\", \"goal\": \"accuracy_max\", \"run_name\": \"StandardScalerWrapper, XGBoostClassifier\", \"run_properties\": \"copy=True, with_mean=False, with_std=False\", \"primary_metric\": 0.78205128, \"best_metric\": 0.79585799}, {\"run_id\": \"AutoML_ce70000b-1d29-44d4-846b-2c8097d702a8_22\", \"run_number\": 1674710738, \"metric\": null, \"status\": \"Completed\", \"run_type\": \"azureml.scriptrun\", \"training_percent\": \"100\", \"start_time\": \"2023-01-26T05:25:46.106268Z\", \"end_time\": \"2023-01-26T05:26:16.239409Z\", \"created_time\": \"2023-01-26T05:25:38.448506Z\", \"created_time_dt\": \"2023-01-26T05:25:38.448506Z\", \"duration\": \"0:00:37\", \"iteration\": \"22\", \"goal\": \"accuracy_max\", \"run_name\": \"SparseNormalizer, XGBoostClassifier\", \"run_properties\": \"copy=True, norm='l1'\", \"primary_metric\": 0.76923077, \"best_metric\": 0.79585799}, {\"run_id\": \"AutoML_ce70000b-1d29-44d4-846b-2c8097d702a8_23\", \"run_number\": 1674710768, \"metric\": null, \"status\": \"Completed\", \"run_type\": \"azureml.scriptrun\", \"training_percent\": \"100\", \"start_time\": \"2023-01-26T05:26:16.270083Z\", \"end_time\": \"2023-01-26T05:26:45.09843Z\", \"created_time\": \"2023-01-26T05:26:08.59368Z\", \"created_time_dt\": \"2023-01-26T05:26:08.59368Z\", \"duration\": \"0:00:36\", \"iteration\": \"23\", \"goal\": \"accuracy_max\", \"run_name\": \"StandardScalerWrapper, LogisticRegression\", \"run_properties\": \"copy=True, with_mean=False, with_std=True\", \"primary_metric\": 0.66962525, \"best_metric\": 0.79585799}, {\"run_id\": \"AutoML_ce70000b-1d29-44d4-846b-2c8097d702a8_25\", \"run_number\": 1674710778, \"metric\": null, \"status\": \"Completed\", \"run_type\": \"azureml.scriptrun\", \"training_percent\": \"100\", \"start_time\": \"2023-01-26T05:26:24.368979Z\", \"end_time\": \"2023-01-26T05:26:55.1996Z\", \"created_time\": \"2023-01-26T05:26:18.638155Z\", \"created_time_dt\": \"2023-01-26T05:26:18.638155Z\", \"duration\": \"0:00:36\", \"iteration\": \"25\", \"goal\": \"accuracy_max\", \"run_name\": \"TruncatedSVDWrapper, XGBoostClassifier\", \"run_properties\": \"n_components=0.01, random_state=None\", \"primary_metric\": 0.62426036, \"best_metric\": 0.79585799}, {\"run_id\": \"AutoML_ce70000b-1d29-44d4-846b-2c8097d702a8_26\", \"run_number\": 1674710806, \"metric\": null, \"status\": \"Completed\", \"run_type\": \"azureml.scriptrun\", \"training_percent\": \"100\", \"start_time\": \"2023-01-26T05:26:52.709801Z\", \"end_time\": \"2023-01-26T05:27:23.447097Z\", \"created_time\": \"2023-01-26T05:26:46.551597Z\", \"created_time_dt\": \"2023-01-26T05:26:46.551597Z\", \"duration\": \"0:00:36\", \"iteration\": \"26\", \"goal\": \"accuracy_max\", \"run_name\": \"SparseNormalizer, XGBoostClassifier\", \"run_properties\": \"copy=True, norm='l2'\", \"primary_metric\": 0.75345168, \"best_metric\": 0.79585799}, {\"run_id\": \"AutoML_ce70000b-1d29-44d4-846b-2c8097d702a8_27\", \"run_number\": 1674710809, \"metric\": null, \"status\": \"Completed\", \"run_type\": \"azureml.scriptrun\", \"training_percent\": \"100\", \"start_time\": \"2023-01-26T05:26:55.523951Z\", \"end_time\": \"2023-01-26T05:27:23.131539Z\", \"created_time\": \"2023-01-26T05:26:49.974184Z\", \"created_time_dt\": \"2023-01-26T05:26:49.974184Z\", \"duration\": \"0:00:33\", \"iteration\": \"27\", \"goal\": \"accuracy_max\", \"run_name\": \"MaxAbsScaler, ExtremeRandomTrees\", \"run_properties\": \"copy=True\", \"primary_metric\": 0.70414201, \"best_metric\": 0.79585799}, {\"run_id\": \"AutoML_ce70000b-1d29-44d4-846b-2c8097d702a8_28\", \"run_number\": 1674710816, \"metric\": null, \"status\": \"Completed\", \"run_type\": \"azureml.scriptrun\", \"training_percent\": \"100\", \"start_time\": \"2023-01-26T05:27:03.812256Z\", \"end_time\": \"2023-01-26T05:27:34.146705Z\", \"created_time\": \"2023-01-26T05:26:56.634802Z\", \"created_time_dt\": \"2023-01-26T05:26:56.634802Z\", \"duration\": \"0:00:37\", \"iteration\": \"28\", \"goal\": \"accuracy_max\", \"run_name\": \"StandardScalerWrapper, XGBoostClassifier\", \"run_properties\": \"copy=True, with_mean=False, with_std=False\", \"primary_metric\": 0.70019724, \"best_metric\": 0.79585799}, {\"run_id\": \"AutoML_ce70000b-1d29-44d4-846b-2c8097d702a8_29\", \"run_number\": 1674710844, \"metric\": null, \"status\": \"Completed\", \"run_type\": \"azureml.scriptrun\", \"training_percent\": \"100\", \"start_time\": \"2023-01-26T05:27:32.036734Z\", \"end_time\": \"2023-01-26T05:27:58.483976Z\", \"created_time\": \"2023-01-26T05:27:24.788815Z\", \"created_time_dt\": \"2023-01-26T05:27:24.788815Z\", \"duration\": \"0:00:33\", \"iteration\": \"29\", \"goal\": \"accuracy_max\", \"run_name\": \"StandardScalerWrapper, XGBoostClassifier\", \"run_properties\": \"copy=True, with_mean=False, with_std=False\", \"primary_metric\": 0.71104536, \"best_metric\": 0.79585799}, {\"run_id\": \"AutoML_ce70000b-1d29-44d4-846b-2c8097d702a8_30\", \"run_number\": 1674710848, \"metric\": null, \"status\": \"Completed\", \"run_type\": \"azureml.scriptrun\", \"training_percent\": \"100\", \"start_time\": \"2023-01-26T05:27:37.200225Z\", \"end_time\": \"2023-01-26T05:28:09.679872Z\", \"created_time\": \"2023-01-26T05:27:28.226446Z\", \"created_time_dt\": \"2023-01-26T05:27:28.226446Z\", \"duration\": \"0:00:41\", \"iteration\": \"30\", \"goal\": \"accuracy_max\", \"run_name\": \"StandardScalerWrapper, XGBoostClassifier\", \"run_properties\": \"copy=True, with_mean=False, with_std=False\", \"primary_metric\": 0.6765286, \"best_metric\": 0.79585799}, {\"run_id\": \"AutoML_ce70000b-1d29-44d4-846b-2c8097d702a8_31\", \"run_number\": 1674710855, \"metric\": null, \"status\": \"Completed\", \"run_type\": \"azureml.scriptrun\", \"training_percent\": \"100\", \"start_time\": \"2023-01-26T05:27:39.856464Z\", \"end_time\": \"2023-01-26T05:28:11.505843Z\", \"created_time\": \"2023-01-26T05:27:34.996621Z\", \"created_time_dt\": \"2023-01-26T05:27:34.996621Z\", \"duration\": \"0:00:36\", \"iteration\": \"31\", \"goal\": \"accuracy_max\", \"run_name\": \"StandardScalerWrapper, XGBoostClassifier\", \"run_properties\": \"copy=True, with_mean=False, with_std=False\", \"primary_metric\": 0.76627219, \"best_metric\": 0.79585799}, {\"run_id\": \"AutoML_ce70000b-1d29-44d4-846b-2c8097d702a8_32\", \"run_number\": 1674710857, \"metric\": null, \"status\": \"Completed\", \"run_type\": \"azureml.scriptrun\", \"training_percent\": \"100\", \"start_time\": \"2023-01-26T05:27:43.136149Z\", \"end_time\": \"2023-01-26T05:28:13.09038Z\", \"created_time\": \"2023-01-26T05:27:37.600988Z\", \"created_time_dt\": \"2023-01-26T05:27:37.600988Z\", \"duration\": \"0:00:35\", \"iteration\": \"32\", \"goal\": \"accuracy_max\", \"run_name\": \"StandardScalerWrapper, DecisionTree\", \"run_properties\": \"copy=True, with_mean=False, with_std=True\", \"primary_metric\": 0.66863905, \"best_metric\": 0.79585799}, {\"run_id\": \"AutoML_ce70000b-1d29-44d4-846b-2c8097d702a8_33\", \"run_number\": 1674710880, \"metric\": null, \"status\": \"Canceled\", \"run_type\": \"azureml.scriptrun\", \"training_percent\": \"100\", \"start_time\": \"2023-01-26T05:28:07.287693Z\", \"end_time\": \"2023-01-26T05:28:16.937885Z\", \"created_time\": \"2023-01-26T05:28:00.433707Z\", \"created_time_dt\": \"2023-01-26T05:28:00.433707Z\", \"duration\": \"0:00:16\", \"iteration\": \"33\", \"goal\": null, \"run_name\": \"Canceled\", \"run_properties\": null}, {\"run_id\": \"AutoML_ce70000b-1d29-44d4-846b-2c8097d702a8_34\", \"run_number\": 1674710891, \"metric\": null, \"status\": \"Canceled\", \"run_type\": \"azureml.scriptrun\", \"training_percent\": \"100\", \"start_time\": \"2023-01-26T05:28:16.644524Z\", \"end_time\": \"2023-01-26T05:28:16.898428Z\", \"created_time\": \"2023-01-26T05:28:11.359248Z\", \"created_time_dt\": \"2023-01-26T05:28:11.359248Z\", \"duration\": \"0:00:05\", \"iteration\": \"34\", \"goal\": null, \"run_name\": \"Canceled\", \"run_properties\": null}, {\"run_id\": \"AutoML_ce70000b-1d29-44d4-846b-2c8097d702a8_35\", \"run_number\": 1674710895, \"metric\": null, \"status\": \"Canceled\", \"run_type\": \"azureml.scriptrun\", \"training_percent\": \"100\", \"start_time\": \"2023-01-26T05:28:16.674982Z\", \"end_time\": \"2023-01-26T05:28:17.685418Z\", \"created_time\": \"2023-01-26T05:28:15.013434Z\", \"created_time_dt\": \"2023-01-26T05:28:15.013434Z\", \"duration\": \"0:00:02\", \"iteration\": \"35\", \"goal\": \"accuracy_max\", \"run_name\": \"TruncatedSVDWrapper, XGBoostClassifier\", \"run_properties\": \"n_components=0.10894736842105263, random_state=None\", \"primary_metric\": 0.69033531, \"best_metric\": 0.79585799}, {\"run_id\": \"AutoML_ce70000b-1d29-44d4-846b-2c8097d702a8_37\", \"run_number\": 1674710898, \"metric\": null, \"status\": \"Completed\", \"run_type\": \"azureml.scriptrun\", \"training_percent\": \"100\", \"start_time\": \"2023-01-26T05:28:25.193098Z\", \"end_time\": \"2023-01-26T05:29:22.155858Z\", \"created_time\": \"2023-01-26T05:28:18.604267Z\", \"created_time_dt\": \"2023-01-26T05:28:18.604267Z\", \"duration\": \"0:01:03\", \"iteration\": \"37\", \"goal\": \"accuracy_max\", \"run_name\": \"StackEnsemble\", \"run_properties\": \"base_learners=[('1', Pipeline(memory=None, steps=[('maxabsscaler', MaxAbsScaler(copy=True\", \"primary_metric\": 0.81755424, \"best_metric\": 0.81755424}], \"children_metrics\": {\"categories\": [0], \"series\": {\"precision_score_micro\": [{\"categories\": [\"0\", \"2\", \"6\", \"10\", \"12\", \"16\", \"18\", \"21\", \"22\", \"23\", \"25\", \"26\", \"27\", \"28\", \"29\", \"30\", \"31\", \"32\", \"35\", \"37\"], \"mode\": \"markers\", \"name\": \"precision_score_micro\", \"stepped\": false, \"type\": \"scatter\", \"data\": [0.7958579881656805, 0.6972386587771203, 0.7919132149901381, 0.6775147928994083, 0.6765285996055227, 0.6775147928994083, 0.780078895463511, 0.782051282051282, 0.7692307692307693, 0.6696252465483234, 0.6242603550295858, 0.7534516765285996, 0.7041420118343197, 0.700197238658777, 0.7110453648915187, 0.6765285996055227, 0.7662721893491123, 0.6686390532544378, 0.6903353057199211, 0.8175542406311637]}, {\"categories\": [\"0\", \"2\", \"6\", \"10\", \"12\", \"16\", \"18\", \"21\", \"22\", \"23\", \"25\", \"26\", \"27\", \"28\", \"29\", \"30\", \"31\", \"32\", \"35\", \"37\"], \"mode\": \"lines\", \"name\": \"precision_score_micro_max\", \"stepped\": true, \"type\": \"scatter\", \"data\": [0.7958579881656805, 0.7958579881656805, 0.7958579881656805, 0.7958579881656805, 0.7958579881656805, 0.7958579881656805, 0.7958579881656805, 0.7958579881656805, 0.7958579881656805, 0.7958579881656805, 0.7958579881656805, 0.7958579881656805, 0.7958579881656805, 0.7958579881656805, 0.7958579881656805, 0.7958579881656805, 0.7958579881656805, 0.7958579881656805, 0.7958579881656805, 0.8175542406311637]}], \"average_precision_score_micro\": [{\"categories\": [\"0\", \"2\", \"6\", \"10\", \"12\", \"16\", \"18\", \"21\", \"22\", \"23\", \"25\", \"26\", \"27\", \"28\", \"29\", \"30\", \"31\", \"32\", \"35\", \"37\"], \"mode\": \"markers\", \"name\": \"average_precision_score_micro\", \"stepped\": false, \"type\": \"scatter\", \"data\": [0.8813132106723254, 0.7742653799140182, 0.8683126322668967, 0.7980884763592906, 0.7814288934768047, 0.7672905692225874, 0.8631966748435792, 0.871628066461558, 0.8549913493674209, 0.7713810473405615, 0.6715175233789922, 0.8476280594463992, 0.7981589656243822, 0.7924376745252526, 0.8045812843569395, 0.7474857200571257, 0.8591035339284631, 0.7333672134880188, 0.7631834664493465, 0.8881528444348842]}, {\"categories\": [\"0\", \"2\", \"6\", \"10\", \"12\", \"16\", \"18\", \"21\", \"22\", \"23\", \"25\", \"26\", \"27\", \"28\", \"29\", \"30\", \"31\", \"32\", \"35\", \"37\"], \"mode\": \"lines\", \"name\": \"average_precision_score_micro_max\", \"stepped\": true, \"type\": \"scatter\", \"data\": [0.8813132106723254, 0.8813132106723254, 0.8813132106723254, 0.8813132106723254, 0.8813132106723254, 0.8813132106723254, 0.8813132106723254, 0.8813132106723254, 0.8813132106723254, 0.8813132106723254, 0.8813132106723254, 0.8813132106723254, 0.8813132106723254, 0.8813132106723254, 0.8813132106723254, 0.8813132106723254, 0.8813132106723254, 0.8813132106723254, 0.8813132106723254, 0.8881528444348842]}], \"balanced_accuracy\": [{\"categories\": [\"0\", \"2\", \"6\", \"10\", \"12\", \"16\", \"18\", \"21\", \"22\", \"23\", \"25\", \"26\", \"27\", \"28\", \"29\", \"30\", \"31\", \"32\", \"35\", \"37\"], \"mode\": \"markers\", \"name\": \"balanced_accuracy\", \"stepped\": false, \"type\": \"scatter\", \"data\": [0.8029203691364172, 0.6947230193060735, 0.7920857246297238, 0.6758133417317823, 0.682737643062894, 0.6822178683035305, 0.7825544326020427, 0.786169454215154, 0.7702144282734604, 0.673358107897107, 0.6057138074434357, 0.7553334263523485, 0.6975763251891739, 0.6961143715435413, 0.7032458111036566, 0.6679856969760122, 0.7683285947285325, 0.670347514170989, 0.6833553623293773, 0.8209901857038702]}, {\"categories\": [\"0\", \"2\", \"6\", \"10\", \"12\", \"16\", \"18\", \"21\", \"22\", \"23\", \"25\", \"26\", \"27\", \"28\", \"29\", \"30\", \"31\", \"32\", \"35\", \"37\"], \"mode\": \"lines\", \"name\": \"balanced_accuracy_max\", \"stepped\": true, \"type\": \"scatter\", \"data\": [0.8029203691364172, 0.8029203691364172, 0.8029203691364172, 0.8029203691364172, 0.8029203691364172, 0.8029203691364172, 0.8029203691364172, 0.8029203691364172, 0.8029203691364172, 0.8029203691364172, 0.8029203691364172, 0.8029203691364172, 0.8029203691364172, 0.8029203691364172, 0.8029203691364172, 0.8029203691364172, 0.8029203691364172, 0.8029203691364172, 0.8029203691364172, 0.8209901857038702]}], \"recall_score_micro\": [{\"categories\": [\"0\", \"2\", \"6\", \"10\", \"12\", \"16\", \"18\", \"21\", \"22\", \"23\", \"25\", \"26\", \"27\", \"28\", \"29\", \"30\", \"31\", \"32\", \"35\", \"37\"], \"mode\": \"markers\", \"name\": \"recall_score_micro\", \"stepped\": false, \"type\": \"scatter\", \"data\": [0.7958579881656805, 0.6972386587771203, 0.7919132149901381, 0.6775147928994083, 0.6765285996055227, 0.6775147928994083, 0.780078895463511, 0.782051282051282, 0.7692307692307693, 0.6696252465483234, 0.6242603550295858, 0.7534516765285996, 0.7041420118343197, 0.700197238658777, 0.7110453648915187, 0.6765285996055227, 0.7662721893491123, 0.6686390532544378, 0.6903353057199211, 0.8175542406311637]}, {\"categories\": [\"0\", \"2\", \"6\", \"10\", \"12\", \"16\", \"18\", \"21\", \"22\", \"23\", \"25\", \"26\", \"27\", \"28\", \"29\", \"30\", \"31\", \"32\", \"35\", \"37\"], \"mode\": \"lines\", \"name\": \"recall_score_micro_max\", \"stepped\": true, \"type\": \"scatter\", \"data\": [0.7958579881656805, 0.7958579881656805, 0.7958579881656805, 0.7958579881656805, 0.7958579881656805, 0.7958579881656805, 0.7958579881656805, 0.7958579881656805, 0.7958579881656805, 0.7958579881656805, 0.7958579881656805, 0.7958579881656805, 0.7958579881656805, 0.7958579881656805, 0.7958579881656805, 0.7958579881656805, 0.7958579881656805, 0.7958579881656805, 0.7958579881656805, 0.8175542406311637]}], \"average_precision_score_weighted\": [{\"categories\": [\"0\", \"2\", \"6\", \"10\", \"12\", \"16\", \"18\", \"21\", \"22\", \"23\", \"25\", \"26\", \"27\", \"28\", \"29\", \"30\", \"31\", \"32\", \"35\", \"37\"], \"mode\": \"markers\", \"name\": \"average_precision_score_weighted\", \"stepped\": false, \"type\": \"scatter\", \"data\": [0.8744624442496738, 0.7574965207506326, 0.8629684121836663, 0.7758210483173414, 0.7677711212317981, 0.7468172059294785, 0.8540557712146528, 0.8661043825391083, 0.8409689498176318, 0.7588018321727704, 0.6427324960757875, 0.8354829365343602, 0.7848566609702862, 0.7802366441609022, 0.7877081736365459, 0.720841893238119, 0.8458437430872267, 0.6919870061506903, 0.7559811942220777, 0.8850961895449055]}, {\"categories\": [\"0\", \"2\", \"6\", \"10\", \"12\", \"16\", \"18\", \"21\", \"22\", \"23\", \"25\", \"26\", \"27\", \"28\", \"29\", \"30\", \"31\", \"32\", \"35\", \"37\"], \"mode\": \"lines\", \"name\": \"average_precision_score_weighted_max\", \"stepped\": true, \"type\": \"scatter\", \"data\": [0.8744624442496738, 0.8744624442496738, 0.8744624442496738, 0.8744624442496738, 0.8744624442496738, 0.8744624442496738, 0.8744624442496738, 0.8744624442496738, 0.8744624442496738, 0.8744624442496738, 0.8744624442496738, 0.8744624442496738, 0.8744624442496738, 0.8744624442496738, 0.8744624442496738, 0.8744624442496738, 0.8744624442496738, 0.8744624442496738, 0.8744624442496738, 0.8850961895449055]}], \"precision_score_macro\": [{\"categories\": [\"0\", \"2\", \"6\", \"10\", \"12\", \"16\", \"18\", \"21\", \"22\", \"23\", \"25\", \"26\", \"27\", \"28\", \"29\", \"30\", \"31\", \"32\", \"35\", \"37\"], \"mode\": \"markers\", \"name\": \"precision_score_macro\", \"stepped\": false, \"type\": \"scatter\", \"data\": [0.804257438070004, 0.6952879070996892, 0.79922836097723, 0.6889246001950634, 0.6863650444714359, 0.6821188566467274, 0.7902180330716307, 0.792156210187319, 0.7801492432272591, 0.6752752483518036, 0.6327850255134295, 0.7596171550957317, 0.7086186318160683, 0.7100879506267107, 0.7234972635490805, 0.7027729706488648, 0.7770703270220808, 0.6789902714987104, 0.7061311337663249, 0.8255947373348916]}, {\"categories\": [\"0\", \"2\", \"6\", \"10\", \"12\", \"16\", \"18\", \"21\", \"22\", \"23\", \"25\", \"26\", \"27\", \"28\", \"29\", \"30\", \"31\", \"32\", \"35\", \"37\"], \"mode\": \"lines\", \"name\": \"precision_score_macro_max\", \"stepped\": true, \"type\": \"scatter\", \"data\": [0.804257438070004, 0.804257438070004, 0.804257438070004, 0.804257438070004, 0.804257438070004, 0.804257438070004, 0.804257438070004, 0.804257438070004, 0.804257438070004, 0.804257438070004, 0.804257438070004, 0.804257438070004, 0.804257438070004, 0.804257438070004, 0.804257438070004, 0.804257438070004, 0.804257438070004, 0.804257438070004, 0.804257438070004, 0.8255947373348916]}], \"recall_score_weighted\": [{\"categories\": [\"0\", \"2\", \"6\", \"10\", \"12\", \"16\", \"18\", \"21\", \"22\", \"23\", \"25\", \"26\", \"27\", \"28\", \"29\", \"30\", \"31\", \"32\", \"35\", \"37\"], \"mode\": \"markers\", \"name\": \"recall_score_weighted\", \"stepped\": false, \"type\": \"scatter\", \"data\": [0.7958579881656805, 0.6972386587771203, 0.7919132149901381, 0.6775147928994083, 0.6765285996055227, 0.6775147928994083, 0.780078895463511, 0.782051282051282, 0.7692307692307693, 0.6696252465483234, 0.6242603550295858, 0.7534516765285996, 0.7041420118343197, 0.700197238658777, 0.7110453648915187, 0.6765285996055227, 0.7662721893491123, 0.6686390532544378, 0.6903353057199211, 0.8175542406311637]}, {\"categories\": [\"0\", \"2\", \"6\", \"10\", \"12\", \"16\", \"18\", \"21\", \"22\", \"23\", \"25\", \"26\", \"27\", \"28\", \"29\", \"30\", \"31\", \"32\", \"35\", \"37\"], \"mode\": \"lines\", \"name\": \"recall_score_weighted_max\", \"stepped\": true, \"type\": \"scatter\", \"data\": [0.7958579881656805, 0.7958579881656805, 0.7958579881656805, 0.7958579881656805, 0.7958579881656805, 0.7958579881656805, 0.7958579881656805, 0.7958579881656805, 0.7958579881656805, 0.7958579881656805, 0.7958579881656805, 0.7958579881656805, 0.7958579881656805, 0.7958579881656805, 0.7958579881656805, 0.7958579881656805, 0.7958579881656805, 0.7958579881656805, 0.7958579881656805, 0.8175542406311637]}], \"weighted_accuracy\": [{\"categories\": [\"0\", \"2\", \"6\", \"10\", \"12\", \"16\", \"18\", \"21\", \"22\", \"23\", \"25\", \"26\", \"27\", \"28\", \"29\", \"30\", \"31\", \"32\", \"35\", \"37\"], \"mode\": \"markers\", \"name\": \"weighted_accuracy\", \"stepped\": false, \"type\": \"scatter\", \"data\": [0.7901653379088774, 0.7020537589422272, 0.7929902243954063, 0.6823835108136277, 0.6725397320959051, 0.6752706034909685, 0.7794038956496093, 0.7796219963974371, 0.769957793941678, 0.6681589853861892, 0.6469647249022277, 0.7536629236269249, 0.7136300010771269, 0.7069882659246587, 0.7221678572544233, 0.6901677877274212, 0.7659684218921755, 0.6690110562900111, 0.7005270791071124, 0.8153081356646386]}, {\"categories\": [\"0\", \"2\", \"6\", \"10\", \"12\", \"16\", \"18\", \"21\", \"22\", \"23\", \"25\", \"26\", \"27\", \"28\", \"29\", \"30\", \"31\", \"32\", \"35\", \"37\"], \"mode\": \"lines\", \"name\": \"weighted_accuracy_max\", \"stepped\": true, \"type\": \"scatter\", \"data\": [0.7901653379088774, 0.7901653379088774, 0.7929902243954063, 0.7929902243954063, 0.7929902243954063, 0.7929902243954063, 0.7929902243954063, 0.7929902243954063, 0.7929902243954063, 0.7929902243954063, 0.7929902243954063, 0.7929902243954063, 0.7929902243954063, 0.7929902243954063, 0.7929902243954063, 0.7929902243954063, 0.7929902243954063, 0.7929902243954063, 0.7929902243954063, 0.8153081356646386]}], \"f1_score_weighted\": [{\"categories\": [\"0\", \"2\", \"6\", \"10\", \"12\", \"16\", \"18\", \"21\", \"22\", \"23\", \"25\", \"26\", \"27\", \"28\", \"29\", \"30\", \"31\", \"32\", \"35\", \"37\"], \"mode\": \"markers\", \"name\": \"f1_score_weighted\", \"stepped\": false, \"type\": \"scatter\", \"data\": [0.7964816616822409, 0.6912264444506847, 0.7918792561693616, 0.666769213593743, 0.676640057075884, 0.6751962910526212, 0.7790287006796534, 0.782232988590795, 0.7684154299729737, 0.668241186755686, 0.5731153330556907, 0.7493049867272736, 0.69148853988353, 0.68994678848488, 0.6916104840473873, 0.6237749908360976, 0.7647731017263869, 0.6664827704410586, 0.6705460359399068, 0.8181039502945753]}, {\"categories\": [\"0\", \"2\", \"6\", \"10\", \"12\", \"16\", \"18\", \"21\", \"22\", \"23\", \"25\", \"26\", \"27\", \"28\", \"29\", \"30\", \"31\", \"32\", \"35\", \"37\"], \"mode\": \"lines\", \"name\": \"f1_score_weighted_max\", \"stepped\": true, \"type\": \"scatter\", \"data\": [0.7964816616822409, 0.7964816616822409, 0.7964816616822409, 0.7964816616822409, 0.7964816616822409, 0.7964816616822409, 0.7964816616822409, 0.7964816616822409, 0.7964816616822409, 0.7964816616822409, 0.7964816616822409, 0.7964816616822409, 0.7964816616822409, 0.7964816616822409, 0.7964816616822409, 0.7964816616822409, 0.7964816616822409, 0.7964816616822409, 0.7964816616822409, 0.8181039502945753]}], \"norm_macro_recall\": [{\"categories\": [\"0\", \"2\", \"6\", \"10\", \"12\", \"16\", \"18\", \"21\", \"22\", \"23\", \"25\", \"26\", \"27\", \"28\", \"29\", \"30\", \"31\", \"32\", \"35\", \"37\"], \"mode\": \"markers\", \"name\": \"norm_macro_recall\", \"stepped\": false, \"type\": \"scatter\", \"data\": [0.7043805537046256, 0.5420845289591104, 0.6881285869445858, 0.5137200125976735, 0.524106464594341, 0.5233268024552958, 0.6738316489030639, 0.6792541813227312, 0.6553216424101906, 0.5100371618456604, 0.40857071116515353, 0.6330001395285227, 0.5463644877837607, 0.5441715573153117, 0.5548687166554848, 0.5019785454640182, 0.6524928920927987, 0.5055212712564836, 0.5250330434940661, 0.7314852785558053]}, {\"categories\": [\"0\", \"2\", \"6\", \"10\", \"12\", \"16\", \"18\", \"21\", \"22\", \"23\", \"25\", \"26\", \"27\", \"28\", \"29\", \"30\", \"31\", \"32\", \"35\", \"37\"], \"mode\": \"lines\", \"name\": \"norm_macro_recall_max\", \"stepped\": true, \"type\": \"scatter\", \"data\": [0.7043805537046256, 0.7043805537046256, 0.7043805537046256, 0.7043805537046256, 0.7043805537046256, 0.7043805537046256, 0.7043805537046256, 0.7043805537046256, 0.7043805537046256, 0.7043805537046256, 0.7043805537046256, 0.7043805537046256, 0.7043805537046256, 0.7043805537046256, 0.7043805537046256, 0.7043805537046256, 0.7043805537046256, 0.7043805537046256, 0.7043805537046256, 0.7314852785558053]}], \"matthews_correlation\": [{\"categories\": [\"0\", \"2\", \"6\", \"10\", \"12\", \"16\", \"18\", \"21\", \"22\", \"23\", \"25\", \"26\", \"27\", \"28\", \"29\", \"30\", \"31\", \"32\", \"35\", \"37\"], \"mode\": \"markers\", \"name\": \"matthews_correlation\", \"stepped\": false, \"type\": \"scatter\", \"data\": [0.6931281390433082, 0.5396540348111105, 0.683718270788236, 0.5129433860187617, 0.5093874552496431, 0.5108963292143347, 0.6672642642893915, 0.6702789175361259, 0.6503066512673454, 0.4983273811318642, 0.45694831202034125, 0.6280412993903055, 0.5542036247549641, 0.5494178779523299, 0.5727960856897719, 0.544189922733941, 0.6464726986563796, 0.49542207056928794, 0.5412082493586142, 0.7238955493419938]}, {\"categories\": [\"0\", \"2\", \"6\", \"10\", \"12\", \"16\", \"18\", \"21\", \"22\", \"23\", \"25\", \"26\", \"27\", \"28\", \"29\", \"30\", \"31\", \"32\", \"35\", \"37\"], \"mode\": \"lines\", \"name\": \"matthews_correlation_max\", \"stepped\": true, \"type\": \"scatter\", \"data\": [0.6931281390433082, 0.6931281390433082, 0.6931281390433082, 0.6931281390433082, 0.6931281390433082, 0.6931281390433082, 0.6931281390433082, 0.6931281390433082, 0.6931281390433082, 0.6931281390433082, 0.6931281390433082, 0.6931281390433082, 0.6931281390433082, 0.6931281390433082, 0.6931281390433082, 0.6931281390433082, 0.6931281390433082, 0.6931281390433082, 0.6931281390433082, 0.7238955493419938]}], \"recall_score_macro\": [{\"categories\": [\"0\", \"2\", \"6\", \"10\", \"12\", \"16\", \"18\", \"21\", \"22\", \"23\", \"25\", \"26\", \"27\", \"28\", \"29\", \"30\", \"31\", \"32\", \"35\", \"37\"], \"mode\": \"markers\", \"name\": \"recall_score_macro\", \"stepped\": false, \"type\": \"scatter\", \"data\": [0.8029203691364172, 0.6947230193060735, 0.7920857246297238, 0.6758133417317823, 0.682737643062894, 0.6822178683035305, 0.7825544326020427, 0.786169454215154, 0.7702144282734604, 0.673358107897107, 0.6057138074434357, 0.7553334263523485, 0.6975763251891739, 0.6961143715435413, 0.7032458111036566, 0.6679856969760122, 0.7683285947285325, 0.670347514170989, 0.6833553623293773, 0.8209901857038702]}, {\"categories\": [\"0\", \"2\", \"6\", \"10\", \"12\", \"16\", \"18\", \"21\", \"22\", \"23\", \"25\", \"26\", \"27\", \"28\", \"29\", \"30\", \"31\", \"32\", \"35\", \"37\"], \"mode\": \"lines\", \"name\": \"recall_score_macro_max\", \"stepped\": true, \"type\": \"scatter\", \"data\": [0.8029203691364172, 0.8029203691364172, 0.8029203691364172, 0.8029203691364172, 0.8029203691364172, 0.8029203691364172, 0.8029203691364172, 0.8029203691364172, 0.8029203691364172, 0.8029203691364172, 0.8029203691364172, 0.8029203691364172, 0.8029203691364172, 0.8029203691364172, 0.8029203691364172, 0.8029203691364172, 0.8029203691364172, 0.8029203691364172, 0.8029203691364172, 0.8209901857038702]}], \"f1_score_macro\": [{\"categories\": [\"0\", \"2\", \"6\", \"10\", \"12\", \"16\", \"18\", \"21\", \"22\", \"23\", \"25\", \"26\", \"27\", \"28\", \"29\", \"30\", \"31\", \"32\", \"35\", \"37\"], \"mode\": \"markers\", \"name\": \"f1_score_macro\", \"stepped\": false, \"type\": \"scatter\", \"data\": [0.8002909623401399, 0.6921212953008125, 0.7940940632484544, 0.6725836102558573, 0.6825101154691788, 0.6798484278409895, 0.7830000176281606, 0.7864406797794575, 0.771687276187698, 0.6721859983459684, 0.5722528989596238, 0.7525882027251799, 0.6932891681146155, 0.6918690180179564, 0.6932054239791602, 0.625876153111184, 0.7688921061509254, 0.6709166733702218, 0.6734950281583, 0.8213011711674185]}, {\"categories\": [\"0\", \"2\", \"6\", \"10\", \"12\", \"16\", \"18\", \"21\", \"22\", \"23\", \"25\", \"26\", \"27\", \"28\", \"29\", \"30\", \"31\", \"32\", \"35\", \"37\"], \"mode\": \"lines\", \"name\": \"f1_score_macro_max\", \"stepped\": true, \"type\": \"scatter\", \"data\": [0.8002909623401399, 0.8002909623401399, 0.8002909623401399, 0.8002909623401399, 0.8002909623401399, 0.8002909623401399, 0.8002909623401399, 0.8002909623401399, 0.8002909623401399, 0.8002909623401399, 0.8002909623401399, 0.8002909623401399, 0.8002909623401399, 0.8002909623401399, 0.8002909623401399, 0.8002909623401399, 0.8002909623401399, 0.8002909623401399, 0.8002909623401399, 0.8213011711674185]}], \"precision_score_weighted\": [{\"categories\": [\"0\", \"2\", \"6\", \"10\", \"12\", \"16\", \"18\", \"21\", \"22\", \"23\", \"25\", \"26\", \"27\", \"28\", \"29\", \"30\", \"31\", \"32\", \"35\", \"37\"], \"mode\": \"markers\", \"name\": \"precision_score_weighted\", \"stepped\": false, \"type\": \"scatter\", \"data\": [0.803253120543594, 0.69139641762865, 0.7948519450588591, 0.6770643976699389, 0.680813007432057, 0.6776573378661116, 0.7847414295299627, 0.7876725235921859, 0.7744052112740786, 0.6711476464149936, 0.6203777717437744, 0.7555125697529599, 0.6997147951223042, 0.7038621643823145, 0.7143320034094769, 0.6941208469438899, 0.7710080246319246, 0.6710942554071302, 0.6957869654858325, 0.8223579360377123]}, {\"categories\": [\"0\", \"2\", \"6\", \"10\", \"12\", \"16\", \"18\", \"21\", \"22\", \"23\", \"25\", \"26\", \"27\", \"28\", \"29\", \"30\", \"31\", \"32\", \"35\", \"37\"], \"mode\": \"lines\", \"name\": \"precision_score_weighted_max\", \"stepped\": true, \"type\": \"scatter\", \"data\": [0.803253120543594, 0.803253120543594, 0.803253120543594, 0.803253120543594, 0.803253120543594, 0.803253120543594, 0.803253120543594, 0.803253120543594, 0.803253120543594, 0.803253120543594, 0.803253120543594, 0.803253120543594, 0.803253120543594, 0.803253120543594, 0.803253120543594, 0.803253120543594, 0.803253120543594, 0.803253120543594, 0.803253120543594, 0.8223579360377123]}], \"AUC_weighted\": [{\"categories\": [\"0\", \"2\", \"6\", \"10\", \"12\", \"16\", \"18\", \"21\", \"22\", \"23\", \"25\", \"26\", \"27\", \"28\", \"29\", \"30\", \"31\", \"32\", \"35\", \"37\"], \"mode\": \"markers\", \"name\": \"AUC_weighted\", \"stepped\": false, \"type\": \"scatter\", \"data\": [0.9264607592226911, 0.8486336409047633, 0.9180478858712156, 0.8623060030708743, 0.8497429538845127, 0.837407976582354, 0.914346128828238, 0.9203860311218938, 0.9083962881372498, 0.8444621833846427, 0.7943841020104291, 0.9046038768921963, 0.8689632095697227, 0.8676801637923051, 0.8754231436974577, 0.8477036127995637, 0.9107744150150899, 0.8283380268463513, 0.8547879766838848, 0.9310818668989708]}, {\"categories\": [\"0\", \"2\", \"6\", \"10\", \"12\", \"16\", \"18\", \"21\", \"22\", \"23\", \"25\", \"26\", \"27\", \"28\", \"29\", \"30\", \"31\", \"32\", \"35\", \"37\"], \"mode\": \"lines\", \"name\": \"AUC_weighted_max\", \"stepped\": true, \"type\": \"scatter\", \"data\": [0.9264607592226911, 0.9264607592226911, 0.9264607592226911, 0.9264607592226911, 0.9264607592226911, 0.9264607592226911, 0.9264607592226911, 0.9264607592226911, 0.9264607592226911, 0.9264607592226911, 0.9264607592226911, 0.9264607592226911, 0.9264607592226911, 0.9264607592226911, 0.9264607592226911, 0.9264607592226911, 0.9264607592226911, 0.9264607592226911, 0.9264607592226911, 0.9310818668989708]}], \"log_loss\": [{\"categories\": [\"0\", \"2\", \"6\", \"10\", \"12\", \"16\", \"18\", \"21\", \"22\", \"23\", \"25\", \"26\", \"27\", \"28\", \"29\", \"30\", \"31\", \"32\", \"35\", \"37\"], \"mode\": \"markers\", \"name\": \"log_loss\", \"stepped\": false, \"type\": \"scatter\", \"data\": [0.4914036098193113, 0.7604990708141154, 0.5541465772743047, 0.6719026857462275, 0.8601938301776487, 0.7102162456531446, 0.5789131523564672, 0.5171008296600587, 0.5907731756006012, 0.8039491680541594, 0.8346584528353752, 0.5786410861325401, 0.6574406365893751, 0.8290574273070542, 0.7406009492045822, 0.7707284583385494, 0.5275466452699877, 0.7856008733266838, 0.7260176329210445, 0.4931670529657673]}, {\"categories\": [\"0\", \"2\", \"6\", \"10\", \"12\", \"16\", \"18\", \"21\", \"22\", \"23\", \"25\", \"26\", \"27\", \"28\", \"29\", \"30\", \"31\", \"32\", \"35\", \"37\"], \"mode\": \"lines\", \"name\": \"log_loss_min\", \"stepped\": true, \"type\": \"scatter\", \"data\": [0.4914036098193113, 0.4914036098193113, 0.4914036098193113, 0.4914036098193113, 0.4914036098193113, 0.4914036098193113, 0.4914036098193113, 0.4914036098193113, 0.4914036098193113, 0.4914036098193113, 0.4914036098193113, 0.4914036098193113, 0.4914036098193113, 0.4914036098193113, 0.4914036098193113, 0.4914036098193113, 0.4914036098193113, 0.4914036098193113, 0.4914036098193113, 0.4914036098193113]}], \"AUC_micro\": [{\"categories\": [\"0\", \"2\", \"6\", \"10\", \"12\", \"16\", \"18\", \"21\", \"22\", \"23\", \"25\", \"26\", \"27\", \"28\", \"29\", \"30\", \"31\", \"32\", \"35\", \"37\"], \"mode\": \"markers\", \"name\": \"AUC_micro\", \"stepped\": false, \"type\": \"scatter\", \"data\": [0.9352788767900283, 0.8695671836887131, 0.9269852246069815, 0.8827086469894846, 0.8707809600504185, 0.8627819987628819, 0.9246233208454419, 0.9296841263727927, 0.9205691327334478, 0.8642496177771554, 0.8209709043800988, 0.9152778264066384, 0.8858262432454511, 0.882661963283265, 0.889388793576322, 0.8641197787192324, 0.9224700348960703, 0.8568261790553552, 0.8700573626040171, 0.9370047150543281]}, {\"categories\": [\"0\", \"2\", \"6\", \"10\", \"12\", \"16\", \"18\", \"21\", \"22\", \"23\", \"25\", \"26\", \"27\", \"28\", \"29\", \"30\", \"31\", \"32\", \"35\", \"37\"], \"mode\": \"lines\", \"name\": \"AUC_micro_max\", \"stepped\": true, \"type\": \"scatter\", \"data\": [0.9352788767900283, 0.9352788767900283, 0.9352788767900283, 0.9352788767900283, 0.9352788767900283, 0.9352788767900283, 0.9352788767900283, 0.9352788767900283, 0.9352788767900283, 0.9352788767900283, 0.9352788767900283, 0.9352788767900283, 0.9352788767900283, 0.9352788767900283, 0.9352788767900283, 0.9352788767900283, 0.9352788767900283, 0.9352788767900283, 0.9352788767900283, 0.9370047150543281]}], \"average_precision_score_macro\": [{\"categories\": [\"0\", \"2\", \"6\", \"10\", \"12\", \"16\", \"18\", \"21\", \"22\", \"23\", \"25\", \"26\", \"27\", \"28\", \"29\", \"30\", \"31\", \"32\", \"35\", \"37\"], \"mode\": \"markers\", \"name\": \"average_precision_score_macro\", \"stepped\": false, \"type\": \"scatter\", \"data\": [0.8781366521367858, 0.7634888699668102, 0.8663446277911563, 0.7827956841114015, 0.7734778293913142, 0.7543227519888881, 0.8579067501537637, 0.8690710511291062, 0.84667938373398, 0.7637472948238949, 0.644752107532923, 0.8405618628019531, 0.7905532747492875, 0.7861414025249865, 0.7934079144119729, 0.7282279076339654, 0.8497345879270294, 0.7003180412653592, 0.7612909774738162, 0.8882064280692203]}, {\"categories\": [\"0\", \"2\", \"6\", \"10\", \"12\", \"16\", \"18\", \"21\", \"22\", \"23\", \"25\", \"26\", \"27\", \"28\", \"29\", \"30\", \"31\", \"32\", \"35\", \"37\"], \"mode\": \"lines\", \"name\": \"average_precision_score_macro_max\", \"stepped\": true, \"type\": \"scatter\", \"data\": [0.8781366521367858, 0.8781366521367858, 0.8781366521367858, 0.8781366521367858, 0.8781366521367858, 0.8781366521367858, 0.8781366521367858, 0.8781366521367858, 0.8781366521367858, 0.8781366521367858, 0.8781366521367858, 0.8781366521367858, 0.8781366521367858, 0.8781366521367858, 0.8781366521367858, 0.8781366521367858, 0.8781366521367858, 0.8781366521367858, 0.8781366521367858, 0.8882064280692203]}], \"AUC_macro\": [{\"categories\": [\"0\", \"2\", \"6\", \"10\", \"12\", \"16\", \"18\", \"21\", \"22\", \"23\", \"25\", \"26\", \"27\", \"28\", \"29\", \"30\", \"31\", \"32\", \"35\", \"37\"], \"mode\": \"markers\", \"name\": \"AUC_macro\", \"stepped\": false, \"type\": \"scatter\", \"data\": [0.9296037670436169, 0.8544696690402197, 0.9212567738575012, 0.867813711757249, 0.8550726688319665, 0.8435627010889847, 0.9176311828779408, 0.923572344225091, 0.9120403538565652, 0.8491251999102182, 0.7991411668602818, 0.9086617099799366, 0.8738573434774201, 0.8723668702281405, 0.8798840439210985, 0.8528009037604521, 0.9142483789525501, 0.8343550852914493, 0.8595924632753903, 0.9339587226956647]}, {\"categories\": [\"0\", \"2\", \"6\", \"10\", \"12\", \"16\", \"18\", \"21\", \"22\", \"23\", \"25\", \"26\", \"27\", \"28\", \"29\", \"30\", \"31\", \"32\", \"35\", \"37\"], \"mode\": \"lines\", \"name\": \"AUC_macro_max\", \"stepped\": true, \"type\": \"scatter\", \"data\": [0.9296037670436169, 0.9296037670436169, 0.9296037670436169, 0.9296037670436169, 0.9296037670436169, 0.9296037670436169, 0.9296037670436169, 0.9296037670436169, 0.9296037670436169, 0.9296037670436169, 0.9296037670436169, 0.9296037670436169, 0.9296037670436169, 0.9296037670436169, 0.9296037670436169, 0.9296037670436169, 0.9296037670436169, 0.9296037670436169, 0.9296037670436169, 0.9339587226956647]}], \"f1_score_micro\": [{\"categories\": [\"0\", \"2\", \"6\", \"10\", \"12\", \"16\", \"18\", \"21\", \"22\", \"23\", \"25\", \"26\", \"27\", \"28\", \"29\", \"30\", \"31\", \"32\", \"35\", \"37\"], \"mode\": \"markers\", \"name\": \"f1_score_micro\", \"stepped\": false, \"type\": \"scatter\", \"data\": [0.7958579881656805, 0.6972386587771203, 0.7919132149901381, 0.6775147928994083, 0.6765285996055227, 0.6775147928994083, 0.780078895463511, 0.782051282051282, 0.7692307692307693, 0.6696252465483234, 0.6242603550295858, 0.7534516765285996, 0.7041420118343197, 0.700197238658777, 0.7110453648915188, 0.6765285996055227, 0.7662721893491126, 0.6686390532544378, 0.6903353057199211, 0.8175542406311637]}, {\"categories\": [\"0\", \"2\", \"6\", \"10\", \"12\", \"16\", \"18\", \"21\", \"22\", \"23\", \"25\", \"26\", \"27\", \"28\", \"29\", \"30\", \"31\", \"32\", \"35\", \"37\"], \"mode\": \"lines\", \"name\": \"f1_score_micro_max\", \"stepped\": true, \"type\": \"scatter\", \"data\": [0.7958579881656805, 0.7958579881656805, 0.7958579881656805, 0.7958579881656805, 0.7958579881656805, 0.7958579881656805, 0.7958579881656805, 0.7958579881656805, 0.7958579881656805, 0.7958579881656805, 0.7958579881656805, 0.7958579881656805, 0.7958579881656805, 0.7958579881656805, 0.7958579881656805, 0.7958579881656805, 0.7958579881656805, 0.7958579881656805, 0.7958579881656805, 0.8175542406311637]}], \"accuracy\": [{\"categories\": [\"0\", \"2\", \"6\", \"10\", \"12\", \"16\", \"18\", \"21\", \"22\", \"23\", \"25\", \"26\", \"27\", \"28\", \"29\", \"30\", \"31\", \"32\", \"35\", \"37\"], \"mode\": \"markers\", \"name\": \"accuracy\", \"stepped\": false, \"type\": \"scatter\", \"data\": [0.7958579881656805, 0.6972386587771203, 0.7919132149901381, 0.6775147928994083, 0.6765285996055227, 0.6775147928994083, 0.780078895463511, 0.782051282051282, 0.7692307692307693, 0.6696252465483234, 0.6242603550295858, 0.7534516765285996, 0.7041420118343197, 0.700197238658777, 0.7110453648915187, 0.6765285996055227, 0.7662721893491123, 0.6686390532544378, 0.6903353057199211, 0.8175542406311637]}, {\"categories\": [\"0\", \"2\", \"6\", \"10\", \"12\", \"16\", \"18\", \"21\", \"22\", \"23\", \"25\", \"26\", \"27\", \"28\", \"29\", \"30\", \"31\", \"32\", \"35\", \"37\"], \"mode\": \"lines\", \"name\": \"accuracy_max\", \"stepped\": true, \"type\": \"scatter\", \"data\": [0.7958579881656805, 0.7958579881656805, 0.7958579881656805, 0.7958579881656805, 0.7958579881656805, 0.7958579881656805, 0.7958579881656805, 0.7958579881656805, 0.7958579881656805, 0.7958579881656805, 0.7958579881656805, 0.7958579881656805, 0.7958579881656805, 0.7958579881656805, 0.7958579881656805, 0.7958579881656805, 0.7958579881656805, 0.7958579881656805, 0.7958579881656805, 0.8175542406311637]}]}, \"metricName\": null, \"primaryMetricName\": \"accuracy\", \"showLegend\": false}, \"run_metrics\": [{\"name\": \"experiment_status\", \"run_id\": \"AutoML_ce70000b-1d29-44d4-846b-2c8097d702a8\", \"categories\": [0, 1, 2, 3, 4, 5, 6, 7, 8, 9, 10, 11, 12, 13], \"series\": [{\"data\": [\"DatasetEvaluation\", \"FeaturesGeneration\", \"DatasetFeaturization\", \"DatasetFeaturizationCompleted\", \"DatasetCrossValidationSplit\", \"ModelSelection\", \"BestRunExplainModel\", \"ModelExplanationDataSetSetup\", \"PickSurrogateModel\", \"EngineeredFeatureExplanations\", \"EngineeredFeatureExplanations\", \"RawFeaturesExplanations\", \"RawFeaturesExplanations\", \"BestRunExplainModel\"]}]}, {\"name\": \"experiment_status_description\", \"run_id\": \"AutoML_ce70000b-1d29-44d4-846b-2c8097d702a8\", \"categories\": [0, 1, 2, 3, 4, 5, 6, 7, 8, 9, 10, 11, 12, 13], \"series\": [{\"data\": [\"Gathering dataset statistics.\", \"Generating features for the dataset.\", \"Beginning to fit featurizers and featurize the dataset.\", \"Completed fit featurizers and featurizing the dataset.\", \"Generating individually featurized CV splits.\", \"Beginning model selection.\", \"Best run model explanations started\", \"Model explanations data setup completed\", \"Choosing LightGBM as the surrogate model for explanations\", \"Computation of engineered features started\", \"Computation of engineered features completed\", \"Computation of raw features started\", \"Computation of raw features completed\", \"Best run model explanations completed\"]}]}, {\"name\": \"precision_score_micro\", \"run_id\": \"AutoML_ce70000b-1d29-44d4-846b-2c8097d702a8\", \"categories\": [0], \"series\": [{\"data\": [0.8284023668639052]}]}, {\"name\": \"average_precision_score_micro\", \"run_id\": \"AutoML_ce70000b-1d29-44d4-846b-2c8097d702a8\", \"categories\": [0], \"series\": [{\"data\": [0.8894089720340997]}]}, {\"name\": \"balanced_accuracy\", \"run_id\": \"AutoML_ce70000b-1d29-44d4-846b-2c8097d702a8\", \"categories\": [0], \"series\": [{\"data\": [0.8306574121342926]}]}, {\"name\": \"f1_score_micro\", \"run_id\": \"AutoML_ce70000b-1d29-44d4-846b-2c8097d702a8\", \"categories\": [0], \"series\": [{\"data\": [0.8284023668639052]}]}, {\"name\": \"AUC_weighted\", \"run_id\": \"AutoML_ce70000b-1d29-44d4-846b-2c8097d702a8\", \"categories\": [0], \"series\": [{\"data\": [0.9322348000876802]}]}, {\"name\": \"weighted_accuracy\", \"run_id\": \"AutoML_ce70000b-1d29-44d4-846b-2c8097d702a8\", \"categories\": [0], \"series\": [{\"data\": [0.8274033972226623]}]}, {\"name\": \"AUC_macro\", \"run_id\": \"AutoML_ce70000b-1d29-44d4-846b-2c8097d702a8\", \"categories\": [0], \"series\": [{\"data\": [0.9350514078893063]}]}, {\"name\": \"average_precision_score_weighted\", \"run_id\": \"AutoML_ce70000b-1d29-44d4-846b-2c8097d702a8\", \"categories\": [0], \"series\": [{\"data\": [0.8829355463672051]}]}, {\"name\": \"recall_score_macro\", \"run_id\": \"AutoML_ce70000b-1d29-44d4-846b-2c8097d702a8\", \"categories\": [0], \"series\": [{\"data\": [0.8306574121342926]}]}, {\"name\": \"f1_score_macro\", \"run_id\": \"AutoML_ce70000b-1d29-44d4-846b-2c8097d702a8\", \"categories\": [0], \"series\": [{\"data\": [0.8304232571855547]}]}, {\"name\": \"f1_score_weighted\", \"run_id\": \"AutoML_ce70000b-1d29-44d4-846b-2c8097d702a8\", \"categories\": [0], \"series\": [{\"data\": [0.8281542687389388]}]}, {\"name\": \"recall_score_micro\", \"run_id\": \"AutoML_ce70000b-1d29-44d4-846b-2c8097d702a8\", \"categories\": [0], \"series\": [{\"data\": [0.8284023668639052]}]}, {\"name\": \"average_precision_score_macro\", \"run_id\": \"AutoML_ce70000b-1d29-44d4-846b-2c8097d702a8\", \"categories\": [0], \"series\": [{\"data\": [0.885972012414295]}]}, {\"name\": \"precision_score_weighted\", \"run_id\": \"AutoML_ce70000b-1d29-44d4-846b-2c8097d702a8\", \"categories\": [0], \"series\": [{\"data\": [0.8310206805244859]}]}, {\"name\": \"accuracy\", \"run_id\": \"AutoML_ce70000b-1d29-44d4-846b-2c8097d702a8\", \"categories\": [0], \"series\": [{\"data\": [0.8284023668639052]}]}, {\"name\": \"norm_macro_recall\", \"run_id\": \"AutoML_ce70000b-1d29-44d4-846b-2c8097d702a8\", \"categories\": [0], \"series\": [{\"data\": [0.7459861182014388]}]}, {\"name\": \"log_loss\", \"run_id\": \"AutoML_ce70000b-1d29-44d4-846b-2c8097d702a8\", \"categories\": [0], \"series\": [{\"data\": [0.5980607428065903]}]}, {\"name\": \"precision_score_macro\", \"run_id\": \"AutoML_ce70000b-1d29-44d4-846b-2c8097d702a8\", \"categories\": [0], \"series\": [{\"data\": [0.8335228793307908]}]}, {\"name\": \"matthews_correlation\", \"run_id\": \"AutoML_ce70000b-1d29-44d4-846b-2c8097d702a8\", \"categories\": [0], \"series\": [{\"data\": [0.7400274214649959]}]}, {\"name\": \"recall_score_weighted\", \"run_id\": \"AutoML_ce70000b-1d29-44d4-846b-2c8097d702a8\", \"categories\": [0], \"series\": [{\"data\": [0.8284023668639052]}]}, {\"name\": \"AUC_micro\", \"run_id\": \"AutoML_ce70000b-1d29-44d4-846b-2c8097d702a8\", \"categories\": [0], \"series\": [{\"data\": [0.9399399530828753]}]}], \"run_logs\": \"\\nRun is completed.\", \"graph\": {}, \"widget_settings\": {\"childWidgetDisplay\": \"popup\", \"send_telemetry\": false, \"log_level\": \"INFO\", \"sdk_version\": \"1.47.0\"}, \"loading\": false}"
     },
     "metadata": {},
     "output_type": "display_data"
    },
    {
     "data": {
      "text/html": [
       "<table style=\"width:100%\"><tr><th>Experiment</th><th>Id</th><th>Type</th><th>Status</th><th>Details Page</th><th>Docs Page</th></tr><tr><td>automl_maternal_health_experiment</td><td>AutoML_ce70000b-1d29-44d4-846b-2c8097d702a8</td><td>automl</td><td>Completed</td><td><a href=\"https://ml.azure.com/runs/AutoML_ce70000b-1d29-44d4-846b-2c8097d702a8?wsid=/subscriptions/9e65f93e-bdd8-437b-b1e8-0647cd6098f7/resourcegroups/aml-quickstarts-223541/workspaces/quick-starts-ws-223541&amp;tid=660b3398-b80e-49d2-bc5b-ac1dc93b5254\" target=\"_blank\" rel=\"noopener\">Link to Azure Machine Learning studio</a></td><td><a href=\"https://docs.microsoft.com/en-us/python/api/overview/azure/ml/intro?view=azure-ml-py\" target=\"_blank\" rel=\"noopener\">Link to Documentation</a></td></tr></table>"
      ],
      "text/plain": [
       "<IPython.core.display.HTML object>"
      ]
     },
     "metadata": {},
     "output_type": "display_data"
    },
    {
     "name": "stdout",
     "output_type": "stream",
     "text": [
      "\n",
      "\n",
      "********************************************************************************************\n",
      "DATA GUARDRAILS: \n",
      "\n",
      "TYPE:         Cross validation\n",
      "STATUS:       DONE\n",
      "DESCRIPTION:  In order to accurately evaluate the model(s) trained by AutoML, we leverage a dataset that the model is not trained on. Hence, if the user doesn't provide an explicit validation dataset, a part of the training dataset is used to achieve this. For smaller datasets (fewer than 20,000 samples), cross-validation is leveraged, else a single hold-out set is split from the training data to serve as the validation dataset. Hence, for your input data we leverage cross-validation with 10 folds, if the number of training samples are fewer than 1000, and 3 folds in all other cases.\n",
      "              Learn more about cross validation: https://aka.ms/AutomatedMLCrossValidation\n",
      "DETAILS:      \n",
      "+------------------------------+\n",
      "|Number of folds               |\n",
      "+==============================+\n",
      "|3                             |\n",
      "+------------------------------+\n",
      "\n",
      "********************************************************************************************\n",
      "\n",
      "TYPE:         Class balancing detection\n",
      "STATUS:       PASSED\n",
      "DESCRIPTION:  Your inputs were analyzed, and all classes are balanced in your training data.\n",
      "              Learn more about imbalanced data: https://aka.ms/AutomatedMLImbalancedData\n",
      "\n",
      "********************************************************************************************\n",
      "\n",
      "TYPE:         Missing feature values imputation\n",
      "STATUS:       DONE\n",
      "DESCRIPTION:  If the missing values are expected, let the run complete. Otherwise cancel the current run and use a script to customize the handling of missing feature values that may be more appropriate based on the data type and business requirement.\n",
      "              Learn more about missing value imputation: https://aka.ms/AutomatedMLFeaturization\n",
      "DETAILS:      \n",
      "+------------------------------+------------------------------+------------------------------+\n",
      "|Column name                   |Missing value count           |Imputation type               |\n",
      "+==============================+==============================+==============================+\n",
      "|BodyTemp                      |3                             |mean                          |\n",
      "+------------------------------+------------------------------+------------------------------+\n",
      "\n",
      "********************************************************************************************\n",
      "\n",
      "TYPE:         High cardinality feature detection\n",
      "STATUS:       PASSED\n",
      "DESCRIPTION:  Your inputs were analyzed, and no high cardinality features were detected.\n",
      "              Learn more about high cardinality feature handling: https://aka.ms/AutomatedMLFeaturization\n",
      "\n",
      "********************************************************************************************\n",
      "\n",
      "********************************************************************************************\n",
      "ITER: The iteration being evaluated.\n",
      "PIPELINE: A summary description of the pipeline being evaluated.\n",
      "DURATION: Time taken for the current iteration.\n",
      "METRIC: The result of computing score on the fitted pipeline.\n",
      "BEST: The best observed score thus far.\n",
      "********************************************************************************************\n",
      "\n",
      " ITER   PIPELINE                                       DURATION            METRIC      BEST\n",
      "    0   MaxAbsScaler LightGBM                          0:00:42             0.7959    0.7959\n",
      "    1   MaxAbsScaler XGBoostClassifier                 0:00:11             0.8166    0.8166\n",
      "    2   MaxAbsScaler ExtremeRandomTrees                0:00:14             0.6972    0.8166\n",
      "    3   SparseNormalizer XGBoostClassifier             0:00:13             0.7327    0.8166\n",
      "    4   MaxAbsScaler LightGBM                          0:00:10             0.7101    0.8166\n",
      "    5   MaxAbsScaler LightGBM                          0:00:09             0.7110    0.8166\n",
      "    6   StandardScalerWrapper XGBoostClassifier        0:00:13             0.7919    0.8166\n",
      "    7   MaxAbsScaler LogisticRegression                0:00:13             0.6726    0.8166\n",
      "   10   SparseNormalizer LightGBM                      0:00:08             0.6775    0.8166\n",
      "   11   StandardScalerWrapper XGBoostClassifier        0:00:14             0.7465    0.8166\n",
      "    8   StandardScalerWrapper ExtremeRandomTrees       0:00:13             0.6538    0.8166\n",
      "    9   StandardScalerWrapper XGBoostClassifier        0:00:15             0.7574    0.8166\n",
      "   12   MaxAbsScaler LogisticRegression                0:00:14             0.6765    0.8166\n",
      "   13   MaxAbsScaler SGD                               0:00:12             0.6588    0.8166\n",
      "   14   StandardScalerWrapper XGBoostClassifier        0:00:13             0.7495    0.8166\n",
      "   15   SparseNormalizer RandomForest                  0:00:42             0.7308    0.8166\n",
      "   16   StandardScalerWrapper LogisticRegression       0:00:15             0.6775    0.8166\n",
      "   17   StandardScalerWrapper RandomForest             0:00:09             0.7160    0.8166\n",
      "   18   StandardScalerWrapper XGBoostClassifier        0:00:09             0.7801    0.8166\n",
      "   19   TruncatedSVDWrapper RandomForest               0:00:15             0.7229    0.8166\n",
      "   20   TruncatedSVDWrapper RandomForest               0:01:54             0.7742    0.8166\n",
      "   21   StandardScalerWrapper XGBoostClassifier        0:00:29             0.7821    0.8166\n",
      "   22   SparseNormalizer XGBoostClassifier             0:00:30             0.7692    0.8166\n",
      "   23   StandardScalerWrapper LogisticRegression       0:00:29             0.6696    0.8166\n",
      "   24   StandardScalerWrapper RandomForest             0:00:27             0.6361    0.8166\n",
      "   25   TruncatedSVDWrapper XGBoostClassifier          0:00:31             0.6243    0.8166\n",
      "   26   SparseNormalizer XGBoostClassifier             0:00:31             0.7535    0.8166\n",
      "   27   MaxAbsScaler ExtremeRandomTrees                0:00:28             0.7041    0.8166\n",
      "   28   StandardScalerWrapper XGBoostClassifier        0:00:30             0.7002    0.8166\n",
      "   29   StandardScalerWrapper XGBoostClassifier        0:00:26             0.7110    0.8166\n",
      "   30   StandardScalerWrapper XGBoostClassifier        0:00:32             0.6765    0.8166\n",
      "   31   StandardScalerWrapper XGBoostClassifier        0:00:32             0.7663    0.8166\n",
      "   32   StandardScalerWrapper DecisionTree             0:00:30             0.6686    0.8166\n",
      "   33                                                  0:00:10                nan    0.8166\n",
      "   34                                                  0:00:00                nan    0.8166\n",
      "   35   TruncatedSVDWrapper XGBoostClassifier          0:00:01             0.6903    0.8166\n",
      "   36    VotingEnsemble                                0:00:46             0.8284    0.8284\n",
      "   37    StackEnsemble                                 0:00:57             0.8176    0.8284\n"
     ]
    },
    {
     "data": {
      "text/plain": [
       "{'runId': 'AutoML_ce70000b-1d29-44d4-846b-2c8097d702a8',\n",
       " 'target': 'cluster-yum',\n",
       " 'status': 'Completed',\n",
       " 'startTimeUtc': '2023-01-26T05:16:36.102535Z',\n",
       " 'endTimeUtc': '2023-01-26T05:29:28.113061Z',\n",
       " 'services': {},\n",
       " 'warnings': [{'source': 'JasmineService',\n",
       "   'message': 'No scores improved over last 10 iterations, so experiment stopped early. This early stopping behavior can be disabled by setting enable_early_stopping = False in AutoMLConfig for notebook/python SDK runs.'}],\n",
       " 'properties': {'num_iterations': '1000',\n",
       "  'training_type': 'TrainFull',\n",
       "  'acquisition_function': 'EI',\n",
       "  'primary_metric': 'accuracy',\n",
       "  'train_split': '0',\n",
       "  'acquisition_parameter': '0',\n",
       "  'num_cross_validation': None,\n",
       "  'target': 'cluster-yum',\n",
       "  'AMLSettingsJsonString': '{\"path\":null,\"name\":\"automl_maternal_health_experiment\",\"subscription_id\":\"9e65f93e-bdd8-437b-b1e8-0647cd6098f7\",\"resource_group\":\"aml-quickstarts-223541\",\"workspace_name\":\"quick-starts-ws-223541\",\"region\":\"southcentralus\",\"compute_target\":\"cluster-yum\",\"spark_service\":null,\"azure_service\":\"remote\",\"many_models\":false,\"pipeline_fetch_max_batch_size\":1,\"enable_batch_run\":true,\"enable_parallel_run\":false,\"num_procs\":null,\"enable_run_restructure\":false,\"start_auxiliary_runs_before_parent_complete\":false,\"enable_code_generation\":true,\"iterations\":1000,\"primary_metric\":\"accuracy\",\"task_type\":\"classification\",\"positive_label\":null,\"data_script\":null,\"test_size\":0.0,\"test_include_predictions_only\":false,\"validation_size\":0.0,\"n_cross_validations\":null,\"y_min\":null,\"y_max\":null,\"num_classes\":null,\"featurization\":\"auto\",\"_ignore_package_version_incompatibilities\":false,\"is_timeseries\":false,\"max_cores_per_iteration\":1,\"max_concurrent_iterations\":4,\"iteration_timeout_minutes\":null,\"mem_in_mb\":null,\"enforce_time_on_windows\":false,\"experiment_timeout_minutes\":30,\"experiment_exit_score\":null,\"partition_column_names\":null,\"whitelist_models\":null,\"blacklist_algos\":[\"TensorFlowLinearClassifier\",\"TensorFlowDNN\"],\"supported_models\":[\"XGBoostClassifier\",\"MultinomialNaiveBayes\",\"RandomForest\",\"LinearSVM\",\"TabnetClassifier\",\"BernoulliNaiveBayes\",\"SGD\",\"KNN\",\"SVM\",\"TensorFlowDNN\",\"ExtremeRandomTrees\",\"DecisionTree\",\"LightGBM\",\"AveragedPerceptronClassifier\",\"TensorFlowLinearClassifier\",\"GradientBoosting\",\"LogisticRegression\"],\"private_models\":[],\"auto_blacklist\":true,\"blacklist_samples_reached\":false,\"exclude_nan_labels\":true,\"verbosity\":20,\"_debug_log\":\"azureml_automl.log\",\"show_warnings\":false,\"model_explainability\":true,\"service_url\":null,\"sdk_url\":null,\"sdk_packages\":null,\"enable_onnx_compatible_models\":false,\"enable_split_onnx_featurizer_estimator_models\":false,\"vm_type\":\"STANDARD_D2_V2\",\"telemetry_verbosity\":20,\"send_telemetry\":true,\"enable_dnn\":false,\"scenario\":\"AutoML\",\"environment_label\":null,\"save_mlflow\":false,\"enable_categorical_indicators\":false,\"force_text_dnn\":false,\"enable_feature_sweeping\":true,\"enable_early_stopping\":true,\"early_stopping_n_iters\":10,\"arguments\":null,\"dataset_id\":\"a42ca6bd-a3ae-4b2b-96c8-32e485a3cad0\",\"hyperdrive_config\":null,\"validation_dataset_id\":null,\"run_source\":null,\"metrics\":null,\"enable_metric_confidence\":false,\"enable_ensembling\":true,\"enable_stack_ensembling\":true,\"ensemble_iterations\":15,\"enable_tf\":false,\"enable_subsampling\":null,\"subsample_seed\":null,\"enable_nimbusml\":false,\"enable_streaming\":false,\"force_streaming\":false,\"track_child_runs\":true,\"n_best_runs\":1,\"allowed_private_models\":[],\"label_column_name\":\"RiskLevel\",\"weight_column_name\":null,\"cv_split_column_names\":null,\"enable_local_managed\":false,\"_local_managed_run_id\":null,\"cost_mode\":1,\"lag_length\":0,\"metric_operation\":\"maximize\",\"preprocess\":true}',\n",
       "  'DataPrepJsonString': '{\\\\\"training_data\\\\\": {\\\\\"datasetId\\\\\": \\\\\"a42ca6bd-a3ae-4b2b-96c8-32e485a3cad0\\\\\"}, \\\\\"datasets\\\\\": 0}',\n",
       "  'EnableSubsampling': None,\n",
       "  'runTemplate': 'AutoML',\n",
       "  'azureml.runsource': 'automl',\n",
       "  'display_task_type': 'classification',\n",
       "  'dependencies_versions': '{\"azureml-widgets\": \"1.47.0\", \"azureml-training-tabular\": \"1.47.0\", \"azureml-train\": \"1.47.0\", \"azureml-train-restclients-hyperdrive\": \"1.47.0\", \"azureml-train-core\": \"1.47.0\", \"azureml-train-automl\": \"1.47.0\", \"azureml-train-automl-runtime\": \"1.47.0\", \"azureml-train-automl-client\": \"1.47.0\", \"azureml-tensorboard\": \"1.47.0\", \"azureml-telemetry\": \"1.47.0\", \"azureml-sdk\": \"1.47.0\", \"azureml-samples\": \"0+unknown\", \"azureml-responsibleai\": \"1.47.0\", \"azureml-pipeline\": \"1.47.0\", \"azureml-pipeline-steps\": \"1.47.0\", \"azureml-pipeline-core\": \"1.47.0\", \"azureml-opendatasets\": \"1.47.0\", \"azureml-mlflow\": \"1.47.0\", \"azureml-interpret\": \"1.47.0\", \"azureml-inference-server-http\": \"0.7.6\", \"azureml-explain-model\": \"1.47.0\", \"azureml-defaults\": \"1.47.0\", \"azureml-dataset-runtime\": \"1.47.0\", \"azureml-dataprep\": \"4.5.7\", \"azureml-dataprep-rslex\": \"2.11.4\", \"azureml-dataprep-native\": \"38.0.0\", \"azureml-datadrift\": \"1.47.0\", \"azureml-core\": \"1.47.0\", \"azureml-contrib-services\": \"1.47.0\", \"azureml-contrib-server\": \"1.47.0\", \"azureml-contrib-reinforcementlearning\": \"1.47.0\", \"azureml-contrib-pipeline-steps\": \"1.47.0\", \"azureml-contrib-notebook\": \"1.47.0\", \"azureml-contrib-fairness\": \"1.47.0\", \"azureml-contrib-dataset\": \"1.47.0\", \"azureml-contrib-automl-pipeline-steps\": \"1.47.0\", \"azureml-cli-common\": \"1.47.0\", \"azureml-automl-runtime\": \"1.47.0\", \"azureml-automl-dnn-nlp\": \"1.47.0\", \"azureml-automl-core\": \"1.47.0\", \"azureml-accel-models\": \"1.47.0\"}',\n",
       "  '_aml_system_scenario_identification': 'Remote.Parent',\n",
       "  'ClientType': 'SDK',\n",
       "  'environment_cpu_name': 'AzureML-AutoML',\n",
       "  'environment_cpu_label': 'prod',\n",
       "  'environment_gpu_name': 'AzureML-AutoML-GPU',\n",
       "  'environment_gpu_label': 'prod',\n",
       "  'root_attribution': 'automl',\n",
       "  'attribution': 'AutoML',\n",
       "  'Orchestrator': 'AutoML',\n",
       "  'CancelUri': 'https://southcentralus.api.azureml.ms/jasmine/v1.0/subscriptions/9e65f93e-bdd8-437b-b1e8-0647cd6098f7/resourceGroups/aml-quickstarts-223541/providers/Microsoft.MachineLearningServices/workspaces/quick-starts-ws-223541/experimentids/2bc37972-7e6b-4541-a4d7-5d2e4283f9b9/cancel/AutoML_ce70000b-1d29-44d4-846b-2c8097d702a8',\n",
       "  'ClientSdkVersion': '1.48.0.post1',\n",
       "  'snapshotId': '00000000-0000-0000-0000-000000000000',\n",
       "  'SetupRunId': 'AutoML_ce70000b-1d29-44d4-846b-2c8097d702a8_setup',\n",
       "  'SetupRunContainerId': 'dcid.AutoML_ce70000b-1d29-44d4-846b-2c8097d702a8_setup',\n",
       "  'FeaturizationRunJsonPath': 'featurizer_container.json',\n",
       "  'FeaturizationRunId': 'AutoML_ce70000b-1d29-44d4-846b-2c8097d702a8_featurize',\n",
       "  'ProblemInfoJsonString': '{\"dataset_num_categorical\": 0, \"is_sparse\": true, \"subsampling\": false, \"has_extra_col\": true, \"dataset_classes\": 3, \"dataset_features\": 103, \"dataset_samples\": 1014, \"single_frequency_class_detected\": false}',\n",
       "  'ModelExplainRunId': 'AutoML_ce70000b-1d29-44d4-846b-2c8097d702a8_ModelExplain'},\n",
       " 'inputDatasets': [{'dataset': {'id': 'a42ca6bd-a3ae-4b2b-96c8-32e485a3cad0'}, 'consumptionDetails': {'type': 'RunInput', 'inputName': 'training_data', 'mechanism': 'Direct'}}],\n",
       " 'outputDatasets': [],\n",
       " 'logFiles': {},\n",
       " 'submittedBy': 'ODL_User 223541'}"
      ]
     },
     "execution_count": 11,
     "metadata": {},
     "output_type": "execute_result"
    }
   ],
   "source": [
    "RunDetails(run).show()\n",
    "run.wait_for_completion (show_output = True)"
   ]
  },
  {
   "cell_type": "markdown",
   "metadata": {},
   "source": [
    "## Best Model\n",
    "\n",
    "In the cell below, get the best model from the automl experiments and display all the properties of the model."
   ]
  },
  {
   "cell_type": "code",
   "execution_count": 12,
   "metadata": {
    "gather": {
     "logged": 1674711597502
    },
    "jupyter": {
     "outputs_hidden": false,
     "source_hidden": false
    },
    "nteract": {
     "transient": {
      "deleting": false
     }
    }
   },
   "outputs": [
    {
     "name": "stderr",
     "output_type": "stream",
     "text": [
      "WARNING:root:The version of the SDK does not match the version the model was trained on.\n",
      "WARNING:root:The consistency in the result may not be guaranteed.\n",
      "WARNING:root:Package:azureml-automl-core, training version:1.48.0, current version:1.47.0\n",
      "Package:azureml-automl-runtime, training version:1.48.0.post1, current version:1.47.0\n",
      "Package:azureml-core, training version:1.48.0, current version:1.47.0\n",
      "Package:azureml-dataprep, training version:4.8.3, current version:4.5.7\n",
      "Package:azureml-dataprep-rslex, training version:2.15.1, current version:2.11.4\n",
      "Package:azureml-dataset-runtime, training version:1.48.0, current version:1.47.0\n",
      "Package:azureml-defaults, training version:1.48.0, current version:1.47.0\n",
      "Package:azureml-interpret, training version:1.48.0, current version:1.47.0\n",
      "Package:azureml-mlflow, training version:1.48.0, current version:1.47.0\n",
      "Package:azureml-pipeline-core, training version:1.48.0, current version:1.47.0\n",
      "Package:azureml-responsibleai, training version:1.48.0, current version:1.47.0\n",
      "Package:azureml-telemetry, training version:1.48.0, current version:1.47.0\n",
      "Package:azureml-train-automl-client, training version:1.48.0, current version:1.47.0\n",
      "Package:azureml-train-automl-runtime, training version:1.48.0.post1, current version:1.47.0\n",
      "Package:azureml-train-core, training version:1.48.0, current version:1.47.0\n",
      "Package:azureml-train-restclients-hyperdrive, training version:1.48.0, current version:1.47.0\n",
      "Package:azureml-training-tabular, training version:1.48.0, current version:1.47.0\n",
      "WARNING:root:Please ensure the version of your local conda dependencies match the version on which your model was trained in order to properly retrieve your model.\n"
     ]
    }
   ],
   "source": [
    "best_run,fitted_model = run.get_output()\n",
    "{\n",
    "    \"class_name\": \"XGBoostClassifier\",\n",
    "    \"module\": \"automl.client.core.common.model_wrappers\",\n",
    "    \"param_args\": [],\n",
    "    \"param_kwargs\": {\n",
    "        \"booster\": \"gbtree\",\n",
    "        \"colsample_bytree\": 0.5,\n",
    "        \"eta\": 0.3,\n",
    "        \"gamma\": 10,\n",
    "        \"max_depth\": 6,\n",
    "        \"max_leaves\": 63,\n",
    "        \"n_estimators\": 100,\n",
    "        \"objective\": \"reg:logistic\",\n",
    "        \"reg_alpha\": 0.5208333333333334,\n",
    "        \"reg_lambda\": 1.7708333333333335,\n",
    "        \"subsample\": 1,\n",
    "        \"tree_method\": \"auto\"\n",
    "    },\n",
    "    \"prepared_kwargs\": {},\n",
    "    \"spec_class\": \"sklearn\"\n",
    "}"
   ]
  },
  {
   "cell_type": "code",
   "execution_count": 26,
   "metadata": {
    "gather": {
     "logged": 1674714607551
    },
    "jupyter": {
     "outputs_hidden": false,
     "source_hidden": false
    },
    "nteract": {
     "transient": {
      "deleting": false
     }
    }
   },
   "outputs": [
    {
     "data": {
      "text/plain": [
       "['auto_model.joblib']"
      ]
     },
     "execution_count": 26,
     "metadata": {},
     "output_type": "execute_result"
    }
   ],
   "source": [
    "# Save the best model\n",
    "# best_run.register_model(model_name = 'automl-best-model-yum.pkl',model_path = './outputs/')\n",
    "joblib.dump(fitted_model, filename=\"auto_model.joblib\")"
   ]
  },
  {
   "cell_type": "code",
   "execution_count": 27,
   "metadata": {
    "gather": {
     "logged": 1674714667775
    }
   },
   "outputs": [
    {
     "data": {
      "text/plain": [
       "'AutoMLce70000b136'"
      ]
     },
     "execution_count": 27,
     "metadata": {},
     "output_type": "execute_result"
    }
   ],
   "source": [
    "# best_run.get_file_names()\n",
    "# # Download the yaml file that includes the environment dependencies\n",
    "# best_run.download_file('outputs/conda_env_v_1_0_0.yml', 'env.yml')\n",
    "# # Download the model file\n",
    "# best_run.download_file('outputs/model.pkl', 'Automl_model.pkl')\n",
    "\n",
    "model_name = best_run.properties['model_name']\n",
    "model_name"
   ]
  },
  {
   "cell_type": "markdown",
   "metadata": {},
   "source": [
    "## Model Deployment\n",
    "\n",
    "Remember you have to deploy only one of the two models you trained but you still need to register both the models. Perform the steps in the rest of this notebook only if you wish to deploy this model.\n",
    "\n",
    "In the cell below, register the model, create an inference config and deploy the model as a web service."
   ]
  },
  {
   "cell_type": "code",
   "execution_count": 31,
   "metadata": {
    "gather": {
     "logged": 1674715342416
    },
    "jupyter": {
     "outputs_hidden": false,
     "source_hidden": false
    },
    "nteract": {
     "transient": {
      "deleting": false
     }
    }
   },
   "outputs": [
    {
     "name": "stdout",
     "output_type": "stream",
     "text": [
      "Tips: You can try get_logs(): https://aka.ms/debugimage#dockerlog or local deployment: https://aka.ms/debugimage#debug-locally to debug if deployment takes longer than 10 minutes.\n",
      "Running\n",
      "2023-01-26 06:37:29+00:00 Creating Container Registry if not exists.\n",
      "2023-01-26 06:37:30+00:00 Use the existing image.\n",
      "2023-01-26 06:37:31+00:00 Submitting deployment to compute.\n",
      "2023-01-26 06:37:34+00:00 Checking the status of deployment mhservice..\n",
      "2023-01-26 06:41:31+00:00 Checking the status of inference endpoint mhservice.\n",
      "Succeeded\n",
      "ACI service creation operation finished, operation \"Succeeded\"\n"
     ]
    }
   ],
   "source": [
    "environment = best_run.get_environment().save_to_directory(path='environment')\n",
    "entry_script='inference/scoring.py'\n",
    "best_run.download_file('outputs/scoring_file_v_1_0_0.py', entry_script)\n",
    "\n",
    "model = run.register_model(model_name=model_name)\n",
    "\n",
    "inference_config = InferenceConfig(entry_script = entry_script, environment = environment)\n",
    "\n",
    "deployment_config = AciWebservice.deploy_configuration(cpu_cores = 1, \n",
    "                                                    memory_gb = 1)\n",
    "\n",
    "service = Model.deploy(ws, \"churnservice\", [model], inference_config, deployment_config)\n",
    "service.wait_for_deployment(show_output = True)"
   ]
  },
  {
   "cell_type": "code",
   "execution_count": 16,
   "metadata": {
    "gather": {
     "logged": 1674712860290
    }
   },
   "outputs": [
    {
     "name": "stdout",
     "output_type": "stream",
     "text": [
      "Service state: Healthy\n",
      "Service scoring URI: http://890e4a3e-6671-45f7-8259-7156d3c1d237.southcentralus.azurecontainer.io/score\n",
      "Service Swagger URI: http://890e4a3e-6671-45f7-8259-7156d3c1d237.southcentralus.azurecontainer.io/swagger.json\n"
     ]
    }
   ],
   "source": [
    "# Getting the service state\n",
    "# The scorig URI & the primary authentication key are copied to the endpoint.py file in order to test the deployed service.\n",
    "# The Swagger URI can be used in Swagger UI: https://petstore.swagger.io/ For more info, please see the relevant part in the README file.\n",
    "\n",
    "# # Authentication is enabled, so I use the get_keys method to retrieve the primary and secondary authentication keys:\n",
    "# primary, secondary = service.get_keys()\n",
    "\n",
    "print('Service state: ' + service.state)\n",
    "print('Service scoring URI: ' + service.scoring_uri)\n",
    "print('Service Swagger URI: ' + service.swagger_uri)\n"
   ]
  },
  {
   "cell_type": "markdown",
   "metadata": {
    "collapsed": true,
    "gather": {
     "logged": 1598431657736
    },
    "jupyter": {
     "outputs_hidden": false,
     "source_hidden": false
    },
    "nteract": {
     "transient": {
      "deleting": false
     }
    }
   },
   "source": [
    "In the cell below, send a request to the web service you deployed to test it."
   ]
  },
  {
   "cell_type": "code",
   "execution_count": 32,
   "metadata": {
    "gather": {
     "logged": 1674715834674
    },
    "jupyter": {
     "outputs_hidden": false,
     "source_hidden": false
    },
    "nteract": {
     "transient": {
      "deleting": false
     }
    }
   },
   "outputs": [
    {
     "name": "stdout",
     "output_type": "stream",
     "text": [
      "{\"result\": [\"high risk\"]}\n"
     ]
    }
   ],
   "source": [
    "import requests\n",
    "import json\n",
    "\n",
    "data = {\"data\":\n",
    "        [{\"Call  Failure\": 8, \"Complains\": 0,  \"Subscription  Length\": 38, \"Charge  Amount\": 0, \"Seconds of Use\": 4370, \"Frequency of use\": 71, \"Frequency of SMS\": 5, \"Distinct Called Numbers\": 17,  \"Age Group\": 3, \"Tariff Plan\": 1, \"Status\": 1,  \"Customer Value\": 132.6   }      \n",
    "      ]\n",
    "    }\n",
    "# Convert to JSON string\n",
    "input_data = json.dumps(data)\n",
    "\n",
    "# Set the content type\n",
    "headers = {'Content-Type': 'application/json'}\n",
    "\n",
    "# Make the request and display the response\n",
    "resp = requests.post(service.scoring_uri, input_data, headers=headers)\n",
    "print(resp.json())"
   ]
  },
  {
   "cell_type": "markdown",
   "metadata": {
    "collapsed": true,
    "gather": {
     "logged": 1598432765711
    },
    "jupyter": {
     "outputs_hidden": false,
     "source_hidden": false
    },
    "nteract": {
     "transient": {
      "deleting": false
     }
    }
   },
   "source": [
    "TODO: In the cell below, print the logs of the web service and delete the service"
   ]
  },
  {
   "cell_type": "code",
   "execution_count": 33,
   "metadata": {
    "gather": {
     "logged": 1674716157498
    },
    "jupyter": {
     "outputs_hidden": false,
     "source_hidden": false
    },
    "nteract": {
     "transient": {
      "deleting": false
     }
    }
   },
   "outputs": [
    {
     "name": "stdout",
     "output_type": "stream",
     "text": [
      "2023-01-26T06:41:23,239357600+00:00 - iot-server/run \n",
      "2023-01-26T06:41:23,239322500+00:00 - gunicorn/run \n",
      "2023-01-26T06:41:23,239314800+00:00 - rsyslog/run \n",
      "2023-01-26T06:41:23,245545500+00:00 | gunicorn/run | \n",
      "2023-01-26T06:41:23,248220800+00:00 | gunicorn/run | ###############################################\n",
      "2023-01-26T06:41:23,254269400+00:00 | gunicorn/run | AzureML Container Runtime Information\n",
      "2023-01-26T06:41:23,256127200+00:00 | gunicorn/run | ###############################################\n",
      "2023-01-26T06:41:23,263828800+00:00 | gunicorn/run | \n",
      "2023-01-26T06:41:23,266279800+00:00 | gunicorn/run | \n",
      "2023-01-26T06:41:23,284365100+00:00 | gunicorn/run | AzureML image information: openmpi3.1.2-ubuntu18.04, Materializaton Build:20230103.v4\n",
      "2023-01-26T06:41:23,286065400+00:00 | gunicorn/run | \n",
      "2023-01-26T06:41:23,292386700+00:00 | gunicorn/run | \n",
      "2023-01-26T06:41:23,294096400+00:00 | gunicorn/run | PATH environment variable: /azureml-envs/azureml_cc96bffb210e59c36dafe3fe23d9a95e/bin:/opt/miniconda/bin:/usr/local/sbin:/usr/local/bin:/usr/sbin:/usr/bin:/sbin:/bin\n",
      "2023-01-26T06:41:23,295662800+00:00 | gunicorn/run | PYTHONPATH environment variable: \n",
      "2023-01-26T06:41:23,302468800+00:00 | gunicorn/run | \n",
      "2023-01-26T06:41:23,304218000+00:00 | gunicorn/run | Pip Dependencies (before dynamic installation)\n",
      "\n",
      "2023-01-26T06:41:23,315102800+00:00 - nginx/run \n",
      "EdgeHubConnectionString and IOTEDGE_IOTHUBHOSTNAME are not set. Exiting...\n",
      "2023-01-26T06:41:24,916173100+00:00 - iot-server/finish 1 0\n",
      "2023-01-26T06:41:24,922032600+00:00 - Exit code 1 is normal. Not restarting iot-server.\n",
      "adal==1.2.7\n",
      "applicationinsights==0.11.10\n",
      "argcomplete==2.0.0\n",
      "arviz @ file:///home/conda/feedstock_root/build_artifacts/arviz_1666645025910/work\n",
      "attrs==22.2.0\n",
      "azure-common==1.1.28\n",
      "azure-core==1.26.2\n",
      "azure-graphrbac==0.61.1\n",
      "azure-identity==1.12.0\n",
      "azure-mgmt-authorization==3.0.0\n",
      "azure-mgmt-containerregistry==10.0.0\n",
      "azure-mgmt-core==1.3.2\n",
      "azure-mgmt-keyvault==10.1.0\n",
      "azure-mgmt-resource==21.2.1\n",
      "azure-mgmt-storage==20.1.0\n",
      "azure-storage-blob==12.13.0\n",
      "azure-storage-queue==12.5.0\n",
      "azureml-automl-core==1.48.0\n",
      "azureml-automl-runtime==1.48.0.post1\n",
      "azureml-core==1.48.0\n",
      "azureml-dataprep==4.8.3\n",
      "azureml-dataprep-native==38.0.0\n",
      "azureml-dataprep-rslex==2.15.1\n",
      "azureml-dataset-runtime==1.48.0\n",
      "azureml-defaults==1.48.0\n",
      "azureml-inference-server-http==0.7.7\n",
      "azureml-interpret==1.48.0\n",
      "azureml-mlflow==1.48.0\n",
      "azureml-pipeline-core==1.48.0\n",
      "azureml-responsibleai==1.48.0\n",
      "azureml-telemetry==1.48.0\n",
      "azureml-train-automl-client==1.48.0\n",
      "azureml-train-automl-runtime==1.48.0.post1\n",
      "azureml-train-core==1.48.0\n",
      "azureml-train-restclients-hyperdrive==1.48.0\n",
      "azureml-training-tabular==1.48.0\n",
      "backcall==0.2.0\n",
      "backports.tempfile==1.0\n",
      "backports.weakref==1.0.post1\n",
      "bcrypt==4.0.1\n",
      "bokeh==2.4.3\n",
      "boto==2.49.0\n",
      "boto3 @ file:///home/conda/feedstock_root/build_artifacts/boto3_1602889982367/work\n",
      "botocore @ file:///home/conda/feedstock_root/build_artifacts/botocore_1602884371056/work\n",
      "brotlipy @ file:///home/conda/feedstock_root/build_artifacts/brotlipy_1648854164153/work\n",
      "cachetools==5.2.1\n",
      "certifi==2022.12.7\n",
      "cffi @ file:///home/conda/feedstock_root/build_artifacts/cffi_1625835301720/work\n",
      "cftime @ file:///home/conda/feedstock_root/build_artifacts/cftime_1663606412550/work\n",
      "charset-normalizer==3.0.1\n",
      "click @ file:///home/conda/feedstock_root/build_artifacts/click_1645238117885/work\n",
      "cloudpickle @ file:///home/conda/feedstock_root/build_artifacts/cloudpickle_1598400192773/work\n",
      "colorama @ file:///home/conda/feedstock_root/build_artifacts/colorama_1666700638685/work\n",
      "contextlib2==21.6.0\n",
      "convertdate @ file:///home/conda/feedstock_root/build_artifacts/convertdate_1642883757836/work\n",
      "cryptography @ file:///home/conda/feedstock_root/build_artifacts/cryptography_1666563349571/work\n",
      "cycler @ file:///home/conda/feedstock_root/build_artifacts/cycler_1635519461629/work\n",
      "Cython==0.29.17\n",
      "dask==2021.6.0\n",
      "databricks-cli==0.17.4\n",
      "dataclasses==0.6\n",
      "debugpy==1.6.5\n",
      "decorator==5.1.1\n",
      "dice-ml==0.9\n",
      "dill==0.3.6\n",
      "distributed==2021.6.0\n",
      "distro==1.8.0\n",
      "docker==6.0.1\n",
      "dotnetcore2==3.1.23\n",
      "econml==0.14.0\n",
      "entrypoints==0.4\n",
      "ephem @ file:///home/conda/feedstock_root/build_artifacts/ephem_1649637195901/work\n",
      "erroranalysis==0.3.13\n",
      "fairlearn==0.7.0\n",
      "fbprophet @ file:///home/conda/feedstock_root/build_artifacts/fbprophet_1599365534439/work\n",
      "fire==0.5.0\n",
      "Flask==2.2.2\n",
      "Flask-Cors==3.0.10\n",
      "flatbuffers==23.1.4\n",
      "fonttools @ file:///home/conda/feedstock_root/build_artifacts/fonttools_1666389892786/work\n",
      "fsspec==2022.11.0\n",
      "gensim==3.8.3\n",
      "gitdb==4.0.10\n",
      "GitPython==3.1.30\n",
      "google-api-core==2.11.0\n",
      "google-auth==2.16.0\n",
      "googleapis-common-protos==1.58.0\n",
      "gunicorn==20.1.0\n",
      "h5py==3.7.0\n",
      "HeapDict==1.0.1\n",
      "holidays @ file:///home/conda/feedstock_root/build_artifacts/holidays_1595448845196/work\n",
      "humanfriendly==10.0\n",
      "idna @ file:///home/conda/feedstock_root/build_artifacts/idna_1663625384323/work\n",
      "importlib-metadata @ file:///home/conda/feedstock_root/build_artifacts/importlib-metadata_1653252814274/work\n",
      "importlib-resources==5.10.2\n",
      "inference-schema==1.5.1\n",
      "interpret-community==0.27.0\n",
      "interpret-core==0.2.7\n",
      "ipykernel==6.6.0\n",
      "ipython==7.34.0\n",
      "isodate==0.6.1\n",
      "itsdangerous==2.1.2\n",
      "jedi==0.18.2\n",
      "jeepney==0.8.0\n",
      "Jinja2==3.1.2\n",
      "jmespath @ file:///home/conda/feedstock_root/build_artifacts/jmespath_1589369830981/work\n",
      "joblib @ file:///home/conda/feedstock_root/build_artifacts/joblib_1589548394565/work\n",
      "jsonpickle==2.2.0\n",
      "jsonschema==4.17.3\n",
      "jupyter-client==7.4.9\n",
      "jupyter-core==4.12.0\n",
      "keras2onnx==1.6.0\n",
      "kiwisolver @ file:///home/conda/feedstock_root/build_artifacts/kiwisolver_1657953088445/work\n",
      "knack==0.10.1\n",
      "korean-lunar-calendar @ file:///home/conda/feedstock_root/build_artifacts/korean_lunar_calendar_1663341251025/work\n",
      "lightgbm==3.2.1\n",
      "llvmlite==0.38.1\n",
      "locket==1.0.0\n",
      "LunarCalendar==0.0.9\n",
      "MarkupSafe==2.0.1\n",
      "matplotlib @ file:///home/conda/feedstock_root/build_artifacts/matplotlib-suite_1661439848456/work\n",
      "matplotlib-inline==0.1.6\n",
      "ml-wrappers==0.2.2\n",
      "mlflow-skinny==1.30.0\n",
      "mpi4py==3.1.3\n",
      "msal==1.20.0\n",
      "msal-extensions==1.0.0\n",
      "msgpack==1.0.4\n",
      "msrest==0.7.1\n",
      "msrestazure==0.6.4\n",
      "munkres==1.1.4\n",
      "ndg-httpsclient==0.5.1\n",
      "nest-asyncio==1.5.6\n",
      "netCDF4 @ file:///home/conda/feedstock_root/build_artifacts/netcdf4_1663234155476/work\n",
      "networkx==2.5\n",
      "nimbusml==1.8.0\n",
      "numba==0.55.2\n",
      "numpy @ file:///home/conda/feedstock_root/build_artifacts/numpy_1649806299270/work\n",
      "oauthlib==3.2.2\n",
      "onnx==1.12.0\n",
      "onnxconverter-common==1.6.0\n",
      "onnxmltools==1.4.1\n",
      "onnxruntime==1.11.1\n",
      "opencensus==0.11.0\n",
      "opencensus-context==0.1.3\n",
      "opencensus-ext-azure==1.1.7\n",
      "packaging==21.3\n",
      "pandas==1.1.5\n",
      "paramiko==2.12.0\n",
      "parso==0.8.3\n",
      "partd==1.3.0\n",
      "pathspec==0.10.3\n",
      "patsy==0.5.3\n",
      "pexpect==4.8.0\n",
      "pickleshare==0.7.5\n",
      "Pillow @ file:///home/conda/feedstock_root/build_artifacts/pillow_1660385854171/work\n",
      "pkginfo==1.9.6\n",
      "pkgutil-resolve-name==1.3.10\n",
      "pmdarima==1.7.1\n",
      "portalocker==2.6.0\n",
      "prompt-toolkit==3.0.36\n",
      "protobuf==3.20.1\n",
      "psutil @ file:///home/conda/feedstock_root/build_artifacts/psutil_1666155398032/work\n",
      "ptyprocess==0.7.0\n",
      "py-cpuinfo==5.0.0\n",
      "pyarrow==9.0.0\n",
      "pyasn1==0.4.8\n",
      "pyasn1-modules==0.2.8\n",
      "pycparser @ file:///home/conda/feedstock_root/build_artifacts/pycparser_1636257122734/work\n",
      "Pygments==2.14.0\n",
      "PyJWT==2.6.0\n",
      "PyMeeus @ file:///home/conda/feedstock_root/build_artifacts/pymeeus_1670868433998/work\n",
      "PyNaCl==1.5.0\n",
      "pyOpenSSL==22.1.0\n",
      "pyparsing @ file:///home/conda/feedstock_root/build_artifacts/pyparsing_1652235407899/work\n",
      "pyrsistent==0.19.3\n",
      "PySocks @ file:///home/conda/feedstock_root/build_artifacts/pysocks_1648857264451/work\n",
      "pystan @ file:///home/conda/feedstock_root/build_artifacts/pystan_1598392733373/work\n",
      "python-dateutil @ file:///home/conda/feedstock_root/build_artifacts/python-dateutil_1626286286081/work\n",
      "pytz @ file:///home/conda/feedstock_root/build_artifacts/pytz_1671365381334/work\n",
      "PyYAML==6.0\n",
      "pyzmq==25.0.0\n",
      "raiutils==0.3.0\n",
      "requests==2.28.2\n",
      "requests-oauthlib==1.3.1\n",
      "responsibleai==0.23.0\n",
      "rsa==4.9\n",
      "s3transfer @ file:///home/conda/feedstock_root/build_artifacts/s3transfer_1618355402893/work\n",
      "scikit-learn==0.22.1\n",
      "scipy==1.5.3\n",
      "SecretStorage==3.3.3\n",
      "semver==2.13.0\n",
      "setuptools-git==1.2\n",
      "shap==0.39.0\n",
      "six @ file:///home/conda/feedstock_root/build_artifacts/six_1620240208055/work\n",
      "skl2onnx==1.4.9\n",
      "sklearn-pandas==1.7.0\n",
      "slicer==0.0.7\n",
      "smart-open==1.9.0\n",
      "smmap==5.0.0\n",
      "sortedcontainers==2.4.0\n",
      "sparse==0.13.0\n",
      "sqlparse==0.4.3\n",
      "statsmodels==0.11.1\n",
      "tabulate==0.9.0\n",
      "tblib==1.7.0\n",
      "termcolor==2.2.0\n",
      "toolz==0.12.0\n",
      "tornado==6.2\n",
      "tqdm @ file:///home/conda/feedstock_root/build_artifacts/tqdm_1662214488106/work\n",
      "traitlets==5.8.1\n",
      "typing-extensions @ file:///home/conda/feedstock_root/build_artifacts/typing_extensions_1665144421445/work\n",
      "unicodedata2 @ file:///home/conda/feedstock_root/build_artifacts/unicodedata2_1649111917568/work\n",
      "urllib3 @ file:///home/conda/feedstock_root/build_artifacts/urllib3_1603125704209/work\n",
      "wcwidth==0.2.5\n",
      "websocket-client==1.4.2\n",
      "Werkzeug==2.2.2\n",
      "wrapt==1.12.1\n",
      "xarray @ file:///home/conda/feedstock_root/build_artifacts/xarray_1639125986756/work\n",
      "xarray-einstats @ file:///home/conda/feedstock_root/build_artifacts/xarray-einstats_1648967091347/work\n",
      "xgboost==1.3.3\n",
      "zict==2.2.0\n",
      "zipp @ file:///home/conda/feedstock_root/build_artifacts/zipp_1669453021653/work\n",
      "\n",
      "2023-01-26T06:41:27,474160904+00:00 | gunicorn/run | \n",
      "2023-01-26T06:41:27,476508702+00:00 | gunicorn/run | ###############################################\n",
      "2023-01-26T06:41:27,478504901+00:00 | gunicorn/run | AzureML Inference Server\n",
      "2023-01-26T06:41:27,486863094+00:00 | gunicorn/run | ###############################################\n",
      "2023-01-26T06:41:27,489424192+00:00 | gunicorn/run | \n",
      "2023-01-26T06:41:31,583175715+00:00 | gunicorn/run | Starting AzureML Inference Server HTTP.\n",
      "\n",
      "Azure ML Inferencing HTTP server v0.7.7\n",
      "\n",
      "\n",
      "Server Settings\n",
      "---------------\n",
      "Entry Script Name: /var/azureml-app/main.py\n",
      "Model Directory: /var/azureml-app/azureml-models/AutoMLce70000b136/2\n",
      "Worker Count: 1\n",
      "Worker Timeout (seconds): 300\n",
      "Server Port: 31311\n",
      "Application Insights Enabled: false\n",
      "Application Insights Key: None\n",
      "Inferencing HTTP server version: azmlinfsrv/0.7.7\n",
      "CORS for the specified origins: None\n",
      "\n",
      "\n",
      "Server Routes\n",
      "---------------\n",
      "Liveness Probe: GET   127.0.0.1:31311/\n",
      "Score:          POST  127.0.0.1:31311/score\n",
      "\n",
      "Starting gunicorn 20.1.0\n",
      "Listening at: http://0.0.0.0:31311 (71)\n",
      "Using worker: sync\n",
      "Booting worker with pid: 148\n",
      "Initializing logger\n",
      "2023-01-26 06:41:34,572 | root | INFO | Starting up app insights client\n",
      "logging socket was found. logging is available.\n",
      "logging socket was found. logging is available.\n",
      "2023-01-26 06:41:34,573 | root | INFO | Starting up app insight hooks\n",
      "2023-01-26 06:41:38,384 | root | INFO | Found driver script at /var/azureml-app/main.py and the score script at /var/azureml-app/scoring.py\n",
      "2023-01-26 06:41:38,385 | root | INFO | run() is decorated with @input_schema. Server will invoke it with the following arguments: data, method.\n",
      "2023-01-26 06:41:38,385 | root | INFO | Invoking user's init function\n",
      "generated new fontManager\n",
      "Importing plotly failed. Interactive plots will not work.\n",
      "2023-01-26 06:42:02,844 | azureml.core | WARNING | Failure while loading azureml_run_type_providers. Failed to load entrypoint azureml.scriptrun = azureml.core.script_run:ScriptRun._from_run_dto with exception (urllib3 1.25.11 (/azureml-envs/azureml_cc96bffb210e59c36dafe3fe23d9a95e/lib/python3.7/site-packages), Requirement.parse('urllib3>=1.26.0'), {'docker'}).\n",
      "Failure while loading azureml_run_type_providers. Failed to load entrypoint azureml.scriptrun = azureml.core.script_run:ScriptRun._from_run_dto with exception (urllib3 1.25.11 (/azureml-envs/azureml_cc96bffb210e59c36dafe3fe23d9a95e/lib/python3.7/site-packages), Requirement.parse('urllib3>=1.26.0'), {'docker'}).\n",
      "2023-01-26 06:42:02,911 | azureml.core | WARNING | Failure while loading azureml_run_type_providers. Failed to load entrypoint azureml.PipelineRun = azureml.pipeline.core.run:PipelineRun._from_dto with exception (urllib3 1.25.11 (/azureml-envs/azureml_cc96bffb210e59c36dafe3fe23d9a95e/lib/python3.7/site-packages), Requirement.parse('urllib3>=1.26.0'), {'docker'}).\n",
      "Failure while loading azureml_run_type_providers. Failed to load entrypoint azureml.PipelineRun = azureml.pipeline.core.run:PipelineRun._from_dto with exception (urllib3 1.25.11 (/azureml-envs/azureml_cc96bffb210e59c36dafe3fe23d9a95e/lib/python3.7/site-packages), Requirement.parse('urllib3>=1.26.0'), {'docker'}).\n",
      "2023-01-26 06:42:02,942 | azureml.core | WARNING | Failure while loading azureml_run_type_providers. Failed to load entrypoint azureml.ReusedStepRun = azureml.pipeline.core.run:StepRun._from_reused_dto with exception (urllib3 1.25.11 (/azureml-envs/azureml_cc96bffb210e59c36dafe3fe23d9a95e/lib/python3.7/site-packages), Requirement.parse('urllib3>=1.26.0'), {'docker'}).\n",
      "Failure while loading azureml_run_type_providers. Failed to load entrypoint azureml.ReusedStepRun = azureml.pipeline.core.run:StepRun._from_reused_dto with exception (urllib3 1.25.11 (/azureml-envs/azureml_cc96bffb210e59c36dafe3fe23d9a95e/lib/python3.7/site-packages), Requirement.parse('urllib3>=1.26.0'), {'docker'}).\n",
      "2023-01-26 06:42:02,967 | azureml.core | WARNING | Failure while loading azureml_run_type_providers. Failed to load entrypoint azureml.StepRun = azureml.pipeline.core.run:StepRun._from_dto with exception (urllib3 1.25.11 (/azureml-envs/azureml_cc96bffb210e59c36dafe3fe23d9a95e/lib/python3.7/site-packages), Requirement.parse('urllib3>=1.26.0'), {'docker'}).\n",
      "Failure while loading azureml_run_type_providers. Failed to load entrypoint azureml.StepRun = azureml.pipeline.core.run:StepRun._from_dto with exception (urllib3 1.25.11 (/azureml-envs/azureml_cc96bffb210e59c36dafe3fe23d9a95e/lib/python3.7/site-packages), Requirement.parse('urllib3>=1.26.0'), {'docker'}).\n",
      "2023-01-26 06:42:03,115 | azureml.core | WARNING | Failure while loading azureml_run_type_providers. Failed to load entrypoint automl = azureml.train.automl.run:AutoMLRun._from_run_dto with exception (urllib3 1.25.11 (/azureml-envs/azureml_cc96bffb210e59c36dafe3fe23d9a95e/lib/python3.7/site-packages), Requirement.parse('urllib3>=1.26.0'), {'docker'}).\n",
      "Failure while loading azureml_run_type_providers. Failed to load entrypoint automl = azureml.train.automl.run:AutoMLRun._from_run_dto with exception (urllib3 1.25.11 (/azureml-envs/azureml_cc96bffb210e59c36dafe3fe23d9a95e/lib/python3.7/site-packages), Requirement.parse('urllib3>=1.26.0'), {'docker'}).\n",
      "2023-01-26 06:42:03,140 | azureml.core | WARNING | Failure while loading azureml_run_type_providers. Failed to load entrypoint hyperdrive = azureml.train.hyperdrive:HyperDriveRun._from_run_dto with exception (urllib3 1.25.11 (/azureml-envs/azureml_cc96bffb210e59c36dafe3fe23d9a95e/lib/python3.7/site-packages), Requirement.parse('urllib3>=1.26.0'), {'docker'}).\n",
      "Failure while loading azureml_run_type_providers. Failed to load entrypoint hyperdrive = azureml.train.hyperdrive:HyperDriveRun._from_run_dto with exception (urllib3 1.25.11 (/azureml-envs/azureml_cc96bffb210e59c36dafe3fe23d9a95e/lib/python3.7/site-packages), Requirement.parse('urllib3>=1.26.0'), {'docker'}).\n",
      "2023-01-26 06:42:07,398 | root | INFO | Users's init has completed successfully\n",
      "2023-01-26 06:42:07,406 | root | INFO | Swaggers are prepared for the following versions: [2, 3].\n",
      "2023-01-26 06:42:07,407 | root | INFO | Scoring timeout is found from os.environ: 60000 ms\n",
      "2023-01-26 06:42:07,410 | root | INFO | AML_FLASK_ONE_COMPATIBILITY is set. Patched Flask to ensure compatibility with Flask 1.\n",
      "2023-01-26 06:42:18,669 | root | INFO | 200\n",
      "127.0.0.1 - - [26/Jan/2023:06:42:18 +0000] \"GET /swagger.json HTTP/1.0\" 200 2985 \"-\" \"Go-http-client/1.1\"\n",
      "2023-01-26 06:42:22,133 | root | INFO | 200\n",
      "127.0.0.1 - - [26/Jan/2023:06:42:22 +0000] \"GET /swagger.json HTTP/1.0\" 200 2985 \"-\" \"Go-http-client/1.1\"\n",
      "2023-01-26 06:50:34,430 | root | INFO | 200\n",
      "127.0.0.1 - - [26/Jan/2023:06:50:34 +0000] \"POST /score HTTP/1.0\" 200 31 \"-\" \"python-requests/2.28.1\"\n",
      "2023-01-26 06:54:18,375 | root | INFO | 200\n",
      "127.0.0.1 - - [26/Jan/2023:06:54:18 +0000] \"GET /swagger.json HTTP/1.0\" 200 2985 \"-\" \"Go-http-client/1.1\"\n",
      "\n"
     ]
    }
   ],
   "source": [
    "# Printing the logs\n",
    "print(service.get_logs())"
   ]
  },
  {
   "cell_type": "markdown",
   "metadata": {},
   "source": [
    "## Deleting the service\n",
    "Putting the deletion of the service in a separate cell to avoid accidentally running the cell before finishing the tasks"
   ]
  },
  {
   "cell_type": "code",
   "execution_count": 73,
   "metadata": {},
   "outputs": [],
   "source": [
    "service.delete()"
   ]
  },
  {
   "cell_type": "markdown",
   "metadata": {},
   "source": [
    "**Submission Checklist**\n",
    "- I have registered the model.\n",
    "- I have deployed the model with the best accuracy as a webservice.\n",
    "- I have tested the webservice by sending a request to the model endpoint.\n",
    "- I have deleted the webservice and shutdown all the computes that I have used.\n",
    "- I have taken a screenshot showing the model endpoint as active.\n",
    "- The project includes a file containing the environment details.\n"
   ]
  },
  {
   "cell_type": "markdown",
   "metadata": {},
   "source": []
  }
 ],
 "metadata": {
  "kernel_info": {
   "name": "python3"
  },
  "kernelspec": {
   "display_name": "Python 3",
   "language": "python",
   "name": "python3"
  },
  "language_info": {
   "codemirror_mode": {
    "name": "ipython",
    "version": 3
   },
   "file_extension": ".py",
   "mimetype": "text/x-python",
   "name": "python",
   "nbconvert_exporter": "python",
   "pygments_lexer": "ipython3",
   "version": "3.7.0"
  },
  "microsoft": {
   "host": {
    "AzureML": {
     "notebookHasBeenCompleted": true
    }
   }
  },
  "nteract": {
   "version": "nteract-front-end@1.0.0"
  }
 },
 "nbformat": 4,
 "nbformat_minor": 2
}
